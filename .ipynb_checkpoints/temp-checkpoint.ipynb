{
 "cells": [
  {
   "cell_type": "code",
   "execution_count": 17,
   "id": "bea772d8",
   "metadata": {},
   "outputs": [],
   "source": [
    "import numpy as np\n",
    "import matplotlib.pyplot as plt\n",
    "import pandas as pd"
   ]
  },
  {
   "cell_type": "code",
   "execution_count": 18,
   "id": "f3aaad14",
   "metadata": {},
   "outputs": [],
   "source": [
    "df = pd.read_csv(\"data/Batting.csv\")"
   ]
  },
  {
   "cell_type": "code",
   "execution_count": 19,
   "id": "ea3d7982",
   "metadata": {},
   "outputs": [
    {
     "data": {
      "text/plain": [
       "Index(['playerID', 'yearID', 'stint', 'teamID', 'lgID', 'G', 'AB', 'R', 'H',\n",
       "       '2B', '3B', 'HR', 'RBI', 'SB', 'CS', 'BB', 'SO', 'IBB', 'HBP', 'SH',\n",
       "       'SF', 'GIDP'],\n",
       "      dtype='object')"
      ]
     },
     "execution_count": 19,
     "metadata": {},
     "output_type": "execute_result"
    }
   ],
   "source": [
    "df.columns"
   ]
  },
  {
   "cell_type": "code",
   "execution_count": 20,
   "id": "feac604c",
   "metadata": {},
   "outputs": [],
   "source": [
    "batting_year_2021 = df[df.yearID == 2021][[\"G\", \"AB\", \"H\", \"2B\", \"3B\", \"HR\"]]"
   ]
  },
  {
   "cell_type": "code",
   "execution_count": 22,
   "id": "3ece1f7b",
   "metadata": {},
   "outputs": [
    {
     "data": {
      "text/html": [
       "<div>\n",
       "<style scoped>\n",
       "    .dataframe tbody tr th:only-of-type {\n",
       "        vertical-align: middle;\n",
       "    }\n",
       "\n",
       "    .dataframe tbody tr th {\n",
       "        vertical-align: top;\n",
       "    }\n",
       "\n",
       "    .dataframe thead th {\n",
       "        text-align: right;\n",
       "    }\n",
       "</style>\n",
       "<table border=\"1\" class=\"dataframe\">\n",
       "  <thead>\n",
       "    <tr style=\"text-align: right;\">\n",
       "      <th></th>\n",
       "      <th>G</th>\n",
       "      <th>AB</th>\n",
       "      <th>H</th>\n",
       "      <th>2B</th>\n",
       "      <th>3B</th>\n",
       "      <th>HR</th>\n",
       "    </tr>\n",
       "  </thead>\n",
       "  <tbody>\n",
       "    <tr>\n",
       "      <th>108789</th>\n",
       "      <td>16</td>\n",
       "      <td>0</td>\n",
       "      <td>0</td>\n",
       "      <td>0</td>\n",
       "      <td>0</td>\n",
       "      <td>0</td>\n",
       "    </tr>\n",
       "    <tr>\n",
       "      <th>108790</th>\n",
       "      <td>8</td>\n",
       "      <td>3</td>\n",
       "      <td>1</td>\n",
       "      <td>0</td>\n",
       "      <td>0</td>\n",
       "      <td>0</td>\n",
       "    </tr>\n",
       "    <tr>\n",
       "      <th>108791</th>\n",
       "      <td>28</td>\n",
       "      <td>0</td>\n",
       "      <td>0</td>\n",
       "      <td>0</td>\n",
       "      <td>0</td>\n",
       "      <td>0</td>\n",
       "    </tr>\n",
       "    <tr>\n",
       "      <th>108792</th>\n",
       "      <td>31</td>\n",
       "      <td>0</td>\n",
       "      <td>0</td>\n",
       "      <td>0</td>\n",
       "      <td>0</td>\n",
       "      <td>0</td>\n",
       "    </tr>\n",
       "    <tr>\n",
       "      <th>108793</th>\n",
       "      <td>152</td>\n",
       "      <td>566</td>\n",
       "      <td>148</td>\n",
       "      <td>30</td>\n",
       "      <td>2</td>\n",
       "      <td>30</td>\n",
       "    </tr>\n",
       "  </tbody>\n",
       "</table>\n",
       "</div>"
      ],
      "text/plain": [
       "          G   AB    H  2B  3B  HR\n",
       "108789   16    0    0   0   0   0\n",
       "108790    8    3    1   0   0   0\n",
       "108791   28    0    0   0   0   0\n",
       "108792   31    0    0   0   0   0\n",
       "108793  152  566  148  30   2  30"
      ]
     },
     "execution_count": 22,
     "metadata": {},
     "output_type": "execute_result"
    }
   ],
   "source": [
    "batting_year_2021.head()"
   ]
  },
  {
   "cell_type": "code",
   "execution_count": 23,
   "id": "82b57eca",
   "metadata": {},
   "outputs": [
    {
     "data": {
      "text/plain": [
       "(1706, 6)"
      ]
     },
     "execution_count": 23,
     "metadata": {},
     "output_type": "execute_result"
    }
   ],
   "source": [
    "batting_year_2021_np = np.array(batting_year_2021)\n",
    "\n",
    "batting_year_2021_np.shape"
   ]
  },
  {
   "cell_type": "code",
   "execution_count": 28,
   "id": "b4e6a4ee",
   "metadata": {},
   "outputs": [],
   "source": [
    "np.savetxt(\"data/batting_hits_2021.txt\", batting_year_2021_np)"
   ]
  },
  {
   "cell_type": "code",
   "execution_count": 29,
   "id": "38c41a03",
   "metadata": {},
   "outputs": [],
   "source": [
    "batting = np.genfromtxt(\"data/batting_hits_2021.txt\", dtype=\"int32\")"
   ]
  },
  {
   "cell_type": "code",
   "execution_count": 30,
   "id": "1158db5f",
   "metadata": {},
   "outputs": [
    {
     "data": {
      "text/plain": [
       "(1706, 6)"
      ]
     },
     "execution_count": 30,
     "metadata": {},
     "output_type": "execute_result"
    }
   ],
   "source": [
    "batting.shape"
   ]
  },
  {
   "cell_type": "code",
   "execution_count": 31,
   "id": "98e05a4b",
   "metadata": {},
   "outputs": [
    {
     "data": {
      "text/plain": [
       "53962"
      ]
     },
     "execution_count": 31,
     "metadata": {},
     "output_type": "execute_result"
    }
   ],
   "source": [
    "# Games, AtBats, Basehit, 2nd, 3rd, HR\n",
    "\n",
    "# Wie viele Hits gab es im Jahr 2021 insgesamt?\n",
    "# Wir summieren also über die Spalten mit Index 2 bis Ende\n",
    "\n",
    "np.sum(batting[:, 2:])"
   ]
  },
  {
   "cell_type": "code",
   "execution_count": 32,
   "id": "ea9b3e0a",
   "metadata": {},
   "outputs": [
    {
     "data": {
      "text/plain": [
       "53962"
      ]
     },
     "execution_count": 32,
     "metadata": {},
     "output_type": "execute_result"
    }
   ],
   "source": [
    "# dies ist der äquivalente Aufruf der Methode .sum()\n",
    "\n",
    "batting[:, 2:].sum() # jemand mit einem \"funktionalen\" Mindset würde aber obigen Stil präferieren"
   ]
  },
  {
   "cell_type": "code",
   "execution_count": 33,
   "id": "ae7faf59",
   "metadata": {},
   "outputs": [
    {
     "data": {
      "text/plain": [
       "7.90767878077374"
      ]
     },
     "execution_count": 33,
     "metadata": {},
     "output_type": "execute_result"
    }
   ],
   "source": [
    "# Wie viele Hits hatte ein Spieler in der Saison 2021 durchschnittlich?\n",
    "\n",
    "np.mean(batting[:, 2:])"
   ]
  },
  {
   "cell_type": "code",
   "execution_count": 34,
   "id": "f634b232",
   "metadata": {},
   "outputs": [
    {
     "data": {
      "text/plain": [
       "23.314267645684566"
      ]
     },
     "execution_count": 34,
     "metadata": {},
     "output_type": "execute_result"
    }
   ],
   "source": [
    "# Das scheinen sehr wenige Hits für eine ganze Saison zu sein.\n",
    "# Was sagt uns die Standardabweichung?\n",
    "\n",
    "np.std(batting[:, 2:])"
   ]
  },
  {
   "cell_type": "code",
   "execution_count": 35,
   "id": "bfb06d61",
   "metadata": {},
   "outputs": [
    {
     "data": {
      "text/plain": [
       "0.0"
      ]
     },
     "execution_count": 35,
     "metadata": {},
     "output_type": "execute_result"
    }
   ],
   "source": [
    "# Besser ist wohl, wir sehen uns erst einmal den stabileren Median an\n",
    "\n",
    "np.median(batting[:, 2:])"
   ]
  },
  {
   "cell_type": "code",
   "execution_count": 37,
   "id": "e49f6801",
   "metadata": {},
   "outputs": [
    {
     "name": "stdout",
     "output_type": "stream",
     "text": [
      "[[  8   3   1   0   0   0]\n",
      " [152 566 148  30   2  30]\n",
      " [ 82 297  84  19   1  24]\n",
      " [ 41 132  26   6   1   5]\n",
      " [ 99 365 104  26   0  20]\n",
      " [ 22  36   6   1   0   0]\n",
      " [ 12  28   3   2   0   0]\n",
      " [ 35  71  19   6   1   2]\n",
      " [ 35 130  32   5   2   4]\n",
      " [109 182  45   9   2   5]]\n",
      "(857, 6)\n"
     ]
    }
   ],
   "source": [
    "# Ohje! Ein deutliches Zeichen, dass wir die Personen aussortieren sollten, die gar keine Hits geschlagen haben.\n",
    "\n",
    "batting_cleaned = batting[np.apply_along_axis(lambda x: np.any(x), 1, batting[:, 2:])]\n",
    "\n",
    "print(batting_cleaned[:10, :]) # Anzeige der ersten 10 Einträge\n",
    "\n",
    "print(batting_cleaned.shape)"
   ]
  },
  {
   "cell_type": "code",
   "execution_count": 38,
   "id": "aae093c6",
   "metadata": {},
   "outputs": [
    {
     "name": "stdout",
     "output_type": "stream",
     "text": [
      "15.741540256709452\n",
      "3.0\n",
      "30.963189104826743\n"
     ]
    }
   ],
   "source": [
    "# Das sieht schon besser aus!\n",
    "# Schauen wir uns also noch einmal sum, mean, median und standard deviation an\n",
    "print(np.mean(batting_cleaned[:, 2:]))\n",
    "\n",
    "print(np.median(batting_cleaned[:, 2:]))\n",
    "\n",
    "print(np.std(batting_cleaned[:, 2:]))"
   ]
  },
  {
   "cell_type": "code",
   "execution_count": 39,
   "id": "2165db96",
   "metadata": {},
   "outputs": [
    {
     "name": "stdout",
     "output_type": "stream",
     "text": [
      "(857,)\n"
     ]
    },
    {
     "data": {
      "image/png": "[encoded data removed]",
      "text/plain": [
       "<Figure size 640x480 with 1 Axes>"
      ]
     },
     "metadata": {},
     "output_type": "display_data"
    }
   ],
   "source": [
    "# schauen wir uns doch mal in einem Histogramm an, wie sich die Summen verteilen\n",
    "\n",
    "sum_hits = np.apply_along_axis(lambda x: np.sum(x), 1, batting_cleaned[:, 2:])\n",
    "\n",
    "print(sum_hits.shape)\n",
    "\n",
    "plt.hist(sum_hits, bins=20)\n",
    "plt.show()"
   ]
  },
  {
   "cell_type": "code",
   "execution_count": 40,
   "id": "7abddb93",
   "metadata": {},
   "outputs": [
    {
     "name": "stdout",
     "output_type": "stream",
     "text": [
      "{1: 81, 2: 48, 3: 31, 4: 28, 5: 23, 6: 17, 7: 15, 8: 14, 9: 13, 10: 9, 11: 7, 12: 8, 13: 14, 14: 2, 15: 9, 16: 7, 17: 3, 18: 10, 19: 7, 20: 5, 21: 6, 22: 5, 23: 2, 24: 6, 25: 3, 26: 4, 27: 3, 28: 5, 29: 7, 30: 4, 31: 4, 32: 7, 33: 2, 34: 1, 35: 6, 36: 7, 37: 1, 38: 4, 39: 6, 40: 6, 41: 6, 42: 4, 43: 8, 44: 2, 45: 2, 46: 3, 47: 2, 48: 5, 49: 2, 50: 6, 51: 3, 52: 4, 53: 3, 54: 1, 55: 6, 56: 6, 57: 3, 58: 3, 59: 7, 61: 7, 62: 1, 63: 2, 64: 3, 65: 4, 66: 2, 67: 2, 68: 7, 69: 3, 70: 2, 71: 4, 73: 6, 74: 5, 75: 4, 76: 2, 77: 5, 78: 3, 79: 1, 80: 3, 81: 4, 82: 3, 83: 3, 84: 5, 85: 3, 86: 3, 87: 4, 88: 2, 89: 2, 90: 3, 91: 2, 92: 3, 93: 1, 94: 4, 95: 3, 96: 4, 97: 3, 98: 2, 99: 2, 100: 3, 101: 5, 102: 1, 103: 3, 104: 2, 105: 1, 106: 1, 107: 2, 108: 1, 109: 1, 110: 2, 111: 3, 112: 2, 113: 2, 114: 2, 115: 1, 116: 4, 117: 1, 118: 1, 119: 3, 120: 4, 121: 5, 123: 4, 124: 2, 125: 2, 126: 1, 128: 2, 129: 2, 130: 1, 131: 1, 132: 1, 134: 3, 135: 2, 136: 1, 137: 1, 138: 1, 139: 1, 140: 2, 141: 1, 142: 3, 143: 1, 144: 1, 146: 1, 147: 3, 148: 1, 149: 2, 150: 3, 151: 5, 152: 3, 153: 2, 154: 3, 155: 1, 156: 4, 157: 1, 158: 1, 159: 3, 161: 3, 162: 1, 163: 3, 165: 1, 167: 2, 168: 2, 169: 1, 171: 3, 172: 1, 173: 1, 174: 1, 175: 1, 177: 2, 178: 3, 179: 1, 180: 1, 181: 1, 182: 3, 185: 2, 186: 2, 188: 1, 189: 1, 190: 1, 192: 2, 193: 4, 195: 2, 196: 1, 197: 4, 199: 1, 200: 4, 201: 1, 202: 1, 204: 1, 208: 4, 210: 1, 211: 2, 212: 2, 214: 2, 215: 2, 216: 1, 217: 1, 218: 3, 219: 1, 220: 1, 221: 2, 222: 1, 223: 1, 224: 1, 226: 1, 227: 1, 228: 1, 229: 1, 231: 1, 236: 2, 237: 1, 238: 1, 239: 1, 240: 1, 241: 2, 246: 2, 247: 1, 251: 1, 259: 1, 266: 1}\n"
     ]
    }
   ],
   "source": [
    "# wie sieht es noch aus, wenn wir die Spieler herausnehmen, die weniger als 6 Hits hatten\n",
    "\n",
    "hits, counts = np.unique(sum_hits, return_counts=True)\n",
    "\n",
    "print(dict(zip(hits, counts)))"
   ]
  },
  {
   "cell_type": "code",
   "execution_count": 41,
   "id": "198ef420",
   "metadata": {},
   "outputs": [
    {
     "name": "stdout",
     "output_type": "stream",
     "text": [
      "(578,)\n"
     ]
    },
    {
     "data": {
      "image/png": "[encoded data removed]",
      "text/plain": [
       "<Figure size 640x480 with 1 Axes>"
      ]
     },
     "metadata": {},
     "output_type": "display_data"
    }
   ],
   "source": [
    "# wie sieht es noch aus, wenn wir die Spieler herausnehmen, die weniger als 11 Hits hatten\n",
    "\n",
    "sum_hits_over_10 = sum_hits[np.apply_along_axis(lambda x: x > 10, 0, sum_hits)]\n",
    "\n",
    "print(sum_hits_over_10.shape)\n",
    "\n",
    "plt.hist(sum_hits_over_10, bins=20)\n",
    "plt.show()"
   ]
  },
  {
   "cell_type": "code",
   "execution_count": 48,
   "id": "edd2a4d1",
   "metadata": {},
   "outputs": [
    {
     "data": {
      "text/plain": [
       "array([[  8,   3,   1],\n",
       "       [152, 566, 210],\n",
       "       [ 82, 297, 128],\n",
       "       ...,\n",
       "       [ 99, 299,  86],\n",
       "       [110, 255,  92],\n",
       "       [109, 333, 118]])"
      ]
     },
     "execution_count": 48,
     "metadata": {},
     "output_type": "execute_result"
    }
   ],
   "source": [
    "# aber vielleicht resultieren die wenigen Hits pro Saison auch einfach an der Tatsache, dass viele Spieler,\n",
    "# die gelistet wurden, gar nicht die ganze Saison spielten.\n",
    "# In welcher Korrelation steht eigentlich die Anzahl Spiele, bzw. Anzahl At-Bats im Verhältnis\n",
    "# zu den geschlagenen Hits?\n",
    "\n",
    "# wir holen uns die Spalten Games und At-Bats...\n",
    "games_atbats = batting_cleaned[:, :2]\n",
    "\n",
    "# ... richten den Shape von sum_hits ...\n",
    "sum_hits.shape = (857, 1)\n",
    "\n",
    "# ... und fügen beide an der 1. Achse zusammen\n",
    "g_ab_hits = np.concatenate((games_atbats, sum_hits), axis=1)\n",
    "\n",
    "g_ab_hits"
   ]
  },
  {
   "cell_type": "code",
   "execution_count": null,
   "id": "75c3d16b",
   "metadata": {},
   "outputs": [],
   "source": [
    "# Wie ist die Korrelation zwischen Games und Hits?\n",
    "\n"
   ]
  }
 ],
 "metadata": {
  "kernelspec": {
   "display_name": "Python 3 (ipykernel)",
   "language": "python",
   "name": "python3"
  },
  "language_info": {
   "codemirror_mode": {
    "name": "ipython",
    "version": 3
   },
   "file_extension": ".py",
   "mimetype": "text/x-python",
   "name": "python",
   "nbconvert_exporter": "python",
   "pygments_lexer": "ipython3",
   "version": "3.9.12"
  },
  "toc": {
   "base_numbering": 1,
   "nav_menu": {},
   "number_sections": true,
   "sideBar": true,
   "skip_h1_title": false,
   "title_cell": "Table of Contents",
   "title_sidebar": "Contents",
   "toc_cell": false,
   "toc_position": {},
   "toc_section_display": true,
   "toc_window_display": false
  }
 },
 "nbformat": 4,
 "nbformat_minor": 5
}
