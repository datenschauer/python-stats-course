{
 "cells": [
  {
   "cell_type": "markdown",
   "source": [
    "# Einleitung\n",
    "\n",
    "Dieser Kurs soll in die Statstik und Datenanalyse mit Python einführen. Sie lernen, wie Sie typische statistische Fragestellungen mit Python bearbeiten können und lernen das nötige Handwerkzeug, sprich die dafür nötigen Pakete (Module) und Funktionen kennen. Inhalt dieses Kurses sind vor allem das Einlesen und die Manipulation von Daten, die Visualisierung und deskriptive Beschreibung der Daten mit Hilfe verschiedener Plots, sowie statistischer Kennwerte. Des Weiteren werden wir uns in die Inferenzstatistik, mit Hilfe von Konfidenzintervallen, Hypothesentests und Varianzanalysen vorwagen.\n",
    "\n",
    "### Warum Python?\n",
    "\n",
    "### Voraussetzungen\n",
    "\n",
    "Dies ist keine Einführung in die Statistik! Die unten genannten statistischen Konzepte sollten Ihnen zumindest ein Begriff sein. Auch ist es sehr hilfreich, wenn Sie schon einmal programmiert haben (z.B. in R) oder gar einen Einführungskurs in Python gemacht haben.\n",
    "\n",
    "### Überblick über den Kurs\n",
    "\n",
    "- Die Mutter aller wissenschaftlichen Python Module: NumPy\n",
    "- Daten einlesen und manipulieren mit Pandas\n",
    "- Daten visualisieren mit Matplotlib und Seaborn\n",
    "- Deskriptive Statistik\n",
    "- Inferenzstatistik"
   ],
   "metadata": {
    "collapsed": false
   }
  },
  {
   "cell_type": "markdown",
   "metadata": {
    "collapsed": true,
    "pycharm": {
     "name": "#%% md\n"
    }
   },
   "source": [
    "# Kurze Einführung in Python\n",
    "\n",
    "Diese kurze Einführung ersetzt nicht eine ordentliche Auseinandersetzung und umfassendere Einführung in Python, wie Sie sie z.B. von mir [hier](https://datenschauer.de/pythonkurs) finden können. Ich möchte aber dennoch versuchen, Ihnen die wichtigsten Programmierkonzepte in Python näherzubringen, damit Sie die nachfolgenden Kapitel verstehen können."
   ]
  },
  {
   "cell_type": "markdown",
   "source": [
    "## einfachste Konzepte\n",
    "\n",
    "Beginnen wir mit den wichtigsten Basisfunktionalitäten: Variablen, Zahlen, Operatoren, Strings, eingebaute Funktionen und Methoden."
   ],
   "metadata": {
    "collapsed": false
   }
  },
  {
   "cell_type": "markdown",
   "source": [
    "### Zahlen und Operatoren\n",
    "\n",
    "Python kann von Haus aus grundständige Rechenoperationen bewerkstelligen. Dabei stehen ihm Ganzahltypen `int` und Gleitkommazahlen `float` zur Verfügung."
   ],
   "metadata": {
    "collapsed": false,
    "pycharm": {
     "name": "#%% md\n"
    }
   }
  },
  {
   "cell_type": "code",
   "execution_count": 4,
   "outputs": [
    {
     "data": {
      "text/plain": "22"
     },
     "execution_count": 4,
     "metadata": {},
     "output_type": "execute_result"
    }
   ],
   "source": [
    "# Addition\n",
    "5 + 17"
   ],
   "metadata": {
    "collapsed": false,
    "pycharm": {
     "name": "#%%\n"
    }
   }
  },
  {
   "cell_type": "code",
   "execution_count": 5,
   "outputs": [
    {
     "data": {
      "text/plain": "-416"
     },
     "execution_count": 5,
     "metadata": {},
     "output_type": "execute_result"
    }
   ],
   "source": [
    "# Subtraktion\n",
    "8967 - 9383"
   ],
   "metadata": {
    "collapsed": false,
    "pycharm": {
     "name": "#%%\n"
    }
   }
  },
  {
   "cell_type": "code",
   "execution_count": 6,
   "outputs": [
    {
     "data": {
      "text/plain": "5070"
     },
     "execution_count": 6,
     "metadata": {},
     "output_type": "execute_result"
    }
   ],
   "source": [
    "# Multiplikation\n",
    "78 * 65"
   ],
   "metadata": {
    "collapsed": false,
    "pycharm": {
     "name": "#%%\n"
    }
   }
  },
  {
   "cell_type": "code",
   "execution_count": 7,
   "outputs": [
    {
     "data": {
      "text/plain": "9.0"
     },
     "execution_count": 7,
     "metadata": {},
     "output_type": "execute_result"
    }
   ],
   "source": [
    "# Division gibt immer eine Gleitkommazahl zurück!\n",
    "81 / 9"
   ],
   "metadata": {
    "collapsed": false,
    "pycharm": {
     "name": "#%%\n"
    }
   }
  },
  {
   "cell_type": "code",
   "execution_count": 8,
   "outputs": [
    {
     "data": {
      "text/plain": "8.539728332728"
     },
     "execution_count": 8,
     "metadata": {},
     "output_type": "execute_result"
    }
   ],
   "source": [
    "# Dezimalzahlen mit einem \"Punkt\" als Dezimaltrenner!\n",
    "3.1415926 * 2.71828"
   ],
   "metadata": {
    "collapsed": false,
    "pycharm": {
     "name": "#%%\n"
    }
   }
  },
  {
   "cell_type": "code",
   "execution_count": 9,
   "outputs": [
    {
     "data": {
      "text/plain": "256"
     },
     "execution_count": 9,
     "metadata": {},
     "output_type": "execute_result"
    }
   ],
   "source": [
    "# Potenzen\n",
    "2 ** 8"
   ],
   "metadata": {
    "collapsed": false,
    "pycharm": {
     "name": "#%%\n"
    }
   }
  },
  {
   "cell_type": "code",
   "execution_count": 12,
   "outputs": [
    {
     "data": {
      "text/plain": "2"
     },
     "execution_count": 12,
     "metadata": {},
     "output_type": "execute_result"
    }
   ],
   "source": [
    "# Modulo Operator (Berechnung des Rests)\n",
    "92 % 5"
   ],
   "metadata": {
    "collapsed": false,
    "pycharm": {
     "name": "#%%\n"
    }
   }
  },
  {
   "cell_type": "code",
   "execution_count": 14,
   "outputs": [
    {
     "data": {
      "text/plain": "18"
     },
     "execution_count": 14,
     "metadata": {},
     "output_type": "execute_result"
    }
   ],
   "source": [
    "# Abrundungsfunktion (floor division)\n",
    "92 // 5 # 92 / 5 -> 18.4"
   ],
   "metadata": {
    "collapsed": false,
    "pycharm": {
     "name": "#%%\n"
    }
   }
  },
  {
   "cell_type": "markdown",
   "source": [
    "Python kennt zwar so etwas wie eine \"Punkt-vor-Strich-Rechnung\", aber für komplexere Berechnungen und der Übersicht halber kann man Klammern verwenden."
   ],
   "metadata": {
    "collapsed": false
   }
  },
  {
   "cell_type": "code",
   "execution_count": 15,
   "outputs": [
    {
     "data": {
      "text/plain": "1.3846153846153846"
     },
     "execution_count": 15,
     "metadata": {},
     "output_type": "execute_result"
    }
   ],
   "source": [
    "(90 / (67 - (3 ** 2) // 4))"
   ],
   "metadata": {
    "collapsed": false,
    "pycharm": {
     "name": "#%%\n"
    }
   }
  },
  {
   "cell_type": "markdown",
   "source": [
    "Neben diesen mathematischen Operatoren gibt es natürlich auch noch logische Operatoren, die einen Wahrheitswert `True` oder `False` zurück geben. Diese Operatoren sind die Vergleichsoperatoren (`==, <, >, <=, >=`), sowie die Operatoren zur logischen Verknüpfung (`and, or, not`)."
   ],
   "metadata": {
    "collapsed": false
   }
  },
  {
   "cell_type": "code",
   "execution_count": 17,
   "outputs": [
    {
     "data": {
      "text/plain": "True"
     },
     "execution_count": 17,
     "metadata": {},
     "output_type": "execute_result"
    }
   ],
   "source": [
    "not ((30 > 45) and ((12 / 3) == 4 or 5 <= 12))"
   ],
   "metadata": {
    "collapsed": false,
    "pycharm": {
     "name": "#%%\n"
    }
   }
  },
  {
   "cell_type": "markdown",
   "source": [
    "### Variablen\n",
    "\n",
    "Variablen werden mit einem Istgleich-Zeichen `=` instantiiert und initialisiert in einem. Der Name einer Variablen kann dabei jedes ASCII Zeichen annehmen, muss aber mit einem Buchstaben oder einem Unterstrich `_` beginnen. Mit der `print()` Funktion können Ausdrücke am Bildschirm ausgegeben werden."
   ],
   "metadata": {
    "collapsed": false,
    "pycharm": {
     "name": "#%% md\n"
    }
   }
  },
  {
   "cell_type": "code",
   "execution_count": 3,
   "outputs": [
    {
     "data": {
      "text/plain": "5"
     },
     "execution_count": 3,
     "metadata": {},
     "output_type": "execute_result"
    }
   ],
   "source": [
    "meine_variable = 5\n",
    "\n",
    "meine_variable"
   ],
   "metadata": {
    "collapsed": false,
    "pycharm": {
     "name": "#%%\n"
    }
   }
  },
  {
   "cell_type": "code",
   "execution_count": 19,
   "outputs": [
    {
     "name": "stdout",
     "output_type": "stream",
     "text": [
      "25 25\n"
     ]
    }
   ],
   "source": [
    "x = 8\n",
    "y = 17\n",
    "m = x + y\n",
    "print(x + y, m)"
   ],
   "metadata": {
    "collapsed": false,
    "pycharm": {
     "name": "#%%\n"
    }
   }
  },
  {
   "cell_type": "markdown",
   "source": [
    "## die Elchpopulation\n",
    "\n",
    "Ich möchte mit einem kleinen Rätsel, das Ihnen z.B. als statistisch arbeitende Biolog*in unterkommen könnte, weitere basale Python Konzepte erklären.\n",
    "\n",
    "Stellen Sie sich vor, Sie arbeiten an der Erforschung einer Elchpopulation in den nördlichen Regionen Schwedens. Um die einzelnen Tiere zu tracken, sollen Ihnen kleine Sender schmerzfrei implantiert werden. Sie schätzen die Population auf 1.000 Tiere. Aus dieser Population werden 50 Tiere völlig zufällig eingefangen, gechipped und wieder freigelassen. Nach ca. einem halben Jahr werden wieder 50 Tiere völlig zufällig eingefangen. Wie hoch ist die Wahrscheinlichkeit, dass genau $k$ Tiere beim zweiten Mal dabei sind, die schon gechipped waren?\n",
    "\n",
    "Sie kramen kurz in Ihrem Gedächtnis, was Sie über Kombinatorik in Ihrer Vorlesung Wahrscheinlichkeitstheorie gelernt hatten und folgern, dass folgende Formel korrekt sein müsste: $$\\frac{\\binom{n}{k}\\cdot\\binom{N-n}{m-k}}{\\binom{N}{m}},$$ mit $k\\le n$ und $m-k \\le N-n$, wobei $N$, die Populationsgröße, $n$ die Anzahl der zuerst gechippten Elche und $m$ die Anzahl der erneut eingefangen ist. Diese Funktion nennt man auch eine [**hypergeometrische Verteilung**](https://de.wikipedia.org/wiki/Hypergeometrische_Verteilung).\n",
    "\n",
    "Machen wir uns noch kurz klar, wie diese vielen *Binomialkoeffizienten* in der Formel berechnet werden können. Hinter $\\binom{n}{k}$, sprich \"aus $n$ wähle $k$\", oder \"$n$ über $k$\" steckt folgende Formel: $\\frac{n!}{k!\\cdot (n-k)!}$, wobei $n!$ (sprich: \"$n$ Fakultät\") gleich $n \\cdot (n-1) \\cdot (n - 2) \\cdot \\dots \\cdot(n - (n - 1))$.\n",
    "\n",
    "Mit diesem Wissen können wir nun ein kleines Pythonprogramm schreiben, das uns $k$ berechnet."
   ],
   "metadata": {
    "collapsed": false
   }
  },
  {
   "cell_type": "markdown",
   "source": [
    "### Funktion für die Berechnung der Fakultät erstellen\n",
    "\n",
    "Zuerst brauchen wir eine Funktion, mit der wir die Fakultät ausrechnen können. Funktionen in Python werden mit dem *Keyword* `def` eingeleitet, gefolgt von einem *Namen* für die Funktion, sowie einer Liste mit optionalen Parametern in runden Klammern, die wir der Funktion übergeben wollen, gefolgt von einem Doppelpunkt, der den *Funktionskörper* einleitet."
   ],
   "metadata": {
    "collapsed": false
   }
  },
  {
   "cell_type": "code",
   "execution_count": null,
   "outputs": [],
   "source": [
    "# eine Beispielfunktion\n",
    "\n",
    "def beispiel(n, m):\n",
    "    pass"
   ],
   "metadata": {
    "collapsed": false,
    "pycharm": {
     "name": "#%%\n"
    }
   }
  }
 ],
 "metadata": {
  "kernelspec": {
   "display_name": "Python 3",
   "language": "python",
   "name": "python3"
  },
  "language_info": {
   "codemirror_mode": {
    "name": "ipython",
    "version": 2
   },
   "file_extension": ".py",
   "mimetype": "text/x-python",
   "name": "python",
   "nbconvert_exporter": "python",
   "pygments_lexer": "ipython2",
   "version": "2.7.6"
  }
 },
 "nbformat": 4,
 "nbformat_minor": 0
}