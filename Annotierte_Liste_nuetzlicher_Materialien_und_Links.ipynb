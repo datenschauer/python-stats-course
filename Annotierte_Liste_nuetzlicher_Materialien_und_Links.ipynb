{
 "cells": [
  {
   "cell_type": "markdown",
   "id": "3ce6b4a6",
   "metadata": {},
   "source": [
    "# Einführungen\n",
    "\n",
    "## Allgemein\n",
    "\n",
    "- [Buch] **Klein, Bernd: Numerisches Python. Arbeiten mit NumPy, Matplotlib und Pandas, Hanser 2019.** (Sehr gute und grundlegende Einführung in die Basics.)\n",
    "- [Buch] **VanderPlas, Jake: Data Science mit Python. Das Handbuch für den Einsatz von IPython, Jupyter, NumPy, Pandas, Matplotlib, Scikit-Learn, mitp 2018** (Wahrscheinlich der beste Einstieg in die Thematik. VanderPlas deckt die nötigen Basics ab.)\n",
    "- [Buch] **Grus, Joel: Einführung in Data Science. Grundprinzipien der Datenanalyse mit Python.** (Grus schreibt hier eine wirklich solide Einführung in Data Science Konzepte, wie Maschinelles Lernen, k-nächste Nachbarn, Naive Bayes Klassifikatoren, Lineare Regression und vieles mehr. Dabei hat Grus vor allem Menschen im Blick, die auf der Informatik, bzw. dem Programmieren kommen. Grus verzichtet auch vollkommen auf die speziellen Python Module wie NumPy, SciPy, Scikit-Learn etc. und verwendet reinen Python Code der Standard Bibliotheken. Dies bedeutet zwar etwas mehr Ausformulierungen und Arbeiten am Code, dafür werden aber die dahinterliegenden Konzepte deutlich und verstecken sich nicht hinter den Abstraktionen der oben genannten Bibliotheken.)\n",
    "\n",
    "## NumPy\n",
    "\n",
    "- [Online] **Numpy Tutorial auf GitHub von Nicolas Rougier** [Link](https://github.com/rougier/numpy-tutorial)\n",
    "- [Online] **100 Numpy Exercises von Nicolas Rougier** (Learning by Doing durch die teils herausfordernden Numpy Übungen. Lernen am Objekt!) [Link](https://github.com/rougier/numpy-100)\n",
    "\n",
    "## Matplotlib und andere Visualisierungen\n",
    "\n",
    "## Pandas\n",
    "\n",
    "## SciPy\n",
    "\n",
    "# Sammlungen\n",
    "\n",
    "- [Github Repositories von Nicolas Rougier](https://github.com/rougier)\n",
    "Nicolas Rougier ist Neurowissenschaftler, Open Scource Programmierer und Data Scientist von der Universität Bourdeaux und hat eine unglaubliche Sammlung an Einführungen, Büchern, Studienmaterial, Libraries und vieles mehr.\n",
    "\n",
    "# Übungen"
   ]
  }
 ],
 "metadata": {
  "kernelspec": {
   "display_name": "Python 3 (ipykernel)",
   "language": "python",
   "name": "python3"
  },
  "language_info": {
   "codemirror_mode": {
    "name": "ipython",
    "version": 3
   },
   "file_extension": ".py",
   "mimetype": "text/x-python",
   "name": "python",
   "nbconvert_exporter": "python",
   "pygments_lexer": "ipython3",
   "version": "3.9.12"
  },
  "toc": {
   "base_numbering": 1,
   "nav_menu": {},
   "number_sections": true,
   "sideBar": true,
   "skip_h1_title": false,
   "title_cell": "Table of Contents",
   "title_sidebar": "Contents",
   "toc_cell": false,
   "toc_position": {
    "height": "calc(100% - 180px)",
    "left": "10px",
    "top": "150px",
    "width": "286.719px"
   },
   "toc_section_display": true,
   "toc_window_display": true
  }
 },
 "nbformat": 4,
 "nbformat_minor": 5
}
