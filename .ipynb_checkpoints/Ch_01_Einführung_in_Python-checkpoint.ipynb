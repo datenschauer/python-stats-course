{
 "cells": [
  {
   "cell_type": "markdown",
   "metadata": {},
   "source": [
    "# Einleitung\n",
    "\n",
    "Dieser Kurs soll in die Statstik und Datenanalyse mit Python einführen. Sie lernen, wie Sie typische statistische Fragestellungen mit Python bearbeiten können und lernen das nötige Handwerkzeug, sprich die dafür nötigen Pakete (Module) und Funktionen kennen. Inhalt dieses Kurses sind vor allem das Einlesen und die Manipulation von Daten, die Visualisierung und deskriptive Beschreibung der Daten mit Hilfe verschiedener Plots, sowie statistischer Kennwerte. Des Weiteren werden wir uns in die Inferenzstatistik, mit Hilfe von Konfidenzintervallen, Hypothesentests und Varianzanalysen vorwagen.\n",
    "\n",
    "## Warum Python?\n",
    "\n",
    "Für die komputationale Bearbeitung wissenschaftlicher Probleme (vor allem im numerischen, mathematischen und statistischen Bereich) gibt es, so meint man, eigentlich mit [Matlab](https://de.mathworks.com/products/matlab.html) und der [OpenSource](https://de.wikipedia.org/wiki/Open_Source) Software [R](https://www.r-project.org/) ausreichend gute Möglichkeiten. Gerade im akademischen Umfeld, vor allem in den Sozialwissenschaften aber auch anderen Bereichen, in denen statistische Software eine wichtige Rolle spielt, hat sich R weitestgehend durchgesetzt. Die meisten wissenschaftlichen Beiträge in diesem Bereich werden in R-Pakete \"gegossen\" und können von der Community sofort eingesetzt werden. *Wieso also noch Python einsetzen?*\n",
    "\n",
    "Vorweg sollte man sagen: man *muss* Python natürlich nicht einsetzen und in den meisten mathematischen und statistischen Einsatzgebieten ist es nicht besser oder schlechter als R oder andere Alternativen.\n",
    "\n",
    "Zuerst hat vieles mit Vorlieben und Gewohnheit zu tun. Python ist eine *multiparadigmatische* Programmiersprache (Sie können in Python prozeduralen, objektorientierten und funktionalen Code schreiben), die für sehr viele Zwecke eingesetzt werden kann: Automatisierung und Skripting im Server Bereich, Backend Webentwicklung, GUI Programmierung, IoT-Geräte, mobile Apps und vor allem im Bereich Data Science und Deep Learning. Desweiteren hat Python unter anderem folgende Vorteile gegenüber manch anderen Programmiersprachen:\n",
    "- Sie ist dazu entworfen worden, um leicht lesbar zu sein und einen guten Programmierstil von Anfang an zu erlernen.\n",
    "- Sie ist auf leichte Erlernbarkeit ausgelegt (das macht sie auch zur Sprache der Wahl bei den meisten Programmiereinführungskursen)\n",
    "- Sie hat ein sehr umfangreiches und tiefes Ökosystem (Auf [PyPi](https://pypi.org/) gibt es kaum ein Modul für ein Problem, das noch nicht gelöst wurde).\n",
    "- Man kann mit ihr erheblich umfangreiche Aufgaben erledigen mit einem minimalen Aufwand.\n",
    "- Durch ihre Popularität gibt es eine enorm große und sehr hilfsbereite Community.\n",
    "\n",
    "Und genau dies sind die Hauptgründe, sich für Python auch in diesem Bereich zu entscheiden. Mit Python hat man eine Art Schweizer Taschenmesser, dass sich in fast allen IT Bereichen mühelos einsetzen lässt. Vor allem in der Industrie, außerhalb des akademischen Bereichs ist dies ein wichtiger Grund, weshalb Python vorwiegend eingesetzt wird.\n",
    "\n",
    "## Voraussetzungen\n",
    "\n",
    "Dies ist keine Einführung in die Statistik! Die im Kurs behandelten statistischen Konzepte sollten Ihnen zumindest ein Begriff sein. Auch ist es sehr hilfreich, wenn Sie schon einmal programmiert haben (z.B. in R) oder gar einen Einführungskurs in Python gemacht haben.\n",
    "\n",
    "## Überblick über den Kurs:\n",
    "\n",
    "- Die Mutter aller wissenschaftlichen Python Module: *NumPy*\n",
    "- Daten Visualisieren: erste Schritte mit *Matplotlib*\n",
    "- Daten einlesen und manipulieren mit *Pandas*\n",
    "- Deskriptive und Inferenzstatistik mit *SciPy*\n",
    "- Weitere Konzepte"
   ]
  },
  {
   "cell_type": "markdown",
   "metadata": {
    "pycharm": {
     "name": "#%% md\n"
    }
   },
   "source": [
    "# Kurze Einführung in Python\n",
    "\n",
    "Diese kurze Einführung ersetzt nicht eine ordentliche Auseinandersetzung und umfassendere Einführung in Python, wie Sie sie z.B. von mir [hier](https://datenschauer.de/pythonkurs) finden können. Ich möchte aber dennoch versuchen, Ihnen die wichtigsten Programmierkonzepte in Python näherzubringen, damit Sie die nachfolgenden Kapitel verstehen können."
   ]
  },
  {
   "cell_type": "markdown",
   "metadata": {},
   "source": [
    "## einfachste Konzepte\n",
    "\n",
    "Beginnen wir mit den wichtigsten Basisfunktionalitäten: Variablen, Zahlen, Operatoren, Strings, eingebaute Funktionen und Methoden."
   ]
  },
  {
   "cell_type": "markdown",
   "metadata": {
    "pycharm": {
     "name": "#%% md\n"
    }
   },
   "source": [
    "### Zahlen und Operatoren\n",
    "\n",
    "Python kann von Haus aus grundständige Rechenoperationen bewerkstelligen. Dabei stehen ihm Ganzahltypen `int` und Gleitkommazahlen `float` zur Verfügung."
   ]
  },
  {
   "cell_type": "code",
   "execution_count": 4,
   "metadata": {
    "collapsed": false,
    "jupyter": {
     "outputs_hidden": false
    },
    "pycharm": {
     "name": "#%%\n"
    }
   },
   "outputs": [
    {
     "data": {
      "text/plain": [
       "22"
      ]
     },
     "execution_count": 4,
     "metadata": {},
     "output_type": "execute_result"
    }
   ],
   "source": [
    "# Addition\n",
    "5 + 17"
   ]
  },
  {
   "cell_type": "code",
   "execution_count": 5,
   "metadata": {
    "collapsed": false,
    "jupyter": {
     "outputs_hidden": false
    },
    "pycharm": {
     "name": "#%%\n"
    }
   },
   "outputs": [
    {
     "data": {
      "text/plain": [
       "-416"
      ]
     },
     "execution_count": 5,
     "metadata": {},
     "output_type": "execute_result"
    }
   ],
   "source": [
    "# Subtraktion\n",
    "8967 - 9383"
   ]
  },
  {
   "cell_type": "code",
   "execution_count": 6,
   "metadata": {
    "collapsed": false,
    "jupyter": {
     "outputs_hidden": false
    },
    "pycharm": {
     "name": "#%%\n"
    }
   },
   "outputs": [
    {
     "data": {
      "text/plain": [
       "5070"
      ]
     },
     "execution_count": 6,
     "metadata": {},
     "output_type": "execute_result"
    }
   ],
   "source": [
    "# Multiplikation\n",
    "78 * 65"
   ]
  },
  {
   "cell_type": "code",
   "execution_count": 7,
   "metadata": {
    "collapsed": false,
    "jupyter": {
     "outputs_hidden": false
    },
    "pycharm": {
     "name": "#%%\n"
    }
   },
   "outputs": [
    {
     "data": {
      "text/plain": [
       "9.0"
      ]
     },
     "execution_count": 7,
     "metadata": {},
     "output_type": "execute_result"
    }
   ],
   "source": [
    "# Division gibt immer eine Gleitkommazahl zurück!\n",
    "81 / 9"
   ]
  },
  {
   "cell_type": "code",
   "execution_count": 8,
   "metadata": {
    "collapsed": false,
    "jupyter": {
     "outputs_hidden": false
    },
    "pycharm": {
     "name": "#%%\n"
    }
   },
   "outputs": [
    {
     "data": {
      "text/plain": [
       "8.539728332728"
      ]
     },
     "execution_count": 8,
     "metadata": {},
     "output_type": "execute_result"
    }
   ],
   "source": [
    "# Dezimalzahlen mit einem \"Punkt\" als Dezimaltrenner!\n",
    "3.1415926 * 2.71828"
   ]
  },
  {
   "cell_type": "code",
   "execution_count": 9,
   "metadata": {
    "collapsed": false,
    "jupyter": {
     "outputs_hidden": false
    },
    "pycharm": {
     "name": "#%%\n"
    }
   },
   "outputs": [
    {
     "data": {
      "text/plain": [
       "256"
      ]
     },
     "execution_count": 9,
     "metadata": {},
     "output_type": "execute_result"
    }
   ],
   "source": [
    "# Potenzen\n",
    "2 ** 8"
   ]
  },
  {
   "cell_type": "code",
   "execution_count": 12,
   "metadata": {
    "collapsed": false,
    "jupyter": {
     "outputs_hidden": false
    },
    "pycharm": {
     "name": "#%%\n"
    }
   },
   "outputs": [
    {
     "data": {
      "text/plain": [
       "2"
      ]
     },
     "execution_count": 12,
     "metadata": {},
     "output_type": "execute_result"
    }
   ],
   "source": [
    "# Modulo Operator (Berechnung des Rests)\n",
    "92 % 5"
   ]
  },
  {
   "cell_type": "code",
   "execution_count": 14,
   "metadata": {
    "collapsed": false,
    "jupyter": {
     "outputs_hidden": false
    },
    "pycharm": {
     "name": "#%%\n"
    }
   },
   "outputs": [
    {
     "data": {
      "text/plain": [
       "18"
      ]
     },
     "execution_count": 14,
     "metadata": {},
     "output_type": "execute_result"
    }
   ],
   "source": [
    "# Abrundungsfunktion (floor division)\n",
    "92 // 5 # 92 / 5 -> 18.4"
   ]
  },
  {
   "cell_type": "markdown",
   "metadata": {},
   "source": [
    "Python kennt zwar so etwas wie eine \"Punkt-vor-Strich-Rechnung\", aber für komplexere Berechnungen und der Übersicht halber kann man Klammern verwenden."
   ]
  },
  {
   "cell_type": "code",
   "execution_count": 15,
   "metadata": {
    "collapsed": false,
    "jupyter": {
     "outputs_hidden": false
    },
    "pycharm": {
     "name": "#%%\n"
    }
   },
   "outputs": [
    {
     "data": {
      "text/plain": [
       "1.3846153846153846"
      ]
     },
     "execution_count": 15,
     "metadata": {},
     "output_type": "execute_result"
    }
   ],
   "source": [
    "(90 / (67 - (3 ** 2) // 4))"
   ]
  },
  {
   "cell_type": "markdown",
   "metadata": {},
   "source": [
    "Neben diesen mathematischen Operatoren gibt es natürlich auch noch logische Operatoren, die einen Wahrheitswert `True` oder `False` zurück geben. Diese Operatoren sind die Vergleichsoperatoren (`==, <, >, <=, >=`), sowie die Operatoren zur logischen Verknüpfung (`and, or, not`)."
   ]
  },
  {
   "cell_type": "code",
   "execution_count": 17,
   "metadata": {
    "collapsed": false,
    "jupyter": {
     "outputs_hidden": false
    },
    "pycharm": {
     "name": "#%%\n"
    }
   },
   "outputs": [
    {
     "data": {
      "text/plain": [
       "True"
      ]
     },
     "execution_count": 17,
     "metadata": {},
     "output_type": "execute_result"
    }
   ],
   "source": [
    "not ((30 > 45) and ((12 / 3) == 4 or 5 <= 12))"
   ]
  },
  {
   "cell_type": "markdown",
   "metadata": {
    "pycharm": {
     "name": "#%% md\n"
    }
   },
   "source": [
    "### Variablen\n",
    "\n",
    "Variablen werden mit einem Istgleich-Zeichen `=` instantiiert und initialisiert in einem. Der Name einer Variablen kann dabei jedes ASCII Zeichen annehmen, muss aber mit einem Buchstaben oder einem Unterstrich `_` beginnen. Mit der `print()` Funktion können Ausdrücke am Bildschirm ausgegeben werden."
   ]
  },
  {
   "cell_type": "code",
   "execution_count": 3,
   "metadata": {
    "collapsed": false,
    "jupyter": {
     "outputs_hidden": false
    },
    "pycharm": {
     "name": "#%%\n"
    }
   },
   "outputs": [
    {
     "data": {
      "text/plain": [
       "5"
      ]
     },
     "execution_count": 3,
     "metadata": {},
     "output_type": "execute_result"
    }
   ],
   "source": [
    "meine_variable = 5\n",
    "\n",
    "meine_variable"
   ]
  },
  {
   "cell_type": "code",
   "execution_count": 19,
   "metadata": {
    "collapsed": false,
    "jupyter": {
     "outputs_hidden": false
    },
    "pycharm": {
     "name": "#%%\n"
    }
   },
   "outputs": [
    {
     "name": "stdout",
     "output_type": "stream",
     "text": [
      "25 25\n"
     ]
    }
   ],
   "source": [
    "x = 8\n",
    "y = 17\n",
    "m = x + y\n",
    "print(x + y, m)"
   ]
  },
  {
   "cell_type": "markdown",
   "metadata": {},
   "source": [
    "## Funktionen"
   ]
  },
  {
   "cell_type": "markdown",
   "metadata": {},
   "source": [
    "Funktionen können über ihren Namen, gefolgt von runden klammern und eventuellen Argumenten (= Parametern) aufgerufen werden: `funktionsname(arg1, arg2)`\n",
    "\n",
    "Die Print-Funktion haben wir beispielsweise schon kennengelernt. Sie hat den Funktionsnamen \"print\" und nimmt als Argumente ein oder mehrere Strings entgegen, als Zeichenketten, die dann in der Standardausgabe (meist die Konsole oder in Jupyter Notebooks der Bereich unterhalb der Zelle) ausgegeben werden. Als Argumente dienen aber nicht nur direkte Strings, sondern auch alle Objekte und Rückgabewerte, die eine String Repräsentation haben."
   ]
  },
  {
   "cell_type": "code",
   "execution_count": 6,
   "metadata": {},
   "outputs": [
    {
     "name": "stdout",
     "output_type": "stream",
     "text": [
      "Hallo Welt!\n",
      "Hallo Welt !\n"
     ]
    }
   ],
   "source": [
    "print(\"Hallo Welt!\")\n",
    "print(\"Hallo\", \"Welt\", \"!\")"
   ]
  },
  {
   "cell_type": "code",
   "execution_count": 9,
   "metadata": {},
   "outputs": [
    {
     "data": {
      "text/plain": [
       "9"
      ]
     },
     "execution_count": 9,
     "metadata": {},
     "output_type": "execute_result"
    }
   ],
   "source": [
    "# Weitere Beispiele von Funktionen:\n",
    "\n",
    "max(4, 3, 9, 1) # gib das gröẞte Element zurück"
   ]
  },
  {
   "cell_type": "markdown",
   "metadata": {},
   "source": [
    "```\n",
    "    max       (4, 3, 9, 1)\n",
    "     |           |    |\n",
    "Funktionsname   Argumente\n",
    "```"
   ]
  },
  {
   "cell_type": "code",
   "execution_count": 8,
   "metadata": {},
   "outputs": [
    {
     "data": {
      "text/plain": [
       "11"
      ]
     },
     "execution_count": 8,
     "metadata": {},
     "output_type": "execute_result"
    }
   ],
   "source": [
    "len(\"Hallo Welt!\") # gib die Länge eines Objektes zurück"
   ]
  },
  {
   "cell_type": "markdown",
   "metadata": {},
   "source": [
    "Funktionen lassen sich auch ineinander \"verschachteln\". Der Aufruf und die Rückgabe der einzelnen Funktionen erfolgt dann von \"innen nach auẞen\"."
   ]
  },
  {
   "cell_type": "code",
   "execution_count": 11,
   "metadata": {},
   "outputs": [
    {
     "name": "stdout",
     "output_type": "stream",
     "text": [
      "5\n"
     ]
    }
   ],
   "source": [
    "print(max(len(\"Hallo\"), len(\"Welt\")))"
   ]
  },
  {
   "cell_type": "markdown",
   "metadata": {},
   "source": [
    "```\n",
    "print( max ( len(\"Hallo\"), len(\"Welt) ))\n",
    " |      |      |           |\n",
    " |       \\     5           4 \n",
    " |        \\    |          /\n",
    " |       max  (5,       4)\n",
    "  \\        |\n",
    "   \\       |\n",
    "    print (5)\n",
    "      |\n",
    "      5\n",
    "```"
   ]
  },
  {
   "cell_type": "markdown",
   "metadata": {},
   "source": [
    "## Datenstrukturen"
   ]
  },
  {
   "cell_type": "markdown",
   "metadata": {},
   "source": [
    "### Listen\n",
    "\n",
    "Eine Liste legt man über Verwendung eckiger Klammern „[]“ an. Zwichen diese Klammern schreibt man durch ein Komma separiert die einzelnen Objekte, die in dieser Liste gespeichert werden sollen. Unsere erste Liste, die die Werte der gegebenen Antworten des ersten Items enthält, könnte demnach so aussehen:"
   ]
  },
  {
   "cell_type": "code",
   "execution_count": 1,
   "metadata": {},
   "outputs": [],
   "source": [
    "item_1 = [3, 1, 1, 3, 1, 1, 5, 2, 2, 3, 4, 3, 5, 3, 5, 1, 5, 4, 4, 4]"
   ]
  },
  {
   "cell_type": "markdown",
   "metadata": {},
   "source": [
    "Über den Klammernoperator `[]` kann man auf die eizelenen Werte (Indices) einer List zugreifen. Dabei sind Listen, wie auch Tupel *iterierbare* Objekte in Python.\n",
    "\n",
    "Jedes iterierbare Objekt lässt sich der Reihe nach in einzelne Elemente zerlegen, die von vorne nach hinten über einen sog. Index durchnummeriert werden und über diese Nummern auch angesprochen werden können. Ähnlich wie bei einem langen Zug bei dem man vorne bei der Lok zu zählen beginnt und jedem weiteren Waggon eine Nummer n+1 gibt. Die Lok wäre der Index 0, der erste Waggon der Index 1, der zweite Waggon der Index 2 usw., bis zum letzten Waggon. Von vorne nach hinten gezählt ist aber die Lok das erste Bauteil, der erste Waggon das zweite usw.\n",
    "\n",
    "![Index Zug](./img/index_zug.png)\n",
    "\n",
    "Genauso zählt auch Python die Elemente eines Iterable durch. Das erste Element hat immer den Index 0, das zweite den Index 1 und das letzte hat den Index „Anzahl der Elemente minus 1“.\n",
    "\n",
    "Um einen Index auszuwählen, bzw. auf ihn zuzugreifen, benutzt man den Klammer-Operator: zwei eckige Klammern „[]“, die hinten an das Iterable angesetzt werden. Die Syntax sieht folgendermaßen aus: `iterable[<index>]`."
   ]
  },
  {
   "cell_type": "code",
   "execution_count": 5,
   "metadata": {},
   "outputs": [
    {
     "name": "stdout",
     "output_type": "stream",
     "text": [
      "[3, 1, 1, 3, 1, 1, 5, 2, 2, 3, 4, 3, 5, 3, 5, 1, 5, 4, 4, 4]\n",
      "3\n",
      "1\n",
      "4\n"
     ]
    }
   ],
   "source": [
    "print(item_1)\n",
    "print(item_1[0]) # das erste Element\n",
    "print(item_1[1]) # das zweite Element\n",
    "print(item_1[10]) # das elfte Element usw."
   ]
  },
  {
   "cell_type": "markdown",
   "metadata": {},
   "source": [
    "Diese Index Syntax mit den eckigen Klammern erlaubt es sogar, „von Hinten“ anzufangen zu zählen. Das letzte Element hätte somit den Index -1, das zweitletzte den Index -2 usw."
   ]
  },
  {
   "cell_type": "code",
   "execution_count": 13,
   "metadata": {},
   "outputs": [
    {
     "name": "stdout",
     "output_type": "stream",
     "text": [
      "4\n",
      "1\n"
     ]
    }
   ],
   "source": [
    "print(item_1[-1]) # das letzte Element\n",
    "print(item_1[-5]) # das fünfte Element von \"hinten\""
   ]
  },
  {
   "cell_type": "markdown",
   "metadata": {},
   "source": [
    "Man kann auch Teile einer Liste \"herausschneiden\". Dies nennt man *Slicing*. Das Slicing erfolgt auch über den `[]`-Operator und hat folgende Syntax:\n",
    "```\n",
    "liste[ start : ende : schritte ]\n",
    "```\n",
    "**Achtung:** Bei Start und Ende handelt es sich um ein *halboffenes Intervall*. Der Start-Index ist immer inkludiert, der End-Index aber ausgeschlossen!\n",
    "\n",
    "Man kann je nachdem Start, Ende und Schritte auch weggelassen:\n",
    "- Lässt man Start weg, wird bei Index 0, also dem ersten Element begonnen.\n",
    "- Lässt man Ende weg, so wird bis zum letzten Index + 1, bzw. `[-1]`, also dem letzten Element gegangen.\n",
    "- Lässt man die Schritte weg, so wird \"1\" genommen, also jedes Element, ohne eines zu überspringen.\n",
    "\n",
    "Anbei ein paar Beispiele."
   ]
  },
  {
   "cell_type": "code",
   "execution_count": 6,
   "metadata": {},
   "outputs": [
    {
     "name": "stdout",
     "output_type": "stream",
     "text": [
      "['drei', 'vier', 'fünf']\n",
      "['eins', 'zwei', 'drei', 'vier']\n",
      "['eins', 'zwei', 'drei', 'vier']\n",
      "['vier', 'fünf', 'sechs']\n",
      "['vier', 'fünf', 'sechs', 'sieben']\n",
      "['eins', 'zwei', 'drei', 'vier', 'fünf', 'sechs', 'sieben']\n",
      "['eins', 'drei', 'fünf', 'sieben']\n",
      "['zwei', 'fünf']\n"
     ]
    }
   ],
   "source": [
    "items_2 = [\"eins\", \"zwei\", \"drei\", \"vier\", \"fünf\", \"sechs\", \"sieben\"]\n",
    "\n",
    "print(items_2[2:5])\n",
    "print(items_2[0:4])\n",
    "print(items_2[:4])\n",
    "print(items_2[3:-1])\n",
    "print(items_2[3:])\n",
    "print(items_2[:])\n",
    "print(items_2[::2])\n",
    "print(items_2[1:5:3])"
   ]
  },
  {
   "cell_type": "markdown",
   "metadata": {},
   "source": [
    "Listen in Python sind **extrem flexible** Datenstrukturen. Grundsätzlich kann man jede Art von Objekt auch in eine Liste packen (selbst wiederum Listen oder ganze Funktionen). Ausserdem ist es ein Leichtes, neue Objekte hinzuzufügen, Objekte an Ort und Stelle zu ändern, Onjekte zu löschen und auch die Elemente einer Liste zu sortieren.\n",
    "\n",
    "Halten Sie sich folgende Beispiele vor Augen."
   ]
  },
  {
   "cell_type": "code",
   "execution_count": 1,
   "metadata": {},
   "outputs": [],
   "source": [
    "multilist = [\"eins\", 1, sum, True]"
   ]
  },
  {
   "cell_type": "markdown",
   "metadata": {},
   "source": [
    "Können Sie sich folgenden Ausdruck erklären?"
   ]
  },
  {
   "cell_type": "code",
   "execution_count": 4,
   "metadata": {},
   "outputs": [
    {
     "data": {
      "text/plain": [
       "2"
      ]
     },
     "execution_count": 4,
     "metadata": {},
     "output_type": "execute_result"
    }
   ],
   "source": [
    "multilist[2]([multilist[1], multilist[-1]])"
   ]
  },
  {
   "cell_type": "markdown",
   "metadata": {},
   "source": [
    "Das dritte Element von Multilist ist die Funktion `sum()`. Über die runden Klammern geben wir ihr ein Argument mit, das ein *Iterable* ist. Eine Liste ist zum Beispiel solch ein Iterable, also eine Objekt, über das *iteriert* werden kann, über das man also Schritt für Schritt hinweg gehen kann und jedes Element nacheinander einzeln zurückbekommt. Wir bilden also eine Liste als Argument mit den eckigen Klammern und stecken die zwei Elemente `multilist[1]` (das zweite Element, die Zahl \"1\") und `multilist[-1]` (das letzte Element, der Wahrheitswert `True`) hinein. Da der Wahrheitswert `True` immer auch als Zahl \"1\" interpretiert wird (genauso wie `False` immer als \"0\") ergibt die Summe von \"1\" und \"1\" eben \"2\"."
   ]
  },
  {
   "cell_type": "markdown",
   "metadata": {},
   "source": [
    "Listenelemente kann man durch Zuweisung auch sehr leicht ersetzen."
   ]
  },
  {
   "cell_type": "code",
   "execution_count": 7,
   "metadata": {},
   "outputs": [
    {
     "data": {
      "text/plain": [
       "['eins', 'zwei', 'neues Element', 'vier', 'fünf', 'sechs', 'sieben']"
      ]
     },
     "execution_count": 7,
     "metadata": {},
     "output_type": "execute_result"
    }
   ],
   "source": [
    "items_2[2] = \"neues Element\"\n",
    "\n",
    "items_2"
   ]
  },
  {
   "cell_type": "code",
   "execution_count": 8,
   "metadata": {},
   "outputs": [
    {
     "data": {
      "text/plain": [
       "['eins', 'zwei', 'neues Element', 'vier', 'neu', 'neu', 'neu']"
      ]
     },
     "execution_count": 8,
     "metadata": {},
     "output_type": "execute_result"
    }
   ],
   "source": [
    "items_2[4:] = [\"neu\"] * 3\n",
    "\n",
    "items_2"
   ]
  },
  {
   "cell_type": "markdown",
   "metadata": {},
   "source": [
    "#### Wichtige Listen Methoden"
   ]
  },
  {
   "cell_type": "markdown",
   "metadata": {},
   "source": [
    "Anhängen lassen sich neue Elemente mit der Methode `append()`."
   ]
  },
  {
   "cell_type": "code",
   "execution_count": 9,
   "metadata": {},
   "outputs": [
    {
     "data": {
      "text/plain": [
       "['eins',\n",
       " 'zwei',\n",
       " 'neues Element',\n",
       " 'vier',\n",
       " 'neu',\n",
       " 'neu',\n",
       " 'neu',\n",
       " 'wurde gerade angehängt']"
      ]
     },
     "execution_count": 9,
     "metadata": {},
     "output_type": "execute_result"
    }
   ],
   "source": [
    "items_2.append(\"wurde gerade angehängt\")\n",
    "\n",
    "items_2"
   ]
  },
  {
   "cell_type": "markdown",
   "metadata": {},
   "source": [
    "Besteht eine Liste ausschließlich aus Elemente, die sich untereinander nach Größe vergleichen lassen, so kann man diese Liste auch sortieren. Dazu können die Funktion `sorted()` und die Methode `.sort()` benutzt werden.\n",
    "\n",
    "Den Unterschied beider Funktionen sollte dieser Code klar machen:"
   ]
  },
  {
   "cell_type": "code",
   "execution_count": 22,
   "metadata": {},
   "outputs": [
    {
     "name": "stdout",
     "output_type": "stream",
     "text": [
      "[1, 2, 3, 4, 7, 8]\n",
      "[3, 7, 2, 8, 1, 4]\n",
      "[1, 2, 3, 4, 7, 8]\n"
     ]
    }
   ],
   "source": [
    "ls = [3, 7, 2, 8, 1, 4]\n",
    "\n",
    "print(sorted(ls))\n",
    "\n",
    "print(ls)\n",
    "\n",
    "ls.sort()\n",
    "\n",
    "print(ls)"
   ]
  },
  {
   "cell_type": "markdown",
   "metadata": {},
   "source": [
    "Die Länge, also die Anzahl der Elemente einer Liste bekommt man über die Funktion `len()`."
   ]
  },
  {
   "cell_type": "code",
   "execution_count": 23,
   "metadata": {},
   "outputs": [
    {
     "data": {
      "text/plain": [
       "6"
      ]
     },
     "execution_count": 23,
     "metadata": {},
     "output_type": "execute_result"
    }
   ],
   "source": [
    "len(ls)"
   ]
  },
  {
   "cell_type": "markdown",
   "metadata": {},
   "source": [
    "#### Mehrere Dimensionen"
   ]
  },
  {
   "cell_type": "markdown",
   "metadata": {},
   "source": [
    "Wenn man aber sämtliche Python Objekte in eine Liste packen kann, so kann man auch Listen selbst wieder in Listen packen. Wenn wir Listen miteinander verschachteln, so erreichen wir höhere Dimensionen."
   ]
  },
  {
   "cell_type": "code",
   "execution_count": 18,
   "metadata": {},
   "outputs": [
    {
     "data": {
      "text/plain": [
       "[['00', '01', '02', '03'], ['10', '11', '12', '13'], ['20', '21', '22', '23']]"
      ]
     },
     "execution_count": 18,
     "metadata": {},
     "output_type": "execute_result"
    }
   ],
   "source": [
    "listen = [\n",
    "    [\"00\", \"01\", \"02\", \"03\"],\n",
    "    [\"10\", \"11\", \"12\", \"13\"],\n",
    "    [\"20\", \"21\", \"22\", \"23\"]\n",
    "]\n",
    "\n",
    "listen"
   ]
  },
  {
   "cell_type": "markdown",
   "metadata": {},
   "source": [
    "Beim Zugriff auf diese verschachtelten Listen müssen Sie pro Dimension eine Eckige Klammer eingeben. Schauen wir uns das kurz an einem Beispiel an:"
   ]
  },
  {
   "cell_type": "code",
   "execution_count": 19,
   "metadata": {},
   "outputs": [
    {
     "name": "stdout",
     "output_type": "stream",
     "text": [
      "01\n",
      "13\n",
      "20\n"
     ]
    }
   ],
   "source": [
    "print(listen[0][1])\n",
    "print(listen[1][3])\n",
    "print(listen[2][0])"
   ]
  },
  {
   "cell_type": "markdown",
   "metadata": {},
   "source": [
    "```\n",
    "      liste[0][1]\n",
    "            |  |\n",
    "            |  |\n",
    "            |  |\n",
    "           /    \\\n",
    "          /      \\\n",
    "         /        \\\n",
    "Index Liste =     Index Element =\n",
    "= Index Zeile     = Index Spalte\n",
    "```"
   ]
  },
  {
   "cell_type": "markdown",
   "metadata": {},
   "source": [
    "Das ganze können wir jetzt natürlich noch weiter treiben. Wir könnten Listen von Listen wieder in einer Liste zusammenfassen, was dann ein dreidimensionales Objekt ergeben würde.\n",
    "\n",
    "Hier wieder ein hoffentlich verständlicheres Beispiel:"
   ]
  },
  {
   "cell_type": "code",
   "execution_count": 20,
   "metadata": {},
   "outputs": [
    {
     "name": "stdout",
     "output_type": "stream",
     "text": [
      "101\n",
      "013\n",
      "220\n"
     ]
    }
   ],
   "source": [
    "listen = [\n",
    "    [[\"000\", \"001\", \"002\", \"003\"],\n",
    "     [\"010\", \"011\", \"012\", \"013\"],\n",
    "     [\"020\", \"021\", \"022\", \"023\"]],\n",
    "    [[\"100\", \"101\", \"102\", \"103\"],\n",
    "     [\"110\", \"111\", \"112\", \"113\"],\n",
    "     [\"120\", \"121\", \"122\", \"123\"]],\n",
    "    [[\"200\", \"201\", \"202\", \"203\"],\n",
    "     [\"210\", \"211\", \"212\", \"213\"],\n",
    "     [\"220\", \"221\", \"222\", \"223\"]],\n",
    "]\n",
    "print(listen[1][0][1])\n",
    "print(listen[0][1][3])\n",
    "print(listen[2][2][0])"
   ]
  },
  {
   "cell_type": "markdown",
   "metadata": {},
   "source": [
    "Sie können auch einfach an einen Zauberwürfel, bzw. Rubic’s Cube denken:\n",
    "\n",
    "Die einzelnen Schichten sind Gruppen von Listen (oder im Fall der Studie, die einzelnen Messzeitpunkte). Die einzelnen Zeilen sind die Listen von Elementen (in der Studie die gesammelten Codes eines Items). Die Spalten sind die einzelnen Elemente (bzw. in der Studie die Einzelcodes der Teilnehmer*innen).\n",
    "\n",
    "![Zauberwürfel](img/rubics_cube.png)"
   ]
  },
  {
   "cell_type": "markdown",
   "metadata": {},
   "source": [
    "Wenn Sie mathematisch denken, so ist eine Liste nur mit Elementen ein Vektor (oder eindimensionale Matrix), eine Liste mit weiteren Listen eine zweidimensionale Matrix, eine Liste mit ein oder mehreren zweidimensionalen Matrizen eine dreidimensionale Matrix und so weiter."
   ]
  },
  {
   "cell_type": "markdown",
   "metadata": {},
   "source": [
    "### Tupel"
   ]
  },
  {
   "cell_type": "markdown",
   "metadata": {},
   "source": [
    "Um es kurz zu machen: Tupel sind iterierbare Datenstrukturen wie Listen, nur dass sie nicht veränderlich sind (immutable). D.h. dass die Elemente nicht durch einen Zuweisungsoperator ersetzt werden können.\n",
    "\n",
    "Die Syntax verwendet runde Klammern statt eckigen: `(element, element, ...)`\n",
    "\n",
    "Ansonsten können Sie auf die Elemente eines Tupels genauso zugreifen, wie auf Listenelemente."
   ]
  },
  {
   "cell_type": "code",
   "execution_count": 21,
   "metadata": {},
   "outputs": [],
   "source": [
    "tupel = (2, \"vier\", 6, False, [3, 7, 9])"
   ]
  },
  {
   "cell_type": "code",
   "execution_count": 25,
   "metadata": {},
   "outputs": [
    {
     "name": "stdout",
     "output_type": "stream",
     "text": [
      "[3, 7, 9]\n",
      "('vier', False)\n",
      "5\n",
      "3\n"
     ]
    }
   ],
   "source": [
    "print(tupel[-1])\n",
    "print(tupel[1::2])\n",
    "print(len(tupel))\n",
    "print(len(tupel[-1]))"
   ]
  },
  {
   "cell_type": "code",
   "execution_count": null,
   "metadata": {},
   "outputs": [],
   "source": []
  },
  {
   "cell_type": "markdown",
   "metadata": {},
   "source": [
    "### Dictionaries"
   ]
  },
  {
   "cell_type": "markdown",
   "metadata": {},
   "source": [
    "## Kontrollstrukturen"
   ]
  },
  {
   "cell_type": "markdown",
   "metadata": {},
   "source": [
    "### Verzweigungen (if ... else ...)"
   ]
  },
  {
   "cell_type": "markdown",
   "metadata": {},
   "source": [
    "### Schleifen (while und for)"
   ]
  },
  {
   "cell_type": "markdown",
   "metadata": {},
   "source": [
    "### Beispiel: die Elchpopulation\n",
    "\n",
    "Ich möchte mit einem kleinen Rätsel, das Ihnen z.B. als statistisch arbeitende Biolog*in unterkommen könnte, weitere basale Python Konzepte erklären.\n",
    "\n",
    "Stellen Sie sich vor, Sie arbeiten an der Erforschung einer Elchpopulation in den nördlichen Regionen Schwedens. Um die einzelnen Tiere zu tracken, sollen Ihnen kleine Sender schmerzfrei implantiert werden. Sie schätzen die Population auf 1.000 Tiere. Aus dieser Population werden 50 Tiere völlig zufällig eingefangen, gechipped und wieder freigelassen. Nach ca. einem halben Jahr werden wieder 50 Tiere völlig zufällig eingefangen. Wie hoch ist die Wahrscheinlichkeit, dass genau $k$ Tiere beim zweiten Mal dabei sind, die schon gechipped waren?\n",
    "\n",
    "Sie kramen kurz in Ihrem Gedächtnis, was Sie über Kombinatorik in Ihrer Vorlesung Wahrscheinlichkeitstheorie gelernt hatten und folgern, dass folgende Formel korrekt sein müsste: $$\\frac{\\binom{n}{k}\\cdot\\binom{N-n}{m-k}}{\\binom{N}{m}},$$ mit $k\\le n$ und $m-k \\le N-n$, wobei $N$, die Populationsgröße, $n$ die Anzahl der zuerst gechippten Elche und $m$ die Anzahl der erneut eingefangen ist. Diese Funktion nennt man auch eine [**hypergeometrische Verteilung**](https://de.wikipedia.org/wiki/Hypergeometrische_Verteilung).\n",
    "\n",
    "Machen wir uns noch kurz klar, wie diese vielen *Binomialkoeffizienten* in der Formel berechnet werden können. Hinter $\\binom{n}{k}$, sprich \"aus $n$ wähle $k$\", oder \"$n$ über $k$\" steckt folgende Formel: $\\frac{n!}{k!\\cdot (n-k)!}$, wobei $n!$ (sprich: \"$n$ Fakultät\") gleich $n \\cdot (n-1) \\cdot (n - 2) \\cdot \\dots \\cdot(n - (n - 1))$.\n",
    "\n",
    "Mit diesem Wissen können wir nun ein kleines Pythonprogramm schreiben, das uns $k$ berechnet."
   ]
  },
  {
   "cell_type": "markdown",
   "metadata": {},
   "source": [
    "### Funktion für die Berechnung der Fakultät erstellen\n",
    "\n",
    "Zuerst brauchen wir eine Funktion, mit der wir die Fakultät ausrechnen können. Funktionen in Python werden mit dem *Keyword* `def` eingeleitet, gefolgt von einem *Namen* für die Funktion, sowie einer Liste mit optionalen Parametern in runden Klammern, die wir der Funktion übergeben wollen, gefolgt von einem Doppelpunkt, der den *Funktionskörper* einleitet."
   ]
  },
  {
   "cell_type": "code",
   "execution_count": null,
   "metadata": {
    "collapsed": false,
    "jupyter": {
     "outputs_hidden": false
    },
    "pycharm": {
     "name": "#%%\n"
    }
   },
   "outputs": [],
   "source": [
    "# eine Beispielfunktion\n",
    "\n",
    "def beispiel(n, m):\n",
    "    pass"
   ]
  },
  {
   "cell_type": "markdown",
   "metadata": {},
   "source": [
    "# Module"
   ]
  }
 ],
 "metadata": {
  "kernelspec": {
   "display_name": "Python 3 (ipykernel)",
   "language": "python",
   "name": "python3"
  },
  "language_info": {
   "codemirror_mode": {
    "name": "ipython",
    "version": 3
   },
   "file_extension": ".py",
   "mimetype": "text/x-python",
   "name": "python",
   "nbconvert_exporter": "python",
   "pygments_lexer": "ipython3",
   "version": "3.9.12"
  },
  "toc": {
   "base_numbering": 1,
   "nav_menu": {},
   "number_sections": true,
   "sideBar": true,
   "skip_h1_title": false,
   "title_cell": "Table of Contents",
   "title_sidebar": "Contents",
   "toc_cell": false,
   "toc_position": {
    "height": "calc(100% - 180px)",
    "left": "10px",
    "top": "150px",
    "width": "251.719px"
   },
   "toc_section_display": true,
   "toc_window_display": true
  }
 },
 "nbformat": 4,
 "nbformat_minor": 4
}
