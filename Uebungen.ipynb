{
 "cells": [
  {
   "cell_type": "markdown",
   "id": "d7b1a7fb",
   "metadata": {},
   "source": [
    "# Numpy"
   ]
  },
  {
   "cell_type": "markdown",
   "id": "6f4a2fd5",
   "metadata": {},
   "source": [
    "## Arrays einlesen"
   ]
  },
  {
   "cell_type": "markdown",
   "id": "82161f23",
   "metadata": {},
   "source": [
    "Bilder werden in der Informationstechnologie meistens als einzelne Pixel gespeichert, denen drei Werte zwischen 0 und 255 für Rot, Grün und Blau zugeordnet werden. Je nachdem, wie kräftig ein Wert ist und wie sich diese pro Pixel \"mischen\", bzw. \"überlappen\", wird ein Farbton pro Pixel generiert. Dieses Verfahren kann man sich auch als dreidimensionalen Tensor vorstellen, dessen einzelne Schichten Rot, Grün und Blau sind. Die Anzahl der Zeilen ist die Höhe des Bildes in Pixel, die Anzahl der Spalten ist die Breite des Bildes in Pixel.\n",
    "\n",
    "![Pixel_RGB_Tensor](img/rgb_array.png)\n",
    "\n",
    "Im Ordner `img/` liegt die Datei `img_array.npy`. Lesen Sie diese Datei ein und speichern das ganze in der Variablen `img_array`. Der Code zum Plotten dieses Arrays steht für Sie bereit. Wenn Sie die Datei korrekt eingelesen haben, so sollten Sie ein Bild sehen. Was zeigt es?"
   ]
  },
  {
   "cell_type": "code",
   "execution_count": null,
   "id": "bde39137",
   "metadata": {},
   "outputs": [],
   "source": [
    "import matplotlib.pyplot as plt\n",
    "\n",
    "# Ihr Code zum Öffnen der Datei und laden in die Variable img_array\n",
    "# ...\n",
    "\n",
    "plt.imshow(img_array)\n",
    "plt.show()"
   ]
  },
  {
   "cell_type": "markdown",
   "id": "031355cf",
   "metadata": {},
   "source": [
    "Ändern Sie in der Rotschicht den Wert der Pixel, wenn er über 220 liegt zu 0, ansonsten übernehmen Sie den bisherigen Wert. Speichern Sie diese neue Schicht in der Variablen `changed_red`. Extrahieren Sie die grüne und die blaue Schicht jeweils in die Variablen `origin_green` und `origin_blue`. Fügen Sie dann alle drei Schichten wieder zu einem dreidimensionalen Tensor zusammen und speichern diesen in der Variablen `changed_img`. Wie hat sich das Bild nun verändert?"
   ]
  },
  {
   "cell_type": "code",
   "execution_count": null,
   "id": "db622714",
   "metadata": {},
   "outputs": [],
   "source": [
    "changed_red = # Ihr Code\n",
    "\n",
    "origin_green = # Ihr Code\n",
    "\n",
    "origin_blue = # Ihr Code\n",
    "\n",
    "# Wie sehen die Shapes aus? Überlegen Sie. Müssen Sie hier noch etwas anpassen?\n",
    "\n",
    "changed_img = # Ihr Code\n",
    "\n",
    "plt.imshow(changed_img)\n",
    "plt.show()"
   ]
  },
  {
   "cell_type": "markdown",
   "id": "4de798a6",
   "metadata": {},
   "source": [
    "Speichern Sie nun das neue Bild als Numpy Array in der Datei `img/new_img_array.npy` ab."
   ]
  },
  {
   "cell_type": "code",
   "execution_count": null,
   "id": "fc2a784c",
   "metadata": {},
   "outputs": [],
   "source": [
    "# Ihr Code hier\n",
    "# ..."
   ]
  }
 ],
 "metadata": {
  "kernelspec": {
   "display_name": "Python 3 (ipykernel)",
   "language": "python",
   "name": "python3"
  },
  "language_info": {
   "codemirror_mode": {
    "name": "ipython",
    "version": 3
   },
   "file_extension": ".py",
   "mimetype": "text/x-python",
   "name": "python",
   "nbconvert_exporter": "python",
   "pygments_lexer": "ipython3",
   "version": "3.9.12"
  },
  "toc": {
   "base_numbering": 1,
   "nav_menu": {},
   "number_sections": true,
   "sideBar": true,
   "skip_h1_title": false,
   "title_cell": "Table of Contents",
   "title_sidebar": "Contents",
   "toc_cell": false,
   "toc_position": {},
   "toc_section_display": true,
   "toc_window_display": false
  }
 },
 "nbformat": 4,
 "nbformat_minor": 5
}
