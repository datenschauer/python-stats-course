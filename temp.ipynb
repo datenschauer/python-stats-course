{
 "cells": [
  {
   "cell_type": "code",
   "execution_count": 63,
   "id": "bea772d8",
   "metadata": {},
   "outputs": [],
   "source": [
    "import numpy as np\n",
    "import matplotlib.pyplot as plt\n",
    "import pandas as pd\n",
    "from scipy import stats\n",
    "\n",
    "# unterdrücke die Anzeige exponantieller Schreibweise\n",
    "np.set_printoptions(suppress=True)"
   ]
  },
  {
   "cell_type": "markdown",
   "id": "8e364500",
   "metadata": {},
   "source": [
    "# Baseball"
   ]
  },
  {
   "cell_type": "code",
   "execution_count": 2,
   "id": "5c261075",
   "metadata": {},
   "outputs": [],
   "source": [
    "df = pd.read_csv(\"data/Batting.csv\")"
   ]
  },
  {
   "cell_type": "code",
   "execution_count": 3,
   "id": "5d446542",
   "metadata": {},
   "outputs": [
    {
     "data": {
      "text/plain": [
       "Index(['playerID', 'yearID', 'stint', 'teamID', 'lgID', 'G', 'AB', 'R', 'H',\n",
       "       '2B', '3B', 'HR', 'RBI', 'SB', 'CS', 'BB', 'SO', 'IBB', 'HBP', 'SH',\n",
       "       'SF', 'GIDP'],\n",
       "      dtype='object')"
      ]
     },
     "execution_count": 3,
     "metadata": {},
     "output_type": "execute_result"
    }
   ],
   "source": [
    "df.columns"
   ]
  },
  {
   "cell_type": "code",
   "execution_count": 4,
   "id": "ec6c15fd",
   "metadata": {},
   "outputs": [],
   "source": [
    "batting_year_2021 = df[df.yearID == 2021][[\"G\", \"AB\", \"H\", \"2B\", \"3B\", \"HR\"]]"
   ]
  },
  {
   "cell_type": "code",
   "execution_count": 5,
   "id": "35192616",
   "metadata": {},
   "outputs": [
    {
     "data": {
      "text/html": [
       "<div>\n",
       "<style scoped>\n",
       "    .dataframe tbody tr th:only-of-type {\n",
       "        vertical-align: middle;\n",
       "    }\n",
       "\n",
       "    .dataframe tbody tr th {\n",
       "        vertical-align: top;\n",
       "    }\n",
       "\n",
       "    .dataframe thead th {\n",
       "        text-align: right;\n",
       "    }\n",
       "</style>\n",
       "<table border=\"1\" class=\"dataframe\">\n",
       "  <thead>\n",
       "    <tr style=\"text-align: right;\">\n",
       "      <th></th>\n",
       "      <th>G</th>\n",
       "      <th>AB</th>\n",
       "      <th>H</th>\n",
       "      <th>2B</th>\n",
       "      <th>3B</th>\n",
       "      <th>HR</th>\n",
       "    </tr>\n",
       "  </thead>\n",
       "  <tbody>\n",
       "    <tr>\n",
       "      <th>108789</th>\n",
       "      <td>16</td>\n",
       "      <td>0</td>\n",
       "      <td>0</td>\n",
       "      <td>0</td>\n",
       "      <td>0</td>\n",
       "      <td>0</td>\n",
       "    </tr>\n",
       "    <tr>\n",
       "      <th>108790</th>\n",
       "      <td>8</td>\n",
       "      <td>3</td>\n",
       "      <td>1</td>\n",
       "      <td>0</td>\n",
       "      <td>0</td>\n",
       "      <td>0</td>\n",
       "    </tr>\n",
       "    <tr>\n",
       "      <th>108791</th>\n",
       "      <td>28</td>\n",
       "      <td>0</td>\n",
       "      <td>0</td>\n",
       "      <td>0</td>\n",
       "      <td>0</td>\n",
       "      <td>0</td>\n",
       "    </tr>\n",
       "    <tr>\n",
       "      <th>108792</th>\n",
       "      <td>31</td>\n",
       "      <td>0</td>\n",
       "      <td>0</td>\n",
       "      <td>0</td>\n",
       "      <td>0</td>\n",
       "      <td>0</td>\n",
       "    </tr>\n",
       "    <tr>\n",
       "      <th>108793</th>\n",
       "      <td>152</td>\n",
       "      <td>566</td>\n",
       "      <td>148</td>\n",
       "      <td>30</td>\n",
       "      <td>2</td>\n",
       "      <td>30</td>\n",
       "    </tr>\n",
       "  </tbody>\n",
       "</table>\n",
       "</div>"
      ],
      "text/plain": [
       "          G   AB    H  2B  3B  HR\n",
       "108789   16    0    0   0   0   0\n",
       "108790    8    3    1   0   0   0\n",
       "108791   28    0    0   0   0   0\n",
       "108792   31    0    0   0   0   0\n",
       "108793  152  566  148  30   2  30"
      ]
     },
     "execution_count": 5,
     "metadata": {},
     "output_type": "execute_result"
    }
   ],
   "source": [
    "batting_year_2021.head()"
   ]
  },
  {
   "cell_type": "code",
   "execution_count": 6,
   "id": "adcd94d8",
   "metadata": {},
   "outputs": [
    {
     "data": {
      "text/plain": [
       "(1706, 6)"
      ]
     },
     "execution_count": 6,
     "metadata": {},
     "output_type": "execute_result"
    }
   ],
   "source": [
    "batting_year_2021_np = np.array(batting_year_2021)\n",
    "\n",
    "batting_year_2021_np.shape"
   ]
  },
  {
   "cell_type": "code",
   "execution_count": 7,
   "id": "01861988",
   "metadata": {},
   "outputs": [],
   "source": [
    "np.savetxt(\"data/batting_hits_2021.txt\", batting_year_2021_np)"
   ]
  },
  {
   "cell_type": "code",
   "execution_count": 8,
   "id": "38c41a03",
   "metadata": {},
   "outputs": [],
   "source": [
    "batting = np.genfromtxt(\"data/batting_hits_2021.txt\", dtype=\"int32\")"
   ]
  },
  {
   "cell_type": "code",
   "execution_count": 9,
   "id": "1158db5f",
   "metadata": {},
   "outputs": [
    {
     "data": {
      "text/plain": [
       "(1706, 6)"
      ]
     },
     "execution_count": 9,
     "metadata": {},
     "output_type": "execute_result"
    }
   ],
   "source": [
    "batting.shape"
   ]
  },
  {
   "cell_type": "code",
   "execution_count": 10,
   "id": "98e05a4b",
   "metadata": {},
   "outputs": [
    {
     "data": {
      "text/plain": [
       "53962"
      ]
     },
     "execution_count": 10,
     "metadata": {},
     "output_type": "execute_result"
    }
   ],
   "source": [
    "# Games, AtBats, Basehit, 2nd, 3rd, HR\n",
    "\n",
    "# Wie viele Hits gab es im Jahr 2021 insgesamt?\n",
    "# Wir summieren also über die Spalten mit Index 2 bis Ende\n",
    "\n",
    "np.sum(batting[:, 2:])"
   ]
  },
  {
   "cell_type": "code",
   "execution_count": 11,
   "id": "ea9b3e0a",
   "metadata": {},
   "outputs": [
    {
     "data": {
      "text/plain": [
       "53962"
      ]
     },
     "execution_count": 11,
     "metadata": {},
     "output_type": "execute_result"
    }
   ],
   "source": [
    "# dies ist der äquivalente Aufruf der Methode .sum()\n",
    "\n",
    "batting[:, 2:].sum() # jemand mit einem \"funktionalen\" Mindset würde aber obigen Stil präferieren"
   ]
  },
  {
   "cell_type": "code",
   "execution_count": 12,
   "id": "ae7faf59",
   "metadata": {},
   "outputs": [
    {
     "data": {
      "text/plain": [
       "7.90767878077374"
      ]
     },
     "execution_count": 12,
     "metadata": {},
     "output_type": "execute_result"
    }
   ],
   "source": [
    "# Wie viele Hits hatte ein Spieler in der Saison 2021 durchschnittlich?\n",
    "\n",
    "np.mean(batting[:, 2:])"
   ]
  },
  {
   "cell_type": "code",
   "execution_count": 13,
   "id": "f634b232",
   "metadata": {},
   "outputs": [
    {
     "data": {
      "text/plain": [
       "23.314267645684566"
      ]
     },
     "execution_count": 13,
     "metadata": {},
     "output_type": "execute_result"
    }
   ],
   "source": [
    "# Das scheinen sehr wenige Hits für eine ganze Saison zu sein.\n",
    "# Was sagt uns die Standardabweichung?\n",
    "\n",
    "np.std(batting[:, 2:])"
   ]
  },
  {
   "cell_type": "code",
   "execution_count": 14,
   "id": "bfb06d61",
   "metadata": {},
   "outputs": [
    {
     "data": {
      "text/plain": [
       "0.0"
      ]
     },
     "execution_count": 14,
     "metadata": {},
     "output_type": "execute_result"
    }
   ],
   "source": [
    "# Besser ist wohl, wir sehen uns erst einmal den stabileren Median an\n",
    "\n",
    "np.median(batting[:, 2:])"
   ]
  },
  {
   "cell_type": "code",
   "execution_count": 15,
   "id": "e49f6801",
   "metadata": {},
   "outputs": [
    {
     "name": "stdout",
     "output_type": "stream",
     "text": [
      "[[  8   3   1   0   0   0]\n",
      " [152 566 148  30   2  30]\n",
      " [ 82 297  84  19   1  24]\n",
      " [ 41 132  26   6   1   5]\n",
      " [ 99 365 104  26   0  20]\n",
      " [ 22  36   6   1   0   0]\n",
      " [ 12  28   3   2   0   0]\n",
      " [ 35  71  19   6   1   2]\n",
      " [ 35 130  32   5   2   4]\n",
      " [109 182  45   9   2   5]]\n",
      "(857, 6)\n"
     ]
    }
   ],
   "source": [
    "# Ohje! Ein deutliches Zeichen, dass wir die Personen aussortieren sollten, die gar keine Hits geschlagen haben.\n",
    "\n",
    "batting_cleaned = batting[np.apply_along_axis(lambda x: np.any(x), 1, batting[:, 2:])]\n",
    "\n",
    "print(batting_cleaned[:10, :]) # Anzeige der ersten 10 Einträge\n",
    "\n",
    "print(batting_cleaned.shape)"
   ]
  },
  {
   "cell_type": "code",
   "execution_count": 16,
   "id": "aae093c6",
   "metadata": {},
   "outputs": [
    {
     "name": "stdout",
     "output_type": "stream",
     "text": [
      "15.741540256709452\n",
      "3.0\n",
      "30.963189104826743\n"
     ]
    }
   ],
   "source": [
    "# Das sieht schon besser aus!\n",
    "# Schauen wir uns also noch einmal sum, mean, median und standard deviation an\n",
    "print(np.mean(batting_cleaned[:, 2:]))\n",
    "\n",
    "print(np.median(batting_cleaned[:, 2:]))\n",
    "\n",
    "print(np.std(batting_cleaned[:, 2:]))"
   ]
  },
  {
   "cell_type": "code",
   "execution_count": 17,
   "id": "2165db96",
   "metadata": {},
   "outputs": [
    {
     "name": "stdout",
     "output_type": "stream",
     "text": [
      "(857,)\n"
     ]
    },
    {
     "data": {
      "image/png": "[encoded data removed]",
      "text/plain": [
       "<Figure size 640x480 with 1 Axes>"
      ]
     },
     "metadata": {},
     "output_type": "display_data"
    }
   ],
   "source": [
    "# schauen wir uns doch mal in einem Histogramm an, wie sich die Summen verteilen\n",
    "\n",
    "sum_hits = np.apply_along_axis(lambda x: np.sum(x), 1, batting_cleaned[:, 2:])\n",
    "\n",
    "print(sum_hits.shape)\n",
    "\n",
    "plt.hist(sum_hits, bins=20)\n",
    "plt.show()"
   ]
  },
  {
   "cell_type": "code",
   "execution_count": 18,
   "id": "7abddb93",
   "metadata": {},
   "outputs": [
    {
     "name": "stdout",
     "output_type": "stream",
     "text": [
      "{1: 81, 2: 48, 3: 31, 4: 28, 5: 23, 6: 17, 7: 15, 8: 14, 9: 13, 10: 9, 11: 7, 12: 8, 13: 14, 14: 2, 15: 9, 16: 7, 17: 3, 18: 10, 19: 7, 20: 5, 21: 6, 22: 5, 23: 2, 24: 6, 25: 3, 26: 4, 27: 3, 28: 5, 29: 7, 30: 4, 31: 4, 32: 7, 33: 2, 34: 1, 35: 6, 36: 7, 37: 1, 38: 4, 39: 6, 40: 6, 41: 6, 42: 4, 43: 8, 44: 2, 45: 2, 46: 3, 47: 2, 48: 5, 49: 2, 50: 6, 51: 3, 52: 4, 53: 3, 54: 1, 55: 6, 56: 6, 57: 3, 58: 3, 59: 7, 61: 7, 62: 1, 63: 2, 64: 3, 65: 4, 66: 2, 67: 2, 68: 7, 69: 3, 70: 2, 71: 4, 73: 6, 74: 5, 75: 4, 76: 2, 77: 5, 78: 3, 79: 1, 80: 3, 81: 4, 82: 3, 83: 3, 84: 5, 85: 3, 86: 3, 87: 4, 88: 2, 89: 2, 90: 3, 91: 2, 92: 3, 93: 1, 94: 4, 95: 3, 96: 4, 97: 3, 98: 2, 99: 2, 100: 3, 101: 5, 102: 1, 103: 3, 104: 2, 105: 1, 106: 1, 107: 2, 108: 1, 109: 1, 110: 2, 111: 3, 112: 2, 113: 2, 114: 2, 115: 1, 116: 4, 117: 1, 118: 1, 119: 3, 120: 4, 121: 5, 123: 4, 124: 2, 125: 2, 126: 1, 128: 2, 129: 2, 130: 1, 131: 1, 132: 1, 134: 3, 135: 2, 136: 1, 137: 1, 138: 1, 139: 1, 140: 2, 141: 1, 142: 3, 143: 1, 144: 1, 146: 1, 147: 3, 148: 1, 149: 2, 150: 3, 151: 5, 152: 3, 153: 2, 154: 3, 155: 1, 156: 4, 157: 1, 158: 1, 159: 3, 161: 3, 162: 1, 163: 3, 165: 1, 167: 2, 168: 2, 169: 1, 171: 3, 172: 1, 173: 1, 174: 1, 175: 1, 177: 2, 178: 3, 179: 1, 180: 1, 181: 1, 182: 3, 185: 2, 186: 2, 188: 1, 189: 1, 190: 1, 192: 2, 193: 4, 195: 2, 196: 1, 197: 4, 199: 1, 200: 4, 201: 1, 202: 1, 204: 1, 208: 4, 210: 1, 211: 2, 212: 2, 214: 2, 215: 2, 216: 1, 217: 1, 218: 3, 219: 1, 220: 1, 221: 2, 222: 1, 223: 1, 224: 1, 226: 1, 227: 1, 228: 1, 229: 1, 231: 1, 236: 2, 237: 1, 238: 1, 239: 1, 240: 1, 241: 2, 246: 2, 247: 1, 251: 1, 259: 1, 266: 1}\n"
     ]
    }
   ],
   "source": [
    "# wie sieht es noch aus, wenn wir die Spieler herausnehmen, die weniger als 6 Hits hatten\n",
    "\n",
    "hits, counts = np.unique(sum_hits, return_counts=True)\n",
    "\n",
    "print(dict(zip(hits, counts)))"
   ]
  },
  {
   "cell_type": "code",
   "execution_count": 19,
   "id": "198ef420",
   "metadata": {},
   "outputs": [
    {
     "name": "stdout",
     "output_type": "stream",
     "text": [
      "(578,)\n"
     ]
    },
    {
     "data": {
      "image/png": "[encoded data removed]",
      "text/plain": [
       "<Figure size 640x480 with 1 Axes>"
      ]
     },
     "metadata": {},
     "output_type": "display_data"
    }
   ],
   "source": [
    "# wie sieht es noch aus, wenn wir die Spieler herausnehmen, die weniger als 11 Hits hatten\n",
    "\n",
    "sum_hits_over_10 = sum_hits[np.apply_along_axis(lambda x: x > 10, 0, sum_hits)]\n",
    "\n",
    "print(sum_hits_over_10.shape)\n",
    "\n",
    "plt.hist(sum_hits_over_10, bins=20)\n",
    "plt.show()"
   ]
  },
  {
   "cell_type": "code",
   "execution_count": 20,
   "id": "d105b6c6",
   "metadata": {},
   "outputs": [
    {
     "data": {
      "text/plain": [
       "array([[  8,   3,   1],\n",
       "       [152, 566, 210],\n",
       "       [ 82, 297, 128],\n",
       "       ...,\n",
       "       [ 99, 299,  86],\n",
       "       [110, 255,  92],\n",
       "       [109, 333, 118]])"
      ]
     },
     "execution_count": 20,
     "metadata": {},
     "output_type": "execute_result"
    }
   ],
   "source": [
    "# aber vielleicht resultieren die wenigen Hits pro Saison auch einfach an der Tatsache, dass viele Spieler,\n",
    "# die gelistet wurden, gar nicht die ganze Saison spielten.\n",
    "# In welcher Korrelation steht eigentlich die Anzahl Spiele, bzw. Anzahl At-Bats im Verhältnis\n",
    "# zu den geschlagenen Hits?\n",
    "\n",
    "# wir holen uns die Spalten Games und At-Bats...\n",
    "games_atbats = batting_cleaned[:, :2]\n",
    "\n",
    "# ... richten den Shape von sum_hits ...\n",
    "sum_hits.shape = (857, 1)\n",
    "\n",
    "# ... und fügen beide an der 1. Achse zusammen.\n",
    "g_ab_hits = np.concatenate((games_atbats, sum_hits), axis=1)\n",
    "\n",
    "g_ab_hits"
   ]
  },
  {
   "cell_type": "code",
   "execution_count": 21,
   "id": "d90db0b6",
   "metadata": {},
   "outputs": [
    {
     "data": {
      "image/png": "[encoded data removed]",
      "text/plain": [
       "<Figure size 640x480 with 1 Axes>"
      ]
     },
     "metadata": {},
     "output_type": "display_data"
    }
   ],
   "source": [
    "# Wie ist die Korrelation zwischen Games und Hits?\n",
    "\n",
    "plt.scatter(g_ab_hits[:, 0], g_ab_hits[:, 2])\n",
    "plt.show()"
   ]
  },
  {
   "cell_type": "code",
   "execution_count": 22,
   "id": "9dad15be",
   "metadata": {},
   "outputs": [
    {
     "data": {
      "image/png": "[encoded data removed]",
      "text/plain": [
       "<Figure size 640x480 with 1 Axes>"
      ]
     },
     "metadata": {},
     "output_type": "display_data"
    }
   ],
   "source": [
    "# Das sieht schon mal sehr eindeutig aus!\n",
    "# Und wie ist dann die Korrelation zwischen At-Bats und Hits?\n",
    "\n",
    "plt.scatter(g_ab_hits[:, 1], g_ab_hits[:, 2])\n",
    "plt.show()"
   ]
  },
  {
   "cell_type": "code",
   "execution_count": 23,
   "id": "c94970b4",
   "metadata": {},
   "outputs": [
    {
     "name": "stdout",
     "output_type": "stream",
     "text": [
      "Mean Games: 62.4924154025671\n",
      "Median Games: 49.0\n",
      "\n",
      "Mean At-Bats: 187.7561260210035\n",
      "Median At-Bats: 127.0\n"
     ]
    }
   ],
   "source": [
    "# Was ist eigentlich mean und median von Game und At-Bats pro Spieler?\n",
    "\n",
    "print(f\"Mean Games: {np.mean(g_ab_hits[:, 0])}\")\n",
    "print(f\"Median Games: {np.median(g_ab_hits[:, 0])}\\n\")\n",
    "\n",
    "print(f\"Mean At-Bats: {np.mean(g_ab_hits[:, 1])}\")\n",
    "print(f\"Median At-Bats: {np.median(g_ab_hits[:, 1])}\")"
   ]
  },
  {
   "cell_type": "code",
   "execution_count": 24,
   "id": "3ec830f4",
   "metadata": {},
   "outputs": [
    {
     "name": "stdout",
     "output_type": "stream",
     "text": [
      "[[  8.           3.           1.           0.33333334]\n",
      " [152.         566.         210.           0.37102473]\n",
      " [ 82.         297.         128.           0.43097642]\n",
      " ...\n",
      " [ 99.         299.          86.           0.28762543]\n",
      " [110.         255.          92.           0.36078432]\n",
      " [109.         333.         118.           0.35435435]]\n"
     ]
    }
   ],
   "source": [
    "# \"Echte\" Ausnahmespieler scheinen also zu den oberen 50% der Spieler in der MLB zu gehören.\n",
    "# Wir brauchen also einen weiteren statistischen Wert, der besser als die reinen Anzahl an Hits ausdrückt,\n",
    "# wie gut ein Spieler den Ball trifft. Dieser Wert ist traditionellerweise der sog. Batting Average oder\n",
    "# einfach AVG. Also die Anzahl an Hits geteilt durch die Anzahl an At-Bats.\n",
    "# Fügen wir diesen Wert als neue Spalte hinzu:\n",
    "\n",
    "avg = np.apply_along_axis(lambda x: x[2] / x[1], 1, g_ab_hits)\n",
    "\n",
    "avg.shape = (avg.shape[0], 1)\n",
    "\n",
    "g_ab_hits_avg = np.concatenate((g_ab_hits, avg), axis=1, dtype=\"float32\")\n",
    "\n",
    "print(g_ab_hits_avg)"
   ]
  },
  {
   "cell_type": "code",
   "execution_count": 25,
   "id": "827a7b86",
   "metadata": {},
   "outputs": [
    {
     "data": {
      "image/png": "[encoded data removed]",
      "text/plain": [
       "<Figure size 640x480 with 1 Axes>"
      ]
     },
     "metadata": {},
     "output_type": "display_data"
    }
   ],
   "source": [
    "# wie sieht nun die Korrelation zwischen At-Bats und AVG aus?\n",
    "\n",
    "plt.scatter(g_ab_hits_avg[:, 1], g_ab_hits_avg[:, 3])\n",
    "plt.axhline(np.median(g_ab_hits_avg[:, 3]), color='r')\n",
    "plt.show()"
   ]
  },
  {
   "cell_type": "code",
   "execution_count": 26,
   "id": "e740eb1c",
   "metadata": {},
   "outputs": [
    {
     "data": {
      "text/plain": [
       "0.3330699"
      ]
     },
     "execution_count": 26,
     "metadata": {},
     "output_type": "execute_result"
    }
   ],
   "source": [
    "# Was ist der durchschnittliche AVG bei Spielern, die mehr als hundert At-Bats haben?\n",
    "\n",
    "over_100_abs = g_ab_hits_avg[g_ab_hits_avg[:, 1] > 100]\n",
    "\n",
    "np.mean(over_100_abs[:, 3])"
   ]
  },
  {
   "cell_type": "code",
   "execution_count": 27,
   "id": "dcc902dd",
   "metadata": {},
   "outputs": [
    {
     "data": {
      "image/png": "[encoded data removed]",
      "text/plain": [
       "<Figure size 640x480 with 1 Axes>"
      ]
     },
     "metadata": {},
     "output_type": "display_data"
    }
   ],
   "source": [
    "# das wollen wir nun noch plotten\n",
    "\n",
    "plt.scatter(over_100_abs[:, 1], over_100_abs[:, 3])\n",
    "plt.axhline(np.median(over_100_abs[:, 3]), color='r')\n",
    "plt.show()"
   ]
  },
  {
   "cell_type": "code",
   "execution_count": 67,
   "id": "f23fa392",
   "metadata": {},
   "outputs": [
    {
     "data": {
      "image/png": "[encoded data removed]",
      "text/plain": [
       "<Figure size 640x480 with 1 Axes>"
      ]
     },
     "metadata": {},
     "output_type": "display_data"
    }
   ],
   "source": [
    "a, b = 80, 219\n",
    "x_axis = np.linspace(0.1, 0.5, 100)\n",
    "\n",
    "plt.plot(x_axis, stats.beta.pdf(x_axis, a, b))\n",
    "plt.show()"
   ]
  },
  {
   "cell_type": "markdown",
   "id": "860309f6",
   "metadata": {},
   "source": [
    "# Pokemon"
   ]
  },
  {
   "cell_type": "markdown",
   "id": "a6d8e897",
   "metadata": {},
   "source": [
    "## Datasets"
   ]
  },
  {
   "cell_type": "code",
   "execution_count": 28,
   "id": "2a5f41e6",
   "metadata": {},
   "outputs": [],
   "source": [
    "df_pokedex = pd.read_csv(\"data/pokedex.csv\")\n",
    "\n",
    "df_battles = pd.read_csv(\"data/combats.csv\")"
   ]
  },
  {
   "cell_type": "code",
   "execution_count": 29,
   "id": "01887473",
   "metadata": {},
   "outputs": [
    {
     "data": {
      "text/plain": [
       "(1045, 51)"
      ]
     },
     "execution_count": 29,
     "metadata": {},
     "output_type": "execute_result"
    }
   ],
   "source": [
    "df_pokedex.shape"
   ]
  },
  {
   "cell_type": "code",
   "execution_count": 30,
   "id": "a889e431",
   "metadata": {},
   "outputs": [
    {
     "data": {
      "text/plain": [
       "Index(['Unnamed: 0', 'pokedex_number', 'name', 'german_name', 'japanese_name',\n",
       "       'generation', 'status', 'species', 'type_number', 'type_1', 'type_2',\n",
       "       'height_m', 'weight_kg', 'abilities_number', 'ability_1', 'ability_2',\n",
       "       'ability_hidden', 'total_points', 'hp', 'attack', 'defense',\n",
       "       'sp_attack', 'sp_defense', 'speed', 'catch_rate', 'base_friendship',\n",
       "       'base_experience', 'growth_rate', 'egg_type_number', 'egg_type_1',\n",
       "       'egg_type_2', 'percentage_male', 'egg_cycles', 'against_normal',\n",
       "       'against_fire', 'against_water', 'against_electric', 'against_grass',\n",
       "       'against_ice', 'against_fight', 'against_poison', 'against_ground',\n",
       "       'against_flying', 'against_psychic', 'against_bug', 'against_rock',\n",
       "       'against_ghost', 'against_dragon', 'against_dark', 'against_steel',\n",
       "       'against_fairy'],\n",
       "      dtype='object')"
      ]
     },
     "execution_count": 30,
     "metadata": {},
     "output_type": "execute_result"
    }
   ],
   "source": [
    "df_pokedex.columns"
   ]
  },
  {
   "cell_type": "code",
   "execution_count": 31,
   "id": "f749a39d",
   "metadata": {},
   "outputs": [
    {
     "data": {
      "text/html": [
       "<div>\n",
       "<style scoped>\n",
       "    .dataframe tbody tr th:only-of-type {\n",
       "        vertical-align: middle;\n",
       "    }\n",
       "\n",
       "    .dataframe tbody tr th {\n",
       "        vertical-align: top;\n",
       "    }\n",
       "\n",
       "    .dataframe thead th {\n",
       "        text-align: right;\n",
       "    }\n",
       "</style>\n",
       "<table border=\"1\" class=\"dataframe\">\n",
       "  <thead>\n",
       "    <tr style=\"text-align: right;\">\n",
       "      <th></th>\n",
       "      <th>Unnamed: 0</th>\n",
       "      <th>pokedex_number</th>\n",
       "      <th>name</th>\n",
       "      <th>german_name</th>\n",
       "      <th>japanese_name</th>\n",
       "      <th>generation</th>\n",
       "      <th>status</th>\n",
       "      <th>species</th>\n",
       "      <th>type_number</th>\n",
       "      <th>type_1</th>\n",
       "      <th>...</th>\n",
       "      <th>against_ground</th>\n",
       "      <th>against_flying</th>\n",
       "      <th>against_psychic</th>\n",
       "      <th>against_bug</th>\n",
       "      <th>against_rock</th>\n",
       "      <th>against_ghost</th>\n",
       "      <th>against_dragon</th>\n",
       "      <th>against_dark</th>\n",
       "      <th>against_steel</th>\n",
       "      <th>against_fairy</th>\n",
       "    </tr>\n",
       "  </thead>\n",
       "  <tbody>\n",
       "    <tr>\n",
       "      <th>0</th>\n",
       "      <td>0</td>\n",
       "      <td>1</td>\n",
       "      <td>Bulbasaur</td>\n",
       "      <td>Bisasam</td>\n",
       "      <td>フシギダネ (Fushigidane)</td>\n",
       "      <td>1</td>\n",
       "      <td>Normal</td>\n",
       "      <td>Seed Pokémon</td>\n",
       "      <td>2</td>\n",
       "      <td>Grass</td>\n",
       "      <td>...</td>\n",
       "      <td>1.0</td>\n",
       "      <td>2.0</td>\n",
       "      <td>2.0</td>\n",
       "      <td>1.0</td>\n",
       "      <td>1.0</td>\n",
       "      <td>1.0</td>\n",
       "      <td>1.0</td>\n",
       "      <td>1.0</td>\n",
       "      <td>1.0</td>\n",
       "      <td>0.5</td>\n",
       "    </tr>\n",
       "    <tr>\n",
       "      <th>1</th>\n",
       "      <td>1</td>\n",
       "      <td>2</td>\n",
       "      <td>Ivysaur</td>\n",
       "      <td>Bisaknosp</td>\n",
       "      <td>フシギソウ (Fushigisou)</td>\n",
       "      <td>1</td>\n",
       "      <td>Normal</td>\n",
       "      <td>Seed Pokémon</td>\n",
       "      <td>2</td>\n",
       "      <td>Grass</td>\n",
       "      <td>...</td>\n",
       "      <td>1.0</td>\n",
       "      <td>2.0</td>\n",
       "      <td>2.0</td>\n",
       "      <td>1.0</td>\n",
       "      <td>1.0</td>\n",
       "      <td>1.0</td>\n",
       "      <td>1.0</td>\n",
       "      <td>1.0</td>\n",
       "      <td>1.0</td>\n",
       "      <td>0.5</td>\n",
       "    </tr>\n",
       "    <tr>\n",
       "      <th>2</th>\n",
       "      <td>2</td>\n",
       "      <td>3</td>\n",
       "      <td>Venusaur</td>\n",
       "      <td>Bisaflor</td>\n",
       "      <td>フシギバナ (Fushigibana)</td>\n",
       "      <td>1</td>\n",
       "      <td>Normal</td>\n",
       "      <td>Seed Pokémon</td>\n",
       "      <td>2</td>\n",
       "      <td>Grass</td>\n",
       "      <td>...</td>\n",
       "      <td>1.0</td>\n",
       "      <td>2.0</td>\n",
       "      <td>2.0</td>\n",
       "      <td>1.0</td>\n",
       "      <td>1.0</td>\n",
       "      <td>1.0</td>\n",
       "      <td>1.0</td>\n",
       "      <td>1.0</td>\n",
       "      <td>1.0</td>\n",
       "      <td>0.5</td>\n",
       "    </tr>\n",
       "    <tr>\n",
       "      <th>3</th>\n",
       "      <td>3</td>\n",
       "      <td>3</td>\n",
       "      <td>Mega Venusaur</td>\n",
       "      <td>Bisaflor</td>\n",
       "      <td>フシギバナ (Fushigibana)</td>\n",
       "      <td>1</td>\n",
       "      <td>Normal</td>\n",
       "      <td>Seed Pokémon</td>\n",
       "      <td>2</td>\n",
       "      <td>Grass</td>\n",
       "      <td>...</td>\n",
       "      <td>1.0</td>\n",
       "      <td>2.0</td>\n",
       "      <td>2.0</td>\n",
       "      <td>1.0</td>\n",
       "      <td>1.0</td>\n",
       "      <td>1.0</td>\n",
       "      <td>1.0</td>\n",
       "      <td>1.0</td>\n",
       "      <td>1.0</td>\n",
       "      <td>0.5</td>\n",
       "    </tr>\n",
       "    <tr>\n",
       "      <th>4</th>\n",
       "      <td>4</td>\n",
       "      <td>4</td>\n",
       "      <td>Charmander</td>\n",
       "      <td>Glumanda</td>\n",
       "      <td>ヒトカゲ (Hitokage)</td>\n",
       "      <td>1</td>\n",
       "      <td>Normal</td>\n",
       "      <td>Lizard Pokémon</td>\n",
       "      <td>1</td>\n",
       "      <td>Fire</td>\n",
       "      <td>...</td>\n",
       "      <td>2.0</td>\n",
       "      <td>1.0</td>\n",
       "      <td>1.0</td>\n",
       "      <td>0.5</td>\n",
       "      <td>2.0</td>\n",
       "      <td>1.0</td>\n",
       "      <td>1.0</td>\n",
       "      <td>1.0</td>\n",
       "      <td>0.5</td>\n",
       "      <td>0.5</td>\n",
       "    </tr>\n",
       "  </tbody>\n",
       "</table>\n",
       "<p>5 rows × 51 columns</p>\n",
       "</div>"
      ],
      "text/plain": [
       "   Unnamed: 0  pokedex_number           name german_name        japanese_name  \\\n",
       "0           0               1      Bulbasaur     Bisasam  フシギダネ (Fushigidane)   \n",
       "1           1               2        Ivysaur   Bisaknosp   フシギソウ (Fushigisou)   \n",
       "2           2               3       Venusaur    Bisaflor  フシギバナ (Fushigibana)   \n",
       "3           3               3  Mega Venusaur    Bisaflor  フシギバナ (Fushigibana)   \n",
       "4           4               4     Charmander    Glumanda      ヒトカゲ (Hitokage)   \n",
       "\n",
       "   generation  status         species  type_number type_1  ... against_ground  \\\n",
       "0           1  Normal    Seed Pokémon            2  Grass  ...            1.0   \n",
       "1           1  Normal    Seed Pokémon            2  Grass  ...            1.0   \n",
       "2           1  Normal    Seed Pokémon            2  Grass  ...            1.0   \n",
       "3           1  Normal    Seed Pokémon            2  Grass  ...            1.0   \n",
       "4           1  Normal  Lizard Pokémon            1   Fire  ...            2.0   \n",
       "\n",
       "   against_flying  against_psychic  against_bug against_rock against_ghost  \\\n",
       "0             2.0              2.0          1.0          1.0           1.0   \n",
       "1             2.0              2.0          1.0          1.0           1.0   \n",
       "2             2.0              2.0          1.0          1.0           1.0   \n",
       "3             2.0              2.0          1.0          1.0           1.0   \n",
       "4             1.0              1.0          0.5          2.0           1.0   \n",
       "\n",
       "  against_dragon  against_dark  against_steel  against_fairy  \n",
       "0            1.0           1.0            1.0            0.5  \n",
       "1            1.0           1.0            1.0            0.5  \n",
       "2            1.0           1.0            1.0            0.5  \n",
       "3            1.0           1.0            1.0            0.5  \n",
       "4            1.0           1.0            0.5            0.5  \n",
       "\n",
       "[5 rows x 51 columns]"
      ]
     },
     "execution_count": 31,
     "metadata": {},
     "output_type": "execute_result"
    }
   ],
   "source": [
    "df_pokedex.head()"
   ]
  },
  {
   "cell_type": "code",
   "execution_count": 32,
   "id": "41830e17",
   "metadata": {},
   "outputs": [
    {
     "data": {
      "text/plain": [
       "(50000, 3)"
      ]
     },
     "execution_count": 32,
     "metadata": {},
     "output_type": "execute_result"
    }
   ],
   "source": [
    "df_battles.shape"
   ]
  },
  {
   "cell_type": "code",
   "execution_count": 33,
   "id": "7c7c8615",
   "metadata": {},
   "outputs": [
    {
     "data": {
      "text/plain": [
       "Index(['First_pokemon', 'Second_pokemon', 'Winner'], dtype='object')"
      ]
     },
     "execution_count": 33,
     "metadata": {},
     "output_type": "execute_result"
    }
   ],
   "source": [
    "df_battles.columns"
   ]
  },
  {
   "cell_type": "code",
   "execution_count": 34,
   "id": "16faa70a",
   "metadata": {},
   "outputs": [
    {
     "data": {
      "text/html": [
       "<div>\n",
       "<style scoped>\n",
       "    .dataframe tbody tr th:only-of-type {\n",
       "        vertical-align: middle;\n",
       "    }\n",
       "\n",
       "    .dataframe tbody tr th {\n",
       "        vertical-align: top;\n",
       "    }\n",
       "\n",
       "    .dataframe thead th {\n",
       "        text-align: right;\n",
       "    }\n",
       "</style>\n",
       "<table border=\"1\" class=\"dataframe\">\n",
       "  <thead>\n",
       "    <tr style=\"text-align: right;\">\n",
       "      <th></th>\n",
       "      <th>First_pokemon</th>\n",
       "      <th>Second_pokemon</th>\n",
       "      <th>Winner</th>\n",
       "    </tr>\n",
       "  </thead>\n",
       "  <tbody>\n",
       "    <tr>\n",
       "      <th>0</th>\n",
       "      <td>266</td>\n",
       "      <td>298</td>\n",
       "      <td>298</td>\n",
       "    </tr>\n",
       "    <tr>\n",
       "      <th>1</th>\n",
       "      <td>702</td>\n",
       "      <td>701</td>\n",
       "      <td>701</td>\n",
       "    </tr>\n",
       "    <tr>\n",
       "      <th>2</th>\n",
       "      <td>191</td>\n",
       "      <td>668</td>\n",
       "      <td>668</td>\n",
       "    </tr>\n",
       "    <tr>\n",
       "      <th>3</th>\n",
       "      <td>237</td>\n",
       "      <td>683</td>\n",
       "      <td>683</td>\n",
       "    </tr>\n",
       "    <tr>\n",
       "      <th>4</th>\n",
       "      <td>151</td>\n",
       "      <td>231</td>\n",
       "      <td>151</td>\n",
       "    </tr>\n",
       "  </tbody>\n",
       "</table>\n",
       "</div>"
      ],
      "text/plain": [
       "   First_pokemon  Second_pokemon  Winner\n",
       "0            266             298     298\n",
       "1            702             701     701\n",
       "2            191             668     668\n",
       "3            237             683     683\n",
       "4            151             231     151"
      ]
     },
     "execution_count": 34,
     "metadata": {},
     "output_type": "execute_result"
    }
   ],
   "source": [
    "df_battles.head()"
   ]
  },
  {
   "cell_type": "markdown",
   "id": "f97576bf",
   "metadata": {},
   "source": [
    "## Fragen:\n",
    "\n",
    "1. Welches Pokemon ist das schwerste?\n",
    "2. Welches Pokemon hat die meisten Wins?\n",
    "3. Welches Pokemon hat noch nie gewonnen?\n",
    "4. Welcher Pokemon Typ hat am meisten gewonnen?\n",
    "5. Hat das Pokemon mit der höchsten Attackrate auch die meisten Wins?"
   ]
  },
  {
   "cell_type": "markdown",
   "id": "ad720dc9",
   "metadata": {},
   "source": [
    "### Das schwerste Pokemon"
   ]
  },
  {
   "cell_type": "code",
   "execution_count": 35,
   "id": "1720ce9b",
   "metadata": {},
   "outputs": [],
   "source": [
    "poke_weights = df_pokedex.sort_values(\"weight_kg\", ascending=False)[[\"german_name\", \"weight_kg\", \"pokedex_number\"]]"
   ]
  },
  {
   "cell_type": "code",
   "execution_count": 36,
   "id": "f9bcd0e3",
   "metadata": {},
   "outputs": [],
   "source": [
    "poke_weights = poke_weights.reset_index()"
   ]
  },
  {
   "cell_type": "code",
   "execution_count": 37,
   "id": "b0a2d7a8",
   "metadata": {},
   "outputs": [
    {
     "data": {
      "text/html": [
       "<div>\n",
       "<style scoped>\n",
       "    .dataframe tbody tr th:only-of-type {\n",
       "        vertical-align: middle;\n",
       "    }\n",
       "\n",
       "    .dataframe tbody tr th {\n",
       "        vertical-align: top;\n",
       "    }\n",
       "\n",
       "    .dataframe thead th {\n",
       "        text-align: right;\n",
       "    }\n",
       "</style>\n",
       "<table border=\"1\" class=\"dataframe\">\n",
       "  <thead>\n",
       "    <tr style=\"text-align: right;\">\n",
       "      <th></th>\n",
       "      <th>index</th>\n",
       "      <th>german_name</th>\n",
       "      <th>weight_kg</th>\n",
       "      <th>pokedex_number</th>\n",
       "    </tr>\n",
       "  </thead>\n",
       "  <tbody>\n",
       "    <tr>\n",
       "      <th>0</th>\n",
       "      <td>930</td>\n",
       "      <td>Kaguron</td>\n",
       "      <td>999.9</td>\n",
       "      <td>797</td>\n",
       "    </tr>\n",
       "    <tr>\n",
       "      <th>1</th>\n",
       "      <td>923</td>\n",
       "      <td>Cosmovum</td>\n",
       "      <td>999.9</td>\n",
       "      <td>790</td>\n",
       "    </tr>\n",
       "    <tr>\n",
       "      <th>2</th>\n",
       "      <td>462</td>\n",
       "      <td>Groudon</td>\n",
       "      <td>999.7</td>\n",
       "      <td>383</td>\n",
       "    </tr>\n",
       "    <tr>\n",
       "      <th>3</th>\n",
       "      <td>461</td>\n",
       "      <td>Groudon</td>\n",
       "      <td>950.0</td>\n",
       "      <td>383</td>\n",
       "    </tr>\n",
       "    <tr>\n",
       "      <th>4</th>\n",
       "      <td>1032</td>\n",
       "      <td>Endynalos</td>\n",
       "      <td>950.0</td>\n",
       "      <td>890</td>\n",
       "    </tr>\n",
       "  </tbody>\n",
       "</table>\n",
       "</div>"
      ],
      "text/plain": [
       "   index german_name  weight_kg  pokedex_number\n",
       "0    930     Kaguron      999.9             797\n",
       "1    923    Cosmovum      999.9             790\n",
       "2    462     Groudon      999.7             383\n",
       "3    461     Groudon      950.0             383\n",
       "4   1032   Endynalos      950.0             890"
      ]
     },
     "execution_count": 37,
     "metadata": {},
     "output_type": "execute_result"
    }
   ],
   "source": [
    "poke_weights.head()"
   ]
  },
  {
   "cell_type": "code",
   "execution_count": 38,
   "id": "32c4f040",
   "metadata": {},
   "outputs": [
    {
     "data": {
      "text/plain": [
       "999.9"
      ]
     },
     "execution_count": 38,
     "metadata": {},
     "output_type": "execute_result"
    }
   ],
   "source": [
    "poke_weights.weight_kg.iloc[1]"
   ]
  },
  {
   "cell_type": "code",
   "execution_count": 39,
   "id": "c7858c46",
   "metadata": {},
   "outputs": [
    {
     "name": "stdout",
     "output_type": "stream",
     "text": [
      "Schwerstes Pokemon mit 999.9 Kg und Pokedex Nummer 797 ist: Kaguron\n"
     ]
    }
   ],
   "source": [
    "weight = poke_weights.weight_kg.iloc[0]\n",
    "name = poke_weights.german_name.iloc[0]\n",
    "index = poke_weights.pokedex_number.iloc[0]\n",
    "\n",
    "print(f\"Schwerstes Pokemon mit {weight} Kg und Pokedex Nummer {index} ist: {name}\")"
   ]
  },
  {
   "cell_type": "code",
   "execution_count": 40,
   "id": "0f4838fb",
   "metadata": {},
   "outputs": [],
   "source": [
    "import requests\n",
    "\n",
    "def get_poke_image(pokedex_num):\n",
    "    url = \"https://pokeapi.co/api/v2/pokemon/\" + str(pokedex_num) + \"/\"\n",
    "    response = requests.request(url=url, method=\"GET\")\n",
    "    json_stats = response.json()\n",
    "    return json_stats[\"sprites\"][\"front_default\"]"
   ]
  },
  {
   "cell_type": "code",
   "execution_count": 41,
   "id": "e1238ccc",
   "metadata": {},
   "outputs": [
    {
     "data": {
      "image/png": "[encoded data removed]",
      "text/plain": [
       "<IPython.core.display.Image object>"
      ]
     },
     "execution_count": 41,
     "metadata": {},
     "output_type": "execute_result"
    }
   ],
   "source": [
    "from IPython.display import Image\n",
    "\n",
    "Image(get_poke_image(index))"
   ]
  },
  {
   "cell_type": "markdown",
   "id": "d4a65a5b",
   "metadata": {},
   "source": [
    "### Die meisten Wins"
   ]
  },
  {
   "cell_type": "code",
   "execution_count": 42,
   "id": "fa2bd6e4",
   "metadata": {},
   "outputs": [
    {
     "data": {
      "text/plain": [
       "163    152\n",
       "438    136\n",
       "154    136\n",
       "428    134\n",
       "314    133\n",
       "      ... \n",
       "577      5\n",
       "237      4\n",
       "639      4\n",
       "290      3\n",
       "190      3\n",
       "Name: Winner, Length: 783, dtype: int64"
      ]
     },
     "execution_count": 42,
     "metadata": {},
     "output_type": "execute_result"
    }
   ],
   "source": [
    "df_battles.Winner.value_counts()"
   ]
  },
  {
   "cell_type": "code",
   "execution_count": 43,
   "id": "e053cb71",
   "metadata": {},
   "outputs": [],
   "source": [
    "winner_index = df_battles.Winner.value_counts().index[0]\n",
    "\n",
    "winner_count = df_battles.Winner.value_counts().iloc[0]"
   ]
  },
  {
   "cell_type": "code",
   "execution_count": 44,
   "id": "99a9e300",
   "metadata": {},
   "outputs": [
    {
     "name": "stdout",
     "output_type": "stream",
     "text": [
      "Das Pokemon mit den meisten Wins (152) ist: Hoothoot\n"
     ]
    }
   ],
   "source": [
    "winner_name = df_pokedex[df_pokedex.pokedex_number == winner_index]['german_name'].iloc[0]\n",
    "\n",
    "print(f\"Das Pokemon mit den meisten Wins ({winner_count}) ist: {winner_name}\")"
   ]
  },
  {
   "cell_type": "code",
   "execution_count": 45,
   "id": "588165ed",
   "metadata": {},
   "outputs": [
    {
     "data": {
      "image/png": "[encoded data removed]",
      "text/plain": [
       "<IPython.core.display.Image object>"
      ]
     },
     "execution_count": 45,
     "metadata": {},
     "output_type": "execute_result"
    }
   ],
   "source": [
    "Image(get_poke_image(winner_index))"
   ]
  },
  {
   "cell_type": "markdown",
   "id": "554a0519",
   "metadata": {},
   "source": [
    "### Pokemons ohne Wins"
   ]
  },
  {
   "cell_type": "code",
   "execution_count": 46,
   "id": "a204193a",
   "metadata": {},
   "outputs": [
    {
     "data": {
      "text/plain": [
       "231"
      ]
     },
     "execution_count": 46,
     "metadata": {},
     "output_type": "execute_result"
    }
   ],
   "source": [
    "# Array aller Nummern von Pokemons, die schon einmal gekämpft haben\n",
    "all_pokemons = np.unique(df_battles.First_pokemon)\n",
    "\n",
    "# Array aller Nummern von Pokemons, die schon einmal gewonnen haben\n",
    "all_winning = np.unique(df_battles.Winner)\n",
    "\n",
    "# Numpy Masking, ob ein Pokemon auch in dem Array mit Gewinnern ist\n",
    "mask = np.isin(all_pokemons, all_winning)\n",
    "\n",
    "# Wir wollen nur die Pokemons, bei denen die Maske False ergibt, weil das die\n",
    "# sind, die noch nie gewonnen haben\n",
    "loser = all_pokemons[~mask]\n",
    "loser[0]"
   ]
  },
  {
   "cell_type": "code",
   "execution_count": 47,
   "id": "97ddafd0",
   "metadata": {},
   "outputs": [
    {
     "name": "stdout",
     "output_type": "stream",
     "text": [
      "Dieses Pokemon hat noch nie gewonnen: Phanpy :-(\n"
     ]
    },
    {
     "data": {
      "image/png": "[encoded data removed]",
      "text/plain": [
       "<IPython.core.display.Image object>"
      ]
     },
     "execution_count": 47,
     "metadata": {},
     "output_type": "execute_result"
    }
   ],
   "source": [
    "# Welches ist nun das Pokemon mit Nummer 231?\n",
    "loser_name = df_pokedex[df_pokedex.pokedex_number == loser[0]][\"german_name\"].iloc[0]\n",
    "\n",
    "print(f\"Dieses Pokemon hat noch nie gewonnen: {loser_name} :-(\")\n",
    "\n",
    "Image(get_poke_image(loser[0]))"
   ]
  },
  {
   "cell_type": "markdown",
   "id": "c6bbcf9a",
   "metadata": {},
   "source": [
    "### Der Pokemon Typ, der am häufigsten gewonnen hat"
   ]
  },
  {
   "cell_type": "code",
   "execution_count": 48,
   "id": "fec39ff2",
   "metadata": {},
   "outputs": [
    {
     "data": {
      "text/html": [
       "<div>\n",
       "<style scoped>\n",
       "    .dataframe tbody tr th:only-of-type {\n",
       "        vertical-align: middle;\n",
       "    }\n",
       "\n",
       "    .dataframe tbody tr th {\n",
       "        vertical-align: top;\n",
       "    }\n",
       "\n",
       "    .dataframe thead th {\n",
       "        text-align: right;\n",
       "    }\n",
       "</style>\n",
       "<table border=\"1\" class=\"dataframe\">\n",
       "  <thead>\n",
       "    <tr style=\"text-align: right;\">\n",
       "      <th></th>\n",
       "      <th>type_number</th>\n",
       "      <th>type_1</th>\n",
       "      <th>type_2</th>\n",
       "    </tr>\n",
       "  </thead>\n",
       "  <tbody>\n",
       "    <tr>\n",
       "      <th>0</th>\n",
       "      <td>2</td>\n",
       "      <td>Grass</td>\n",
       "      <td>Poison</td>\n",
       "    </tr>\n",
       "    <tr>\n",
       "      <th>1</th>\n",
       "      <td>2</td>\n",
       "      <td>Grass</td>\n",
       "      <td>Poison</td>\n",
       "    </tr>\n",
       "    <tr>\n",
       "      <th>2</th>\n",
       "      <td>2</td>\n",
       "      <td>Grass</td>\n",
       "      <td>Poison</td>\n",
       "    </tr>\n",
       "    <tr>\n",
       "      <th>3</th>\n",
       "      <td>2</td>\n",
       "      <td>Grass</td>\n",
       "      <td>Poison</td>\n",
       "    </tr>\n",
       "    <tr>\n",
       "      <th>4</th>\n",
       "      <td>1</td>\n",
       "      <td>Fire</td>\n",
       "      <td>NaN</td>\n",
       "    </tr>\n",
       "    <tr>\n",
       "      <th>...</th>\n",
       "      <td>...</td>\n",
       "      <td>...</td>\n",
       "      <td>...</td>\n",
       "    </tr>\n",
       "    <tr>\n",
       "      <th>1040</th>\n",
       "      <td>1</td>\n",
       "      <td>Ice</td>\n",
       "      <td>NaN</td>\n",
       "    </tr>\n",
       "    <tr>\n",
       "      <th>1041</th>\n",
       "      <td>1</td>\n",
       "      <td>Ghost</td>\n",
       "      <td>NaN</td>\n",
       "    </tr>\n",
       "    <tr>\n",
       "      <th>1042</th>\n",
       "      <td>2</td>\n",
       "      <td>Psychic</td>\n",
       "      <td>Grass</td>\n",
       "    </tr>\n",
       "    <tr>\n",
       "      <th>1043</th>\n",
       "      <td>2</td>\n",
       "      <td>Psychic</td>\n",
       "      <td>Ice</td>\n",
       "    </tr>\n",
       "    <tr>\n",
       "      <th>1044</th>\n",
       "      <td>2</td>\n",
       "      <td>Psychic</td>\n",
       "      <td>Ghost</td>\n",
       "    </tr>\n",
       "  </tbody>\n",
       "</table>\n",
       "<p>1045 rows × 3 columns</p>\n",
       "</div>"
      ],
      "text/plain": [
       "      type_number   type_1  type_2\n",
       "0               2    Grass  Poison\n",
       "1               2    Grass  Poison\n",
       "2               2    Grass  Poison\n",
       "3               2    Grass  Poison\n",
       "4               1     Fire     NaN\n",
       "...           ...      ...     ...\n",
       "1040            1      Ice     NaN\n",
       "1041            1    Ghost     NaN\n",
       "1042            2  Psychic   Grass\n",
       "1043            2  Psychic     Ice\n",
       "1044            2  Psychic   Ghost\n",
       "\n",
       "[1045 rows x 3 columns]"
      ]
     },
     "execution_count": 48,
     "metadata": {},
     "output_type": "execute_result"
    }
   ],
   "source": [
    "# schauen wir uns erst einmal an, was die \"type\" Spalten bedeuten\n",
    "\n",
    "df_pokedex.filter(regex=\"^type\")"
   ]
  },
  {
   "cell_type": "code",
   "execution_count": 49,
   "id": "d753da98",
   "metadata": {},
   "outputs": [
    {
     "data": {
      "text/plain": [
       "0"
      ]
     },
     "execution_count": 49,
     "metadata": {},
     "output_type": "execute_result"
    }
   ],
   "source": [
    "# sind alle type_1 vollständig?\n",
    "\n",
    "sum(df_pokedex.type_1.isna())"
   ]
  },
  {
   "cell_type": "code",
   "execution_count": 50,
   "id": "461a34aa",
   "metadata": {},
   "outputs": [
    {
     "data": {
      "text/plain": [
       "'Rock'"
      ]
     },
     "execution_count": 50,
     "metadata": {},
     "output_type": "execute_result"
    }
   ],
   "source": [
    "# gut, wenn alle vollständig sind, dann schreiben wir nun eine kleine Funktion,\n",
    "# die eine Pokedex Nummer entgegen nimmt und hierfür den type_1 ausgibt\n",
    "\n",
    "def get_type_1_by_pokedexNum(number, df):\n",
    "    return df[df[\"pokedex_number\"] == number][\"type_1\"].iloc[0]\n",
    "\n",
    "get_type_1_by_pokedexNum(438, df_pokedex) # Test"
   ]
  },
  {
   "cell_type": "code",
   "execution_count": 51,
   "id": "8a6b6f57",
   "metadata": {},
   "outputs": [],
   "source": [
    "list_of_types = []\n",
    "\n",
    "for winner in np.array(df_battles.Winner):\n",
    "    list_of_types.append(get_type_1_by_pokedexNum(winner, df_pokedex))\n",
    "    \n",
    "types = pd.Series(list_of_types)"
   ]
  },
  {
   "cell_type": "code",
   "execution_count": 52,
   "id": "c40444e3",
   "metadata": {},
   "outputs": [
    {
     "data": {
      "text/plain": [
       "Water       7321\n",
       "Normal      6877\n",
       "Bug         4656\n",
       "Grass       4434\n",
       "Rock        3130\n",
       "Fire        3067\n",
       "Psychic     3054\n",
       "Electric    2369\n",
       "Poison      2146\n",
       "Dark        1939\n",
       "Ground      1869\n",
       "Dragon      1824\n",
       "Ghost       1804\n",
       "Fighting    1688\n",
       "Ice         1325\n",
       "Steel       1271\n",
       "Fairy       1000\n",
       "Flying       226\n",
       "dtype: int64"
      ]
     },
     "execution_count": 52,
     "metadata": {},
     "output_type": "execute_result"
    }
   ],
   "source": [
    "types.value_counts()"
   ]
  },
  {
   "cell_type": "markdown",
   "id": "10c8148c",
   "metadata": {},
   "source": [
    "### Korrelation zwischen Attackrate und Anzahl Wins"
   ]
  },
  {
   "cell_type": "code",
   "execution_count": 53,
   "id": "11e127da",
   "metadata": {},
   "outputs": [
    {
     "data": {
      "text/html": [
       "<div>\n",
       "<style scoped>\n",
       "    .dataframe tbody tr th:only-of-type {\n",
       "        vertical-align: middle;\n",
       "    }\n",
       "\n",
       "    .dataframe tbody tr th {\n",
       "        vertical-align: top;\n",
       "    }\n",
       "\n",
       "    .dataframe thead th {\n",
       "        text-align: right;\n",
       "    }\n",
       "</style>\n",
       "<table border=\"1\" class=\"dataframe\">\n",
       "  <thead>\n",
       "    <tr style=\"text-align: right;\">\n",
       "      <th></th>\n",
       "      <th>attack</th>\n",
       "      <th>speed</th>\n",
       "    </tr>\n",
       "  </thead>\n",
       "  <tbody>\n",
       "    <tr>\n",
       "      <th>0</th>\n",
       "      <td>49</td>\n",
       "      <td>45</td>\n",
       "    </tr>\n",
       "    <tr>\n",
       "      <th>1</th>\n",
       "      <td>62</td>\n",
       "      <td>60</td>\n",
       "    </tr>\n",
       "    <tr>\n",
       "      <th>2</th>\n",
       "      <td>82</td>\n",
       "      <td>80</td>\n",
       "    </tr>\n",
       "    <tr>\n",
       "      <th>3</th>\n",
       "      <td>100</td>\n",
       "      <td>80</td>\n",
       "    </tr>\n",
       "    <tr>\n",
       "      <th>4</th>\n",
       "      <td>52</td>\n",
       "      <td>65</td>\n",
       "    </tr>\n",
       "    <tr>\n",
       "      <th>...</th>\n",
       "      <td>...</td>\n",
       "      <td>...</td>\n",
       "    </tr>\n",
       "    <tr>\n",
       "      <th>1040</th>\n",
       "      <td>145</td>\n",
       "      <td>30</td>\n",
       "    </tr>\n",
       "    <tr>\n",
       "      <th>1041</th>\n",
       "      <td>65</td>\n",
       "      <td>130</td>\n",
       "    </tr>\n",
       "    <tr>\n",
       "      <th>1042</th>\n",
       "      <td>80</td>\n",
       "      <td>80</td>\n",
       "    </tr>\n",
       "    <tr>\n",
       "      <th>1043</th>\n",
       "      <td>165</td>\n",
       "      <td>50</td>\n",
       "    </tr>\n",
       "    <tr>\n",
       "      <th>1044</th>\n",
       "      <td>85</td>\n",
       "      <td>150</td>\n",
       "    </tr>\n",
       "  </tbody>\n",
       "</table>\n",
       "<p>1045 rows × 2 columns</p>\n",
       "</div>"
      ],
      "text/plain": [
       "      attack  speed\n",
       "0         49     45\n",
       "1         62     60\n",
       "2         82     80\n",
       "3        100     80\n",
       "4         52     65\n",
       "...      ...    ...\n",
       "1040     145     30\n",
       "1041      65    130\n",
       "1042      80     80\n",
       "1043     165     50\n",
       "1044      85    150\n",
       "\n",
       "[1045 rows x 2 columns]"
      ]
     },
     "execution_count": 53,
     "metadata": {},
     "output_type": "execute_result"
    }
   ],
   "source": [
    "df_pokedex[[\"attack\", \"speed\"]]"
   ]
  },
  {
   "cell_type": "code",
   "execution_count": 54,
   "id": "47f26d0c",
   "metadata": {},
   "outputs": [
    {
     "data": {
      "text/plain": [
       "0       0.918367\n",
       "1       0.967742\n",
       "2       0.975610\n",
       "3       0.800000\n",
       "4       1.250000\n",
       "          ...   \n",
       "1040    0.206897\n",
       "1041    2.000000\n",
       "1042    1.000000\n",
       "1043    0.303030\n",
       "1044    1.764706\n",
       "Name: attack_rate, Length: 1045, dtype: float64"
      ]
     },
     "execution_count": 54,
     "metadata": {},
     "output_type": "execute_result"
    }
   ],
   "source": [
    "# wir definieren die Attack Rate als den Quotienten aus Speed Wert und Attacke Wert\n",
    "\n",
    "df_pokedex[\"attack_rate\"] = df_pokedex.speed / df_pokedex.attack\n",
    "\n",
    "df_pokedex[\"attack_rate\"]"
   ]
  },
  {
   "cell_type": "code",
   "execution_count": 55,
   "id": "6f4970c3",
   "metadata": {},
   "outputs": [],
   "source": [
    "won_battles = df_battles.Winner.value_counts()\n",
    "\n",
    "def get_won_battles(df_row):\n",
    "    pokedex_num = df_row.pokedex_number\n",
    "    if np.isin(pokedex_num, all_winning) == True:\n",
    "        return won_battles[won_battles.index == pokedex_num].iloc[0]\n",
    "    return 0"
   ]
  },
  {
   "cell_type": "code",
   "execution_count": 56,
   "id": "1f795d05",
   "metadata": {},
   "outputs": [
    {
     "data": {
      "text/plain": [
       "119"
      ]
     },
     "execution_count": 56,
     "metadata": {},
     "output_type": "execute_result"
    }
   ],
   "source": [
    "get_won_battles(df_pokedex.iloc[10]) # test"
   ]
  },
  {
   "cell_type": "code",
   "execution_count": 57,
   "id": "7bc2822f",
   "metadata": {},
   "outputs": [
    {
     "data": {
      "image/png": "[encoded data removed]",
      "text/plain": [
       "<Figure size 640x480 with 1 Axes>"
      ]
     },
     "metadata": {},
     "output_type": "display_data"
    }
   ],
   "source": [
    "# attack rate\n",
    "\n",
    "df_pokedex[\"won_battles\"] = df_pokedex.apply(get_won_battles, axis=1)\n",
    "\n",
    "plt.scatter(np.log(df_pokedex.attack_rate), df_pokedex.won_battles)\n",
    "plt.show()"
   ]
  },
  {
   "cell_type": "code",
   "execution_count": 58,
   "id": "0790602c",
   "metadata": {},
   "outputs": [
    {
     "data": {
      "image/png": "[encoded data removed]",
      "text/plain": [
       "<Figure size 640x480 with 1 Axes>"
      ]
     },
     "metadata": {},
     "output_type": "display_data"
    }
   ],
   "source": [
    "# Attacke Wert an sich\n",
    "\n",
    "plt.scatter(df_pokedex.attack, df_pokedex.won_battles)\n",
    "plt.show()"
   ]
  },
  {
   "cell_type": "code",
   "execution_count": 59,
   "id": "29282a15",
   "metadata": {},
   "outputs": [
    {
     "data": {
      "image/png": "[encoded data removed]",
      "text/plain": [
       "<Figure size 640x480 with 1 Axes>"
      ]
     },
     "metadata": {},
     "output_type": "display_data"
    }
   ],
   "source": [
    "# und wie sieht es mit der Geschwindigkeit aus?\n",
    "\n",
    "plt.scatter(df_pokedex.speed, df_pokedex.won_battles)\n",
    "plt.show()"
   ]
  },
  {
   "cell_type": "markdown",
   "id": "32a8cb4c",
   "metadata": {},
   "source": [
    "### Welcher Wert hat überhaupt Einfluss darauf, wie oft ein Pokemon gewonnen hat?"
   ]
  },
  {
   "cell_type": "code",
   "execution_count": 60,
   "id": "6814d7a3",
   "metadata": {},
   "outputs": [],
   "source": [
    "# gibt es also irgendeine Variable, die Einfluss darauf hat, wie oft ein Pokemon gewinnt?\n",
    "\n",
    "df_pokedex.status = df_pokedex['status'].astype('category')"
   ]
  },
  {
   "cell_type": "code",
   "execution_count": 61,
   "id": "eb3f43cf",
   "metadata": {},
   "outputs": [
    {
     "data": {
      "text/plain": [
       "[]"
      ]
     },
     "execution_count": 61,
     "metadata": {},
     "output_type": "execute_result"
    },
    {
     "data": {
      "image/png": "[encoded data removed]",
      "text/plain": [
       "<Figure size 640x480 with 1 Axes>"
      ]
     },
     "metadata": {},
     "output_type": "display_data"
    }
   ],
   "source": [
    "plt.scatter(df_pokedex.status, df_pokedex.won_battles)\n",
    "plt.plot()"
   ]
  },
  {
   "cell_type": "code",
   "execution_count": 62,
   "id": "78ad1fb3",
   "metadata": {},
   "outputs": [
    {
     "data": {
      "text/html": [
       "<div>\n",
       "<style scoped>\n",
       "    .dataframe tbody tr th:only-of-type {\n",
       "        vertical-align: middle;\n",
       "    }\n",
       "\n",
       "    .dataframe tbody tr th {\n",
       "        vertical-align: top;\n",
       "    }\n",
       "\n",
       "    .dataframe thead th {\n",
       "        text-align: right;\n",
       "    }\n",
       "</style>\n",
       "<table border=\"1\" class=\"dataframe\">\n",
       "  <thead>\n",
       "    <tr style=\"text-align: right;\">\n",
       "      <th></th>\n",
       "      <th>pokedex_number</th>\n",
       "      <th>name</th>\n",
       "      <th>height_m</th>\n",
       "      <th>weight_kg</th>\n",
       "    </tr>\n",
       "  </thead>\n",
       "  <tbody>\n",
       "    <tr>\n",
       "      <th>923</th>\n",
       "      <td>790</td>\n",
       "      <td>Cosmoem</td>\n",
       "      <td>0.1</td>\n",
       "      <td>999.9</td>\n",
       "    </tr>\n",
       "    <tr>\n",
       "      <th>699</th>\n",
       "      <td>595</td>\n",
       "      <td>Joltik</td>\n",
       "      <td>0.1</td>\n",
       "      <td>0.6</td>\n",
       "    </tr>\n",
       "    <tr>\n",
       "      <th>991</th>\n",
       "      <td>854</td>\n",
       "      <td>Sinistea</td>\n",
       "      <td>0.1</td>\n",
       "      <td>0.2</td>\n",
       "    </tr>\n",
       "    <tr>\n",
       "      <th>782</th>\n",
       "      <td>669</td>\n",
       "      <td>Flabébé</td>\n",
       "      <td>0.1</td>\n",
       "      <td>0.1</td>\n",
       "    </tr>\n",
       "    <tr>\n",
       "      <th>896</th>\n",
       "      <td>764</td>\n",
       "      <td>Comfey</td>\n",
       "      <td>0.1</td>\n",
       "      <td>0.3</td>\n",
       "    </tr>\n",
       "    <tr>\n",
       "      <th>...</th>\n",
       "      <td>...</td>\n",
       "      <td>...</td>\n",
       "      <td>...</td>\n",
       "      <td>...</td>\n",
       "    </tr>\n",
       "    <tr>\n",
       "      <th>464</th>\n",
       "      <td>384</td>\n",
       "      <td>Mega Rayquaza</td>\n",
       "      <td>10.8</td>\n",
       "      <td>392.0</td>\n",
       "    </tr>\n",
       "    <tr>\n",
       "      <th>135</th>\n",
       "      <td>103</td>\n",
       "      <td>Alolan Exeggutor</td>\n",
       "      <td>10.9</td>\n",
       "      <td>415.6</td>\n",
       "    </tr>\n",
       "    <tr>\n",
       "      <th>386</th>\n",
       "      <td>321</td>\n",
       "      <td>Wailord</td>\n",
       "      <td>14.5</td>\n",
       "      <td>398.0</td>\n",
       "    </tr>\n",
       "    <tr>\n",
       "      <th>1032</th>\n",
       "      <td>890</td>\n",
       "      <td>Eternatus</td>\n",
       "      <td>20.0</td>\n",
       "      <td>950.0</td>\n",
       "    </tr>\n",
       "    <tr>\n",
       "      <th>1033</th>\n",
       "      <td>890</td>\n",
       "      <td>Eternatus Eternamax</td>\n",
       "      <td>100.0</td>\n",
       "      <td>NaN</td>\n",
       "    </tr>\n",
       "  </tbody>\n",
       "</table>\n",
       "<p>1045 rows × 4 columns</p>\n",
       "</div>"
      ],
      "text/plain": [
       "      pokedex_number                 name  height_m  weight_kg\n",
       "923              790              Cosmoem       0.1      999.9\n",
       "699              595               Joltik       0.1        0.6\n",
       "991              854             Sinistea       0.1        0.2\n",
       "782              669              Flabébé       0.1        0.1\n",
       "896              764               Comfey       0.1        0.3\n",
       "...              ...                  ...       ...        ...\n",
       "464              384        Mega Rayquaza      10.8      392.0\n",
       "135              103     Alolan Exeggutor      10.9      415.6\n",
       "386              321              Wailord      14.5      398.0\n",
       "1032             890            Eternatus      20.0      950.0\n",
       "1033             890  Eternatus Eternamax     100.0        NaN\n",
       "\n",
       "[1045 rows x 4 columns]"
      ]
     },
     "execution_count": 62,
     "metadata": {},
     "output_type": "execute_result"
    }
   ],
   "source": [
    "df_pokedex.sort_values(\"height_m\")[[\"pokedex_number\", \"name\", \"height_m\", \"weight_kg\"]]"
   ]
  }
 ],
 "metadata": {
  "kernelspec": {
   "display_name": "Python 3 (ipykernel)",
   "language": "python",
   "name": "python3"
  },
  "language_info": {
   "codemirror_mode": {
    "name": "ipython",
    "version": 3
   },
   "file_extension": ".py",
   "mimetype": "text/x-python",
   "name": "python",
   "nbconvert_exporter": "python",
   "pygments_lexer": "ipython3",
   "version": "3.9.12"
  },
  "toc": {
   "base_numbering": 1,
   "nav_menu": {},
   "number_sections": true,
   "sideBar": true,
   "skip_h1_title": false,
   "title_cell": "Table of Contents",
   "title_sidebar": "Contents",
   "toc_cell": false,
   "toc_position": {
    "height": "calc(100% - 180px)",
    "left": "10px",
    "top": "150px",
    "width": "307.2px"
   },
   "toc_section_display": true,
   "toc_window_display": true
  }
 },
 "nbformat": 4,
 "nbformat_minor": 5
}
