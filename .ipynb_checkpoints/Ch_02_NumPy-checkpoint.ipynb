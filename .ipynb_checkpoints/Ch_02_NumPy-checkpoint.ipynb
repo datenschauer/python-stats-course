{
 "cells": [
  {
   "cell_type": "code",
   "execution_count": 9,
   "metadata": {},
   "outputs": [],
   "source": [
    "import numpy as np"
   ]
  },
  {
   "cell_type": "markdown",
   "metadata": {},
   "source": [
    "# Einführung\n",
    "\n",
    "Das Modul [**Numpy**](https://numpy.org/doc/stable/index.html) bildet, so kann man sagen, die Grundlage des gesamten *Python Science Stack*. NumPy ist eine *numerische* Programmbibliothek für das Rechnen mit Vektoren und Matrizen. Darüber hinaus bietet NumPy effektive Array Datenstrukturen, sowie Funktionen für numerische Berechnungen.\n",
    "\n",
    "Auch wenn Sie im täglichen Umgang mit NumPy eher weniger direkt in Berührung kommen, sondern mehr mit Pandas arbeiten werden (siehe Kapitel 4), so nutzt doch letzteres \"unter der Haube\" jenes NumPy. Mit NumPy ist es sehr leicht Rechenoperationen auf ganze Daten-Arrays anzuwenden, ohne *for-Schleifen* zu benutzen. Es lohnt sich also - in Vorbereitung auf den Umgang mit Pandas ein Grundverständnis von NumPy zu erwerben. Wenn Sie natürlich in ihrer wissenschaftlichen Praxis stärker auf numerische Berechnungen oder lineare Algebra setzen, dann sollten sie sich NumPy noch genauer ansehen.\n",
    "\n",
    "NumPy ist die Grundlage des kompletten Python Science Stacks:\n",
    "\n",
    "![Numpy Lifting](./img/numpy_lifting.png)\n"
   ]
  },
  {
   "cell_type": "markdown",
   "metadata": {},
   "source": [
    "## Warum NumPy?\n",
    "\n",
    "Es gibt vor allem zwei Gründe für die Entwicklung von NumPy, die übrigens schon im Jahre 1995 unter dem Acronym *Numeric* begann: einerseits eine effiziente Datenstruktur mit hoher Zugriffszeit, sowie die Möglichkeit des Rechnens mit diesen Datenstrukturen.\n",
    "\n",
    "Werfen wir zuerst einen Blick auf das Thema Geschwindigkeit. Schreiben wir ein kleine Funktion, die einfach die ganzen Zahlen von 1 bis n summiert."
   ]
  },
  {
   "cell_type": "code",
   "execution_count": 7,
   "metadata": {
    "pycharm": {
     "name": "#%%\n"
    }
   },
   "outputs": [
    {
     "name": "stdout",
     "output_type": "stream",
     "text": [
      "69.5 ms ± 359 µs per loop (mean ± std. dev. of 7 runs, 10 loops each)\n"
     ]
    }
   ],
   "source": [
    "def sum_integers(n: int) -> tuple:\n",
    "    s = 0\n",
    "    i = 1\n",
    "    while i < n:\n",
    "        s += i\n",
    "        i += 1\n",
    "    return s\n",
    "\n",
    "%timeit sum_integers(1_000_000)"
   ]
  },
  {
   "cell_type": "markdown",
   "metadata": {},
   "source": [
    "Anstatt einer \"teuren\" while-Schleife sollten wir vielleicht besser integrierte Python Funktionen wie die `sum()` Funktion oder *List-Comprehensions* verwenden, da diese auf angepassten C-Code basieren?"
   ]
  },
  {
   "cell_type": "code",
   "execution_count": 8,
   "metadata": {
    "pycharm": {
     "name": "#%%\n"
    }
   },
   "outputs": [
    {
     "name": "stdout",
     "output_type": "stream",
     "text": [
      "14.5 ms ± 522 µs per loop (mean ± std. dev. of 7 runs, 100 loops each)\n"
     ]
    }
   ],
   "source": [
    "def sum_integers_py(n: int) -> tuple:\n",
    "    return sum(range(n))\n",
    "\n",
    "%timeit sum_integers_py(1_000_000)"
   ]
  },
  {
   "cell_type": "markdown",
   "metadata": {},
   "source": [
    "Das sieht schon besser aus. Probieren wir das ganze noch mit NumPy aus."
   ]
  },
  {
   "cell_type": "code",
   "execution_count": 9,
   "metadata": {
    "pycharm": {
     "name": "#%%\n"
    }
   },
   "outputs": [
    {
     "name": "stdout",
     "output_type": "stream",
     "text": [
      "1.94 ms ± 85.9 µs per loop (mean ± std. dev. of 7 runs, 100 loops each)\n"
     ]
    }
   ],
   "source": [
    "def sum_integers_numpy(n: int) -> tuple:\n",
    "    return np.array(np.arange(n), dtype=np.int32).sum()\n",
    "\n",
    "%timeit sum_integers_numpy(1_000_000)"
   ]
  },
  {
   "cell_type": "markdown",
   "metadata": {
    "pycharm": {
     "name": "#%% md\n"
    }
   },
   "source": [
    "Wir sehen, dass NumPy die Ausführung von Code erheblich verbessern kann. Bei komplexeren Algorithmen und Berechnung kann NumPy die Ausführung sogar um den Faktor 100 verbessern.\n",
    "\n",
    "Ein weiterer Punkt ist die einfache Anwendung von Rechenoperationen auf ganze Arrays, auch mehrdimensionale. Stellen wir uns eine zwei Vektoren mit Ganzzahlen vor, deren Elemente wir in Python paarweise addieren wollen. In reinem Python müsste man etwas wie folgt schreiben (ausserdem messen wir mal wieder die Zeit:"
   ]
  },
  {
   "cell_type": "code",
   "execution_count": 4,
   "metadata": {
    "pycharm": {
     "name": "#%%\n"
    }
   },
   "outputs": [
    {
     "name": "stdout",
     "output_type": "stream",
     "text": [
      "4.52 ms ± 175 µs per loop (mean ± std. dev. of 7 runs, 100 loops each)\n"
     ]
    }
   ],
   "source": [
    "from typing import List\n",
    "import random\n",
    "\n",
    "def add_vectors(v1: List[int], v2: List[int]) -> tuple:\n",
    "\n",
    "    assert len(v1) == len(v2), \"Beide Vektoren müssen gleich lang sein!\"\n",
    "    output = [v1[i] + v2[i] for i, _ in enumerate(v1)]\n",
    "\n",
    "    return output\n",
    "\n",
    "vec1 = [random.choices(range(1, 10), k=1_000_000)]\n",
    "vec2 = [random.choices(range(1, 10), k=1_000_000)]\n",
    "\n",
    "%timeit add_vectors(vec1, vec2)"
   ]
  },
  {
   "cell_type": "markdown",
   "metadata": {},
   "source": [
    "Mit NumPy ist der Code wesentlich simpler und auch schneller."
   ]
  },
  {
   "cell_type": "code",
   "execution_count": 11,
   "metadata": {
    "pycharm": {
     "name": "#%%\n"
    }
   },
   "outputs": [
    {
     "name": "stdout",
     "output_type": "stream",
     "text": [
      "1.24 ms ± 5.11 µs per loop (mean ± std. dev. of 7 runs, 1,000 loops each)\n"
     ]
    }
   ],
   "source": [
    "def add_vectors_np(np_arr1, np_arr2) -> tuple:\n",
    "    return np_arr1 + np_arr2 # das ist alles!!\n",
    "\n",
    "np_vec1 = np.random.randint(low=1, high=9, size=1_000_000)\n",
    "np_vec2 = np.random.randint(low=1, high=9, size=1_000_000)\n",
    "\n",
    "%timeit add_vectors_np(np_vec1, np_vec2)"
   ]
  },
  {
   "cell_type": "markdown",
   "metadata": {
    "pycharm": {
     "name": "#%% md\n"
    }
   },
   "source": [
    "Im Prinzip brauchen wir also nur den \"+\" Operator (Zeile 4), um zwei Vektoren elementweise zu addieren. Das geht, wie wir später noch sehen werden auch mit mehrdimensionalen Matrizen.\n",
    "\n",
    "## NumPy Arrays: ndarray\n",
    "\n",
    "Damit dies funktioniert, arbeitet NumPy mit sog. Arrays, Datenstrukturen, auf deren Elemente sehr schnell im Speicher zugegriffen werden kann. In Numpy heiẞen diese Array-Objekte **ndarrays** (N-dimensionale Arrays). Die NumPy Arrays unterscheiden sich von klassischen sequentiellen Datenstrukturen in Python wie Listen und Tupel in folgenden Punkten:\n",
    "  - Bei ihrer Generierung haben *ndarrays* eine fest gesetzte Gröẞe, anders als Listen, die dynamisch wachsen können. Wir der Arrays verändert, wird ein neues Array erstellt und der alte im Speicher gelöscht.\n",
    "  - Alle Elemente eines Arrays müssen den gleichen Datentyp haben und damit auch die gleiche Gröẞe im Speicher. Einzige Ausnahme: jedes Python Objekt kann auch Teil eines *ndarrays* sein.\n",
    "  - Es sind, wie schon gezeigt, mathematische Funktionen für diese Arrays vorhanden, mit denen man diesen Objekten sehr effizient operieren kann, ohne viel Code zu schreiben.\n",
    "\n",
    "Wie wird nun ein *ndarray* erzeugt? Hierfür gibt es die Funktion `np.array()`, dem wir eine ganze normale Python Liste samt Elementen übergeben."
   ]
  },
  {
   "cell_type": "code",
   "execution_count": 34,
   "metadata": {
    "pycharm": {
     "name": "#%%\n"
    }
   },
   "outputs": [
    {
     "name": "stdout",
     "output_type": "stream",
     "text": [
      "[2 3 5]\n",
      "int64\n"
     ]
    }
   ],
   "source": [
    "obj = np.array([2, 3, 5])\n",
    "\n",
    "print(obj)\n",
    "print(obj.dtype)"
   ]
  },
  {
   "cell_type": "markdown",
   "metadata": {},
   "source": [
    "### Verschiedene Dimensionen"
   ]
  },
  {
   "cell_type": "markdown",
   "metadata": {},
   "source": [
    "Auch mehrdimensionale Matrizen kann man so erzeugen. Dabei gibt dann die Methode `.shape` ein Tupel mit der Gröẞe der Dimensionen zurück."
   ]
  },
  {
   "cell_type": "code",
   "execution_count": 3,
   "metadata": {
    "pycharm": {
     "name": "#%%\n"
    }
   },
   "outputs": [
    {
     "name": "stdout",
     "output_type": "stream",
     "text": [
      "(4,)\n",
      "(2, 4)\n"
     ]
    }
   ],
   "source": [
    "obj1 = np.array([1, 2, 3, 4])\n",
    "\n",
    "print(obj1.shape)\n",
    "\n",
    "obj2 = np.array([[1, 2, 3 , 4], [4, 3, 2, 1]])\n",
    "\n",
    "print(obj2.shape)"
   ]
  },
  {
   "cell_type": "markdown",
   "metadata": {},
   "source": [
    "Den obigen Numpy Array `obj1` nennt man auch einen *Vektor*, da dieser nur *eine* Dimension hat. `obj2` nennt man eine *Matrix* (Pl. *Matrizen*), da es min. zwei Dimensionen hat.\n",
    "\n",
    "Natürlich kann man dieses Dimensionen-Spielchen theoretisch unendlich weiterführen. Einen Array mit drei oder mehr Dimensionen nennt man *Tensor*.\n",
    "\n",
    "\n",
    "Man erzeugt einen Tesor indem man einen `ndarray` aus einer Liste von zweidimensionalen Listen erzeugt. Einen dreidimensionalen Tensor kann man sich dabei wie einen Rubic's Cube vorstellen:\n",
    "\n",
    "![Rubics Cube](./img/rubics_cube.png)\n"
   ]
  },
  {
   "cell_type": "code",
   "execution_count": 5,
   "metadata": {},
   "outputs": [
    {
     "name": "stdout",
     "output_type": "stream",
     "text": [
      "[[[1 3 4 6]\n",
      "  [3 4 6 8]]\n",
      "\n",
      " [[3 2 4 5]\n",
      "  [7 6 8 9]]\n",
      "\n",
      " [[0 1 9 2]\n",
      "  [2 3 4 5]]] \n",
      "\n",
      "(3, 2, 4)\n"
     ]
    }
   ],
   "source": [
    "# Bau eines Tensors:\n",
    "\n",
    "matrix1 = np.array([[1, 3, 4, 6], [3, 4, 6, 8]])\n",
    "matrix2 = np.array([[3, 2, 4, 5], [7, 6, 8, 9]])\n",
    "matrix3 = np.array([[0, 1, 9, 2], [2, 3, 4, 5]])\n",
    "\n",
    "tensor = np.array([ matrix1, matrix2, matrix3 ])\n",
    "\n",
    "print(tensor, \"\\n\")\n",
    "\n",
    "print(tensor.shape)"
   ]
  },
  {
   "cell_type": "markdown",
   "metadata": {},
   "source": [
    "Mehr als drei Dimensionen mental zu visualisieren ist nicht leicht. Eine Analogie aus dem täglichen Leben mag aber helfen:\n",
    "\n",
    "- **2d:** Zeilen und Spalten\n",
    "- **3d:** Rubic's Cube\n",
    "- **4d:** eine Schublade voll Rubic's Cubes\n",
    "- **5d:** ein Schreibtisch mit mehreren Schubladen voll Rubic's Cubes\n",
    "- **6d:** eine Halle voller Schreibtische voller ...\n",
    "- **7d:** eine Strasse mit aneinandergereihten Hallen voll Schreibtischen voller ...\n",
    "- **8d:** usw. usw."
   ]
  },
  {
   "cell_type": "markdown",
   "metadata": {},
   "source": [
    "### Reshaping: Dimensionalität eines Arrays ändern"
   ]
  },
  {
   "cell_type": "code",
   "execution_count": 37,
   "metadata": {},
   "outputs": [
    {
     "data": {
      "text/plain": [
       "array([0.07577703, 0.18296765, 0.3815572 , 0.65996948, 0.4090701 ,\n",
       "       0.01781561, 0.97175778, 0.83406886, 0.67816953, 0.24786406,\n",
       "       0.60499526, 0.05079986, 0.45416034, 0.09310783, 0.24321022,\n",
       "       0.49970621, 0.97369553, 0.85582997, 0.48320226, 0.24374454,\n",
       "       0.57625401, 0.79844426, 0.766802  , 0.05443447, 0.34698395,\n",
       "       0.06326955, 0.17598786, 0.66710207, 0.97283418, 0.08676807,\n",
       "       0.36812202, 0.93402745, 0.22196877, 0.57735632, 0.35003402,\n",
       "       0.63418873, 0.37301791, 0.15490323, 0.93070257, 0.99722966,\n",
       "       0.20541414, 0.54584344, 0.30894953, 0.4967581 , 0.40492626,\n",
       "       0.22695421, 0.79408981, 0.99128646, 0.46311518, 0.46632964,\n",
       "       0.35630957, 0.94812049, 0.99515735, 0.17275415, 0.17770771,\n",
       "       0.08874882, 0.78241352, 0.8130535 , 0.86901777, 0.6021382 ,\n",
       "       0.17547372, 0.98358022, 0.21233344, 0.85198975, 0.71398665,\n",
       "       0.07995013, 0.73484094, 0.5765781 , 0.7705718 , 0.17800072,\n",
       "       0.42522338, 0.05985425, 0.96867854, 0.92532577, 0.12690123,\n",
       "       0.6785013 , 0.30271922, 0.39225781, 0.5970418 , 0.81799404,\n",
       "       0.75358811, 0.59623479, 0.36936812, 0.45873617, 0.55229781,\n",
       "       0.55423737, 0.25799113, 0.71912137, 0.6467662 , 0.48031308,\n",
       "       0.17994138, 0.99818409, 0.36254757, 0.72981976, 0.75291547,\n",
       "       0.64425361, 0.38866347, 0.10294902, 0.3777478 , 0.83944138,\n",
       "       0.47646663, 0.91493865, 0.50173017, 0.95704724, 0.95216434,\n",
       "       0.29374352, 0.79123282, 0.15362843, 0.0116754 , 0.61271055,\n",
       "       0.94393454, 0.63869895, 0.05169086, 0.76587492, 0.75954973,\n",
       "       0.1271959 , 0.95452148, 0.4903279 , 0.17912713, 0.98046991,\n",
       "       0.63858176, 0.17381686, 0.86546397, 0.46784642, 0.18968658,\n",
       "       0.14281088, 0.145717  , 0.14305016, 0.81284411, 0.65544288,\n",
       "       0.9007102 , 0.69806446, 0.31509658, 0.69706165, 0.909355  ,\n",
       "       0.23938022, 0.41402146, 0.15000611, 0.96858747, 0.0126223 ,\n",
       "       0.49480891, 0.85313901, 0.49095733, 0.75513652, 0.61825894,\n",
       "       0.37205607, 0.69723354, 0.36377975, 0.41551607, 0.49764725,\n",
       "       0.00164624, 0.69094871, 0.4841584 , 0.0177802 , 0.99316231,\n",
       "       0.99831446, 0.89505149, 0.41807014, 0.82887472, 0.71480618,\n",
       "       0.71317356, 0.48340587, 0.7563316 , 0.81681409, 0.03552026,\n",
       "       0.98406787, 0.85486611, 0.20636002, 0.77042422, 0.45020893,\n",
       "       0.17066035, 0.03182344, 0.68811677, 0.07172258, 0.53937031,\n",
       "       0.40729422, 0.6480895 , 0.83026353, 0.62920071, 0.6884327 ,\n",
       "       0.33010735, 0.33178181, 0.31781806, 0.41012513, 0.85440282,\n",
       "       0.60155662, 0.76946273, 0.90044099, 0.98500988, 0.4796914 ,\n",
       "       0.65303569, 0.84596836, 0.11751622, 0.87315589, 0.61490156,\n",
       "       0.08309551, 0.66227602, 0.73227045, 0.92671792, 0.53961536,\n",
       "       0.6466374 , 0.8733407 , 0.07743433, 0.90361312, 0.57366023,\n",
       "       0.45041646, 0.26748235, 0.35362054, 0.82711631, 0.00769435,\n",
       "       0.84600656, 0.31635908, 0.41687304, 0.19607198, 0.5843071 ,\n",
       "       0.20900888, 0.03717041, 0.99514835, 0.0574196 , 0.63759067,\n",
       "       0.75745063, 0.21280396, 0.34954221, 0.09948013, 0.38543163,\n",
       "       0.21003728, 0.24601639, 0.62343825, 0.06836972, 0.09491999,\n",
       "       0.54904768, 0.11525616, 0.47860186, 0.40235929, 0.67799587,\n",
       "       0.48289242, 0.69156355, 0.96335759, 0.86649095, 0.15028373,\n",
       "       0.39993575, 0.58833827, 0.41786928, 0.9213968 , 0.42672544,\n",
       "       0.96708269, 0.46884347, 0.01241259, 0.35615047, 0.09204646,\n",
       "       0.36363611, 0.1053613 , 0.07717507, 0.00160627, 0.64737546,\n",
       "       0.04281037, 0.61697784, 0.28914501, 0.05225612, 0.2277371 ,\n",
       "       0.25822275, 0.87967127, 0.68798579, 0.67787573, 0.71459019,\n",
       "       0.84677254, 0.12737278, 0.02506312, 0.90562911, 0.45224083,\n",
       "       0.46548787, 0.6165287 , 0.97215371, 0.44344488, 0.61166561,\n",
       "       0.11667586, 0.76778352, 0.56692846, 0.45115849, 0.85329962,\n",
       "       0.82977815, 0.68068535, 0.60950255, 0.36733783, 0.11708715,\n",
       "       0.86879613, 0.32707798, 0.2110107 , 0.76691895, 0.2494347 ,\n",
       "       0.28297065, 0.38487392, 0.35066852, 0.16710313, 0.0976665 ,\n",
       "       0.94768313, 0.91311683, 0.67320128, 0.85851289, 0.92932907,\n",
       "       0.48406712, 0.87137776, 0.47906419, 0.81949841, 0.53612466,\n",
       "       0.40334027, 0.03424939, 0.97910268, 0.59407751, 0.68788672,\n",
       "       0.54553964, 0.82989368, 0.24125569, 0.84780409, 0.13841665,\n",
       "       0.04178767, 0.45913886, 0.3340665 , 0.1581014 , 0.60841886,\n",
       "       0.43931664, 0.59822186, 0.05331168, 0.86337452, 0.73663125,\n",
       "       0.58061243, 0.93711017, 0.03820608, 0.99385566, 0.45783972,\n",
       "       0.57864181, 0.02646795, 0.77453709, 0.84874165, 0.08312796,\n",
       "       0.23696072, 0.61481371, 0.18266186, 0.69241832, 0.76349792,\n",
       "       0.5075766 , 0.75547871, 0.3521463 , 0.36885526, 0.21129914,\n",
       "       0.32551694, 0.09205002, 0.8733092 , 0.16820362, 0.47367194,\n",
       "       0.03887393, 0.13792233, 0.78664739, 0.24973917, 0.91145401,\n",
       "       0.41703746, 0.56401388, 0.11081816, 0.8730935 , 0.5502462 ,\n",
       "       0.23641452, 0.87243071, 0.5733906 , 0.20865455, 0.48484326,\n",
       "       0.82819206, 0.97778559, 0.02133097, 0.68161879, 0.48371688,\n",
       "       0.88935051, 0.17278863, 0.23368977, 0.33908978, 0.35056745,\n",
       "       0.66435751, 0.85323508, 0.53575668, 0.63179493, 0.63721225,\n",
       "       0.29197639, 0.32832186, 0.02833541, 0.07773344, 0.09594348,\n",
       "       0.03718571, 0.61326667, 0.58119081, 0.2759131 , 0.47790654,\n",
       "       0.23614101, 0.72936415, 0.51230411, 0.76527321, 0.20723129,\n",
       "       0.69100153, 0.92991258, 0.87850083, 0.61087757, 0.20217693,\n",
       "       0.55417876, 0.36466665, 0.76811028, 0.92634569, 0.00348377,\n",
       "       0.05430845, 0.65442673, 0.68772078, 0.19094729, 0.47673962,\n",
       "       0.47850418, 0.39414459, 0.1717941 , 0.86623553, 0.67301161,\n",
       "       0.35839803, 0.96243728, 0.07100443, 0.00782239, 0.80540436,\n",
       "       0.84907209, 0.00351853, 0.73716651, 0.42364092, 0.37756518,\n",
       "       0.36760424, 0.64571851, 0.85870457, 0.50206213, 0.67911151,\n",
       "       0.32928239, 0.83245485, 0.22909256, 0.15991885, 0.67785925,\n",
       "       0.67337449, 0.94145668, 0.42406376, 0.76366112, 0.01540321,\n",
       "       0.94338773, 0.15317085, 0.92044794, 0.64119633, 0.15455085,\n",
       "       0.64109544, 0.18386231, 0.61149288, 0.19697791, 0.34221706,\n",
       "       0.78897668, 0.92223286, 0.97752942, 0.33344413, 0.64526906,\n",
       "       0.65100198, 0.18150113, 0.06081805, 0.81948928, 0.66358778,\n",
       "       0.42358053, 0.94186339, 0.71271467, 0.06450152, 0.6393609 ,\n",
       "       0.6556593 , 0.56962262, 0.87248553, 0.43014515, 0.80360863,\n",
       "       0.22631126, 0.18264161, 0.35910927, 0.78976417, 0.23000347,\n",
       "       0.75172543, 0.90451762, 0.43748189, 0.52564335, 0.38709175,\n",
       "       0.27761376, 0.28275288, 0.64631054, 0.47157686, 0.92143031,\n",
       "       0.73848467, 0.40001379, 0.56140868, 0.9286301 , 0.20279879,\n",
       "       0.4637482 , 0.04016791, 0.86912908, 0.49643632, 0.12025795,\n",
       "       0.47449795, 0.27956676, 0.99556552, 0.3542612 , 0.78584411,\n",
       "       0.89175873, 0.53830804, 0.21262706, 0.68060762, 0.85611024,\n",
       "       0.99850773, 0.55398791, 0.61995832, 0.46602254, 0.83011803,\n",
       "       0.256268  , 0.73125699, 0.94114046, 0.58132804, 0.236385  ,\n",
       "       0.2483566 , 0.12578435, 0.09267624, 0.6687782 , 0.60823487,\n",
       "       0.7154796 , 0.33537327, 0.51122446, 0.21627564, 0.48094956,\n",
       "       0.41810311, 0.02877818, 0.92532496, 0.48734739, 0.47048443,\n",
       "       0.55606382, 0.03603213, 0.26294131, 0.82754243, 0.48505679,\n",
       "       0.55095885, 0.08000981, 0.95270661, 0.21983818, 0.41238815,\n",
       "       0.34525404, 0.87724727, 0.13309417, 0.44045084, 0.13822321,\n",
       "       0.9300309 , 0.11842776, 0.31485903, 0.66274035, 0.78840901,\n",
       "       0.93501105, 0.44483566, 0.58687783, 0.08680277, 0.50031393,\n",
       "       0.76935478, 0.03255477, 0.81874855, 0.56535755, 0.50210423,\n",
       "       0.56963207, 0.877835  , 0.71503334, 0.05881655, 0.85646619,\n",
       "       0.29852921, 0.46760023, 0.14337012, 0.09188   , 0.70205735,\n",
       "       0.59930891, 0.96991413, 0.8507316 , 0.76415382, 0.79222077,\n",
       "       0.63396889, 0.22984655, 0.45041371, 0.10956389, 0.67469721,\n",
       "       0.97530573, 0.67465965, 0.56369112, 0.80196256, 0.32163277,\n",
       "       0.89992056, 0.35404405, 0.94180415, 0.99346654, 0.71762327,\n",
       "       0.59980364, 0.19125083, 0.07811709, 0.96181865, 0.91669563,\n",
       "       0.57575594, 0.01284797, 0.53341876, 0.10612   , 0.39759988,\n",
       "       0.75446129, 0.07426891, 0.65653847, 0.80007386, 0.30633113,\n",
       "       0.58803899, 0.84513283, 0.41170281, 0.4557746 , 0.63349449,\n",
       "       0.37458616, 0.41561796, 0.27218452, 0.42153666, 0.79869896,\n",
       "       0.35173171, 0.06416245, 0.11874907, 0.3356881 , 0.67625527,\n",
       "       0.56530368, 0.29011279, 0.41587716, 0.91178992, 0.87225023,\n",
       "       0.97208453, 0.17923629, 0.60551135, 0.07776138, 0.6125481 ,\n",
       "       0.65078431, 0.93086726, 0.98912129, 0.60779515, 0.52507214,\n",
       "       0.01737334, 0.05377033, 0.37969938, 0.11231709, 0.6123245 ,\n",
       "       0.45500292, 0.63004994, 0.42246892, 0.30652933, 0.04077445,\n",
       "       0.15394888, 0.32808371, 0.03798084, 0.69435396, 0.17306871,\n",
       "       0.57011495, 0.49720981, 0.821384  , 0.35524314, 0.23147429,\n",
       "       0.03052024, 0.30594026, 0.75260668, 0.91975845, 0.51392331,\n",
       "       0.80620065, 0.81552187, 0.28902411, 0.93873989, 0.25625472,\n",
       "       0.34968105, 0.66334503, 0.28972919, 0.81446739, 0.35110659,\n",
       "       0.20097723, 0.45180656, 0.35155803, 0.38088635, 0.35637959,\n",
       "       0.3571714 , 0.97055928, 0.29314453, 0.97598529, 0.57241179,\n",
       "       0.24827262, 0.3507967 , 0.68678874, 0.43931407, 0.04895273,\n",
       "       0.68703208, 0.70603051, 0.45475224, 0.32416367, 0.43908272,\n",
       "       0.78932116, 0.800212  , 0.32827605, 0.49259785, 0.90303069,\n",
       "       0.89777803, 0.62267849, 0.99992019, 0.43856449, 0.30827794,\n",
       "       0.58403216, 0.09385273, 0.04004111, 0.27597435, 0.04479027,\n",
       "       0.63031733, 0.91927156, 0.25275237, 0.34027152, 0.87974904,\n",
       "       0.98544151, 0.00154811, 0.76580031, 0.6975828 , 0.32065106,\n",
       "       0.32820843, 0.42830767, 0.97669684, 0.84503044, 0.9441441 ,\n",
       "       0.20020761, 0.93454084, 0.67260957, 0.81658438, 0.73014046,\n",
       "       0.85382663, 0.88198905, 0.00471704, 0.99271257, 0.62233524,\n",
       "       0.13272673, 0.12547519, 0.16053244, 0.78237617, 0.47908528,\n",
       "       0.39475953, 0.76634757, 0.771916  , 0.40602492, 0.82215742,\n",
       "       0.99934999, 0.69351315, 0.32848775, 0.445067  , 0.82631684,\n",
       "       0.14845977, 0.77045365, 0.14968898, 0.78202297, 0.50160049,\n",
       "       0.76231038, 0.83715106, 0.69310588, 0.13692405, 0.62200559,\n",
       "       0.16311388, 0.85207331, 0.28014028, 0.88991189, 0.58647901,\n",
       "       0.44639318, 0.82246823, 0.42343668, 0.32919588, 0.56044047,\n",
       "       0.55414147, 0.54129957, 0.58673317, 0.99320739, 0.24300458,\n",
       "       0.08598849, 0.94567071, 0.5208239 , 0.42918369, 0.27832798,\n",
       "       0.57915464, 0.19826606, 0.5542642 , 0.61722349, 0.14268229,\n",
       "       0.14697338, 0.63658175, 0.85046508, 0.83778041, 0.57096929,\n",
       "       0.46036687, 0.40251532, 0.08006129, 0.54135374, 0.798142  ,\n",
       "       0.64415598, 0.80520224, 0.10442489, 0.6058864 , 0.75047579,\n",
       "       0.59431218, 0.4967748 , 0.70588328, 0.13058041, 0.88087093,\n",
       "       0.99675778, 0.8714205 , 0.09123475, 0.12200634, 0.94301722,\n",
       "       0.53234797, 0.50420805, 0.26345476, 0.29243455, 0.39077865,\n",
       "       0.68700989, 0.38634044, 0.20203153, 0.59511197, 0.82217556,\n",
       "       0.85676157, 0.1032683 , 0.27563577, 0.45063754, 0.11902041,\n",
       "       0.14852937, 0.80507404, 0.57137184, 0.74672172, 0.92924868,\n",
       "       0.36039465, 0.47572381, 0.95723964, 0.81294958, 0.90548745,\n",
       "       0.32680496, 0.61592039, 0.70469624, 0.77063849, 0.48407325,\n",
       "       0.3796831 , 0.46481149, 0.63474393, 0.59450144, 0.17411315,\n",
       "       0.26083518, 0.43541281, 0.76097097, 0.58211983, 0.36308405,\n",
       "       0.21728568, 0.21146166, 0.51341021, 0.98526647, 0.59306253,\n",
       "       0.68460792, 0.36186687, 0.40806697, 0.69578332, 0.6597674 ,\n",
       "       0.83777824, 0.55699772, 0.99266601, 0.73428276, 0.7523628 ,\n",
       "       0.47230526, 0.09755433, 0.51136135, 0.50756157, 0.66748509,\n",
       "       0.10868878, 0.41112676, 0.99736428, 0.6723788 , 0.40944948,\n",
       "       0.05759641, 0.57971003, 0.72507117, 0.69383145, 0.13541781,\n",
       "       0.72345514, 0.33830596, 0.00844017, 0.53869553, 0.51824919,\n",
       "       0.7710469 , 0.79115653, 0.56274357, 0.55460063, 0.07301563,\n",
       "       0.16616938, 0.45910453, 0.48045482, 0.09420998, 0.9341689 ,\n",
       "       0.00290704, 0.31515489, 0.58253896, 0.36926659, 0.11638336,\n",
       "       0.65309475, 0.75707254, 0.32449268, 0.60392976, 0.41588189,\n",
       "       0.30792282, 0.83573641, 0.97762331, 0.74745693, 0.75605678,\n",
       "       0.4099366 , 0.69651754, 0.78619972, 0.52039537, 0.59509144,\n",
       "       0.07870963, 0.64647167, 0.19444432, 0.39245527, 0.15505446,\n",
       "       0.9267817 , 0.38077359, 0.23823525, 0.73438465, 0.55391037,\n",
       "       0.58521628, 0.68634696, 0.18003621, 0.07233074, 0.83211058,\n",
       "       0.58921195, 0.83195658, 0.01683161, 0.50893207, 0.81910579,\n",
       "       0.20584566, 0.35980556, 0.44389376, 0.55517018, 0.98884522,\n",
       "       0.07591142, 0.36098832, 0.16842734, 0.00121041, 0.14235353,\n",
       "       0.24234702, 0.47350518, 0.70527696, 0.39426584, 0.71223494,\n",
       "       0.21146772, 0.50240228, 0.19906488, 0.16446165, 0.93426478,\n",
       "       0.22150749, 0.98089809, 0.27774301, 0.09137756, 0.07999804,\n",
       "       0.77328695, 0.25695747, 0.41472674, 0.99698381, 0.4630009 ,\n",
       "       0.97361652, 0.36215299, 0.46740884, 0.68493896, 0.69969643,\n",
       "       0.22088479, 0.66754473, 0.34314999, 0.49848751, 0.89136659,\n",
       "       0.36179705, 0.58047965, 0.89642698, 0.55388356, 0.57623775,\n",
       "       0.05017419, 0.87838063, 0.64101838, 0.76547967, 0.66632402,\n",
       "       0.68860208, 0.49488411, 0.25270448, 0.66589893, 0.42884686,\n",
       "       0.25615354, 0.15033061, 0.56874926, 0.98910262, 0.94443332,\n",
       "       0.35828075, 0.47906238, 0.59831251, 0.0367301 , 0.7717099 ,\n",
       "       0.49950285, 0.39454978, 0.50296881, 0.47047854, 0.90791369])"
      ]
     },
     "execution_count": 37,
     "metadata": {},
     "output_type": "execute_result"
    }
   ],
   "source": [
    "arr = np.random.random(1_000)\n",
    "\n",
    "np.reshape(arr, (-1, 20))\n",
    "\n",
    "arr"
   ]
  },
  {
   "cell_type": "markdown",
   "metadata": {},
   "source": [
    "## Vektoren und Matrizen direkt erzeugen lassen"
   ]
  },
  {
   "cell_type": "markdown",
   "metadata": {},
   "source": [
    "### np.random"
   ]
  },
  {
   "cell_type": "markdown",
   "metadata": {},
   "source": [
    "### np.linspace"
   ]
  },
  {
   "cell_type": "markdown",
   "metadata": {},
   "source": [
    "## Numpy Datentypen dtypes\n",
    "\n",
    "Das Typsystem von Numpy ist umfangreicher und angepasster als das Typsystem von Python."
   ]
  },
  {
   "cell_type": "markdown",
   "metadata": {},
   "source": [
    "### Typ Coersion"
   ]
  },
  {
   "cell_type": "markdown",
   "metadata": {},
   "source": [
    "## Indexing und Slicing"
   ]
  },
  {
   "cell_type": "markdown",
   "metadata": {},
   "source": [
    "## Filtering"
   ]
  },
  {
   "cell_type": "markdown",
   "metadata": {},
   "source": [
    "## Achsen"
   ]
  },
  {
   "cell_type": "markdown",
   "metadata": {},
   "source": [
    "## Daten zusammenfügen und entfernen"
   ]
  },
  {
   "cell_type": "markdown",
   "metadata": {},
   "source": [
    "### np.concatenate()"
   ]
  },
  {
   "cell_type": "markdown",
   "metadata": {},
   "source": [
    "Mit der `NumPy` Methode `.concatenate` lassen sich mehrere Arrays zusammenfügen. Die Funktion nimmt ein Tupel, das die Arrays enthält, zusammen mit einem Argument für die Achse, an der zusammengefügt werden soll, entgegen:\n",
    "```\n",
    "np.concatenate((arr1, arr2, ...), axis=0)\n",
    "```\n",
    "Aber vorsicht. Die übergebenen Arrays müssen eine gleichlange Dimension haben, an der sie zusammengefügt werden können."
   ]
  },
  {
   "cell_type": "code",
   "execution_count": 22,
   "metadata": {},
   "outputs": [
    {
     "ename": "ValueError",
     "evalue": "all the input arrays must have same number of dimensions, but the array at index 0 has 2 dimension(s) and the array at index 1 has 1 dimension(s)",
     "output_type": "error",
     "traceback": [
      "\u001b[0;31m---------------------------------------------------------------------------\u001b[0m",
      "\u001b[0;31mValueError\u001b[0m                                Traceback (most recent call last)",
      "Input \u001b[0;32mIn [22]\u001b[0m, in \u001b[0;36m<cell line: 5>\u001b[0;34m()\u001b[0m\n\u001b[1;32m      1\u001b[0m arr1 \u001b[38;5;241m=\u001b[39m np\u001b[38;5;241m.\u001b[39marray([[\u001b[38;5;241m1\u001b[39m, \u001b[38;5;241m2\u001b[39m], [\u001b[38;5;241m3\u001b[39m, \u001b[38;5;241m4\u001b[39m]])\n\u001b[1;32m      3\u001b[0m arr2 \u001b[38;5;241m=\u001b[39m np\u001b[38;5;241m.\u001b[39marray([\u001b[38;5;241m5\u001b[39m, \u001b[38;5;241m6\u001b[39m])\n\u001b[0;32m----> 5\u001b[0m \u001b[43mnp\u001b[49m\u001b[38;5;241;43m.\u001b[39;49m\u001b[43mconcatenate\u001b[49m\u001b[43m(\u001b[49m\u001b[43m(\u001b[49m\u001b[43marr1\u001b[49m\u001b[43m,\u001b[49m\u001b[43m \u001b[49m\u001b[43marr2\u001b[49m\u001b[43m)\u001b[49m\u001b[43m)\u001b[49m\n",
      "File \u001b[0;32m<__array_function__ internals>:5\u001b[0m, in \u001b[0;36mconcatenate\u001b[0;34m(*args, **kwargs)\u001b[0m\n",
      "\u001b[0;31mValueError\u001b[0m: all the input arrays must have same number of dimensions, but the array at index 0 has 2 dimension(s) and the array at index 1 has 1 dimension(s)"
     ]
    }
   ],
   "source": [
    "arr1 = np.array([[1, 2], [3, 4]])\n",
    "\n",
    "arr2 = np.array([5, 6])\n",
    "\n",
    "np.concatenate((arr1, arr2))"
   ]
  },
  {
   "cell_type": "markdown",
   "metadata": {},
   "source": [
    "Warum kommt hier eine Fehlermeldung? Schauen wir uns die Dimensionen der beiden Arrays einmal genauer an."
   ]
  },
  {
   "cell_type": "code",
   "execution_count": 14,
   "metadata": {},
   "outputs": [
    {
     "name": "stdout",
     "output_type": "stream",
     "text": [
      "(2, 2) (2,)\n"
     ]
    }
   ],
   "source": [
    "print(arr1.shape, arr2.shape)"
   ]
  },
  {
   "cell_type": "markdown",
   "metadata": {},
   "source": [
    "Wir sehen, dass `arr2` nur eine einzige Dimension hat, also ein Vektor ist. `arr1` dagegen ist eine Matrix mit 2 Dimensionen. Wir müssen also `arr2` erst in eine zweidimensionale Form mit Hilfe der Funktion `.reshape()` bringen. Dann klappt auch die Concatination."
   ]
  },
  {
   "cell_type": "code",
   "execution_count": 26,
   "metadata": {},
   "outputs": [
    {
     "name": "stdout",
     "output_type": "stream",
     "text": [
      "(1, 2) \n",
      "\n",
      "[[1 2]\n",
      " [3 4]\n",
      " [5 6]]\n"
     ]
    }
   ],
   "source": [
    "arr2 = arr2.reshape((1, 2))\n",
    "\n",
    "print(arr2.shape, '\\n')\n",
    "\n",
    "arr3 = np.concatenate((arr1, arr2))\n",
    "\n",
    "print(arr3)"
   ]
  },
  {
   "cell_type": "markdown",
   "metadata": {},
   "source": [
    "Natürlich kann man die Dimensionen auch anders setzen und über den Parameter `axis=` die Achse bennen, an der die zwei Arrays aneinandergefügt werden soll. Dazu müssen wir unseren Array `arr2` aber noch einmal in die richtige Form bringen."
   ]
  },
  {
   "cell_type": "code",
   "execution_count": 28,
   "metadata": {},
   "outputs": [
    {
     "name": "stdout",
     "output_type": "stream",
     "text": [
      "[[1 2 5]\n",
      " [3 4 6]]\n"
     ]
    }
   ],
   "source": [
    "arr2 = arr2.reshape((2, 1))\n",
    "\n",
    "arr4 = np.concatenate((arr1, arr2), axis=1)\n",
    "\n",
    "print(arr4)"
   ]
  },
  {
   "cell_type": "code",
   "execution_count": 30,
   "metadata": {},
   "outputs": [
    {
     "name": "stdout",
     "output_type": "stream",
     "text": [
      "[[5 1 2 3 1 2 5]\n",
      " [6 4 5 6 3 4 6]]\n"
     ]
    }
   ],
   "source": [
    "arr3 = arr3.reshape(2, 3)\n",
    "\n",
    "arr5 = np.concatenate((arr2, arr3, arr4), axis=1)\n",
    "\n",
    "print(arr5)"
   ]
  },
  {
   "cell_type": "markdown",
   "metadata": {},
   "source": [
    "### np.delete()"
   ]
  },
  {
   "cell_type": "markdown",
   "metadata": {},
   "source": []
  },
  {
   "cell_type": "markdown",
   "metadata": {},
   "source": [
    "## Numpy Arrays Laden und Speichern"
   ]
  },
  {
   "cell_type": "markdown",
   "metadata": {},
   "source": [
    "### Dateistreams mit Python öffnen\n",
    "\n",
    "Für das Lesen von Dateien von der Festplatte steht die Funktion `open()` in Python zur Verfügung. Als Arguemente braucht Sie mindestens einen Pfad zur Datei und den Dateinamen als String, sowie einen bestimmten *Modus* zum Öffnen der Datei ebenfalls als String. Optional können auch noch Informationen zur Codierung der Datei übergeben werden.\n",
    "\n",
    "`open(\"Pfad zur Datei + Name\", \"Modus\")`\n",
    "\n",
    "Folgende Modi stehen zur Verfügung:\n",
    "\n",
    "| Modus | Bedeutung                                  |\n",
    "|-------|--------------------------------------------|\n",
    "| \"r\"   | Datei wird nur lesend geöffnet.            |\n",
    "| \"w\"   | Datei wird nur schreibend geöffnet.        |\n",
    "| \"r+\"  | Datei wird lesend und schreibend geöffnet. |\n",
    "| \"rb+\" | Datei wird im Binärformat geöffnet.        |\n",
    "\n",
    "Damit kein Datenverlust erfolgt, muss eine Datei, wenn Sie eingelesen und verarbeitet wurde, **immer** mit der Methode `.close()` geschlossen werden!"
   ]
  },
  {
   "cell_type": "code",
   "execution_count": 5,
   "metadata": {},
   "outputs": [
    {
     "name": "stdout",
     "output_type": "stream",
     "text": [
      "<class '_io.TextIOWrapper'>\n"
     ]
    }
   ],
   "source": [
    "file = open(\"img/numpy_logo.png\", \"r\")\n",
    "\n",
    "print(type(file))\n",
    "\n",
    "file.close()"
   ]
  },
  {
   "cell_type": "markdown",
   "metadata": {},
   "source": [
    "Damit möglichst kein Datenverlust geschieht öffnet man Dateien in Python normalerweise in einem sog. *With-Block*. Dieser sorgt dafür, dass selbst bei missglückten Operationen auf den Dateistream, dieser wieder sauber geschlossen wird.\n",
    "\n",
    "Die Syntax sieht wie folgt aus:\n",
    "```\n",
    "with open(...) as <name>:\n",
    "    mach etwas mit <name>\n",
    "```"
   ]
  },
  {
   "cell_type": "code",
   "execution_count": 7,
   "metadata": {},
   "outputs": [
    {
     "name": "stdout",
     "output_type": "stream",
     "text": [
      "<class '_io.TextIOWrapper'>\n"
     ]
    }
   ],
   "source": [
    "with open(\"img/numpy_logo.png\", \"r\") as file:\n",
    "    print(type(file))"
   ]
  },
  {
   "cell_type": "markdown",
   "metadata": {},
   "source": [
    "### np.save() und np.load()"
   ]
  },
  {
   "cell_type": "markdown",
   "metadata": {},
   "source": [
    "So können wir nun Numpy Arrays speichern und auch wieder öffnen. Dazu stehen und die Numpy Funktionen `np.save()` und `np.load()` zur Verfügung. Folgende *Dateiformate* stehen uns dabei zur Verfügung:\n",
    "\n",
    "- `.csv` (Komma separierte Textdatei)\n",
    "- `.txt` (reine Textdatei)\n",
    "- `.pkl` (eine Pickle Datei)\n",
    "- `.npy` (das NumPy eigene Format)\n",
    "\n",
    "Am effizientesten ist tatsächlich die Speicherung als `.npy` Datei."
   ]
  },
  {
   "cell_type": "code",
   "execution_count": 12,
   "metadata": {},
   "outputs": [],
   "source": [
    "new_arr = np.random.random(100).reshape(5, 20)\n",
    "\n",
    "with open(\"data/test_save.npy\", \"wb\") as file:\n",
    "    np.save(file, new_arr)"
   ]
  },
  {
   "cell_type": "markdown",
   "metadata": {},
   "source": [
    "Genauso können wir mit der Funktion `np.load()` eine `.npy` Datei wieder einlesen."
   ]
  },
  {
   "cell_type": "code",
   "execution_count": 13,
   "metadata": {},
   "outputs": [
    {
     "data": {
      "text/plain": [
       "array([0.89129808, 0.19778473, 0.41641027, 0.67294669, 0.58948442,\n",
       "       0.8583714 , 0.59618886, 0.80257135, 0.88723119, 0.29273734,\n",
       "       0.44690206, 0.72438551, 0.92043573, 0.88708781, 0.80793182,\n",
       "       0.30377051, 0.705016  , 0.82430651, 0.32786455, 0.67468352])"
      ]
     },
     "execution_count": 13,
     "metadata": {},
     "output_type": "execute_result"
    }
   ],
   "source": [
    "with open(\"data/test_save.npy\", \"rb\") as file:\n",
    "    loaded_arr = np.load(file)\n",
    "    \n",
    "loaded_arr[1]"
   ]
  },
  {
   "cell_type": "markdown",
   "metadata": {},
   "source": [
    "# Mathematische und Statistische Funktionen mit NumPy"
   ]
  },
  {
   "cell_type": "markdown",
   "metadata": {},
   "source": [
    "## Mathematische Operationen"
   ]
  },
  {
   "cell_type": "markdown",
   "metadata": {},
   "source": [
    "## Broadcasting\n",
    "\n",
    "\"Broadcasting\" nennt man ..."
   ]
  },
  {
   "cell_type": "markdown",
   "metadata": {},
   "source": [
    "Um erfolgreich einen Array auf einen anderen zu broadcasten, muss *eine von zwei Bedingungen* für **alle** Dimensionen der Arrays gelten:\n",
    "- die Länge einer der zu vergleichende Dimensionen ist 1,\n",
    "- oder beide zu vergleichenden Dimensionen sind gleich lang.\n",
    "\n",
    "Um das besser zu verstehen, schauen wir uns ein Beispiel an:\n",
    "```\n",
    "Array 1: [[0, 0, 0, 0],   Array 2: [[0],\n",
    "          [0, 0, 0, 0],             [0],\n",
    "          [0, 0, 0, 0],             [0],\n",
    "          [0, 0, 0, 0],             [0],\n",
    "          [0, 0, 0, 0]]             [0]]\n",
    "          \n",
    "np.shape() von Array 1: (5, 4)\n",
    "                        /    \\\n",
    "              gleich lang    eine Dim gleich 1\n",
    "                        \\    /\n",
    "np.shape() von Array 2: (5, 1)\n",
    "```\n",
    "Ein Broadcasting von Array 1 und Array 2 funktioniert also, weil für jede der Dimensionen eine Bedingung erfüllt ist.\n",
    "\n",
    "![Broadcasting von Matrizen](img/broadcasting_2.png)"
   ]
  },
  {
   "cell_type": "code",
   "execution_count": 3,
   "metadata": {},
   "outputs": [
    {
     "ename": "ValueError",
     "evalue": "operands could not be broadcast together with shapes (2,5) (2,) ",
     "output_type": "error",
     "traceback": [
      "\u001b[0;31m---------------------------------------------------------------------------\u001b[0m",
      "\u001b[0;31mValueError\u001b[0m                                Traceback (most recent call last)",
      "Input \u001b[0;32mIn [3]\u001b[0m, in \u001b[0;36m<cell line: 6>\u001b[0;34m()\u001b[0m\n\u001b[1;32m      3\u001b[0m arr \u001b[38;5;241m=\u001b[39m np\u001b[38;5;241m.\u001b[39marange(\u001b[38;5;241m10\u001b[39m)\u001b[38;5;241m.\u001b[39mreshape(\u001b[38;5;241m2\u001b[39m, \u001b[38;5;241m5\u001b[39m)\n\u001b[1;32m      4\u001b[0m arr2 \u001b[38;5;241m=\u001b[39m np\u001b[38;5;241m.\u001b[39marray([\u001b[38;5;241m0\u001b[39m, \u001b[38;5;241m1\u001b[39m])\n\u001b[0;32m----> 6\u001b[0m \u001b[43marr\u001b[49m\u001b[43m \u001b[49m\u001b[38;5;241;43m+\u001b[39;49m\u001b[43m \u001b[49m\u001b[43marr2\u001b[49m\n",
      "\u001b[0;31mValueError\u001b[0m: operands could not be broadcast together with shapes (2,5) (2,) "
     ]
    }
   ],
   "source": [
    "# Achtung!\n",
    "\n",
    "arr = np.arange(10).reshape(2, 5)\n",
    "arr2 = np.array([0, 1])\n",
    "\n",
    "arr + arr2"
   ]
  },
  {
   "cell_type": "code",
   "execution_count": 4,
   "metadata": {},
   "outputs": [
    {
     "name": "stdout",
     "output_type": "stream",
     "text": [
      "(2, 5) (2,)\n"
     ]
    }
   ],
   "source": [
    "# die shapes passen nicht zusammen!\n",
    "\n",
    "print(arr.shape, arr2.shape)"
   ]
  },
  {
   "cell_type": "code",
   "execution_count": 8,
   "metadata": {},
   "outputs": [
    {
     "name": "stdout",
     "output_type": "stream",
     "text": [
      "[[ 0  1  2  3  4]\n",
      " [ 6  7  8  9 10]]\n"
     ]
    }
   ],
   "source": [
    "# erst durch einen Reshape von arr2 geht es!\n",
    "\n",
    "arr2 = arr2.reshape((2, 1))\n",
    "\n",
    "print(arr + arr2)"
   ]
  },
  {
   "cell_type": "markdown",
   "metadata": {},
   "source": [
    "![Broadcasting nach Reshape](img/broadcasting_3.png)"
   ]
  },
  {
   "cell_type": "markdown",
   "metadata": {},
   "source": [
    "## Aggregatsfunktionen"
   ]
  },
  {
   "cell_type": "markdown",
   "metadata": {},
   "source": [
    "### np.sum()\n",
    "\n",
    "Als Beispiel haben wir die Verkaufszahlen von 12 Monaten (Zeilen) von drei Industriezweigen."
   ]
  },
  {
   "cell_type": "code",
   "execution_count": 39,
   "metadata": {},
   "outputs": [],
   "source": [
    "monthly_sales_industries = np.array([[ 4134, 23925,  8657],\n",
    "                                     [ 4116, 23875,  9142],\n",
    "                                     [ 4673, 27197, 10645],\n",
    "                                     [ 4580, 25637, 10456],\n",
    "                                     [ 5109, 27995, 11299],\n",
    "                                     [ 5011, 27419, 10625],\n",
    "                                     [ 5245, 27305, 10630],\n",
    "                                     [ 5270, 27760, 11550],\n",
    "                                     [ 4680, 24988,  9762],\n",
    "                                     [ 5312, 25405, 13401],\n",
    "                                     [ 6630, 27797, 18403]])"
   ]
  },
  {
   "cell_type": "markdown",
   "metadata": {},
   "source": [
    "Wenden wir auf diesen Array die Aggregatsfunktion `.sum()` an, so werden sämtliche Verkaufszahlen des Jahres summiert und als Wert zurückgegeben."
   ]
  },
  {
   "cell_type": "code",
   "execution_count": 40,
   "metadata": {},
   "outputs": [
    {
     "data": {
      "text/plain": [
       "468633"
      ]
     },
     "execution_count": 40,
     "metadata": {},
     "output_type": "execute_result"
    }
   ],
   "source": [
    "monthly_sales_industries.sum()"
   ]
  },
  {
   "cell_type": "markdown",
   "metadata": {},
   "source": [
    "Möchte man allerdings die Summen der einzelnen Industriezweige eines Jahres summieren, so muss man die Achse angeben, über die summiert werden soll. In diesem Fall müssten wir die Zeilen-Achse, also `axis=0` verwenden."
   ]
  },
  {
   "cell_type": "code",
   "execution_count": 42,
   "metadata": {},
   "outputs": [
    {
     "data": {
      "text/plain": [
       "array([ 54760, 289303, 124570])"
      ]
     },
     "execution_count": 42,
     "metadata": {},
     "output_type": "execute_result"
    }
   ],
   "source": [
    "monthly_sales_industries.sum(axis=0)"
   ]
  },
  {
   "cell_type": "markdown",
   "metadata": {},
   "source": [
    "Möchte man hingegen die Werte der einzelnen Monate aufsummieren, so muss man dementsprechend an der anderen Achse, also `axis=1` summieren."
   ]
  },
  {
   "cell_type": "code",
   "execution_count": 44,
   "metadata": {},
   "outputs": [
    {
     "data": {
      "text/plain": [
       "array([36716, 37133, 42515, 40673, 44403, 43055, 43180, 44580, 39430,\n",
       "       44118, 52830])"
      ]
     },
     "execution_count": 44,
     "metadata": {},
     "output_type": "execute_result"
    }
   ],
   "source": [
    "monthly_sales_industries.sum(axis=1)"
   ]
  },
  {
   "cell_type": "markdown",
   "metadata": {},
   "source": [
    "Schade ist, dass sich hier nun aber die Shape des Arrays verändert hat. Da wir ja die einzelnen Spalten summiert haben, sollte die Ausgabe auch in Spaltenform erfolgen, um so vielleicht dieses \"Summenspalte\" mit dem Array für Verkaufszahlen zu konkatenieren.\n",
    "\n",
    "Hierfür gibt es das Argument `keepdims`, dem man die boolschen Werte `True` und `False` übergeben kann."
   ]
  },
  {
   "cell_type": "code",
   "execution_count": 45,
   "metadata": {},
   "outputs": [
    {
     "data": {
      "text/plain": [
       "array([[36716],\n",
       "       [37133],\n",
       "       [42515],\n",
       "       [40673],\n",
       "       [44403],\n",
       "       [43055],\n",
       "       [43180],\n",
       "       [44580],\n",
       "       [39430],\n",
       "       [44118],\n",
       "       [52830]])"
      ]
     },
     "execution_count": 45,
     "metadata": {},
     "output_type": "execute_result"
    }
   ],
   "source": [
    "monthly_sums = monthly_sales_industries.sum(axis=1, keepdims=True)\n",
    "\n",
    "monthly_sums"
   ]
  },
  {
   "cell_type": "code",
   "execution_count": 48,
   "metadata": {},
   "outputs": [
    {
     "data": {
      "text/plain": [
       "array([[ 4134, 23925,  8657, 36716],\n",
       "       [ 4116, 23875,  9142, 37133],\n",
       "       [ 4673, 27197, 10645, 42515],\n",
       "       [ 4580, 25637, 10456, 40673],\n",
       "       [ 5109, 27995, 11299, 44403],\n",
       "       [ 5011, 27419, 10625, 43055],\n",
       "       [ 5245, 27305, 10630, 43180],\n",
       "       [ 5270, 27760, 11550, 44580],\n",
       "       [ 4680, 24988,  9762, 39430],\n",
       "       [ 5312, 25405, 13401, 44118],\n",
       "       [ 6630, 27797, 18403, 52830]])"
      ]
     },
     "execution_count": 48,
     "metadata": {},
     "output_type": "execute_result"
    }
   ],
   "source": [
    "np.concatenate((monthly_sales_industries, monthly_sums), axis=1)"
   ]
  },
  {
   "cell_type": "markdown",
   "metadata": {},
   "source": [
    "\n",
    "\n",
    "## Maße der zentralen Tendenz"
   ]
  },
  {
   "cell_type": "markdown",
   "metadata": {},
   "source": [
    "## Maße der Streuung "
   ]
  },
  {
   "cell_type": "markdown",
   "metadata": {},
   "source": [
    "### Quantile / Percentile: np.quantile\n",
    "\n",
    "Mit `np.quantile` lassen sich die Quantile einer Stichprobe berechnen. `np.quantile` arbeitet dabei, dass man als Argumente ein Array, sowie die Liste der Quantile zwischen 0 und 1, die man berechnen will."
   ]
  },
  {
   "cell_type": "code",
   "execution_count": 12,
   "metadata": {},
   "outputs": [
    {
     "data": {
      "text/plain": [
       "array([1.66539975, 1.76501605, 1.88188364])"
      ]
     },
     "execution_count": 12,
     "metadata": {},
     "output_type": "execute_result"
    }
   ],
   "source": [
    "# wir berechnen die Quartile 25%, 50% und 75%\n",
    "\n",
    "koerpergroessen = np.random.normal(1.75, .15, 100) # 100 zufällig normalverteilte Körpergröẞen\n",
    "\n",
    "np.quantile(koerpergroessen, [.25, .5, .75])"
   ]
  },
  {
   "cell_type": "markdown",
   "metadata": {},
   "source": [
    "Wollen wir mehr Quantile, ist es mühselig, diese als Liste auszuschreiben. Der Einfachheit halber können wir die Funktion `np.linspace` benutzen, die wir schon kennengelernt haben und die eine kontinuierliche Zahlenreihe in gleichgroẞe Stücke \"zerschneidet\". So können wir die Zahlenreihe von 0 bis 1 benutzen, um diese in Quantile zu zerschneiden und an `np.quantile` zu übergeben.\n",
    "\n",
    "Hier ein paar Beispiele:"
   ]
  },
  {
   "cell_type": "code",
   "execution_count": 13,
   "metadata": {},
   "outputs": [
    {
     "name": "stdout",
     "output_type": "stream",
     "text": [
      "Quintile: [1.4515198  1.66539975 1.76501605 1.88188364 2.08062421]\n",
      "Centile: [1.4515198  1.59257309 1.66420276 1.68446388 1.74643079 1.78222782\n",
      " 1.8361634  1.88969072 1.98373368 2.08062421]\n"
     ]
    }
   ],
   "source": [
    "# Quintile (5 Quantile):\n",
    "\n",
    "print(\"Quintile:\", np.quantile(koerpergroessen, np.linspace(0, 1, 5)))\n",
    "\n",
    "# Decile (10 Quantile):\n",
    "\n",
    "print(\"Centile:\", np.quantile(koerpergroessen, np.linspace(0, 1, 10)))"
   ]
  },
  {
   "cell_type": "markdown",
   "metadata": {},
   "source": [
    "# Wahrscheinlichkeitstheorie"
   ]
  }
 ],
 "metadata": {
  "kernelspec": {
   "display_name": "Python 3 (ipykernel)",
   "language": "python",
   "name": "python3"
  },
  "language_info": {
   "codemirror_mode": {
    "name": "ipython",
    "version": 3
   },
   "file_extension": ".py",
   "mimetype": "text/x-python",
   "name": "python",
   "nbconvert_exporter": "python",
   "pygments_lexer": "ipython3",
   "version": "3.9.12"
  },
  "toc": {
   "base_numbering": 1,
   "nav_menu": {},
   "number_sections": true,
   "sideBar": true,
   "skip_h1_title": false,
   "title_cell": "Table of Contents",
   "title_sidebar": "Contents",
   "toc_cell": false,
   "toc_position": {
    "height": "calc(100% - 180px)",
    "left": "10px",
    "top": "150px",
    "width": "286.719px"
   },
   "toc_section_display": true,
   "toc_window_display": true
  }
 },
 "nbformat": 4,
 "nbformat_minor": 1
}
