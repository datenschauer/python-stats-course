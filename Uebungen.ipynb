{
 "cells": [
  {
   "cell_type": "markdown",
   "id": "81db03eb",
   "metadata": {},
   "source": [
    "# Einführung in Python"
   ]
  },
  {
   "cell_type": "markdown",
   "id": "4b67976c",
   "metadata": {},
   "source": [
    "## Produkt mit Bedingungen\n",
    "\n",
    "Schreiben sie eine kleine Funktion `mult_if_not_to_big()`, die zwei Zahlen entgegen nimmt und deren Produkt ausgibt, aber nur, wenn das Produkt unter 1.000 ist. Ansonsten gibt es die Summe der beiden Zahlen zurück.\n",
    "\n",
    "```\n",
    "mult_if_not_to_big(20, 30) => 600\n",
    "\n",
    "mult_if_not_to_big(50, 80) => 130\n",
    "```"
   ]
  },
  {
   "cell_type": "code",
   "execution_count": 1,
   "id": "ae4642d7",
   "metadata": {},
   "outputs": [],
   "source": [
    "def mult_if_not_to_big(n, m):\n",
    "    # ihr Code hier\n",
    "    pass"
   ]
  },
  {
   "cell_type": "markdown",
   "id": "ee92b89b",
   "metadata": {},
   "source": [
    "## Summe vorheriger und aktueller Zahlen\n",
    "\n",
    "Schreiben Sie eine Funktion, die eine Liste an beliebigen Zahlen entgegen nimmt und nacheinander die Summe der Zahl am aktuellen Index und der Zahl am vorherigen Index ausgibt. Für die erste Zahl in der Liste nehmen Sie $0$ als vorherige Zahl an.\n",
    "\n",
    "**erwartete Ausgabe:**\n",
    "\n",
    "```\n",
    ">>> get_sums([1, 8, 2, 4, 3])\n",
    "1\n",
    "9\n",
    "10\n",
    "6\n",
    "7\n",
    "```"
   ]
  },
  {
   "cell_type": "code",
   "execution_count": 2,
   "id": "415c2e13",
   "metadata": {},
   "outputs": [],
   "source": [
    "def get_sums(l):\n",
    "    # ihr Code hier\n",
    "    pass"
   ]
  },
  {
   "cell_type": "markdown",
   "id": "5b6600da",
   "metadata": {},
   "source": [
    "## prüfe erstes und letztes Element\n",
    "\n",
    "Schreiben Sie eine Funktion, die eine Liste an Ganzzahlen entgegen nimmt und zwei Wahrheitswerte zurückgibt, je nachdem, ob\n",
    "1. die erste und die letzte Zahl gleich sind\n",
    "2. ob die letzte Zahl ein Vielfaches der ersten Zahl ist\n",
    "\n",
    "**erwartete Ausgabe:**\n",
    "\n",
    "```\n",
    ">>> eval_list_elems([3, 5, 6, 8, 3])\n",
    "(True, True)\n",
    "\n",
    ">>> eval_list_elems([9, 5, 6, 8, 3])\n",
    "(False, True)\n",
    "\n",
    ">>> eval_list_elems([9, 5, 6, 8, 4])\n",
    "(False, False)\n",
    "```"
   ]
  },
  {
   "cell_type": "code",
   "execution_count": 3,
   "id": "188cbed4",
   "metadata": {},
   "outputs": [],
   "source": [
    "# ihr Code hier"
   ]
  },
  {
   "cell_type": "markdown",
   "id": "0df87718",
   "metadata": {},
   "source": [
    "## Sternchen Weihnachtsbaum\n",
    "\n",
    "Schreiben Sie eine Funktion, die eine Ganzzahl N entgegen nimmt und dann einen \"Weihnachtsbaum\" aus dem Sternchencharakter am Bildschirm ausgibt, mit der Länge N.\n",
    "\n",
    "**erwartete Ausgabe:**\n",
    "\n",
    "```\n",
    ">>> print_tree(2)\n",
    " *\n",
    "***\n",
    "\n",
    ">>> print_tree(5)\n",
    "    *\n",
    "   ***\n",
    "  *****\n",
    " *******\n",
    "*********\n",
    "```"
   ]
  },
  {
   "cell_type": "code",
   "execution_count": 4,
   "id": "baddeb36",
   "metadata": {},
   "outputs": [],
   "source": [
    "# ihr Code hier"
   ]
  },
  {
   "cell_type": "markdown",
   "id": "74afa540",
   "metadata": {},
   "source": [
    "## Palindrom\n",
    "\n",
    "Schreiben Sie eine Funktion `is_palindrom`, die einen String entgegen nimmt und prüft, ob es sich dabei um ein Palindrom handelt, also die vorwärts und rückwärts gelesen, das gleiche Wort ergibt.\n",
    "\n",
    "**erwartete Ausgabe:**\n",
    "\n",
    "```\n",
    ">>> is_palindrom(\"Anna\")\n",
    "True\n",
    "\n",
    ">>> is_palindrom(\"Reittier\")\n",
    "True\n",
    "\n",
    ">>> is_palindrom(\"Regal\")\n",
    "False\n",
    "\n",
    ">>> is_palindrom(\"e\")\n",
    "True\n",
    "```"
   ]
  },
  {
   "cell_type": "code",
   "execution_count": 5,
   "id": "b1df59db",
   "metadata": {},
   "outputs": [],
   "source": [
    "def is_palindrom(string):\n",
    "    # ihr code hier\n",
    "    pass"
   ]
  },
  {
   "cell_type": "markdown",
   "id": "d7b1a7fb",
   "metadata": {},
   "source": [
    "# Numpy"
   ]
  },
  {
   "cell_type": "markdown",
   "id": "14bf8361",
   "metadata": {},
   "source": [
    "## Arrays erzeugen"
   ]
  },
  {
   "cell_type": "markdown",
   "id": "158ac270",
   "metadata": {},
   "source": [
    "1. Erzeugen Sie eine Matrix als NumPy Array, mit 5 Zeilen und 7 Spalten, gefüllt mit Nullen.\n",
    "2. Erzeugen Sie eine Matrix als NumPy Array, mit 3 Zeilen und 6 Spalten, gefüllt mit Einsen.\n",
    "3. Erzeugen Sie eine Matrix als NumPy Array, mit 7 Zeilen und 4 Spalten, gefüllt mit dem String \"NA\".\n",
    "4. Erzeugen Sie einen Array aus der Zahlenfolge 9 bis 42. Der anschließende Array soll die Dimensionen 3 x 11 haben.\n",
    "5. Erzeugen Sie einen Array, indem Sie die Zahlenfolge 0 bis 1 in 8 gleichgroße Teile zerschneiden.\n",
    "6. Erzeugen Sie das gleich Array, aber diesmal exkludieren Sie die 1.\n",
    "7. Lassen Sie sich die Größen der Abstände zwischen den Teilen der Arrays aus Aufgabe 5 und 6 ausgeben.\n",
    "8. Erzeugen Sie noch einmal einen Array aus einer beliebigen Zahlenfolge, aber diesmal soll der Array drei Dimensionen haben."
   ]
  },
  {
   "cell_type": "code",
   "execution_count": null,
   "id": "b3a8ff27",
   "metadata": {},
   "outputs": [],
   "source": []
  },
  {
   "cell_type": "markdown",
   "id": "ec90f439",
   "metadata": {},
   "source": [
    "## Randomisierte Arrays\n",
    "\n",
    "1. Erzeugen Sie einen zweidimensionalen Array mit der Shape (5, 10), aus Zufallszahlen zwischen 0 und 1.\n",
    "2. Erzeugen Sie einen dreidimensionalen Array mit der Shape (5, 10, 2) gefüllt mit zufälligen Ganzzahlen zwischen 10 und 30."
   ]
  },
  {
   "cell_type": "code",
   "execution_count": null,
   "id": "b6d4f75e",
   "metadata": {},
   "outputs": [],
   "source": []
  },
  {
   "cell_type": "markdown",
   "id": "6f4a2fd5",
   "metadata": {},
   "source": [
    "## Arrays einlesen"
   ]
  },
  {
   "cell_type": "markdown",
   "id": "82161f23",
   "metadata": {},
   "source": [
    "Bilder werden in der Informationstechnologie meistens als einzelne Pixel gespeichert, denen drei Werte zwischen 0 und 255 für Rot, Grün und Blau zugeordnet werden. Je nachdem, wie kräftig ein Wert ist und wie sich diese pro Pixel \"mischen\", bzw. \"überlappen\", wird ein Farbton pro Pixel generiert. Dieses Verfahren kann man sich auch als dreidimensionalen Tensor vorstellen, dessen einzelne Schichten Rot, Grün und Blau sind. Die Anzahl der Zeilen ist die Höhe des Bildes in Pixel, die Anzahl der Spalten ist die Breite des Bildes in Pixel.\n",
    "\n",
    "![Pixel_RGB_Tensor](img/rgb_array.png)\n",
    "\n",
    "Im Ordner `img/` liegt die Datei `img_array.npy`. Lesen Sie diese Datei ein und speichern das ganze in der Variablen `img_array`. Der Code zum Plotten dieses Arrays steht für Sie bereit. Wenn Sie die Datei korrekt eingelesen haben, so sollten Sie ein Bild sehen. Was zeigt es?"
   ]
  },
  {
   "cell_type": "code",
   "execution_count": null,
   "id": "bde39137",
   "metadata": {},
   "outputs": [],
   "source": [
    "import matplotlib.pyplot as plt\n",
    "\n",
    "# Ihr Code zum Öffnen der Datei und laden in die Variable img_array\n",
    "# ...\n",
    "\n",
    "plt.imshow(img_array)\n",
    "plt.show()"
   ]
  },
  {
   "cell_type": "markdown",
   "id": "031355cf",
   "metadata": {},
   "source": [
    "Ändern Sie in der Rotschicht den Wert der Pixel, wenn er über 220 liegt zu 0, ansonsten übernehmen Sie den bisherigen Wert. Speichern Sie diese neue Schicht in der Variablen `changed_red`. Extrahieren Sie die grüne und die blaue Schicht jeweils in die Variablen `origin_green` und `origin_blue`. Fügen Sie dann alle drei Schichten wieder zu einem dreidimensionalen Tensor zusammen und speichern diesen in der Variablen `changed_img`. Wie hat sich das Bild nun verändert?"
   ]
  },
  {
   "cell_type": "code",
   "execution_count": null,
   "id": "db622714",
   "metadata": {},
   "outputs": [],
   "source": [
    "changed_red = # Ihr Code\n",
    "\n",
    "origin_green = # Ihr Code\n",
    "\n",
    "origin_blue = # Ihr Code\n",
    "\n",
    "# Wie sehen die Shapes aus? Überlegen Sie. Müssen Sie hier noch etwas anpassen?\n",
    "\n",
    "changed_img = # Ihr Code\n",
    "\n",
    "plt.imshow(changed_img)\n",
    "plt.show()"
   ]
  },
  {
   "cell_type": "markdown",
   "id": "4de798a6",
   "metadata": {},
   "source": [
    "Speichern Sie nun das neue Bild als Numpy Array in der Datei `img/new_img_array.npy` ab."
   ]
  },
  {
   "cell_type": "code",
   "execution_count": null,
   "id": "fc2a784c",
   "metadata": {},
   "outputs": [],
   "source": [
    "# Ihr Code hier\n",
    "# ..."
   ]
  },
  {
   "cell_type": "markdown",
   "id": "ce017a65",
   "metadata": {},
   "source": [
    "# Pandas"
   ]
  },
  {
   "cell_type": "markdown",
   "id": "7d4ae074",
   "metadata": {},
   "source": [
    "## DataFrames filtern (.loc / .iloc)"
   ]
  },
  {
   "cell_type": "markdown",
   "id": "6d320a84",
   "metadata": {},
   "source": [
    "Versuchen Sie, unseren Pokemon Datensatz mit der Hilfe von `.loc[]` und `.iloc[]` zu filtern:\n",
    "\n",
    "1. Lassen Sie sich die Spalten 'abilities_number', 'ability_1', 'ability_2' und 'ability_hidden' ausgeben.\n",
    "2. Was sind die Namen (englisch, deutsch und japanisch) der ersten 196 Pokemon Einträge (also der ersten Generation)?\n",
    "3. Lassen Sie sich die Spalten von 'against_normal' bis 'against_fairy' für die Einträge 500 bis 600 ausgeben."
   ]
  },
  {
   "cell_type": "code",
   "execution_count": null,
   "id": "7c7ed721",
   "metadata": {},
   "outputs": [],
   "source": []
  },
  {
   "cell_type": "markdown",
   "id": "c709fef6",
   "metadata": {},
   "source": [
    "## DataFrame filtern mit .filter()\n",
    "\n",
    "Wir können die obigen Übungen auch noch einmal mit der `.filter()` Methode wiederholen. Benutzen, sie `.filter()` und lösen sie (noch einmal) folgende Aufgaben damit:\n",
    "\n",
    "1. Lassen Sie sich die Spalten 'abilities_number', 'ability_1', 'ability_2' und 'ability_hidden' ausgeben.\n",
    "2. Was sind die Namen (englisch, deutsch und japanisch) der ersten 196 Pokemon Einträge (also der ersten Generation)?\n",
    "3. Lassen Sie sich die Spalten von 'against_normal' bis 'against_fairy' für die Einträge 500 bis 600 ausgeben."
   ]
  },
  {
   "cell_type": "code",
   "execution_count": null,
   "id": "34d654f5",
   "metadata": {},
   "outputs": [],
   "source": []
  },
  {
   "cell_type": "markdown",
   "id": "b7ba5ffe",
   "metadata": {},
   "source": [
    "## Weitere Filter-Übungen\n",
    "\n",
    "1. Suchen Sie die Pokemon, die eine \"schnelle\" Wachstumsrate (growth_rate: \"fast\") haben. Geben Sie deren Namen und deren Pokedex Nummer zurück.\n",
    "\n",
    "1. Was ist die Anzahl an Pokemon in der 1., der 2. und der 3. Generation?\n",
    "\n",
    "1. Lesen Sie den Datensatz \"wide_df.csv\" ein, den Sie auch im Verzeichnis \"data\" finden.\n",
    "\n",
    "    a. \"Reinigen\" Sie den DataFrame von der überflüssigen ersten Spalte.\n",
    "    \n",
    "    b. Verschaffen Sie sich einen Überblick. Wie viele Spalten hat der Datensatz?\n",
    "    \n",
    "    c. Geben Sie nur die Spalten aus, die \"Fach\" im Namen tragen.\n",
    "    \n",
    "    d. Suchen Sie alle Spalten die \"fw\" im Namen tragen."
   ]
  },
  {
   "cell_type": "code",
   "execution_count": null,
   "id": "bd2b5d66",
   "metadata": {},
   "outputs": [],
   "source": []
  },
  {
   "cell_type": "markdown",
   "id": "e5468883",
   "metadata": {},
   "source": [
    "## Maskierung und GroupBy\n",
    "\n",
    "1. Wie viele Statusgruppen (Spalte: Status) gibt es in Pokemon?\n",
    "2. Was sind die durchschnittlichen \"attack\", \"defense\" und \"speed\" Werte der einzelnen Statusgruppen? Lösen Sie diese Aufgabe mit Hilfe von Masken.\n",
    "3. Lösen Sie die gleiche Aufgabe, indem Sie die Methode `.groupby()` verwenden.\n",
    "4. Erweitern Sie ihre Untersuchung mit `.groupby()`, indem Sie pro Status auch noch auf die Untergruppen \"generation\" aufteilen. Berechnen Sie für diese Gruppen nicht nur den Mittelwert, sondern auch die Standardabweichung."
   ]
  },
  {
   "cell_type": "code",
   "execution_count": null,
   "id": "a646d85c",
   "metadata": {},
   "outputs": [],
   "source": []
  },
  {
   "cell_type": "markdown",
   "id": "1c7ff263",
   "metadata": {},
   "source": [
    "## Matplotlib\n",
    "\n",
    "1. "
   ]
  }
 ],
 "metadata": {
  "kernelspec": {
   "display_name": "Python 3 (ipykernel)",
   "language": "python",
   "name": "python3"
  },
  "language_info": {
   "codemirror_mode": {
    "name": "ipython",
    "version": 3
   },
   "file_extension": ".py",
   "mimetype": "text/x-python",
   "name": "python",
   "nbconvert_exporter": "python",
   "pygments_lexer": "ipython3",
   "version": "3.10.7"
  },
  "toc": {
   "base_numbering": 1,
   "nav_menu": {},
   "number_sections": true,
   "sideBar": true,
   "skip_h1_title": false,
   "title_cell": "Table of Contents",
   "title_sidebar": "Contents",
   "toc_cell": false,
   "toc_position": {},
   "toc_section_display": true,
   "toc_window_display": true
  }
 },
 "nbformat": 4,
 "nbformat_minor": 5
}
