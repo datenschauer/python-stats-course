{
 "cells": [
  {
   "cell_type": "code",
   "execution_count": 6,
   "id": "57745590",
   "metadata": {},
   "outputs": [],
   "source": [
    "import matplotlib.pyplot as plt"
   ]
  },
  {
   "cell_type": "markdown",
   "id": "a7d876a9",
   "metadata": {},
   "source": [
    "# Distributionen"
   ]
  },
  {
   "cell_type": "markdown",
   "id": "9ddef2c9",
   "metadata": {},
   "source": [
    "**Beispiel:**\n",
    "\n",
    "Alle 12 Minuten kommt ein Bus. Was ist die Wahrscheinlichkeit, 7 Minuten oder weniger zu warten?"
   ]
  },
  {
   "cell_type": "code",
   "execution_count": 1,
   "id": "389f465c",
   "metadata": {},
   "outputs": [
    {
     "data": {
      "text/plain": [
       "0.5833333333333334"
      ]
     },
     "execution_count": 1,
     "metadata": {},
     "output_type": "execute_result"
    }
   ],
   "source": [
    "# uniform distribution\n",
    "\n",
    "from scipy.stats import uniform\n",
    "\n",
    "uniform.cdf(7, 0, 12)"
   ]
  },
  {
   "cell_type": "markdown",
   "id": "a5efdda3",
   "metadata": {},
   "source": [
    "Was ist die Wahrscheinlichkeit, länger als 7 Minuten zu warten?"
   ]
  },
  {
   "cell_type": "code",
   "execution_count": 2,
   "id": "68e04500",
   "metadata": {},
   "outputs": [
    {
     "data": {
      "text/plain": [
       "0.41666666666666663"
      ]
     },
     "execution_count": 2,
     "metadata": {},
     "output_type": "execute_result"
    }
   ],
   "source": [
    "1 - uniform.cdf(7, 0, 12)"
   ]
  },
  {
   "cell_type": "markdown",
   "id": "ce7d4fd0",
   "metadata": {},
   "source": [
    "Und die Wahrscheinlichkeit, zwischen 4 und 7 Minuten zu warten?"
   ]
  },
  {
   "cell_type": "code",
   "execution_count": 4,
   "id": "35a3ccdf",
   "metadata": {},
   "outputs": [
    {
     "data": {
      "text/plain": [
       "0.25000000000000006"
      ]
     },
     "execution_count": 4,
     "metadata": {},
     "output_type": "execute_result"
    }
   ],
   "source": [
    "uniform.cdf(7, 0, 12) - uniform.cdf(4, 0, 12)"
   ]
  },
  {
   "cell_type": "markdown",
   "id": "5c3b3a1f",
   "metadata": {},
   "source": [
    "Eine zufällige uniforme Verteilung erhält man mit der Methode `.rvs()`."
   ]
  },
  {
   "cell_type": "code",
   "execution_count": 5,
   "id": "75c1228d",
   "metadata": {},
   "outputs": [
    {
     "data": {
      "text/plain": [
       "array([4.15436279, 3.701087  , 0.02904323, 3.28121433, 0.03729507,\n",
       "       1.67018552, 1.48698084, 4.76337356, 2.01985315, 3.94404097,\n",
       "       2.94690003, 4.38164848, 1.44194252, 2.5207155 , 2.50758702])"
      ]
     },
     "execution_count": 5,
     "metadata": {},
     "output_type": "execute_result"
    }
   ],
   "source": [
    "uniform.rvs(0, 5, size=15)"
   ]
  }
 ],
 "metadata": {
  "kernelspec": {
   "display_name": "Python 3 (ipykernel)",
   "language": "python",
   "name": "python3"
  },
  "language_info": {
   "codemirror_mode": {
    "name": "ipython",
    "version": 3
   },
   "file_extension": ".py",
   "mimetype": "text/x-python",
   "name": "python",
   "nbconvert_exporter": "python",
   "pygments_lexer": "ipython3",
   "version": "3.9.12"
  },
  "toc": {
   "base_numbering": 1,
   "nav_menu": {},
   "number_sections": true,
   "sideBar": true,
   "skip_h1_title": false,
   "title_cell": "Table of Contents",
   "title_sidebar": "Contents",
   "toc_cell": false,
   "toc_position": {},
   "toc_section_display": true,
   "toc_window_display": false
  }
 },
 "nbformat": 4,
 "nbformat_minor": 5
}
