{
 "cells": [
  {
   "cell_type": "code",
   "execution_count": 1,
   "metadata": {
    "collapsed": true
   },
   "outputs": [],
   "source": [
    "import numpy as np"
   ]
  },
  {
   "cell_type": "markdown",
   "source": [
    "# Einführung\n",
    "\n",
    "Das Modul [**Numpy**](https://numpy.org/doc/stable/index.html) bildet, so kann man sagen, die Grundlage des gesamten *Python Science Stack*. NumPy ist eine *numerische* Programmbibliothek für das Rechnen mit Vektoren und Matrizen. Darüber hinaus bietet NumPy effektive Array Datenstrukturen, sowie Funktionen für numerische Berechnungen.\n",
    "\n",
    "Auch wenn Sie im täglichen Umgang mit NumPy eher weniger direkt in Berührung kommen, sondern mehr mit Pandas arbeiten werden (siehe Kapitel 4), so nutzt doch letzteres \"unter der Haube\" jenes NumPy. Mit NumPy ist es sehr leicht Rechenoperationen auf ganze Daten-Arrays anzuwenden, ohne *for-Schleifen* zu benutzen. Es lohnt sich also - in Vorbereitung auf den Umgang mit Pandas ein Grundverständnis von NumPy zu erwerben. Wenn Sie natürlich in ihrer wissenschaftlichen Praxis stärker auf numerische Berechnungen oder lineare Algebra setzen, dann sollten sie sich NumPy noch genauer ansehen.\n",
    "\n",
    "## Warum NumPy?\n",
    "\n",
    "Es gibt vor allem zwei Gründe für die Entwicklung von NumPy, die übrigens schon im Jahre 1995 unter dem Acronym *Numeric* begann: einerseits eine effiziente Datenstruktur mit hoher Zugriffszeit, sowie die Möglichkeit des Rechnens mit diesen Datenstrukturen.\n",
    "\n",
    "Werfen wir zuerst einen Blick auf das Thema Geschwindigkeit. Schreiben wir ein kleine Funktion, die einfach die ganzen Zahlen von 1 bis n summiert."
   ],
   "metadata": {
    "collapsed": false
   }
  },
  {
   "cell_type": "code",
   "execution_count": 18,
   "outputs": [
    {
     "name": "stdout",
     "output_type": "stream",
     "text": [
      "while-schleife: (499999500000, 0.1252)\n"
     ]
    }
   ],
   "source": [
    "import time\n",
    "\n",
    "def sum_integers(n: int) -> tuple:\n",
    "    start = time.time()\n",
    "    s = 0\n",
    "    i = 1\n",
    "    while i < n:\n",
    "        s += i\n",
    "        i += 1\n",
    "    end = time.time()\n",
    "    return s, round(end - start, 4)\n",
    "\n",
    "print(f\"while-schleife: {sum_integers(1_000_000)}\")"
   ],
   "metadata": {
    "collapsed": false,
    "pycharm": {
     "name": "#%%\n"
    }
   }
  },
  {
   "cell_type": "markdown",
   "source": [
    "Anstatt einer \"billigen\" while-schleife sollten wir vielleicht besser integrierte Python Funktionen wie die `sum()` Funktion oder *List-Comprehensions* verwenden, da diese auf angepassten C-Code basieren?"
   ],
   "metadata": {
    "collapsed": false
   }
  },
  {
   "cell_type": "code",
   "execution_count": 14,
   "outputs": [
    {
     "name": "stdout",
     "output_type": "stream",
     "text": [
      "Python Funktion: (499999500000, 0.0276)\n"
     ]
    }
   ],
   "source": [
    "def sum_integers_py(n: int) -> tuple:\n",
    "    start = time.time()\n",
    "    l = sum(range(n))\n",
    "    end = time.time()\n",
    "    return l, round(end - start, 4)\n",
    "\n",
    "print(f\"Python Funktion: {sum_integers_py(1_000_000)}\")"
   ],
   "metadata": {
    "collapsed": false,
    "pycharm": {
     "name": "#%%\n"
    }
   }
  },
  {
   "cell_type": "markdown",
   "source": [
    "Das sieht. Probieren wir das ganze noch mit NumPy aus."
   ],
   "metadata": {
    "collapsed": false
   }
  },
  {
   "cell_type": "code",
   "execution_count": 15,
   "outputs": [
    {
     "name": "stdout",
     "output_type": "stream",
     "text": [
      "NumPy Funktion: (499999500000, 0.0091)\n"
     ]
    }
   ],
   "source": [
    "def sum_integers_numpy(n: int) -> tuple:\n",
    "    start = time.time()\n",
    "    l = np.array(np.arange(n)).sum()\n",
    "    end = time.time()\n",
    "    return l, round(end - start, 4)\n",
    "\n",
    "print(f\"NumPy Funktion: {sum_integers_numpy(1_000_000)}\")"
   ],
   "metadata": {
    "collapsed": false,
    "pycharm": {
     "name": "#%%\n"
    }
   }
  },
  {
   "cell_type": "markdown",
   "source": [
    "Wir sehen, dass NumPy die Ausführung von Code verzehn- bis verhundertfachen kann.\n",
    "\n",
    "Ein weiterer Punkt ist die Einfache Anwendung von Rechenoperationen auf ganze Arrays, auch mehrdimensionale."
   ],
   "metadata": {
    "collapsed": false,
    "pycharm": {
     "name": "#%% md\n"
    }
   }
  }
 ],
 "metadata": {
  "kernelspec": {
   "display_name": "Python 3",
   "language": "python",
   "name": "python3"
  },
  "language_info": {
   "codemirror_mode": {
    "name": "ipython",
    "version": 2
   },
   "file_extension": ".py",
   "mimetype": "text/x-python",
   "name": "python",
   "nbconvert_exporter": "python",
   "pygments_lexer": "ipython2",
   "version": "2.7.6"
  }
 },
 "nbformat": 4,
 "nbformat_minor": 0
}