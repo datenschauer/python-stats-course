{
 "cells": [
  {
   "cell_type": "code",
   "execution_count": 1,
   "metadata": {},
   "outputs": [],
   "source": [
    "import numpy as np"
   ]
  },
  {
   "cell_type": "markdown",
   "metadata": {},
   "source": [
    "# Einführung\n",
    "\n",
    "Das Modul [**Numpy**](https://numpy.org/doc/stable/index.html) bildet, so kann man sagen, die Grundlage des gesamten *Python Science Stack*. NumPy ist eine *numerische* Programmbibliothek für das Rechnen mit Vektoren und Matrizen. Darüber hinaus bietet NumPy effektive Array Datenstrukturen, sowie Funktionen für numerische Berechnungen.\n",
    "\n",
    "Auch wenn Sie im täglichen Umgang mit NumPy eher weniger direkt in Berührung kommen, sondern mehr mit Pandas arbeiten werden (siehe Kapitel 4), so nutzt doch letzteres \"unter der Haube\" jenes NumPy. Mit NumPy ist es sehr leicht Rechenoperationen auf ganze Daten-Arrays anzuwenden, ohne *for-Schleifen* zu benutzen. Es lohnt sich also - in Vorbereitung auf den Umgang mit Pandas ein Grundverständnis von NumPy zu erwerben. Wenn Sie natürlich in ihrer wissenschaftlichen Praxis stärker auf numerische Berechnungen oder lineare Algebra setzen, dann sollten sie sich NumPy noch genauer ansehen.\n",
    "\n",
    "NumPy ist die Grundlage des kompletten Python Science Stacks:\n",
    "\n",
    "![Numpy Lifting](./img/numpy_lifting.png)\n"
   ]
  },
  {
   "cell_type": "markdown",
   "metadata": {},
   "source": [
    "## Warum NumPy?\n",
    "\n",
    "Es gibt vor allem zwei Gründe für die Entwicklung von NumPy, die übrigens schon im Jahre 1995 unter dem Acronym *Numeric* begann: einerseits eine effiziente Datenstruktur mit hoher Zugriffszeit, sowie die Möglichkeit des Rechnens mit diesen Datenstrukturen.\n",
    "\n",
    "Werfen wir zuerst einen Blick auf das Thema Geschwindigkeit. Schreiben wir ein kleine Funktion, die einfach die ganzen Zahlen von 1 bis n summiert."
   ]
  },
  {
   "cell_type": "code",
   "execution_count": 7,
   "metadata": {
    "pycharm": {
     "name": "#%%\n"
    }
   },
   "outputs": [
    {
     "name": "stdout",
     "output_type": "stream",
     "text": [
      "69.5 ms ± 359 µs per loop (mean ± std. dev. of 7 runs, 10 loops each)\n"
     ]
    }
   ],
   "source": [
    "def sum_integers(n: int) -> int:\n",
    "    s = 0\n",
    "    i = 1\n",
    "    while i < n:\n",
    "        s += i\n",
    "        i += 1\n",
    "    return s\n",
    "\n",
    "%timeit sum_integers(1_000_000)"
   ]
  },
  {
   "cell_type": "markdown",
   "metadata": {},
   "source": [
    "Anstatt einer \"teuren\" while-Schleife sollten wir vielleicht besser integrierte Python Funktionen wie die `sum()` Funktion oder *List-Comprehensions* verwenden, da diese auf angepassten C-Code basieren?"
   ]
  },
  {
   "cell_type": "code",
   "execution_count": 8,
   "metadata": {
    "pycharm": {
     "name": "#%%\n"
    }
   },
   "outputs": [
    {
     "name": "stdout",
     "output_type": "stream",
     "text": [
      "14.5 ms ± 522 µs per loop (mean ± std. dev. of 7 runs, 100 loops each)\n"
     ]
    }
   ],
   "source": [
    "def sum_integers_py(n: int) -> int:\n",
    "    return sum(range(n))\n",
    "\n",
    "%timeit sum_integers_py(1_000_000)"
   ]
  },
  {
   "cell_type": "markdown",
   "metadata": {},
   "source": [
    "Das sieht schon besser aus. Probieren wir das ganze noch mit NumPy aus."
   ]
  },
  {
   "cell_type": "code",
   "execution_count": 9,
   "metadata": {
    "pycharm": {
     "name": "#%%\n"
    }
   },
   "outputs": [
    {
     "name": "stdout",
     "output_type": "stream",
     "text": [
      "1.94 ms ± 85.9 µs per loop (mean ± std. dev. of 7 runs, 100 loops each)\n"
     ]
    }
   ],
   "source": [
    "def sum_integers_numpy(n: int) -> int:\n",
    "    return np.array(np.arange(n), dtype=np.int32).sum()\n",
    "\n",
    "%timeit sum_integers_numpy(1_000_000)"
   ]
  },
  {
   "cell_type": "markdown",
   "metadata": {
    "pycharm": {
     "name": "#%% md\n"
    }
   },
   "source": [
    "Wir sehen, dass NumPy die Ausführung von Code erheblich verbessern kann. Bei komplexeren Algorithmen und Berechnung kann NumPy die Ausführung sogar um den Faktor 100 verbessern.\n",
    "\n",
    "Ein weiterer Punkt ist die einfache Anwendung von Rechenoperationen auf ganze Arrays, auch mehrdimensionale. Stellen wir uns eine zwei Vektoren mit Ganzzahlen vor, deren Elemente wir in Python paarweise addieren wollen. In reinem Python müsste man etwas wie folgt schreiben (ausserdem messen wir mal wieder die Zeit:"
   ]
  },
  {
   "cell_type": "code",
   "execution_count": 4,
   "metadata": {
    "pycharm": {
     "name": "#%%\n"
    }
   },
   "outputs": [
    {
     "name": "stdout",
     "output_type": "stream",
     "text": [
      "4.52 ms ± 175 µs per loop (mean ± std. dev. of 7 runs, 100 loops each)\n"
     ]
    }
   ],
   "source": [
    "from typing import List\n",
    "import random\n",
    "\n",
    "def add_vectors(v1: List[int], v2: List[int]) -> List[int]:\n",
    "\n",
    "    assert len(v1) == len(v2), \"Beide Vektoren müssen gleich lang sein!\"\n",
    "    output = [v1[i] + v2[i] for i, _ in enumerate(v1)]\n",
    "\n",
    "    return output\n",
    "\n",
    "vec1 = [random.choices(range(1, 10), k=1_000_000)]\n",
    "vec2 = [random.choices(range(1, 10), k=1_000_000)]\n",
    "\n",
    "%timeit add_vectors(vec1, vec2)"
   ]
  },
  {
   "cell_type": "markdown",
   "metadata": {},
   "source": [
    "Mit NumPy ist der Code wesentlich simpler und auch schneller."
   ]
  },
  {
   "cell_type": "code",
   "execution_count": 11,
   "metadata": {
    "pycharm": {
     "name": "#%%\n"
    }
   },
   "outputs": [
    {
     "name": "stdout",
     "output_type": "stream",
     "text": [
      "1.24 ms ± 5.11 µs per loop (mean ± std. dev. of 7 runs, 1,000 loops each)\n"
     ]
    }
   ],
   "source": [
    "def add_vectors_np(np_arr1, np_arr2):\n",
    "    return np_arr1 + np_arr2 # das ist alles!!\n",
    "\n",
    "np_vec1 = np.random.randint(low=1, high=9, size=1_000_000)\n",
    "np_vec2 = np.random.randint(low=1, high=9, size=1_000_000)\n",
    "\n",
    "%timeit add_vectors_np(np_vec1, np_vec2)"
   ]
  },
  {
   "cell_type": "markdown",
   "metadata": {
    "pycharm": {
     "name": "#%% md\n"
    }
   },
   "source": [
    "Im Prinzip brauchen wir also nur den \"+\" Operator (Zeile 4), um zwei Vektoren elementweise zu addieren. Das geht, wie wir später noch sehen werden auch mit mehrdimensionalen Matrizen.\n",
    "\n",
    "## NumPy Arrays: ndarray\n",
    "\n",
    "Damit dies funktioniert, arbeitet NumPy mit sog. Arrays, Datenstrukturen, auf deren Elemente sehr schnell im Speicher zugegriffen werden kann. In Numpy heiẞen diese Array-Objekte **ndarrays** (N-dimensionale Arrays). Die NumPy Arrays unterscheiden sich von klassischen sequentiellen Datenstrukturen in Python wie Listen und Tupel in folgenden Punkten:\n",
    "  - Bei ihrer Generierung haben *ndarrays* eine fest gesetzte Gröẞe, anders als Listen, die dynamisch wachsen können. Wir der Arrays verändert, wird ein neues Array erstellt und der alte im Speicher gelöscht.\n",
    "  - Alle Elemente eines Arrays müssen den gleichen Datentyp haben und damit auch die gleiche Gröẞe im Speicher. Einzige Ausnahme: jedes Python Objekt kann auch Teil eines *ndarrays* sein.\n",
    "  - Es sind, wie schon gezeigt, mathematische Funktionen für diese Arrays vorhanden, mit denen man diesen Objekten sehr effizient operieren kann, ohne viel Code zu schreiben.\n",
    "\n",
    "Wie wird nun ein *ndarray* erzeugt? Hierfür gibt es die Funktion `np.array()`, dem wir eine ganze normale Python Liste samt Elementen übergeben."
   ]
  },
  {
   "cell_type": "code",
   "execution_count": 34,
   "metadata": {
    "pycharm": {
     "name": "#%%\n"
    }
   },
   "outputs": [
    {
     "name": "stdout",
     "output_type": "stream",
     "text": [
      "[2 3 5]\n",
      "int64\n"
     ]
    }
   ],
   "source": [
    "obj = np.array([2, 3, 5])\n",
    "\n",
    "print(obj)\n",
    "print(obj.dtype)"
   ]
  },
  {
   "cell_type": "markdown",
   "metadata": {},
   "source": [
    "### Verschiedene Dimensionen"
   ]
  },
  {
   "cell_type": "markdown",
   "metadata": {},
   "source": [
    "Auch mehrdimensionale Matrizen kann man so erzeugen. Dabei gibt dann die Methode `.shape` ein Tupel mit der Gröẞe der Dimensionen zurück."
   ]
  },
  {
   "cell_type": "code",
   "execution_count": 3,
   "metadata": {
    "pycharm": {
     "name": "#%%\n"
    }
   },
   "outputs": [
    {
     "name": "stdout",
     "output_type": "stream",
     "text": [
      "(4,)\n",
      "(2, 4)\n"
     ]
    }
   ],
   "source": [
    "obj1 = np.array([1, 2, 3, 4])\n",
    "\n",
    "print(obj1.shape)\n",
    "\n",
    "obj2 = np.array([[1, 2, 3 , 4], [4, 3, 2, 1]])\n",
    "\n",
    "print(obj2.shape)"
   ]
  },
  {
   "cell_type": "markdown",
   "metadata": {},
   "source": [
    "Den obigen Numpy Array `obj1` nennt man auch einen *Vektor*, da dieser nur *eine* Dimension hat. `obj2` nennt man eine *Matrix* (Pl. *Matrizen*), da es min. zwei Dimensionen hat.\n",
    "\n",
    "Natürlich kann man dieses Dimensionen-Spielchen theoretisch unendlich weiterführen. Einen Array mit drei oder mehr Dimensionen nennt man *Tensor*.\n",
    "\n",
    "\n",
    "Man erzeugt einen Tesor indem man einen `ndarray` aus einer Liste von zweidimensionalen Listen erzeugt. Einen dreidimensionalen Tensor kann man sich dabei wie einen Rubic's Cube vorstellen:\n",
    "\n",
    "![Rubics Cube](./img/rubics_cube.png)\n"
   ]
  },
  {
   "cell_type": "code",
   "execution_count": 5,
   "metadata": {},
   "outputs": [
    {
     "name": "stdout",
     "output_type": "stream",
     "text": [
      "[[[1 3 4 6]\n",
      "  [3 4 6 8]]\n",
      "\n",
      " [[3 2 4 5]\n",
      "  [7 6 8 9]]\n",
      "\n",
      " [[0 1 9 2]\n",
      "  [2 3 4 5]]] \n",
      "\n",
      "(3, 2, 4)\n"
     ]
    }
   ],
   "source": [
    "# Bau eines Tensors:\n",
    "\n",
    "matrix1 = np.array([[1, 3, 4, 6], [3, 4, 6, 8]])\n",
    "matrix2 = np.array([[3, 2, 4, 5], [7, 6, 8, 9]])\n",
    "matrix3 = np.array([[0, 1, 9, 2], [2, 3, 4, 5]])\n",
    "\n",
    "tensor = np.array([ matrix1, matrix2, matrix3 ])\n",
    "\n",
    "print(tensor, \"\\n\")\n",
    "\n",
    "print(tensor.shape)"
   ]
  },
  {
   "cell_type": "markdown",
   "metadata": {},
   "source": [
    "Mehr als drei Dimensionen mental zu visualisieren ist nicht leicht. Eine Analogie aus dem täglichen Leben mag aber helfen:\n",
    "\n",
    "- **2d:** Zeilen und Spalten\n",
    "- **3d:** Rubic's Cube\n",
    "- **4d:** eine Schublade voll Rubic's Cubes\n",
    "- **5d:** ein Schreibtisch mit mehreren Schubladen voll Rubic's Cubes\n",
    "- **6d:** eine Halle voller Schreibtische voller ...\n",
    "- **7d:** eine Strasse mit aneinandergereihten Hallen voll Schreibtischen voller ...\n",
    "- **8d:** usw. usw."
   ]
  },
  {
   "cell_type": "markdown",
   "metadata": {},
   "source": [
    "## Vektoren und Matrizen direkt erzeugen lassen\n",
    "\n",
    "Es gibt viele Methoden zur Erzeugung von Numpy Arrays. Einen Überblick über alle finden Sie [hier](https://numpy.org/doc/stable/reference/routines.array-creation.html).\n",
    "\n",
    "Die wichtigsten folgen als Beispiel."
   ]
  },
  {
   "cell_type": "markdown",
   "metadata": {},
   "source": [
    "### np.zeros | np.ones | np.full"
   ]
  },
  {
   "cell_type": "code",
   "execution_count": 3,
   "metadata": {},
   "outputs": [
    {
     "data": {
      "text/plain": [
       "array([[0., 0., 0., 0., 0.],\n",
       "       [0., 0., 0., 0., 0.],\n",
       "       [0., 0., 0., 0., 0.],\n",
       "       [0., 0., 0., 0., 0.],\n",
       "       [0., 0., 0., 0., 0.]])"
      ]
     },
     "execution_count": 3,
     "metadata": {},
     "output_type": "execute_result"
    }
   ],
   "source": [
    "zeros = np.zeros((5, 5))\n",
    "\n",
    "zeros"
   ]
  },
  {
   "cell_type": "code",
   "execution_count": 4,
   "metadata": {},
   "outputs": [
    {
     "data": {
      "text/plain": [
       "array([[1., 1., 1., 1., 1., 1., 1., 1.],\n",
       "       [1., 1., 1., 1., 1., 1., 1., 1.],\n",
       "       [1., 1., 1., 1., 1., 1., 1., 1.],\n",
       "       [1., 1., 1., 1., 1., 1., 1., 1.]])"
      ]
     },
     "execution_count": 4,
     "metadata": {},
     "output_type": "execute_result"
    }
   ],
   "source": [
    "ones = np.ones((4, 8))\n",
    "\n",
    "ones"
   ]
  },
  {
   "cell_type": "code",
   "execution_count": 6,
   "metadata": {},
   "outputs": [
    {
     "data": {
      "text/plain": [
       "array([['a', 'a', 'a', 'a', 'a'],\n",
       "       ['a', 'a', 'a', 'a', 'a'],\n",
       "       ['a', 'a', 'a', 'a', 'a'],\n",
       "       ['a', 'a', 'a', 'a', 'a'],\n",
       "       ['a', 'a', 'a', 'a', 'a']], dtype='<U1')"
      ]
     },
     "execution_count": 6,
     "metadata": {},
     "output_type": "execute_result"
    }
   ],
   "source": [
    "all_as = np.full((5, 5), 'a')\n",
    "\n",
    "all_as"
   ]
  },
  {
   "cell_type": "markdown",
   "metadata": {},
   "source": [
    "### np.linspace\n",
    "\n",
    "Die Methode `np.linspace` teilt eine Zahlenreihe in *n* gleichgroße Teile. Dabei können nicht nur *Integer* sondern auch *Floatingpoint* Zahlen für die Spannweite angegeben werden. N muss allerdings eine Ganzzahl bleiben."
   ]
  },
  {
   "cell_type": "code",
   "execution_count": 20,
   "metadata": {},
   "outputs": [
    {
     "data": {
      "text/plain": [
       "array([0.        , 0.11111111, 0.22222222, 0.33333333, 0.44444444,\n",
       "       0.55555556, 0.66666667, 0.77777778, 0.88888889, 1.        ])"
      ]
     },
     "execution_count": 20,
     "metadata": {},
     "output_type": "execute_result"
    }
   ],
   "source": [
    "ten_spaces = np.linspace(0, 1, 10)\n",
    "\n",
    "ten_spaces"
   ]
  },
  {
   "cell_type": "code",
   "execution_count": 23,
   "metadata": {},
   "outputs": [
    {
     "data": {
      "text/plain": [
       "array([0.2       , 0.26666667, 0.33333333, 0.4       , 0.46666667,\n",
       "       0.53333333, 0.6       , 0.66666667, 0.73333333, 0.8       ])"
      ]
     },
     "execution_count": 23,
     "metadata": {},
     "output_type": "execute_result"
    }
   ],
   "source": [
    "ten_spaces_dec = np.linspace(0.2, 0.8, 10)\n",
    "ten_spaces_dec"
   ]
  },
  {
   "cell_type": "markdown",
   "metadata": {},
   "source": [
    "`linspace` bildet dabei standardmäßig ein geschlossenes Intervall. Möchte man dagegen ein halboffenes Intervall bilden, so muss man den Parameter `endpoint` auf `False` setzen."
   ]
  },
  {
   "cell_type": "code",
   "execution_count": 9,
   "metadata": {},
   "outputs": [
    {
     "data": {
      "text/plain": [
       "array([0. , 0.1, 0.2, 0.3, 0.4, 0.5, 0.6, 0.7, 0.8, 0.9])"
      ]
     },
     "execution_count": 9,
     "metadata": {},
     "output_type": "execute_result"
    }
   ],
   "source": [
    "ten_spaces_wo_one = np.linspace(0, 1, 10, endpoint=False)\n",
    "\n",
    "ten_spaces_wo_one"
   ]
  },
  {
   "cell_type": "markdown",
   "metadata": {},
   "source": [
    "Mit dem Parameter `retstept` kann man sich überdies die *Schrittlänge*, die durch `linspace` produziert wird ausgeben lassen."
   ]
  },
  {
   "cell_type": "code",
   "execution_count": 16,
   "metadata": {},
   "outputs": [
    {
     "name": "stdout",
     "output_type": "stream",
     "text": [
      "(array([0.        , 0.14285714, 0.28571429, 0.42857143, 0.57142857,\n",
      "       0.71428571, 0.85714286, 1.        ]), 0.14285714285714285)\n",
      "Größe der Schritte: 0.14285714285714285\n"
     ]
    }
   ],
   "source": [
    "retstep = np.linspace(0, 1, 8, retstep=True)\n",
    "\n",
    "print(retstep)\n",
    "print(f\"Größe der Schritte: {retstep[1]}\")"
   ]
  },
  {
   "cell_type": "markdown",
   "metadata": {},
   "source": [
    "### np.arange\n",
    "\n",
    "Mit `np.arange` kann man eine Zahlenreihe als Array generieren, ähnlich, wie die Python Basis Funktion `range()`. Auch die Syntax ist mit dieser vergleichbar (nur setzt man die Parameter mit Kommas \",\" statt mit Doppelpunkten \":\" ab):\n",
    "\n",
    "```\n",
    "np.arange( start, stop, step )\n",
    "```\n",
    "\n",
    "Auch hier bilder \"start\" und \"stop\" ein *halboffenes Intervall*."
   ]
  },
  {
   "cell_type": "code",
   "execution_count": 24,
   "metadata": {},
   "outputs": [
    {
     "name": "stdout",
     "output_type": "stream",
     "text": [
      "[ 1  3  5  7  9 11 13]\n",
      "[0.5 1.3 2.1 2.9 3.7 4.5 5.3]\n"
     ]
    }
   ],
   "source": [
    "arrrange = np.arange(1, 14, 2)\n",
    "\n",
    "print(arrrange)\n",
    "\n",
    "arrrange = np.arange(0.5, 6.1, 0.8)\n",
    "\n",
    "print(arrrange)"
   ]
  },
  {
   "cell_type": "markdown",
   "metadata": {},
   "source": [
    "### Reshaping: Dimensionalität eines Arrays ändern\n",
    "\n",
    "Über das Attribut `.shape` kann man die Dimensionen eines Arrays auslesen und über den Zuweisungsoperator auch ändern.\n",
    "\n",
    "Möchte man die Dimensionen eines Arrays gleich beim Erstellen (z.b. über `arange` oder `linspace`) desselbigen ändern, so kann man die Methode `.reshape()` benutzen.\n",
    "\n",
    "Beachten Sie dabei, dass `(m, n, k) = m * n * k` die Anzahl an Elementen im Array sein muss."
   ]
  },
  {
   "cell_type": "code",
   "execution_count": 104,
   "metadata": {},
   "outputs": [
    {
     "data": {
      "text/plain": [
       "array([[ 0,  1,  2,  3,  4,  5,  6,  7,  8,  9, 10, 11],\n",
       "       [12, 13, 14, 15, 16, 17, 18, 19, 20, 21, 22, 23],\n",
       "       [24, 25, 26, 27, 28, 29, 30, 31, 32, 33, 34, 35],\n",
       "       [36, 37, 38, 39, 40, 41, 42, 43, 44, 45, 46, 47]])"
      ]
     },
     "execution_count": 104,
     "metadata": {},
     "output_type": "execute_result"
    }
   ],
   "source": [
    "arr = np.arange(48)\n",
    "\n",
    "arr.shape = (4, 12)\n",
    "\n",
    "arr"
   ]
  },
  {
   "cell_type": "code",
   "execution_count": 105,
   "metadata": {},
   "outputs": [
    {
     "data": {
      "text/plain": [
       "array([[ 0,  1,  2,  3,  4,  5,  6,  7,  8,  9, 10, 11],\n",
       "       [12, 13, 14, 15, 16, 17, 18, 19, 20, 21, 22, 23],\n",
       "       [24, 25, 26, 27, 28, 29, 30, 31, 32, 33, 34, 35],\n",
       "       [36, 37, 38, 39, 40, 41, 42, 43, 44, 45, 46, 47]])"
      ]
     },
     "execution_count": 105,
     "metadata": {},
     "output_type": "execute_result"
    }
   ],
   "source": [
    "arr2 = np.arange(48).reshape((4, 12))\n",
    "\n",
    "arr2"
   ]
  },
  {
   "cell_type": "markdown",
   "metadata": {},
   "source": [
    "### np.random\n",
    "\n",
    "Das *Random* Modul von NumPy ist ein mächtiges Werkzeug zum Erzeugen von Zufallszahlen. Dabei kann auch aus verschiedensten Wahrscheinlichkeitsverteilungen gewählt werden.\n",
    "\n",
    "Seit NumPy Version 1.17 (aus dem Jahr 2019) hat sich hier allerdings die Erzeugung von Zufallszahlen geändert. Wir wollen hier gleich den neuen Standard übernehmen. Für Ihr Verständnis, falls Sie älteren Code lesen müssen, sei darauf verwiesen, dass die alten Aufrufe `np.random.randint` und `np.random.randn` als sog. *Legacy Code* erhalten bleibt. Sie sollten aber die neue Funktion `np.random.default_rng` (rng = \"random number generator\"), die einen *PCG64 Zahlen Generator* erzeugt, benutzen.\n",
    "\n",
    "Grundsätzlich funktioniert die Erzeugung von Zufallszahlen in NumPy nun in zwei Schritten:\n",
    "1. Zuerst wird über einen *BitGenerator* eine Zahlenfolge erstellte, die\n",
    "2. dann über einen *Generator* in eine *Wahrscheilichkeitsverteilung* überführt wird.\n",
    "\n",
    "Übergeben Sie an den `default_rng` Parameter `seed` eine beliebige Zahl, können Sie dadurch die immer gleichen Zahlenfolgen generieren. Dies ist unter anderem zu Simulationzwecken und in \"reproduzierbarer wissenschaftlicher Forschung\" notwendig.\n",
    "\n",
    "Die Methode `.random()` generiert Zufallszahlen zwischen 0 und 1. Als Argument übergibt man die Anzahl der Zahlen, bzw. den *shape* des Arrays, der ausgegeben werden soll."
   ]
  },
  {
   "cell_type": "code",
   "execution_count": 27,
   "metadata": {},
   "outputs": [
    {
     "data": {
      "text/plain": [
       "array([[0.77395605, 0.43887844, 0.85859792, 0.69736803, 0.09417735,\n",
       "        0.97562235, 0.7611397 , 0.78606431, 0.12811363, 0.45038594],\n",
       "       [0.37079802, 0.92676499, 0.64386512, 0.82276161, 0.4434142 ,\n",
       "        0.22723872, 0.55458479, 0.06381726, 0.82763117, 0.6316644 ]])"
      ]
     },
     "execution_count": 27,
     "metadata": {},
     "output_type": "execute_result"
    }
   ],
   "source": [
    "from numpy.random import default_rng\n",
    "\n",
    "rng = default_rng(seed=42)\n",
    "\n",
    "rand_nums = rng.random((2, 10))\n",
    "\n",
    "rand_nums"
   ]
  },
  {
   "cell_type": "markdown",
   "metadata": {},
   "source": [
    "Über die Methode `.integers()` lassen sich beliebige Ganzzahlen generieren. Als Parameter kann man die Range, die Anzahl, den Typ, sowie den Endpoint angeben. Letzterer bestimmt ob die Range ein geschlossenes oder halboffenes Inervall ist (siehe `np.arange`)."
   ]
  },
  {
   "cell_type": "code",
   "execution_count": 38,
   "metadata": {},
   "outputs": [
    {
     "data": {
      "text/plain": [
       "array([3, 4, 4, 0, 5, 1, 7, 6, 9, 7, 3, 9])"
      ]
     },
     "execution_count": 38,
     "metadata": {},
     "output_type": "execute_result"
    }
   ],
   "source": [
    "rand_ints = rng.integers(0, 10, 12, endpoint=False)\n",
    "\n",
    "rand_ints"
   ]
  },
  {
   "cell_type": "markdown",
   "metadata": {},
   "source": [
    "Die Methode `.choice()` ermöglicht es, Samples (Stichproben) aus einer Liste an Elemente zu ziehen. Über den Parameter `p` kann eine Liste an Wahrscheinlichkeiten übergeben werden. **Beachten Sie dabei,** dass die Anzahl der Wahrscheinlichkeiten gleich der Anzahl der Elemente, aus denen gewählt wird, sein muss. Ausserdem muss die Summe der Wahrscheinlichkeiten 1 ergeben."
   ]
  },
  {
   "cell_type": "code",
   "execution_count": 41,
   "metadata": {},
   "outputs": [
    {
     "data": {
      "text/plain": [
       "array(['i', 'f', 'o', 'r', 'y', 'l', 'e', 'v', 'q', 's', 'c', 'i'],\n",
       "      dtype='<U1')"
      ]
     },
     "execution_count": 41,
     "metadata": {},
     "output_type": "execute_result"
    }
   ],
   "source": [
    "import string\n",
    "\n",
    "letters = [c for c in string.ascii_lowercase]\n",
    "\n",
    "sample_chars = rng.choice(letters, size=12, replace=True)\n",
    "\n",
    "sample_chars"
   ]
  },
  {
   "cell_type": "code",
   "execution_count": 54,
   "metadata": {},
   "outputs": [
    {
     "name": "stdout",
     "output_type": "stream",
     "text": [
      "[9 1 9 1 2 7 0 0 0 5 8 0 8 9 2 1 9 9 7 9 1 5 8 3 8 6 8 6 4 2 2 8 1 1 2 2 9\n",
      " 5 9 1 8 5 5 9 9 9 2 2 8 3 8 7 7 9 8 0 0 8 6 3 5 8 9 7 5 3 6 4 7 8 0 0 2 9\n",
      " 8 2 9 6 6 9 0 2 7 2 8 2 1 2 5 2 1 9 4 4 0 4 3 8 2 9 9 1 1 1 8 1 9 8 9 7 9\n",
      " 0 5 4 9 7 9 2 9 6 6 9 5 5 7 1 4 2 1 9 7 4 5 5 8 9 9 5 4 6 7 6 8 7 4 4 5 1\n",
      " 2 8 5 2 7 8 3 9 9 7 8 0 9 5 9 7 0 0 8 7 0 8 9 6 6 0 8 4 9 4 7 3 2 8 6 7 9\n",
      " 9 9 2 7 9 4 1 9 6 7 9 8 5 4 5 1 8 9 3 4 9 0 6 6 8 2 8 5 8 0 6 6 2 1 2 4 1\n",
      " 9 5 9 9 1 8 9 8 5 5 0 7 9 9 0 8 4 9 0 9 9 1 0 9 2 7 9 7 5 5 0 9 4 2 3 9 1\n",
      " 9 8 9 9 9 9 1 8 7 7 9 9 8 6 6 5 4 5 1 1 8 5 9 8 0 2 2 9 2 6 9 9 3 0 2 0 2\n",
      " 7 9 7 8 2 9 8 9 9 4 1 3 5 9 5 8 7 2 4 8 8 5 3 8 2 9 2 1 6 6 6 5 9 6 6 5 0]\n",
      "{0: 27, 1: 28, 2: 36, 3: 12, 4: 22, 5: 33, 6: 26, 7: 29, 8: 46, 9: 74}\n"
     ]
    }
   ],
   "source": [
    "numbers = list(range(10))\n",
    "\n",
    "probabilities = [(0.6 / 8)] * 8 + [0.2, 0.2] # wir geben der 8 und der 9 etwas höhere Chancen\n",
    "\n",
    "sample_nums = rng.choice(numbers, size=333, replace=True, p=probabilities)\n",
    "\n",
    "print(sample_nums)\n",
    "\n",
    "# anschließend zählen wir die Zahlen\n",
    "\n",
    "_, counts = np.unique(sample_nums, return_counts=True)\n",
    "\n",
    "num_counts = dict(zip(numbers, counts))\n",
    "\n",
    "print(num_counts)"
   ]
  },
  {
   "cell_type": "markdown",
   "metadata": {},
   "source": [
    "*Permutationen* kann man mit den Methoden `.shuffle()`, `.permutation()` oder `.permuted()` generieren.\n",
    "\n",
    "Wo liegen die Unterschiede? `shuffle` \"mischt\" einen NumPy Array *in-place*, d.h. der Array wird direkt verändert. `permutation` und `permuted` erstellen standardmäßig eine Kopie; bei `permuted` kann man optional aber auch über den Parameter `out` bestimmen, dass der Array *in-place* verändert wird. Ausserdem kann man über den Parameter `axis` bei mehrdimensionalen Arrays angeben, welche Achse (z.B. Zeilen oder Spalten - siehe unten) permutiert werden soll. Man sollte also generell lieber zu `permuted` greifen. Ein Vorteil von `shuffle` ist allerdings, dass sich diese Methode auch auf nicht NumPy Array Objekte anwenden lässt."
   ]
  },
  {
   "cell_type": "code",
   "execution_count": 57,
   "metadata": {},
   "outputs": [
    {
     "data": {
      "text/plain": [
       "array([42, 37, 39, 32, 41, 34, 36, 35, 38, 40, 33])"
      ]
     },
     "execution_count": 57,
     "metadata": {},
     "output_type": "execute_result"
    }
   ],
   "source": [
    "x = np.arange(32, 43)\n",
    "\n",
    "y = rng.permuted(x)\n",
    "\n",
    "y"
   ]
  },
  {
   "cell_type": "code",
   "execution_count": 60,
   "metadata": {},
   "outputs": [
    {
     "name": "stdout",
     "output_type": "stream",
     "text": [
      "[[ 0  1  2  3  4]\n",
      " [ 5  6  7  8  9]\n",
      " [10 11 12 13 14]]\n",
      "[[ 5  1  2  8 14]\n",
      " [ 0  6  7 13  4]\n",
      " [10 11 12  3  9]]\n",
      "[[ 4  3  2  0  1]\n",
      " [ 5  9  6  7  8]\n",
      " [13 11 14 12 10]]\n"
     ]
    }
   ],
   "source": [
    "xs = np.arange(0, 15).reshape((3, 5))\n",
    "\n",
    "print(xs)\n",
    "\n",
    "ys0 = rng.permuted(xs, axis=0)\n",
    "\n",
    "print(ys0)\n",
    "\n",
    "ys1 = rng.permuted(xs, axis=1)\n",
    "\n",
    "print(ys1)"
   ]
  },
  {
   "cell_type": "code",
   "execution_count": 72,
   "metadata": {},
   "outputs": [
    {
     "name": "stdout",
     "output_type": "stream",
     "text": [
      "['a', 'b', 'c', 'd', 'e', 'f', 'g']\n",
      "['d', 'f', 'e', 'a', 'c', 'b', 'g']\n"
     ]
    }
   ],
   "source": [
    "a = list(string.ascii_lowercase)[:7]\n",
    "\n",
    "# vor dem Mischen\n",
    "print(a)\n",
    "\n",
    "# .shuffle() mischt in-place!\n",
    "rng.shuffle(a)\n",
    "\n",
    "# nach dem Mischen\n",
    "print(a)"
   ]
  },
  {
   "cell_type": "markdown",
   "metadata": {},
   "source": [
    "#### Wahrscheinlichkeitsverteilungen\n",
    "\n",
    "Nun gibt es für Random noch eine riesige Auswahl an Wahrscheinlichkeitsverteilungen, die man für die Verteilung der randomisierten Werten nutzen kann. Derzeit sind es 36 Distributionen (Stand Version 1.23). Einen kompletten Überblick findet man [hier](https://numpy.org/doc/stable/reference/random/generator.html#distributions).\n",
    "\n",
    "Einige Beispiele sollen genügen."
   ]
  },
  {
   "cell_type": "code",
   "execution_count": 114,
   "metadata": {},
   "outputs": [
    {
     "data": {
      "image/png": "[encoded data removed]",
      "text/plain": [
       "<Figure size 640x480 with 1 Axes>"
      ]
     },
     "metadata": {},
     "output_type": "display_data"
    }
   ],
   "source": [
    "# Binomial Verteilung für diskrete Werte.\n",
    "\n",
    "# Wurf einer \"gezinkten\" Münze 10 mal in 1.000 Versuchen.\n",
    "\n",
    "n, p = 10, 0.6\n",
    "\n",
    "s = rng.binomial(n, p, 1_000)\n",
    "\n",
    "# schauen wir uns die Verteilung der erfolgreichen Würfe an\n",
    "# Matplotlib werden wir später noch genauer kennenlernen\n",
    "\n",
    "import matplotlib.pyplot as plt\n",
    "\n",
    "plt.hist(s)\n",
    "plt.vlines(5, 0, 260, colors='r')\n",
    "plt.show()"
   ]
  },
  {
   "cell_type": "code",
   "execution_count": 101,
   "metadata": {},
   "outputs": [
    {
     "name": "stdout",
     "output_type": "stream",
     "text": [
      "0.0226\n"
     ]
    }
   ],
   "source": [
    "# Ein Profi Baseball Spieler hat ein Chance von 0.275 den Ball mit dem Schläger zu treffen.\n",
    "# Pro Spiel kommt er durchschnittliche 5 mal zum Schlagen.\n",
    "# Dieses Spiel hat er gleich vier Bälle von fünf getroffen. \n",
    "# Wie hoch ist die Wahrscheinlichtkeit, dass dies passiert?\n",
    "\n",
    "n, p = 5, 0.275\n",
    "\n",
    "# wir simulieren 10.000 mal\n",
    "\n",
    "s = rng.binomial(n, p, 10_000)\n",
    "\n",
    "print(sum(s == 4) / 10_000)"
   ]
  },
  {
   "cell_type": "code",
   "execution_count": 102,
   "metadata": {},
   "outputs": [
    {
     "data": {
      "text/plain": [
       "array([174.87155807, 162.81816441, 171.09926497, 168.17311347,\n",
       "       171.08629602, 168.55536863, 166.19716659, 162.23323153,\n",
       "       172.85597135, 161.41853231, 172.65995614, 165.28449769,\n",
       "       175.6436763 , 173.0941181 , 172.59959551, 168.43369186,\n",
       "       171.0294377 , 168.44411905, 168.01804064, 173.45347037,\n",
       "       168.4099374 , 169.08883092, 176.17555164, 176.21481424,\n",
       "       159.05729909, 155.62890542, 173.36828311, 174.33515067,\n",
       "       165.44731172, 175.04987635, 164.62525441, 165.78728651,\n",
       "       175.57613495, 163.86009728, 166.8934091 , 167.89452141,\n",
       "       172.918841  , 163.32678441, 162.89886956, 165.96702054,\n",
       "       166.1509999 , 169.74737631])"
      ]
     },
     "execution_count": 102,
     "metadata": {},
     "output_type": "execute_result"
    }
   ],
   "source": [
    "# Bei der Normalverteilung muss man den Mittelwert (loc) und die Standardabweichung (scale) angeben.\n",
    "\n",
    "norm = rng.normal(loc=168, scale=5, size=42)\n",
    "\n",
    "norm"
   ]
  },
  {
   "cell_type": "markdown",
   "metadata": {},
   "source": [
    "## Indexing und Slicing\n",
    "\n",
    "Indexing funktioniert bei Numpy Arrays genauso mit dem `[]` Operator wie in Python üblich."
   ]
  },
  {
   "cell_type": "code",
   "execution_count": 6,
   "metadata": {},
   "outputs": [
    {
     "name": "stdout",
     "output_type": "stream",
     "text": [
      "0\n",
      "9\n"
     ]
    }
   ],
   "source": [
    "my_arr = np.arange(10)\n",
    "\n",
    "print(my_arr[0])\n",
    "\n",
    "print(my_arr[-1])"
   ]
  },
  {
   "cell_type": "code",
   "execution_count": 8,
   "metadata": {},
   "outputs": [
    {
     "name": "stdout",
     "output_type": "stream",
     "text": [
      "[0 1 2 3 4]\n",
      "4\n"
     ]
    }
   ],
   "source": [
    "my_arr.shape = (2, 5)\n",
    "\n",
    "print(my_arr[0])\n",
    "\n",
    "print(my_arr[0][-1])"
   ]
  },
  {
   "cell_type": "markdown",
   "metadata": {},
   "source": [
    "Allerdings gibt es in Numpy eine effizientere Methode, um auf die Elemente mehrdimensionaler Arrays zu gehen. Man kann dem `[]` Operator auch ein Tupel an Zahlen übergeben:\n",
    "\n",
    "```array[0][1] == array[(0, 1)]```\n",
    "\n",
    "Dies generiert den *view* (was das ist werden wir gleich noch sehen) auf den Array in einem einzigen Schritt und nicht in zweien, wie im Beispiel. Und da sich im Data Science Bereich alles um Effizienz dreht, wollen wir auch so auf Elemente in Numpy Arrays zugreifen.\n",
    "\n",
    "Nun gibt es aber noch \"syntaktischen Zucker\" für den Zugriff per Tupel: man kann die runden klammern einfach weg lassen.\n",
    "\n",
    "```array[(0, 1)] == array[0, 1]```"
   ]
  },
  {
   "cell_type": "code",
   "execution_count": 10,
   "metadata": {},
   "outputs": [
    {
     "name": "stdout",
     "output_type": "stream",
     "text": [
      "4\n",
      "4\n"
     ]
    }
   ],
   "source": [
    "print(my_arr[(0, -1)])\n",
    "\n",
    "print(my_arr[0, -1])"
   ]
  },
  {
   "cell_type": "markdown",
   "metadata": {},
   "source": [
    "Neben dem Indexing kann man aber auch das *Slicing* auf NumPy Arrays anwenden. Auch hier kann man den Doppelpunkt \":\" einsetzen, um *Start* und *Stop* des Intervalls anzugeben.\n",
    "\n",
    "Bei mehrdimensionalen Arrays kann man diese Schreibweise auch in der abkürzenden Schreibweise wie obern verwenden. Damit bricht NumPy etwas mit der Syntax, wie sie sonst in Python verwendet wird."
   ]
  },
  {
   "cell_type": "code",
   "execution_count": 5,
   "metadata": {},
   "outputs": [
    {
     "data": {
      "text/plain": [
       "array([[ 0,  1,  2,  3,  4,  5],\n",
       "       [ 6,  7,  8,  9, 10, 11],\n",
       "       [12, 13, 14, 15, 16, 17],\n",
       "       [18, 19, 20, 21, 22, 23]])"
      ]
     },
     "execution_count": 5,
     "metadata": {},
     "output_type": "execute_result"
    }
   ],
   "source": [
    "arr_2d = np.arange(0, 24).reshape((4, 6))\n",
    "\n",
    "arr_2d"
   ]
  },
  {
   "cell_type": "code",
   "execution_count": 6,
   "metadata": {},
   "outputs": [
    {
     "data": {
      "text/plain": [
       "array([[ 0,  1,  2,  3,  4,  5],\n",
       "       [ 6,  7,  8,  9, 10, 11]])"
      ]
     },
     "execution_count": 6,
     "metadata": {},
     "output_type": "execute_result"
    }
   ],
   "source": [
    "# die ersten zwei Zeilen:\n",
    "\n",
    "arr_2d[:2, :]"
   ]
  },
  {
   "cell_type": "code",
   "execution_count": 8,
   "metadata": {},
   "outputs": [
    {
     "data": {
      "text/plain": [
       "array([[ 3,  4,  5],\n",
       "       [ 9, 10, 11],\n",
       "       [15, 16, 17],\n",
       "       [21, 22, 23]])"
      ]
     },
     "execution_count": 8,
     "metadata": {},
     "output_type": "execute_result"
    }
   ],
   "source": [
    "# die letzten drei Spalten:\n",
    "\n",
    "arr_2d[:, 3:]"
   ]
  },
  {
   "cell_type": "code",
   "execution_count": 10,
   "metadata": {},
   "outputs": [
    {
     "data": {
      "text/plain": [
       "array([[ 8,  9],\n",
       "       [14, 15]])"
      ]
     },
     "execution_count": 10,
     "metadata": {},
     "output_type": "execute_result"
    }
   ],
   "source": [
    "# der mittlere Bereiche mit dem Shape (2, 2)\n",
    "\n",
    "arr_2d[1:3, 2:4]"
   ]
  },
  {
   "cell_type": "code",
   "execution_count": 12,
   "metadata": {},
   "outputs": [
    {
     "data": {
      "text/plain": [
       "array([ 5, 11, 17, 23])"
      ]
     },
     "execution_count": 12,
     "metadata": {},
     "output_type": "execute_result"
    }
   ],
   "source": [
    "# nur die letzte Spalte\n",
    "\n",
    "arr_2d[:, -1]"
   ]
  },
  {
   "cell_type": "markdown",
   "metadata": {},
   "source": [
    "Allerdings sehen Sie, dass das Array seinen Shape \"verliert\", wenn Sie nur eine Spalte auswählen. Wir müssen also den Shape erst wieder anpassen, so wie wir es oben gelernt haben."
   ]
  },
  {
   "cell_type": "code",
   "execution_count": 18,
   "metadata": {},
   "outputs": [
    {
     "data": {
      "text/plain": [
       "array([[ 5],\n",
       "       [11],\n",
       "       [17],\n",
       "       [23]])"
      ]
     },
     "execution_count": 18,
     "metadata": {},
     "output_type": "execute_result"
    }
   ],
   "source": [
    "arr_2d[:, -1].reshape(4, 1)"
   ]
  },
  {
   "cell_type": "markdown",
   "metadata": {},
   "source": [
    "## Numpy Datentypen dtypes\n",
    "\n",
    "Das Typsystem von Numpy ist umfangreicher und angepasster als das Typsystem von Python."
   ]
  },
  {
   "cell_type": "markdown",
   "metadata": {},
   "source": [
    "### Typ Coersion"
   ]
  },
  {
   "cell_type": "markdown",
   "metadata": {},
   "source": [
    "## Elemente filtern\n",
    "\n",
    "### Maskierung\n",
    "\n",
    "NumPy Arrays lassen sich über sog. *Masken* sehr einfach filtern. Eine *Maske* ist dabei eine Array mit gleichen Dimensionen und gleicher Länger, wie der Array, den man maskieren will und enthält ausschließlich `True` und `False` Werte. Gedanklich kann man sich vorstellen, dass diese Maske auf den zu filternden Array gelegt wird und alle Werte, auf denen `False` liegt, \"ausgefiltert\" werden. Übrig bleiben ergo nur die Elemente, denen `True` zugeordnet wurde.\n",
    "\n",
    "Bedingungen lassen sich mit der Tilde \"~\" umkehren.\n",
    "\n",
    "Über den schon bekannten `[]` Operator wendet man die Maske auf den Array an."
   ]
  },
  {
   "cell_type": "code",
   "execution_count": 42,
   "metadata": {},
   "outputs": [
    {
     "name": "stdout",
     "output_type": "stream",
     "text": [
      "[1 2 4 5]\n",
      "[3 6 7 8 9]\n"
     ]
    }
   ],
   "source": [
    "orig_arr = np.array([[1, 2, 3],\n",
    "                    [4, 5, 6],\n",
    "                    [7, 8, 9]])\n",
    "\n",
    "mask = np.array([[True, True, False],\n",
    "                 [True, True, False],\n",
    "                 [False, False, False]])\n",
    "\n",
    "print(orig_arr[mask])\n",
    "\n",
    "print(orig_arr[~mask])"
   ]
  },
  {
   "cell_type": "markdown",
   "metadata": {},
   "source": [
    "Über Vergleichsoperatoren kann man Masken erstellen. Wie akzeptieren hier einfach einmal, dass es funktioniert, so etwas wie `np.array(x) <= 4` zu schreiben. Die Funktionsweise selbst lernen wir aber erst im Kapitel über *Broadcasting* kennen."
   ]
  },
  {
   "cell_type": "code",
   "execution_count": 23,
   "metadata": {},
   "outputs": [
    {
     "name": "stdout",
     "output_type": "stream",
     "text": [
      "[[ True  True  True]\n",
      " [ True  True False]\n",
      " [False False False]]\n",
      "[1 2 3 4 5]\n"
     ]
    }
   ],
   "source": [
    "mask = orig_arr <= 5\n",
    "\n",
    "print(mask)\n",
    "\n",
    "print(orig_arr[mask])"
   ]
  },
  {
   "cell_type": "markdown",
   "metadata": {},
   "source": [
    "Diese zwei Schritte kann man auch in einem Schritt vereinen."
   ]
  },
  {
   "cell_type": "code",
   "execution_count": 25,
   "metadata": {},
   "outputs": [
    {
     "name": "stdout",
     "output_type": "stream",
     "text": [
      "[7 8 9]\n",
      "[1 3 5 7 9]\n"
     ]
    }
   ],
   "source": [
    "print(orig_arr[orig_arr >= 7])\n",
    "\n",
    "print(orig_arr[orig_arr % 2 != 0])"
   ]
  },
  {
   "cell_type": "markdown",
   "metadata": {},
   "source": [
    "### np.where\n",
    "\n",
    "Mit der Funktion `np.where` filtert man Arrays über eine Bedingung und gibt zwei Effekte an: ein Effekt, der Eintritt, wenn die Bedingung wahr ist, und einer, wenn die Bedingung falsch ist. `np.where` funktioniert damit ähnlich wie eine *if-else* Anweisung. Die Syntax ist:\n",
    "\n",
    "```\n",
    "np.where( Bedingung, Effekt wenn wahr, Effekt wenn falsch )\n",
    "```"
   ]
  },
  {
   "cell_type": "code",
   "execution_count": 34,
   "metadata": {},
   "outputs": [
    {
     "data": {
      "text/plain": [
       "array([ 0,  2,  2,  6,  4, 10,  6, 14,  8, 18])"
      ]
     },
     "execution_count": 34,
     "metadata": {},
     "output_type": "execute_result"
    }
   ],
   "source": [
    "x = np.arange(10)\n",
    "\n",
    "np.where(x % 2 == 0, x, x * 2)"
   ]
  },
  {
   "cell_type": "code",
   "execution_count": 35,
   "metadata": {},
   "outputs": [
    {
     "data": {
      "text/plain": [
       "array([99, 99, 99, 99, 99, -1, -1, -1, -1, -1])"
      ]
     },
     "execution_count": 35,
     "metadata": {},
     "output_type": "execute_result"
    }
   ],
   "source": [
    "np.where(x <= 4, 99, -1)"
   ]
  },
  {
   "cell_type": "markdown",
   "metadata": {},
   "source": [
    "### np.isin\n",
    "\n",
    "Möchte man einen Array danach filtern, je nachdem, ob seine Objekte Elemente einer bestimmten Menge sind, so kann man die Funktion `np.isin` benutzen. Die Syntax ist:\n",
    "\n",
    "```\n",
    "np.isin(Array, Prüfmenge)\n",
    "```"
   ]
  },
  {
   "cell_type": "code",
   "execution_count": 41,
   "metadata": {},
   "outputs": [
    {
     "data": {
      "text/plain": [
       "array(['S', 't', 'f', 'n'], dtype='<U1')"
      ]
     },
     "execution_count": 41,
     "metadata": {},
     "output_type": "execute_result"
    }
   ],
   "source": [
    "chars = np.array([c for c in \"Stefan\"])\n",
    "\n",
    "vowels = np.array([\"a\", \"e\", \"i\", \"o\", \"u\"])\n",
    "\n",
    "chars[~np.isin(chars, vowels)]"
   ]
  },
  {
   "cell_type": "markdown",
   "metadata": {},
   "source": [
    "## Achsen\n",
    "\n",
    "Für die weiteren Funktionen brauchen wir oft den Parameter `axis`, der angibt, auf welche Dimension (= Achse) sich eine Operation auswirken soll. Dabei ist die Achse $0$ immer die \"Zeilen\"-Achse, Achse $1$ immer die \"Spalten\"-Achse. Die weiteren Achsen ergeben sich dann aus der jeweiligen Dimension (so ist eben Achse $2$ die \"dritte\" Dimension).\n",
    "\n",
    "![Array Achsen](img/array_axis1.png)"
   ]
  },
  {
   "cell_type": "markdown",
   "metadata": {},
   "source": [
    "## Daten zusammenfügen und entfernen"
   ]
  },
  {
   "cell_type": "markdown",
   "metadata": {},
   "source": [
    "### np.concatenate"
   ]
  },
  {
   "cell_type": "markdown",
   "metadata": {},
   "source": [
    "Mit der `NumPy` Methode `.concatenate` lassen sich mehrere Arrays zusammenfügen. Die Funktion nimmt ein Tupel, das die Arrays enthält, zusammen mit einem Argument für die Achse, an der zusammengefügt werden soll, entgegen:\n",
    "```\n",
    "np.concatenate((arr1, arr2, ...), axis=0)\n",
    "```\n",
    "Aber vorsicht. Die übergebenen Arrays müssen eine gleichlange Dimension haben, an der sie zusammengefügt werden können."
   ]
  },
  {
   "cell_type": "code",
   "execution_count": 22,
   "metadata": {},
   "outputs": [
    {
     "ename": "ValueError",
     "evalue": "all the input arrays must have same number of dimensions, but the array at index 0 has 2 dimension(s) and the array at index 1 has 1 dimension(s)",
     "output_type": "error",
     "traceback": [
      "\u001b[0;31m---------------------------------------------------------------------------\u001b[0m",
      "\u001b[0;31mValueError\u001b[0m                                Traceback (most recent call last)",
      "Input \u001b[0;32mIn [22]\u001b[0m, in \u001b[0;36m<cell line: 5>\u001b[0;34m()\u001b[0m\n\u001b[1;32m      1\u001b[0m arr1 \u001b[38;5;241m=\u001b[39m np\u001b[38;5;241m.\u001b[39marray([[\u001b[38;5;241m1\u001b[39m, \u001b[38;5;241m2\u001b[39m], [\u001b[38;5;241m3\u001b[39m, \u001b[38;5;241m4\u001b[39m]])\n\u001b[1;32m      3\u001b[0m arr2 \u001b[38;5;241m=\u001b[39m np\u001b[38;5;241m.\u001b[39marray([\u001b[38;5;241m5\u001b[39m, \u001b[38;5;241m6\u001b[39m])\n\u001b[0;32m----> 5\u001b[0m \u001b[43mnp\u001b[49m\u001b[38;5;241;43m.\u001b[39;49m\u001b[43mconcatenate\u001b[49m\u001b[43m(\u001b[49m\u001b[43m(\u001b[49m\u001b[43marr1\u001b[49m\u001b[43m,\u001b[49m\u001b[43m \u001b[49m\u001b[43marr2\u001b[49m\u001b[43m)\u001b[49m\u001b[43m)\u001b[49m\n",
      "File \u001b[0;32m<__array_function__ internals>:5\u001b[0m, in \u001b[0;36mconcatenate\u001b[0;34m(*args, **kwargs)\u001b[0m\n",
      "\u001b[0;31mValueError\u001b[0m: all the input arrays must have same number of dimensions, but the array at index 0 has 2 dimension(s) and the array at index 1 has 1 dimension(s)"
     ]
    }
   ],
   "source": [
    "arr1 = np.array([[1, 2], [3, 4]])\n",
    "\n",
    "arr2 = np.array([5, 6])\n",
    "\n",
    "np.concatenate((arr1, arr2))"
   ]
  },
  {
   "cell_type": "markdown",
   "metadata": {},
   "source": [
    "Warum kommt hier eine Fehlermeldung? Schauen wir uns die Dimensionen der beiden Arrays einmal genauer an."
   ]
  },
  {
   "cell_type": "code",
   "execution_count": 14,
   "metadata": {},
   "outputs": [
    {
     "name": "stdout",
     "output_type": "stream",
     "text": [
      "(2, 2) (2,)\n"
     ]
    }
   ],
   "source": [
    "print(arr1.shape, arr2.shape)"
   ]
  },
  {
   "cell_type": "markdown",
   "metadata": {},
   "source": [
    "Wir sehen, dass `arr2` nur eine einzige Dimension hat, also ein Vektor ist. `arr1` dagegen ist eine Matrix mit 2 Dimensionen. Wir müssen also `arr2` erst in eine zweidimensionale Form mit Hilfe der Funktion `.reshape()` bringen. Dann klappt auch die Concatination."
   ]
  },
  {
   "cell_type": "code",
   "execution_count": 26,
   "metadata": {},
   "outputs": [
    {
     "name": "stdout",
     "output_type": "stream",
     "text": [
      "(1, 2) \n",
      "\n",
      "[[1 2]\n",
      " [3 4]\n",
      " [5 6]]\n"
     ]
    }
   ],
   "source": [
    "arr2 = arr2.reshape((1, 2))\n",
    "\n",
    "print(arr2.shape, '\\n')\n",
    "\n",
    "arr3 = np.concatenate((arr1, arr2))\n",
    "\n",
    "print(arr3)"
   ]
  },
  {
   "cell_type": "markdown",
   "metadata": {},
   "source": [
    "Natürlich kann man die Dimensionen auch anders setzen und über den Parameter `axis=` die Achse bennen, an der die zwei Arrays aneinandergefügt werden soll. Dazu müssen wir unseren Array `arr2` aber noch einmal in die richtige Form bringen."
   ]
  },
  {
   "cell_type": "code",
   "execution_count": 28,
   "metadata": {},
   "outputs": [
    {
     "name": "stdout",
     "output_type": "stream",
     "text": [
      "[[1 2 5]\n",
      " [3 4 6]]\n"
     ]
    }
   ],
   "source": [
    "arr2 = arr2.reshape((2, 1))\n",
    "\n",
    "arr4 = np.concatenate((arr1, arr2), axis=1)\n",
    "\n",
    "print(arr4)"
   ]
  },
  {
   "cell_type": "code",
   "execution_count": 30,
   "metadata": {},
   "outputs": [
    {
     "name": "stdout",
     "output_type": "stream",
     "text": [
      "[[5 1 2 3 1 2 5]\n",
      " [6 4 5 6 3 4 6]]\n"
     ]
    }
   ],
   "source": [
    "arr3 = arr3.reshape(2, 3)\n",
    "\n",
    "arr5 = np.concatenate((arr2, arr3, arr4), axis=1)\n",
    "\n",
    "print(arr5)"
   ]
  },
  {
   "cell_type": "markdown",
   "metadata": {},
   "source": [
    "### np.delete"
   ]
  },
  {
   "cell_type": "markdown",
   "metadata": {},
   "source": [
    "### np.split"
   ]
  },
  {
   "cell_type": "markdown",
   "metadata": {},
   "source": [
    "### np.stack"
   ]
  },
  {
   "cell_type": "markdown",
   "metadata": {},
   "source": [
    "## Numpy Arrays Laden und Speichern"
   ]
  },
  {
   "cell_type": "markdown",
   "metadata": {},
   "source": [
    "### Dateistreams mit Python öffnen\n",
    "\n",
    "Für das Lesen von Dateien von der Festplatte steht die Funktion `open()` in Python zur Verfügung. Als Arguemente braucht Sie mindestens einen Pfad zur Datei und den Dateinamen als String, sowie einen bestimmten *Modus* zum Öffnen der Datei ebenfalls als String. Optional können auch noch Informationen zur Codierung der Datei übergeben werden.\n",
    "\n",
    "`open(\"Pfad zur Datei + Name\", \"Modus\")`\n",
    "\n",
    "Folgende Modi stehen zur Verfügung:\n",
    "\n",
    "| Modus | Bedeutung                                  |\n",
    "|-------|--------------------------------------------|\n",
    "| \"r\"   | Datei wird nur lesend geöffnet.            |\n",
    "| \"w\"   | Datei wird nur schreibend geöffnet.        |\n",
    "| \"r+\"  | Datei wird lesend und schreibend geöffnet. |\n",
    "| \"rb+\" | Datei wird im Binärformat geöffnet.        |\n",
    "\n",
    "Damit kein Datenverlust erfolgt, muss eine Datei, wenn Sie eingelesen und verarbeitet wurde, **immer** mit der Methode `.close()` geschlossen werden!"
   ]
  },
  {
   "cell_type": "code",
   "execution_count": 5,
   "metadata": {},
   "outputs": [
    {
     "name": "stdout",
     "output_type": "stream",
     "text": [
      "<class '_io.TextIOWrapper'>\n"
     ]
    }
   ],
   "source": [
    "file = open(\"img/numpy_logo.png\", \"r\")\n",
    "\n",
    "print(type(file))\n",
    "\n",
    "file.close()"
   ]
  },
  {
   "cell_type": "markdown",
   "metadata": {},
   "source": [
    "Damit möglichst kein Datenverlust geschieht öffnet man Dateien in Python normalerweise in einem sog. *With-Block*. Dieser sorgt dafür, dass selbst bei missglückten Operationen auf den Dateistream, dieser wieder sauber geschlossen wird.\n",
    "\n",
    "Die Syntax sieht wie folgt aus:\n",
    "```\n",
    "with open(...) as <name>:\n",
    "    mach etwas mit <name>\n",
    "```"
   ]
  },
  {
   "cell_type": "code",
   "execution_count": 7,
   "metadata": {},
   "outputs": [
    {
     "name": "stdout",
     "output_type": "stream",
     "text": [
      "<class '_io.TextIOWrapper'>\n"
     ]
    }
   ],
   "source": [
    "with open(\"img/numpy_logo.png\", \"r\") as file:\n",
    "    print(type(file))"
   ]
  },
  {
   "cell_type": "markdown",
   "metadata": {},
   "source": [
    "### np.save und np.load"
   ]
  },
  {
   "cell_type": "markdown",
   "metadata": {},
   "source": [
    "So können wir nun Numpy Arrays speichern und auch wieder öffnen. Dazu stehen und die Numpy Funktionen `np.save()` und `np.load()` zur Verfügung. Folgende *Dateiformate* stehen uns dabei zur Verfügung:\n",
    "\n",
    "- `.csv` (Komma separierte Textdatei)\n",
    "- `.txt` (reine Textdatei)\n",
    "- `.pkl` (eine Pickle Datei)\n",
    "- `.npy` (das NumPy eigene Format)\n",
    "\n",
    "Am effizientesten ist tatsächlich die Speicherung als `.npy` Datei."
   ]
  },
  {
   "cell_type": "code",
   "execution_count": 32,
   "metadata": {},
   "outputs": [],
   "source": [
    "new_arr = np.random.random(100).reshape(5, 20)\n",
    "\n",
    "with open(\"data/test_save.npy\", \"wb\") as file:\n",
    "    np.save(file, new_arr)"
   ]
  },
  {
   "cell_type": "markdown",
   "metadata": {},
   "source": [
    "Genauso können wir mit der Funktion `np.load()` eine `.npy` Datei wieder einlesen."
   ]
  },
  {
   "cell_type": "code",
   "execution_count": 31,
   "metadata": {},
   "outputs": [
    {
     "data": {
      "text/plain": [
       "array([0.89129808, 0.19778473, 0.41641027, 0.67294669, 0.58948442,\n",
       "       0.8583714 , 0.59618886, 0.80257135, 0.88723119, 0.29273734,\n",
       "       0.44690206, 0.72438551, 0.92043573, 0.88708781, 0.80793182,\n",
       "       0.30377051, 0.705016  , 0.82430651, 0.32786455, 0.67468352])"
      ]
     },
     "execution_count": 31,
     "metadata": {},
     "output_type": "execute_result"
    }
   ],
   "source": [
    "with open(\"data/test_save.npy\", \"rb\") as file:\n",
    "    loaded_arr = np.load(file)\n",
    "    \n",
    "loaded_arr[1]"
   ]
  },
  {
   "cell_type": "markdown",
   "metadata": {},
   "source": [
    "Aber natürlich lässt sich das Ganze auch als Text Datei speichern."
   ]
  },
  {
   "cell_type": "code",
   "execution_count": 33,
   "metadata": {},
   "outputs": [],
   "source": [
    "np.savetxt(\"data/test_save.txt\", new_arr)"
   ]
  },
  {
   "cell_type": "markdown",
   "metadata": {},
   "source": [
    "### np.genfromtext\n",
    "\n",
    "Wir werden zwar mit *Pandas* noch viel mächtigere und auch einfachere Werkzeuge zum Einlesen von Dateien kennenlernen, haben wir es aber mit Typen homogenen Daten in Form einer `txt` Datei zu tun, so kann man diese auch schnell mit NumPy einlesen und Verarbeiten."
   ]
  },
  {
   "cell_type": "code",
   "execution_count": 29,
   "metadata": {},
   "outputs": [
    {
     "data": {
      "text/plain": [
       "array([[ 0.,  0.,  0.,  0.],\n",
       "       [ 1.,  0.,  0.,  0.],\n",
       "       [ 0.,  0.,  0.,  0.],\n",
       "       ...,\n",
       "       [62., 16.,  0., 14.],\n",
       "       [ 0.,  0.,  0.,  0.],\n",
       "       [72., 11.,  2., 33.]])"
      ]
     },
     "execution_count": 29,
     "metadata": {},
     "output_type": "execute_result"
    }
   ],
   "source": [
    "batting_hits_2021 = np.genfromtxt(\"data/batting_hits_2021.txt\")\n",
    "\n",
    "batting_hits_2021"
   ]
  },
  {
   "cell_type": "markdown",
   "metadata": {},
   "source": [
    "Fehlen in der Textdatei aber einige Werte oder sind diese fehlenden Werte durch Zeichenstrings markiert, so kommt es beim Einlesen zu Fehlern. Mit den Parametern `missing_values` und `filling_values` kann man einerseits angeben, welche Strings als \"missing\" interpretiert werden sollen und mit welchen Strings/Zahlen diese fehlenden Werte evtl. ersetzt werden sollen. Weiter Möglichkeiten findet man in der [Dokumentation](https://numpy.org/devdocs/reference/generated/numpy.genfromtxt.html#numpy.genfromtxt)."
   ]
  },
  {
   "cell_type": "code",
   "execution_count": 30,
   "metadata": {},
   "outputs": [
    {
     "data": {
      "text/plain": [
       "array([[ 0.,  0.,  0.,  0.],\n",
       "       [ 1.,  0.,  0.,  0.],\n",
       "       [ 0.,  0.,  0.,  0.],\n",
       "       ...,\n",
       "       [62., 16.,  0., 14.],\n",
       "       [ 0.,  0.,  0.,  0.],\n",
       "       [72., 11.,  2., 33.]])"
      ]
     },
     "execution_count": 30,
     "metadata": {},
     "output_type": "execute_result"
    }
   ],
   "source": [
    "batting_hits_2021_wm = np.genfromtxt(\"data/batting_hits_2021_with_missing.txt\",\n",
    "                                 missing_values=(\"-\"), # Achtung! hier muss ein 'Set' angegeben werden!\n",
    "                                 filling_values=0)\n",
    "\n",
    "batting_hits_2021_wm"
   ]
  },
  {
   "cell_type": "markdown",
   "metadata": {},
   "source": [
    "# Mathematische und Statistische Funktionen mit NumPy"
   ]
  },
  {
   "cell_type": "markdown",
   "metadata": {},
   "source": [
    "## Mathematische Operationen"
   ]
  },
  {
   "cell_type": "markdown",
   "metadata": {},
   "source": [
    "## Broadcasting\n",
    "\n",
    "\"Broadcasting\" nennt man ..."
   ]
  },
  {
   "cell_type": "markdown",
   "metadata": {},
   "source": [
    "Um erfolgreich einen Array auf einen anderen zu broadcasten, muss *eine von zwei Bedingungen* für **alle** Dimensionen der Arrays gelten:\n",
    "- die Länge einer der zu vergleichende Dimensionen ist 1,\n",
    "- oder beide zu vergleichenden Dimensionen sind gleich lang.\n",
    "\n",
    "Um das besser zu verstehen, schauen wir uns ein Beispiel an:\n",
    "```\n",
    "Array 1: [[0, 0, 0, 0],   Array 2: [[0],\n",
    "          [0, 0, 0, 0],             [0],\n",
    "          [0, 0, 0, 0],             [0],\n",
    "          [0, 0, 0, 0],             [0],\n",
    "          [0, 0, 0, 0]]             [0]]\n",
    "          \n",
    "np.shape() von Array 1: (5, 4)\n",
    "                        /    \\\n",
    "              gleich lang    eine Dim gleich 1\n",
    "                        \\    /\n",
    "np.shape() von Array 2: (5, 1)\n",
    "```\n",
    "Ein Broadcasting von Array 1 und Array 2 funktioniert also, weil für jede der Dimensionen eine Bedingung erfüllt ist.\n",
    "\n",
    "![Broadcasting von Matrizen](img/broadcasting_2.png)"
   ]
  },
  {
   "cell_type": "code",
   "execution_count": 3,
   "metadata": {},
   "outputs": [
    {
     "ename": "ValueError",
     "evalue": "operands could not be broadcast together with shapes (2,5) (2,) ",
     "output_type": "error",
     "traceback": [
      "\u001b[0;31m---------------------------------------------------------------------------\u001b[0m",
      "\u001b[0;31mValueError\u001b[0m                                Traceback (most recent call last)",
      "Input \u001b[0;32mIn [3]\u001b[0m, in \u001b[0;36m<cell line: 6>\u001b[0;34m()\u001b[0m\n\u001b[1;32m      3\u001b[0m arr \u001b[38;5;241m=\u001b[39m np\u001b[38;5;241m.\u001b[39marange(\u001b[38;5;241m10\u001b[39m)\u001b[38;5;241m.\u001b[39mreshape(\u001b[38;5;241m2\u001b[39m, \u001b[38;5;241m5\u001b[39m)\n\u001b[1;32m      4\u001b[0m arr2 \u001b[38;5;241m=\u001b[39m np\u001b[38;5;241m.\u001b[39marray([\u001b[38;5;241m0\u001b[39m, \u001b[38;5;241m1\u001b[39m])\n\u001b[0;32m----> 6\u001b[0m \u001b[43marr\u001b[49m\u001b[43m \u001b[49m\u001b[38;5;241;43m+\u001b[39;49m\u001b[43m \u001b[49m\u001b[43marr2\u001b[49m\n",
      "\u001b[0;31mValueError\u001b[0m: operands could not be broadcast together with shapes (2,5) (2,) "
     ]
    }
   ],
   "source": [
    "# Achtung!\n",
    "\n",
    "arr = np.arange(10).reshape(2, 5)\n",
    "arr2 = np.array([0, 1])\n",
    "\n",
    "arr + arr2"
   ]
  },
  {
   "cell_type": "code",
   "execution_count": 4,
   "metadata": {},
   "outputs": [
    {
     "name": "stdout",
     "output_type": "stream",
     "text": [
      "(2, 5) (2,)\n"
     ]
    }
   ],
   "source": [
    "# die shapes passen nicht zusammen!\n",
    "\n",
    "print(arr.shape, arr2.shape)"
   ]
  },
  {
   "cell_type": "code",
   "execution_count": 8,
   "metadata": {},
   "outputs": [
    {
     "name": "stdout",
     "output_type": "stream",
     "text": [
      "[[ 0  1  2  3  4]\n",
      " [ 6  7  8  9 10]]\n"
     ]
    }
   ],
   "source": [
    "# erst durch einen Reshape von arr2 geht es!\n",
    "\n",
    "arr2 = arr2.reshape((2, 1))\n",
    "\n",
    "print(arr + arr2)"
   ]
  },
  {
   "cell_type": "markdown",
   "metadata": {},
   "source": [
    "![Broadcasting nach Reshape](img/broadcasting_3.png)"
   ]
  },
  {
   "cell_type": "markdown",
   "metadata": {},
   "source": [
    "## Aggregatsfunktionen"
   ]
  },
  {
   "cell_type": "markdown",
   "metadata": {},
   "source": [
    "### np.sum\n",
    "\n",
    "Als Beispiel haben wir die Verkaufszahlen von 12 Monaten (Zeilen) von drei Industriezweigen."
   ]
  },
  {
   "cell_type": "code",
   "execution_count": 26,
   "metadata": {},
   "outputs": [],
   "source": [
    "monthly_sales_industries = np.array([[ 4134, 23925,  8657],\n",
    "                                     [ 4116, 23875,  9142],\n",
    "                                     [ 4673, 27197, 10645],\n",
    "                                     [ 4580, 25637, 10456],\n",
    "                                     [ 5109, 27995, 11299],\n",
    "                                     [ 5011, 27419, 10625],\n",
    "                                     [ 5245, 27305, 10630],\n",
    "                                     [ 5270, 27760, 11550],\n",
    "                                     [ 4680, 24988,  9762],\n",
    "                                     [ 5312, 25405, 13401],\n",
    "                                     [ 6630, 27797, 18403],\n",
    "                                     [ 7893, 28990, 18765]])"
   ]
  },
  {
   "cell_type": "markdown",
   "metadata": {},
   "source": [
    "Wenden wir auf diesen Array die Aggregatsfunktion `.sum()` an, so werden sämtliche Verkaufszahlen des Jahres summiert und als Wert zurückgegeben."
   ]
  },
  {
   "cell_type": "code",
   "execution_count": 40,
   "metadata": {},
   "outputs": [
    {
     "data": {
      "text/plain": [
       "468633"
      ]
     },
     "execution_count": 40,
     "metadata": {},
     "output_type": "execute_result"
    }
   ],
   "source": [
    "monthly_sales_industries.sum()"
   ]
  },
  {
   "cell_type": "markdown",
   "metadata": {},
   "source": [
    "Möchte man allerdings die Summen der einzelnen Industriezweige eines Jahres summieren, so muss man die Achse angeben, über die summiert werden soll. In diesem Fall müssten wir die Zeilen-Achse, also `axis=0` verwenden."
   ]
  },
  {
   "cell_type": "code",
   "execution_count": 42,
   "metadata": {},
   "outputs": [
    {
     "data": {
      "text/plain": [
       "array([ 54760, 289303, 124570])"
      ]
     },
     "execution_count": 42,
     "metadata": {},
     "output_type": "execute_result"
    }
   ],
   "source": [
    "monthly_sales_industries.sum(axis=0)"
   ]
  },
  {
   "cell_type": "markdown",
   "metadata": {},
   "source": [
    "Möchte man hingegen die Werte der einzelnen Monate aufsummieren, so muss man dementsprechend an der anderen Achse, also `axis=1` summieren."
   ]
  },
  {
   "cell_type": "code",
   "execution_count": 44,
   "metadata": {},
   "outputs": [
    {
     "data": {
      "text/plain": [
       "array([36716, 37133, 42515, 40673, 44403, 43055, 43180, 44580, 39430,\n",
       "       44118, 52830])"
      ]
     },
     "execution_count": 44,
     "metadata": {},
     "output_type": "execute_result"
    }
   ],
   "source": [
    "monthly_sales_industries.sum(axis=1)"
   ]
  },
  {
   "cell_type": "markdown",
   "metadata": {},
   "source": [
    "Schade ist, dass sich hier nun aber die Shape des Arrays verändert hat. Da wir ja die einzelnen Spalten summiert haben, sollte die Ausgabe auch in Spaltenform erfolgen, um so vielleicht dieses \"Summenspalte\" mit dem Array für Verkaufszahlen zu konkatenieren.\n",
    "\n",
    "Hierfür gibt es das Argument `keepdims`, dem man die boolschen Werte `True` und `False` übergeben kann."
   ]
  },
  {
   "cell_type": "code",
   "execution_count": 45,
   "metadata": {},
   "outputs": [
    {
     "data": {
      "text/plain": [
       "array([[36716],\n",
       "       [37133],\n",
       "       [42515],\n",
       "       [40673],\n",
       "       [44403],\n",
       "       [43055],\n",
       "       [43180],\n",
       "       [44580],\n",
       "       [39430],\n",
       "       [44118],\n",
       "       [52830]])"
      ]
     },
     "execution_count": 45,
     "metadata": {},
     "output_type": "execute_result"
    }
   ],
   "source": [
    "monthly_sums = monthly_sales_industries.sum(axis=1, keepdims=True)\n",
    "\n",
    "monthly_sums"
   ]
  },
  {
   "cell_type": "code",
   "execution_count": 48,
   "metadata": {},
   "outputs": [
    {
     "data": {
      "text/plain": [
       "array([[ 4134, 23925,  8657, 36716],\n",
       "       [ 4116, 23875,  9142, 37133],\n",
       "       [ 4673, 27197, 10645, 42515],\n",
       "       [ 4580, 25637, 10456, 40673],\n",
       "       [ 5109, 27995, 11299, 44403],\n",
       "       [ 5011, 27419, 10625, 43055],\n",
       "       [ 5245, 27305, 10630, 43180],\n",
       "       [ 5270, 27760, 11550, 44580],\n",
       "       [ 4680, 24988,  9762, 39430],\n",
       "       [ 5312, 25405, 13401, 44118],\n",
       "       [ 6630, 27797, 18403, 52830]])"
      ]
     },
     "execution_count": 48,
     "metadata": {},
     "output_type": "execute_result"
    }
   ],
   "source": [
    "np.concatenate((monthly_sales_industries, monthly_sums), axis=1)"
   ]
  },
  {
   "cell_type": "markdown",
   "metadata": {},
   "source": [
    "\n",
    "\n",
    "## Maße der zentralen Tendenz"
   ]
  },
  {
   "cell_type": "markdown",
   "metadata": {},
   "source": [
    "## Maße der Streuung "
   ]
  },
  {
   "cell_type": "markdown",
   "metadata": {},
   "source": [
    "### Quantile / Percentile: np.quantile\n",
    "\n",
    "Mit `np.quantile` lassen sich die Quantile einer Stichprobe berechnen. `np.quantile` arbeitet dabei, dass man als Argumente ein Array, sowie die Liste der Quantile zwischen 0 und 1, die man berechnen will."
   ]
  },
  {
   "cell_type": "code",
   "execution_count": 12,
   "metadata": {},
   "outputs": [
    {
     "data": {
      "text/plain": [
       "array([1.66539975, 1.76501605, 1.88188364])"
      ]
     },
     "execution_count": 12,
     "metadata": {},
     "output_type": "execute_result"
    }
   ],
   "source": [
    "# wir berechnen die Quartile 25%, 50% und 75%\n",
    "\n",
    "koerpergroessen = np.random.normal(1.75, .15, 100) # 100 zufällig normalverteilte Körpergröẞen\n",
    "\n",
    "np.quantile(koerpergroessen, [.25, .5, .75])"
   ]
  },
  {
   "cell_type": "markdown",
   "metadata": {},
   "source": [
    "Wollen wir mehr Quantile, ist es mühselig, diese als Liste auszuschreiben. Der Einfachheit halber können wir die Funktion `np.linspace` benutzen, die wir schon kennengelernt haben und die eine kontinuierliche Zahlenreihe in gleichgroẞe Stücke \"zerschneidet\". So können wir die Zahlenreihe von 0 bis 1 benutzen, um diese in Quantile zu zerschneiden und an `np.quantile` zu übergeben.\n",
    "\n",
    "Hier ein paar Beispiele:"
   ]
  },
  {
   "cell_type": "code",
   "execution_count": 13,
   "metadata": {},
   "outputs": [
    {
     "name": "stdout",
     "output_type": "stream",
     "text": [
      "Quintile: [1.4515198  1.66539975 1.76501605 1.88188364 2.08062421]\n",
      "Centile: [1.4515198  1.59257309 1.66420276 1.68446388 1.74643079 1.78222782\n",
      " 1.8361634  1.88969072 1.98373368 2.08062421]\n"
     ]
    }
   ],
   "source": [
    "# Quintile (5 Quantile):\n",
    "\n",
    "print(\"Quintile:\", np.quantile(koerpergroessen, np.linspace(0, 1, 5)))\n",
    "\n",
    "# Decile (10 Quantile):\n",
    "\n",
    "print(\"Centile:\", np.quantile(koerpergroessen, np.linspace(0, 1, 10)))"
   ]
  },
  {
   "cell_type": "markdown",
   "metadata": {},
   "source": [
    "# Wahrscheinlichkeitstheorie"
   ]
  }
 ],
 "metadata": {
  "kernelspec": {
   "display_name": "Python 3 (ipykernel)",
   "language": "python",
   "name": "python3"
  },
  "language_info": {
   "codemirror_mode": {
    "name": "ipython",
    "version": 3
   },
   "file_extension": ".py",
   "mimetype": "text/x-python",
   "name": "python",
   "nbconvert_exporter": "python",
   "pygments_lexer": "ipython3",
   "version": "3.9.12"
  },
  "toc": {
   "base_numbering": 1,
   "nav_menu": {},
   "number_sections": true,
   "sideBar": true,
   "skip_h1_title": false,
   "title_cell": "Table of Contents",
   "title_sidebar": "Contents",
   "toc_cell": false,
   "toc_position": {
    "height": "calc(100% - 180px)",
    "left": "10px",
    "top": "150px",
    "width": "286.719px"
   },
   "toc_section_display": true,
   "toc_window_display": true
  }
 },
 "nbformat": 4,
 "nbformat_minor": 1
}
