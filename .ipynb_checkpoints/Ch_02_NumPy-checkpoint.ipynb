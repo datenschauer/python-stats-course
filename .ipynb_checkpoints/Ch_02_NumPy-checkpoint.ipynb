{
 "cells": [
  {
   "cell_type": "code",
   "execution_count": 2,
   "metadata": {},
   "outputs": [],
   "source": [
    "import numpy as np"
   ]
  },
  {
   "cell_type": "markdown",
   "metadata": {},
   "source": [
    "# Einführung\n",
    "\n",
    "Das Modul [**Numpy**](https://numpy.org/doc/stable/index.html) bildet, so kann man sagen, die Grundlage des gesamten *Python Science Stack*. NumPy ist eine *numerische* Programmbibliothek für das Rechnen mit Vektoren und Matrizen. Darüber hinaus bietet NumPy effektive Array Datenstrukturen, sowie Funktionen für numerische Berechnungen.\n",
    "\n",
    "Auch wenn Sie im täglichen Umgang mit NumPy eher weniger direkt in Berührung kommen, sondern mehr mit Pandas arbeiten werden (siehe Kapitel 4), so nutzt doch letzteres \"unter der Haube\" jenes NumPy. Mit NumPy ist es sehr leicht Rechenoperationen auf ganze Daten-Arrays anzuwenden, ohne *for-Schleifen* zu benutzen. Es lohnt sich also - in Vorbereitung auf den Umgang mit Pandas ein Grundverständnis von NumPy zu erwerben. Wenn Sie natürlich in ihrer wissenschaftlichen Praxis stärker auf numerische Berechnungen oder lineare Algebra setzen, dann sollten sie sich NumPy noch genauer ansehen.\n",
    "\n",
    "NumPy ist die Grundlage des kompletten Python Science Stacks:\n",
    "\n",
    "![Numpy Lifting](./img/numpy_lifting.png)\n"
   ]
  },
  {
   "cell_type": "markdown",
   "metadata": {},
   "source": [
    "## Warum NumPy?\n",
    "\n",
    "Es gibt vor allem zwei Gründe für die Entwicklung von NumPy, die übrigens schon im Jahre 1995 unter dem Acronym *Numeric* begann: einerseits eine effiziente Datenstruktur mit hoher Zugriffszeit, sowie die Möglichkeit des Rechnens mit diesen Datenstrukturen.\n",
    "\n",
    "Werfen wir zuerst einen Blick auf das Thema Geschwindigkeit. Schreiben wir ein kleine Funktion, die einfach die ganzen Zahlen von 1 bis n summiert."
   ]
  },
  {
   "cell_type": "code",
   "execution_count": 7,
   "metadata": {
    "pycharm": {
     "name": "#%%\n"
    }
   },
   "outputs": [
    {
     "name": "stdout",
     "output_type": "stream",
     "text": [
      "69.5 ms ± 359 µs per loop (mean ± std. dev. of 7 runs, 10 loops each)\n"
     ]
    }
   ],
   "source": [
    "def sum_integers(n: int) -> int:\n",
    "    s = 0\n",
    "    i = 1\n",
    "    while i < n:\n",
    "        s += i\n",
    "        i += 1\n",
    "    return s\n",
    "\n",
    "%timeit sum_integers(1_000_000)"
   ]
  },
  {
   "cell_type": "markdown",
   "metadata": {},
   "source": [
    "Anstatt einer \"teuren\" while-Schleife sollten wir vielleicht besser integrierte Python Funktionen wie die `sum()` Funktion oder *List-Comprehensions* verwenden, da diese auf angepassten C-Code basieren?"
   ]
  },
  {
   "cell_type": "code",
   "execution_count": 8,
   "metadata": {
    "pycharm": {
     "name": "#%%\n"
    }
   },
   "outputs": [
    {
     "name": "stdout",
     "output_type": "stream",
     "text": [
      "14.5 ms ± 522 µs per loop (mean ± std. dev. of 7 runs, 100 loops each)\n"
     ]
    }
   ],
   "source": [
    "def sum_integers_py(n: int) -> int:\n",
    "    return sum(range(n))\n",
    "\n",
    "%timeit sum_integers_py(1_000_000)"
   ]
  },
  {
   "cell_type": "markdown",
   "metadata": {},
   "source": [
    "Das sieht schon besser aus. Probieren wir das ganze noch mit NumPy aus."
   ]
  },
  {
   "cell_type": "code",
   "execution_count": 9,
   "metadata": {
    "pycharm": {
     "name": "#%%\n"
    }
   },
   "outputs": [
    {
     "name": "stdout",
     "output_type": "stream",
     "text": [
      "1.94 ms ± 85.9 µs per loop (mean ± std. dev. of 7 runs, 100 loops each)\n"
     ]
    }
   ],
   "source": [
    "def sum_integers_numpy(n: int) -> int:\n",
    "    return np.array(np.arange(n), dtype=np.int32).sum()\n",
    "\n",
    "%timeit sum_integers_numpy(1_000_000)"
   ]
  },
  {
   "cell_type": "markdown",
   "metadata": {
    "pycharm": {
     "name": "#%% md\n"
    }
   },
   "source": [
    "Wir sehen, dass NumPy die Ausführung von Code erheblich verbessern kann. Bei komplexeren Algorithmen und Berechnung kann NumPy die Ausführung sogar um den Faktor 100 verbessern.\n",
    "\n",
    "Ein weiterer Punkt ist die einfache Anwendung von Rechenoperationen auf ganze Arrays, auch mehrdimensionale. Stellen wir uns eine zwei Vektoren mit Ganzzahlen vor, deren Elemente wir in Python paarweise addieren wollen. In reinem Python müsste man etwas wie folgt schreiben (ausserdem messen wir mal wieder die Zeit:"
   ]
  },
  {
   "cell_type": "code",
   "execution_count": 4,
   "metadata": {
    "pycharm": {
     "name": "#%%\n"
    }
   },
   "outputs": [
    {
     "name": "stdout",
     "output_type": "stream",
     "text": [
      "4.52 ms ± 175 µs per loop (mean ± std. dev. of 7 runs, 100 loops each)\n"
     ]
    }
   ],
   "source": [
    "from typing import List\n",
    "import random\n",
    "\n",
    "def add_vectors(v1: List[int], v2: List[int]) -> List[int]:\n",
    "\n",
    "    assert len(v1) == len(v2), \"Beide Vektoren müssen gleich lang sein!\"\n",
    "    output = [v1[i] + v2[i] for i, _ in enumerate(v1)]\n",
    "\n",
    "    return output\n",
    "\n",
    "vec1 = [random.choices(range(1, 10), k=1_000_000)]\n",
    "vec2 = [random.choices(range(1, 10), k=1_000_000)]\n",
    "\n",
    "%timeit add_vectors(vec1, vec2)"
   ]
  },
  {
   "cell_type": "markdown",
   "metadata": {},
   "source": [
    "Mit NumPy ist der Code wesentlich simpler und auch schneller."
   ]
  },
  {
   "cell_type": "code",
   "execution_count": 11,
   "metadata": {
    "pycharm": {
     "name": "#%%\n"
    }
   },
   "outputs": [
    {
     "name": "stdout",
     "output_type": "stream",
     "text": [
      "1.24 ms ± 5.11 µs per loop (mean ± std. dev. of 7 runs, 1,000 loops each)\n"
     ]
    }
   ],
   "source": [
    "def add_vectors_np(np_arr1, np_arr2):\n",
    "    return np_arr1 + np_arr2 # das ist alles!!\n",
    "\n",
    "np_vec1 = np.random.randint(low=1, high=9, size=1_000_000)\n",
    "np_vec2 = np.random.randint(low=1, high=9, size=1_000_000)\n",
    "\n",
    "%timeit add_vectors_np(np_vec1, np_vec2)"
   ]
  },
  {
   "cell_type": "markdown",
   "metadata": {
    "pycharm": {
     "name": "#%% md\n"
    }
   },
   "source": [
    "Im Prinzip brauchen wir also nur den \"+\" Operator (Zeile 4), um zwei Vektoren elementweise zu addieren. Das geht, wie wir später noch sehen werden auch mit mehrdimensionalen Matrizen.\n",
    "\n",
    "## NumPy Arrays: ndarray\n",
    "\n",
    "Damit dies funktioniert, arbeitet NumPy mit sog. Arrays, Datenstrukturen, auf deren Elemente sehr schnell im Speicher zugegriffen werden kann. In Numpy heiẞen diese Array-Objekte **ndarrays** (N-dimensionale Arrays). Die NumPy Arrays unterscheiden sich von klassischen sequentiellen Datenstrukturen in Python wie Listen und Tupel in folgenden Punkten:\n",
    "  - Bei ihrer Generierung haben *ndarrays* eine fest gesetzte Gröẞe, anders als Listen, die dynamisch wachsen können. Wir der Arrays verändert, wird ein neues Array erstellt und der alte im Speicher gelöscht.\n",
    "  - Alle Elemente eines Arrays müssen den gleichen Datentyp haben und damit auch die gleiche Gröẞe im Speicher. Einzige Ausnahme: jedes Python Objekt kann auch Teil eines *ndarrays* sein.\n",
    "  - Es sind, wie schon gezeigt, mathematische Funktionen für diese Arrays vorhanden, mit denen man diesen Objekten sehr effizient operieren kann, ohne viel Code zu schreiben.\n",
    "\n",
    "Wie wird nun ein *ndarray* erzeugt? Hierfür gibt es die Funktion `np.array()`, dem wir eine ganze normale Python Liste samt Elementen übergeben."
   ]
  },
  {
   "cell_type": "code",
   "execution_count": 34,
   "metadata": {
    "pycharm": {
     "name": "#%%\n"
    }
   },
   "outputs": [
    {
     "name": "stdout",
     "output_type": "stream",
     "text": [
      "[2 3 5]\n",
      "int64\n"
     ]
    }
   ],
   "source": [
    "obj = np.array([2, 3, 5])\n",
    "\n",
    "print(obj)\n",
    "print(obj.dtype)"
   ]
  },
  {
   "cell_type": "markdown",
   "metadata": {},
   "source": [
    "### Verschiedene Dimensionen"
   ]
  },
  {
   "cell_type": "markdown",
   "metadata": {},
   "source": [
    "Auch mehrdimensionale Matrizen kann man so erzeugen. Dabei gibt dann die Methode `.shape` ein Tupel mit der Gröẞe der Dimensionen zurück."
   ]
  },
  {
   "cell_type": "code",
   "execution_count": 3,
   "metadata": {
    "pycharm": {
     "name": "#%%\n"
    }
   },
   "outputs": [
    {
     "name": "stdout",
     "output_type": "stream",
     "text": [
      "(4,)\n",
      "(2, 4)\n"
     ]
    }
   ],
   "source": [
    "obj1 = np.array([1, 2, 3, 4])\n",
    "\n",
    "print(obj1.shape)\n",
    "\n",
    "obj2 = np.array([[1, 2, 3 , 4], [4, 3, 2, 1]])\n",
    "\n",
    "print(obj2.shape)"
   ]
  },
  {
   "cell_type": "markdown",
   "metadata": {},
   "source": [
    "Den obigen Numpy Array `obj1` nennt man auch einen *Vektor*, da dieser nur *eine* Dimension hat. `obj2` nennt man eine *Matrix* (Pl. *Matrizen*), da es min. zwei Dimensionen hat.\n",
    "\n",
    "Natürlich kann man dieses Dimensionen-Spielchen theoretisch unendlich weiterführen. Einen Array mit drei oder mehr Dimensionen nennt man *Tensor*.\n",
    "\n",
    "\n",
    "Man erzeugt einen Tesor indem man einen `ndarray` aus einer Liste von zweidimensionalen Listen erzeugt. Einen dreidimensionalen Tensor kann man sich dabei wie einen Rubic's Cube vorstellen:\n",
    "\n",
    "![Rubics Cube](./img/rubics_cube.png)\n"
   ]
  },
  {
   "cell_type": "code",
   "execution_count": 5,
   "metadata": {},
   "outputs": [
    {
     "name": "stdout",
     "output_type": "stream",
     "text": [
      "[[[1 3 4 6]\n",
      "  [3 4 6 8]]\n",
      "\n",
      " [[3 2 4 5]\n",
      "  [7 6 8 9]]\n",
      "\n",
      " [[0 1 9 2]\n",
      "  [2 3 4 5]]] \n",
      "\n",
      "(3, 2, 4)\n"
     ]
    }
   ],
   "source": [
    "# Bau eines Tensors:\n",
    "\n",
    "matrix1 = np.array([[1, 3, 4, 6], [3, 4, 6, 8]])\n",
    "matrix2 = np.array([[3, 2, 4, 5], [7, 6, 8, 9]])\n",
    "matrix3 = np.array([[0, 1, 9, 2], [2, 3, 4, 5]])\n",
    "\n",
    "tensor = np.array([ matrix1, matrix2, matrix3 ])\n",
    "\n",
    "print(tensor, \"\\n\")\n",
    "\n",
    "print(tensor.shape)"
   ]
  },
  {
   "cell_type": "markdown",
   "metadata": {},
   "source": [
    "Mehr als drei Dimensionen mental zu visualisieren ist nicht leicht. Eine Analogie aus dem täglichen Leben mag aber helfen:\n",
    "\n",
    "- **2d:** Zeilen und Spalten\n",
    "- **3d:** Rubic's Cube\n",
    "- **4d:** eine Schublade voll Rubic's Cubes\n",
    "- **5d:** ein Schreibtisch mit mehreren Schubladen voll Rubic's Cubes\n",
    "- **6d:** eine Halle voller Schreibtische voller ...\n",
    "- **7d:** eine Strasse mit aneinandergereihten Hallen voll Schreibtischen voller ...\n",
    "- **8d:** usw. usw."
   ]
  },
  {
   "cell_type": "markdown",
   "metadata": {},
   "source": [
    "## Vektoren und Matrizen direkt erzeugen lassen\n",
    "\n",
    "Es gibt viele Methoden zur Erzeugung von Numpy Arrays. Einen Überblick über alle finden Sie [hier](https://numpy.org/doc/stable/reference/routines.array-creation.html).\n",
    "\n",
    "Die wichtigsten folgen als Beispiel."
   ]
  },
  {
   "cell_type": "markdown",
   "metadata": {},
   "source": [
    "### np.zeros | np.ones | np.full"
   ]
  },
  {
   "cell_type": "markdown",
   "metadata": {},
   "source": [
    "### np.linspace"
   ]
  },
  {
   "cell_type": "markdown",
   "metadata": {},
   "source": [
    "### np.arange"
   ]
  },
  {
   "cell_type": "markdown",
   "metadata": {},
   "source": [
    "### np.random"
   ]
  },
  {
   "cell_type": "markdown",
   "metadata": {},
   "source": [
    "### Reshaping: Dimensionalität eines Arrays ändern"
   ]
  },
  {
   "cell_type": "code",
   "execution_count": 5,
   "metadata": {},
   "outputs": [
    {
     "data": {
      "text/plain": [
       "array([[0.15281761, 0.15964098, 0.08893567, 0.64866017, 0.0516616 ,\n",
       "        0.96048058, 0.05741294, 0.19952948, 0.12818766, 0.81865567,\n",
       "        0.46192452, 0.67290439, 0.66272931, 0.47101132, 0.50520642,\n",
       "        0.75581837, 0.25842175, 0.9712677 , 0.59550128, 0.67523793],\n",
       "       [0.99236063, 0.91764278, 0.12931028, 0.6868155 , 0.23384552,\n",
       "        0.61017935, 0.54364076, 0.7509334 , 0.10911137, 0.31031499,\n",
       "        0.97258971, 0.72684438, 0.61125331, 0.65826023, 0.11504543,\n",
       "        0.97070358, 0.54193547, 0.04419186, 0.48600688, 0.3564139 ],\n",
       "       [0.87751905, 0.06544486, 0.17557644, 0.31940278, 0.47164926,\n",
       "        0.44479041, 0.72271459, 0.30613653, 0.70456346, 0.22075389,\n",
       "        0.10068425, 0.81740623, 0.71518508, 0.95600626, 0.70650521,\n",
       "        0.48807114, 0.94220705, 0.67608632, 0.80466476, 0.55197257],\n",
       "       [0.21123925, 0.40780055, 0.00524915, 0.19442599, 0.76819553,\n",
       "        0.39616808, 0.1746509 , 0.6983381 , 0.34763382, 0.19594432,\n",
       "        0.68466007, 0.47105127, 0.74820837, 0.01435614, 0.22648611,\n",
       "        0.98875947, 0.26599735, 0.75746438, 0.43477726, 0.05207152],\n",
       "       [0.41679511, 0.52492405, 0.77419131, 0.82585675, 0.84172453,\n",
       "        0.79509464, 0.24749125, 0.36620424, 0.13267758, 0.59377899,\n",
       "        0.93801157, 0.23071333, 0.39840418, 0.60470821, 0.66457083,\n",
       "        0.90474871, 0.23281452, 0.93255308, 0.96084616, 0.99885831]])"
      ]
     },
     "execution_count": 5,
     "metadata": {},
     "output_type": "execute_result"
    }
   ],
   "source": [
    "arr = np.random.random(100)\n",
    "\n",
    "arr.shape = (5, 20)\n",
    "\n",
    "arr"
   ]
  },
  {
   "cell_type": "markdown",
   "metadata": {},
   "source": [
    "## Indexing und Slicing\n",
    "\n",
    "Indexing funktioniert bei Numpy Arrays genauso mit den `[]` Operator wie in Python üblich."
   ]
  },
  {
   "cell_type": "code",
   "execution_count": 6,
   "metadata": {},
   "outputs": [
    {
     "name": "stdout",
     "output_type": "stream",
     "text": [
      "0\n",
      "9\n"
     ]
    }
   ],
   "source": [
    "my_arr = np.arange(10)\n",
    "\n",
    "print(my_arr[0])\n",
    "\n",
    "print(my_arr[-1])"
   ]
  },
  {
   "cell_type": "code",
   "execution_count": 8,
   "metadata": {},
   "outputs": [
    {
     "name": "stdout",
     "output_type": "stream",
     "text": [
      "[0 1 2 3 4]\n",
      "4\n"
     ]
    }
   ],
   "source": [
    "my_arr.shape = (2, 5)\n",
    "\n",
    "print(my_arr[0])\n",
    "\n",
    "print(my_arr[0][-1])"
   ]
  },
  {
   "cell_type": "markdown",
   "metadata": {},
   "source": [
    "Allerdings gibt es in Numpy eine effizientere Methode, um auf die Elemente mehrdimensionaler Arrays zu gehen. Man kann dem `[]` Operator auch ein Tupel an Zahlen übergeben:\n",
    "\n",
    "```array[0][1] == array[(0, 1)]```\n",
    "\n",
    "Dies generiert den *view* (was das ist werden wir gleich noch sehen) auf den Array in einem einzigen Schritt und nicht in zweien, wie im Beispiel. Und da sich im Data Science Bereich alles um Effizienz dreht, wollen wir auch so auf Elemente in Numpy Arrays zugreifen.\n",
    "\n",
    "Nun gibt es aber noch \"syntaktischen Zucker\" für den Zugriff per Tupel: man kann die runden klammern einfach weg lassen.\n",
    "\n",
    "```array[(0, 1)] == array[0, 1]```"
   ]
  },
  {
   "cell_type": "code",
   "execution_count": 10,
   "metadata": {},
   "outputs": [
    {
     "name": "stdout",
     "output_type": "stream",
     "text": [
      "4\n",
      "4\n"
     ]
    }
   ],
   "source": [
    "print(my_arr[(0, -1)])\n",
    "\n",
    "print(my_arr[0, -1])"
   ]
  },
  {
   "cell_type": "code",
   "execution_count": null,
   "metadata": {},
   "outputs": [],
   "source": []
  },
  {
   "cell_type": "markdown",
   "metadata": {},
   "source": [
    "## Numpy Datentypen dtypes\n",
    "\n",
    "Das Typsystem von Numpy ist umfangreicher und angepasster als das Typsystem von Python."
   ]
  },
  {
   "cell_type": "markdown",
   "metadata": {},
   "source": [
    "### Typ Coersion"
   ]
  },
  {
   "cell_type": "markdown",
   "metadata": {},
   "source": [
    "## Filtering"
   ]
  },
  {
   "cell_type": "markdown",
   "metadata": {},
   "source": [
    "## Achsen"
   ]
  },
  {
   "cell_type": "markdown",
   "metadata": {},
   "source": [
    "## Daten zusammenfügen und entfernen"
   ]
  },
  {
   "cell_type": "markdown",
   "metadata": {},
   "source": [
    "### np.concatenate()"
   ]
  },
  {
   "cell_type": "markdown",
   "metadata": {},
   "source": [
    "Mit der `NumPy` Methode `.concatenate` lassen sich mehrere Arrays zusammenfügen. Die Funktion nimmt ein Tupel, das die Arrays enthält, zusammen mit einem Argument für die Achse, an der zusammengefügt werden soll, entgegen:\n",
    "```\n",
    "np.concatenate((arr1, arr2, ...), axis=0)\n",
    "```\n",
    "Aber vorsicht. Die übergebenen Arrays müssen eine gleichlange Dimension haben, an der sie zusammengefügt werden können."
   ]
  },
  {
   "cell_type": "code",
   "execution_count": 22,
   "metadata": {},
   "outputs": [
    {
     "ename": "ValueError",
     "evalue": "all the input arrays must have same number of dimensions, but the array at index 0 has 2 dimension(s) and the array at index 1 has 1 dimension(s)",
     "output_type": "error",
     "traceback": [
      "\u001b[0;31m---------------------------------------------------------------------------\u001b[0m",
      "\u001b[0;31mValueError\u001b[0m                                Traceback (most recent call last)",
      "Input \u001b[0;32mIn [22]\u001b[0m, in \u001b[0;36m<cell line: 5>\u001b[0;34m()\u001b[0m\n\u001b[1;32m      1\u001b[0m arr1 \u001b[38;5;241m=\u001b[39m np\u001b[38;5;241m.\u001b[39marray([[\u001b[38;5;241m1\u001b[39m, \u001b[38;5;241m2\u001b[39m], [\u001b[38;5;241m3\u001b[39m, \u001b[38;5;241m4\u001b[39m]])\n\u001b[1;32m      3\u001b[0m arr2 \u001b[38;5;241m=\u001b[39m np\u001b[38;5;241m.\u001b[39marray([\u001b[38;5;241m5\u001b[39m, \u001b[38;5;241m6\u001b[39m])\n\u001b[0;32m----> 5\u001b[0m \u001b[43mnp\u001b[49m\u001b[38;5;241;43m.\u001b[39;49m\u001b[43mconcatenate\u001b[49m\u001b[43m(\u001b[49m\u001b[43m(\u001b[49m\u001b[43marr1\u001b[49m\u001b[43m,\u001b[49m\u001b[43m \u001b[49m\u001b[43marr2\u001b[49m\u001b[43m)\u001b[49m\u001b[43m)\u001b[49m\n",
      "File \u001b[0;32m<__array_function__ internals>:5\u001b[0m, in \u001b[0;36mconcatenate\u001b[0;34m(*args, **kwargs)\u001b[0m\n",
      "\u001b[0;31mValueError\u001b[0m: all the input arrays must have same number of dimensions, but the array at index 0 has 2 dimension(s) and the array at index 1 has 1 dimension(s)"
     ]
    }
   ],
   "source": [
    "arr1 = np.array([[1, 2], [3, 4]])\n",
    "\n",
    "arr2 = np.array([5, 6])\n",
    "\n",
    "np.concatenate((arr1, arr2))"
   ]
  },
  {
   "cell_type": "markdown",
   "metadata": {},
   "source": [
    "Warum kommt hier eine Fehlermeldung? Schauen wir uns die Dimensionen der beiden Arrays einmal genauer an."
   ]
  },
  {
   "cell_type": "code",
   "execution_count": 14,
   "metadata": {},
   "outputs": [
    {
     "name": "stdout",
     "output_type": "stream",
     "text": [
      "(2, 2) (2,)\n"
     ]
    }
   ],
   "source": [
    "print(arr1.shape, arr2.shape)"
   ]
  },
  {
   "cell_type": "markdown",
   "metadata": {},
   "source": [
    "Wir sehen, dass `arr2` nur eine einzige Dimension hat, also ein Vektor ist. `arr1` dagegen ist eine Matrix mit 2 Dimensionen. Wir müssen also `arr2` erst in eine zweidimensionale Form mit Hilfe der Funktion `.reshape()` bringen. Dann klappt auch die Concatination."
   ]
  },
  {
   "cell_type": "code",
   "execution_count": 26,
   "metadata": {},
   "outputs": [
    {
     "name": "stdout",
     "output_type": "stream",
     "text": [
      "(1, 2) \n",
      "\n",
      "[[1 2]\n",
      " [3 4]\n",
      " [5 6]]\n"
     ]
    }
   ],
   "source": [
    "arr2 = arr2.reshape((1, 2))\n",
    "\n",
    "print(arr2.shape, '\\n')\n",
    "\n",
    "arr3 = np.concatenate((arr1, arr2))\n",
    "\n",
    "print(arr3)"
   ]
  },
  {
   "cell_type": "markdown",
   "metadata": {},
   "source": [
    "Natürlich kann man die Dimensionen auch anders setzen und über den Parameter `axis=` die Achse bennen, an der die zwei Arrays aneinandergefügt werden soll. Dazu müssen wir unseren Array `arr2` aber noch einmal in die richtige Form bringen."
   ]
  },
  {
   "cell_type": "code",
   "execution_count": 28,
   "metadata": {},
   "outputs": [
    {
     "name": "stdout",
     "output_type": "stream",
     "text": [
      "[[1 2 5]\n",
      " [3 4 6]]\n"
     ]
    }
   ],
   "source": [
    "arr2 = arr2.reshape((2, 1))\n",
    "\n",
    "arr4 = np.concatenate((arr1, arr2), axis=1)\n",
    "\n",
    "print(arr4)"
   ]
  },
  {
   "cell_type": "code",
   "execution_count": 30,
   "metadata": {},
   "outputs": [
    {
     "name": "stdout",
     "output_type": "stream",
     "text": [
      "[[5 1 2 3 1 2 5]\n",
      " [6 4 5 6 3 4 6]]\n"
     ]
    }
   ],
   "source": [
    "arr3 = arr3.reshape(2, 3)\n",
    "\n",
    "arr5 = np.concatenate((arr2, arr3, arr4), axis=1)\n",
    "\n",
    "print(arr5)"
   ]
  },
  {
   "cell_type": "markdown",
   "metadata": {},
   "source": [
    "### np.delete()"
   ]
  },
  {
   "cell_type": "markdown",
   "metadata": {},
   "source": [
    "### np.split()"
   ]
  },
  {
   "cell_type": "markdown",
   "metadata": {},
   "source": [
    "### np.stack()"
   ]
  },
  {
   "cell_type": "markdown",
   "metadata": {},
   "source": [
    "## Numpy Arrays Laden und Speichern"
   ]
  },
  {
   "cell_type": "markdown",
   "metadata": {},
   "source": [
    "### Dateistreams mit Python öffnen\n",
    "\n",
    "Für das Lesen von Dateien von der Festplatte steht die Funktion `open()` in Python zur Verfügung. Als Arguemente braucht Sie mindestens einen Pfad zur Datei und den Dateinamen als String, sowie einen bestimmten *Modus* zum Öffnen der Datei ebenfalls als String. Optional können auch noch Informationen zur Codierung der Datei übergeben werden.\n",
    "\n",
    "`open(\"Pfad zur Datei + Name\", \"Modus\")`\n",
    "\n",
    "Folgende Modi stehen zur Verfügung:\n",
    "\n",
    "| Modus | Bedeutung                                  |\n",
    "|-------|--------------------------------------------|\n",
    "| \"r\"   | Datei wird nur lesend geöffnet.            |\n",
    "| \"w\"   | Datei wird nur schreibend geöffnet.        |\n",
    "| \"r+\"  | Datei wird lesend und schreibend geöffnet. |\n",
    "| \"rb+\" | Datei wird im Binärformat geöffnet.        |\n",
    "\n",
    "Damit kein Datenverlust erfolgt, muss eine Datei, wenn Sie eingelesen und verarbeitet wurde, **immer** mit der Methode `.close()` geschlossen werden!"
   ]
  },
  {
   "cell_type": "code",
   "execution_count": 5,
   "metadata": {},
   "outputs": [
    {
     "name": "stdout",
     "output_type": "stream",
     "text": [
      "<class '_io.TextIOWrapper'>\n"
     ]
    }
   ],
   "source": [
    "file = open(\"img/numpy_logo.png\", \"r\")\n",
    "\n",
    "print(type(file))\n",
    "\n",
    "file.close()"
   ]
  },
  {
   "cell_type": "markdown",
   "metadata": {},
   "source": [
    "Damit möglichst kein Datenverlust geschieht öffnet man Dateien in Python normalerweise in einem sog. *With-Block*. Dieser sorgt dafür, dass selbst bei missglückten Operationen auf den Dateistream, dieser wieder sauber geschlossen wird.\n",
    "\n",
    "Die Syntax sieht wie folgt aus:\n",
    "```\n",
    "with open(...) as <name>:\n",
    "    mach etwas mit <name>\n",
    "```"
   ]
  },
  {
   "cell_type": "code",
   "execution_count": 7,
   "metadata": {},
   "outputs": [
    {
     "name": "stdout",
     "output_type": "stream",
     "text": [
      "<class '_io.TextIOWrapper'>\n"
     ]
    }
   ],
   "source": [
    "with open(\"img/numpy_logo.png\", \"r\") as file:\n",
    "    print(type(file))"
   ]
  },
  {
   "cell_type": "markdown",
   "metadata": {},
   "source": [
    "### np.save() und np.load()"
   ]
  },
  {
   "cell_type": "markdown",
   "metadata": {},
   "source": [
    "So können wir nun Numpy Arrays speichern und auch wieder öffnen. Dazu stehen und die Numpy Funktionen `np.save()` und `np.load()` zur Verfügung. Folgende *Dateiformate* stehen uns dabei zur Verfügung:\n",
    "\n",
    "- `.csv` (Komma separierte Textdatei)\n",
    "- `.txt` (reine Textdatei)\n",
    "- `.pkl` (eine Pickle Datei)\n",
    "- `.npy` (das NumPy eigene Format)\n",
    "\n",
    "Am effizientesten ist tatsächlich die Speicherung als `.npy` Datei."
   ]
  },
  {
   "cell_type": "code",
   "execution_count": 12,
   "metadata": {},
   "outputs": [],
   "source": [
    "new_arr = np.random.random(100).reshape(5, 20)\n",
    "\n",
    "with open(\"data/test_save.npy\", \"wb\") as file:\n",
    "    np.save(file, new_arr)"
   ]
  },
  {
   "cell_type": "markdown",
   "metadata": {},
   "source": [
    "Genauso können wir mit der Funktion `np.load()` eine `.npy` Datei wieder einlesen."
   ]
  },
  {
   "cell_type": "code",
   "execution_count": 13,
   "metadata": {},
   "outputs": [
    {
     "data": {
      "text/plain": [
       "array([0.89129808, 0.19778473, 0.41641027, 0.67294669, 0.58948442,\n",
       "       0.8583714 , 0.59618886, 0.80257135, 0.88723119, 0.29273734,\n",
       "       0.44690206, 0.72438551, 0.92043573, 0.88708781, 0.80793182,\n",
       "       0.30377051, 0.705016  , 0.82430651, 0.32786455, 0.67468352])"
      ]
     },
     "execution_count": 13,
     "metadata": {},
     "output_type": "execute_result"
    }
   ],
   "source": [
    "with open(\"data/test_save.npy\", \"rb\") as file:\n",
    "    loaded_arr = np.load(file)\n",
    "    \n",
    "loaded_arr[1]"
   ]
  },
  {
   "cell_type": "markdown",
   "metadata": {},
   "source": [
    "# Mathematische und Statistische Funktionen mit NumPy"
   ]
  },
  {
   "cell_type": "markdown",
   "metadata": {},
   "source": [
    "## Mathematische Operationen"
   ]
  },
  {
   "cell_type": "markdown",
   "metadata": {},
   "source": [
    "## Broadcasting\n",
    "\n",
    "\"Broadcasting\" nennt man ..."
   ]
  },
  {
   "cell_type": "markdown",
   "metadata": {},
   "source": [
    "Um erfolgreich einen Array auf einen anderen zu broadcasten, muss *eine von zwei Bedingungen* für **alle** Dimensionen der Arrays gelten:\n",
    "- die Länge einer der zu vergleichende Dimensionen ist 1,\n",
    "- oder beide zu vergleichenden Dimensionen sind gleich lang.\n",
    "\n",
    "Um das besser zu verstehen, schauen wir uns ein Beispiel an:\n",
    "```\n",
    "Array 1: [[0, 0, 0, 0],   Array 2: [[0],\n",
    "          [0, 0, 0, 0],             [0],\n",
    "          [0, 0, 0, 0],             [0],\n",
    "          [0, 0, 0, 0],             [0],\n",
    "          [0, 0, 0, 0]]             [0]]\n",
    "          \n",
    "np.shape() von Array 1: (5, 4)\n",
    "                        /    \\\n",
    "              gleich lang    eine Dim gleich 1\n",
    "                        \\    /\n",
    "np.shape() von Array 2: (5, 1)\n",
    "```\n",
    "Ein Broadcasting von Array 1 und Array 2 funktioniert also, weil für jede der Dimensionen eine Bedingung erfüllt ist.\n",
    "\n",
    "![Broadcasting von Matrizen](img/broadcasting_2.png)"
   ]
  },
  {
   "cell_type": "code",
   "execution_count": 3,
   "metadata": {},
   "outputs": [
    {
     "ename": "ValueError",
     "evalue": "operands could not be broadcast together with shapes (2,5) (2,) ",
     "output_type": "error",
     "traceback": [
      "\u001b[0;31m---------------------------------------------------------------------------\u001b[0m",
      "\u001b[0;31mValueError\u001b[0m                                Traceback (most recent call last)",
      "Input \u001b[0;32mIn [3]\u001b[0m, in \u001b[0;36m<cell line: 6>\u001b[0;34m()\u001b[0m\n\u001b[1;32m      3\u001b[0m arr \u001b[38;5;241m=\u001b[39m np\u001b[38;5;241m.\u001b[39marange(\u001b[38;5;241m10\u001b[39m)\u001b[38;5;241m.\u001b[39mreshape(\u001b[38;5;241m2\u001b[39m, \u001b[38;5;241m5\u001b[39m)\n\u001b[1;32m      4\u001b[0m arr2 \u001b[38;5;241m=\u001b[39m np\u001b[38;5;241m.\u001b[39marray([\u001b[38;5;241m0\u001b[39m, \u001b[38;5;241m1\u001b[39m])\n\u001b[0;32m----> 6\u001b[0m \u001b[43marr\u001b[49m\u001b[43m \u001b[49m\u001b[38;5;241;43m+\u001b[39;49m\u001b[43m \u001b[49m\u001b[43marr2\u001b[49m\n",
      "\u001b[0;31mValueError\u001b[0m: operands could not be broadcast together with shapes (2,5) (2,) "
     ]
    }
   ],
   "source": [
    "# Achtung!\n",
    "\n",
    "arr = np.arange(10).reshape(2, 5)\n",
    "arr2 = np.array([0, 1])\n",
    "\n",
    "arr + arr2"
   ]
  },
  {
   "cell_type": "code",
   "execution_count": 4,
   "metadata": {},
   "outputs": [
    {
     "name": "stdout",
     "output_type": "stream",
     "text": [
      "(2, 5) (2,)\n"
     ]
    }
   ],
   "source": [
    "# die shapes passen nicht zusammen!\n",
    "\n",
    "print(arr.shape, arr2.shape)"
   ]
  },
  {
   "cell_type": "code",
   "execution_count": 8,
   "metadata": {},
   "outputs": [
    {
     "name": "stdout",
     "output_type": "stream",
     "text": [
      "[[ 0  1  2  3  4]\n",
      " [ 6  7  8  9 10]]\n"
     ]
    }
   ],
   "source": [
    "# erst durch einen Reshape von arr2 geht es!\n",
    "\n",
    "arr2 = arr2.reshape((2, 1))\n",
    "\n",
    "print(arr + arr2)"
   ]
  },
  {
   "cell_type": "markdown",
   "metadata": {},
   "source": [
    "![Broadcasting nach Reshape](img/broadcasting_3.png)"
   ]
  },
  {
   "cell_type": "markdown",
   "metadata": {},
   "source": [
    "## Aggregatsfunktionen"
   ]
  },
  {
   "cell_type": "markdown",
   "metadata": {},
   "source": [
    "### np.sum()\n",
    "\n",
    "Als Beispiel haben wir die Verkaufszahlen von 12 Monaten (Zeilen) von drei Industriezweigen."
   ]
  },
  {
   "cell_type": "code",
   "execution_count": 39,
   "metadata": {},
   "outputs": [],
   "source": [
    "monthly_sales_industries = np.array([[ 4134, 23925,  8657],\n",
    "                                     [ 4116, 23875,  9142],\n",
    "                                     [ 4673, 27197, 10645],\n",
    "                                     [ 4580, 25637, 10456],\n",
    "                                     [ 5109, 27995, 11299],\n",
    "                                     [ 5011, 27419, 10625],\n",
    "                                     [ 5245, 27305, 10630],\n",
    "                                     [ 5270, 27760, 11550],\n",
    "                                     [ 4680, 24988,  9762],\n",
    "                                     [ 5312, 25405, 13401],\n",
    "                                     [ 6630, 27797, 18403]])"
   ]
  },
  {
   "cell_type": "markdown",
   "metadata": {},
   "source": [
    "Wenden wir auf diesen Array die Aggregatsfunktion `.sum()` an, so werden sämtliche Verkaufszahlen des Jahres summiert und als Wert zurückgegeben."
   ]
  },
  {
   "cell_type": "code",
   "execution_count": 40,
   "metadata": {},
   "outputs": [
    {
     "data": {
      "text/plain": [
       "468633"
      ]
     },
     "execution_count": 40,
     "metadata": {},
     "output_type": "execute_result"
    }
   ],
   "source": [
    "monthly_sales_industries.sum()"
   ]
  },
  {
   "cell_type": "markdown",
   "metadata": {},
   "source": [
    "Möchte man allerdings die Summen der einzelnen Industriezweige eines Jahres summieren, so muss man die Achse angeben, über die summiert werden soll. In diesem Fall müssten wir die Zeilen-Achse, also `axis=0` verwenden."
   ]
  },
  {
   "cell_type": "code",
   "execution_count": 42,
   "metadata": {},
   "outputs": [
    {
     "data": {
      "text/plain": [
       "array([ 54760, 289303, 124570])"
      ]
     },
     "execution_count": 42,
     "metadata": {},
     "output_type": "execute_result"
    }
   ],
   "source": [
    "monthly_sales_industries.sum(axis=0)"
   ]
  },
  {
   "cell_type": "markdown",
   "metadata": {},
   "source": [
    "Möchte man hingegen die Werte der einzelnen Monate aufsummieren, so muss man dementsprechend an der anderen Achse, also `axis=1` summieren."
   ]
  },
  {
   "cell_type": "code",
   "execution_count": 44,
   "metadata": {},
   "outputs": [
    {
     "data": {
      "text/plain": [
       "array([36716, 37133, 42515, 40673, 44403, 43055, 43180, 44580, 39430,\n",
       "       44118, 52830])"
      ]
     },
     "execution_count": 44,
     "metadata": {},
     "output_type": "execute_result"
    }
   ],
   "source": [
    "monthly_sales_industries.sum(axis=1)"
   ]
  },
  {
   "cell_type": "markdown",
   "metadata": {},
   "source": [
    "Schade ist, dass sich hier nun aber die Shape des Arrays verändert hat. Da wir ja die einzelnen Spalten summiert haben, sollte die Ausgabe auch in Spaltenform erfolgen, um so vielleicht dieses \"Summenspalte\" mit dem Array für Verkaufszahlen zu konkatenieren.\n",
    "\n",
    "Hierfür gibt es das Argument `keepdims`, dem man die boolschen Werte `True` und `False` übergeben kann."
   ]
  },
  {
   "cell_type": "code",
   "execution_count": 45,
   "metadata": {},
   "outputs": [
    {
     "data": {
      "text/plain": [
       "array([[36716],\n",
       "       [37133],\n",
       "       [42515],\n",
       "       [40673],\n",
       "       [44403],\n",
       "       [43055],\n",
       "       [43180],\n",
       "       [44580],\n",
       "       [39430],\n",
       "       [44118],\n",
       "       [52830]])"
      ]
     },
     "execution_count": 45,
     "metadata": {},
     "output_type": "execute_result"
    }
   ],
   "source": [
    "monthly_sums = monthly_sales_industries.sum(axis=1, keepdims=True)\n",
    "\n",
    "monthly_sums"
   ]
  },
  {
   "cell_type": "code",
   "execution_count": 48,
   "metadata": {},
   "outputs": [
    {
     "data": {
      "text/plain": [
       "array([[ 4134, 23925,  8657, 36716],\n",
       "       [ 4116, 23875,  9142, 37133],\n",
       "       [ 4673, 27197, 10645, 42515],\n",
       "       [ 4580, 25637, 10456, 40673],\n",
       "       [ 5109, 27995, 11299, 44403],\n",
       "       [ 5011, 27419, 10625, 43055],\n",
       "       [ 5245, 27305, 10630, 43180],\n",
       "       [ 5270, 27760, 11550, 44580],\n",
       "       [ 4680, 24988,  9762, 39430],\n",
       "       [ 5312, 25405, 13401, 44118],\n",
       "       [ 6630, 27797, 18403, 52830]])"
      ]
     },
     "execution_count": 48,
     "metadata": {},
     "output_type": "execute_result"
    }
   ],
   "source": [
    "np.concatenate((monthly_sales_industries, monthly_sums), axis=1)"
   ]
  },
  {
   "cell_type": "markdown",
   "metadata": {},
   "source": [
    "\n",
    "\n",
    "## Maße der zentralen Tendenz"
   ]
  },
  {
   "cell_type": "markdown",
   "metadata": {},
   "source": [
    "## Maße der Streuung "
   ]
  },
  {
   "cell_type": "markdown",
   "metadata": {},
   "source": [
    "### Quantile / Percentile: np.quantile\n",
    "\n",
    "Mit `np.quantile` lassen sich die Quantile einer Stichprobe berechnen. `np.quantile` arbeitet dabei, dass man als Argumente ein Array, sowie die Liste der Quantile zwischen 0 und 1, die man berechnen will."
   ]
  },
  {
   "cell_type": "code",
   "execution_count": 12,
   "metadata": {},
   "outputs": [
    {
     "data": {
      "text/plain": [
       "array([1.66539975, 1.76501605, 1.88188364])"
      ]
     },
     "execution_count": 12,
     "metadata": {},
     "output_type": "execute_result"
    }
   ],
   "source": [
    "# wir berechnen die Quartile 25%, 50% und 75%\n",
    "\n",
    "koerpergroessen = np.random.normal(1.75, .15, 100) # 100 zufällig normalverteilte Körpergröẞen\n",
    "\n",
    "np.quantile(koerpergroessen, [.25, .5, .75])"
   ]
  },
  {
   "cell_type": "markdown",
   "metadata": {},
   "source": [
    "Wollen wir mehr Quantile, ist es mühselig, diese als Liste auszuschreiben. Der Einfachheit halber können wir die Funktion `np.linspace` benutzen, die wir schon kennengelernt haben und die eine kontinuierliche Zahlenreihe in gleichgroẞe Stücke \"zerschneidet\". So können wir die Zahlenreihe von 0 bis 1 benutzen, um diese in Quantile zu zerschneiden und an `np.quantile` zu übergeben.\n",
    "\n",
    "Hier ein paar Beispiele:"
   ]
  },
  {
   "cell_type": "code",
   "execution_count": 13,
   "metadata": {},
   "outputs": [
    {
     "name": "stdout",
     "output_type": "stream",
     "text": [
      "Quintile: [1.4515198  1.66539975 1.76501605 1.88188364 2.08062421]\n",
      "Centile: [1.4515198  1.59257309 1.66420276 1.68446388 1.74643079 1.78222782\n",
      " 1.8361634  1.88969072 1.98373368 2.08062421]\n"
     ]
    }
   ],
   "source": [
    "# Quintile (5 Quantile):\n",
    "\n",
    "print(\"Quintile:\", np.quantile(koerpergroessen, np.linspace(0, 1, 5)))\n",
    "\n",
    "# Decile (10 Quantile):\n",
    "\n",
    "print(\"Centile:\", np.quantile(koerpergroessen, np.linspace(0, 1, 10)))"
   ]
  },
  {
   "cell_type": "markdown",
   "metadata": {},
   "source": [
    "# Wahrscheinlichkeitstheorie"
   ]
  }
 ],
 "metadata": {
  "kernelspec": {
   "display_name": "Python 3 (ipykernel)",
   "language": "python",
   "name": "python3"
  },
  "language_info": {
   "codemirror_mode": {
    "name": "ipython",
    "version": 3
   },
   "file_extension": ".py",
   "mimetype": "text/x-python",
   "name": "python",
   "nbconvert_exporter": "python",
   "pygments_lexer": "ipython3",
   "version": "3.9.12"
  },
  "toc": {
   "base_numbering": 1,
   "nav_menu": {},
   "number_sections": true,
   "sideBar": true,
   "skip_h1_title": false,
   "title_cell": "Table of Contents",
   "title_sidebar": "Contents",
   "toc_cell": false,
   "toc_position": {
    "height": "calc(100% - 180px)",
    "left": "10px",
    "top": "150px",
    "width": "286.719px"
   },
   "toc_section_display": true,
   "toc_window_display": true
  }
 },
 "nbformat": 4,
 "nbformat_minor": 1
}
