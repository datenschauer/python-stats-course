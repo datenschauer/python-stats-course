{
 "cells": [
  {
   "cell_type": "code",
   "execution_count": 1,
   "id": "ccd4ac01",
   "metadata": {},
   "outputs": [],
   "source": [
    "import numpy as np\n",
    "import pandas as pd\n",
    "import matplotlib.pyplot as plt"
   ]
  },
  {
   "cell_type": "markdown",
   "id": "b7cd40d9",
   "metadata": {},
   "source": [
    "# Einführung\n",
    "\n",
    "In unserer kurzen Betrachtung von *NumPy* im ersten Kapitel sahen wir, dass auch mit NumPy Matrizen aus unterschiedlichen Objekten (Zahlen, Strings, Datumsobjekten, usw.) bilden kann. So könnten wir Daten in tabellarischer Form abbilden.\n",
    "\n",
    "```\n",
    "date1 = datetime(2022, 6, 22)\n",
    "date2 = datetime(1980, 10, 29)\n",
    "\n",
    "test = np.array([[date1, date2],\n",
    "                [1, 2],\n",
    "                ['a', 'b']])\n",
    "```\n",
    "\n",
    "Jedoch sind wir es gewohnt, dass Daten in tabellarischer Form oft anders \"daherkommen\". Dies hat vor allem mit dem Begriff *tidy data* zu tun. Tabellarische Daten sind dann *tidy*, wenn sie\n",
    "  - für jede Messung/jedes Individuum *genau eine* Zeile,\n",
    "  - für jede Zeile genau einen einzigartigen Schlüssel,\n",
    "  - für jede Variable *genau eine* Spalte und\n",
    "  - für jede Spalte genau einen Datentyp (String, Number, Datetime, usw.)\n",
    "  \n",
    "haben.\n",
    "  \n",
    "Das obige Beispiel müsste also tabellarisch so aussehen:\n",
    "\n",
    "Index  | Date       | Number | String\n",
    "-------|------------|--------|-------\n",
    "0      | 2022-06-22 | 1      | a\n",
    "1      | 1980-10-29 | 2      | b\n",
    "\n",
    "Genau zu diesem Zweck der einfachen *Erzeugung* und *Manipulation* von tabellarischen Daten gibt es seit 2010 für Python das Modul [**Pandas**](https://pandas.pydata.org).\n",
    "\n",
    "Tabellarische Daten werden in *Pandas* in einem sog. *DataFrame* gespeichert. Dieser enthält die einzelnen Variablen/Spalten als Pandas *Series Objekte* und einen *Index*.\n",
    "\n",
    "Wir wollen also zuerst auf die Grundlagen solch eines DataFrames eingehen und zwar die Pandas Series Objects."
   ]
  },
  {
   "cell_type": "markdown",
   "id": "7e5dd8d1",
   "metadata": {},
   "source": [
    "## pd.Series()"
   ]
  },
  {
   "cell_type": "markdown",
   "id": "717a7f5a",
   "metadata": {},
   "source": [
    "Es ist in der Data Science Community Usus, das Modul *Pandas* mit der Abkürzung *pd* zu importieren (siehe auch oben die Import Befehle).\n",
    "\n",
    "So können wir nun ein *Series Objekt* erzeugen. Dazu übergeben wir der Klasse `Series` eine Liste an Werten und rufen das Objekt auf."
   ]
  },
  {
   "cell_type": "code",
   "execution_count": 17,
   "id": "366c1506",
   "metadata": {},
   "outputs": [
    {
     "data": {
      "text/plain": [
       "0    10\n",
       "1    20\n",
       "2   -30\n",
       "3    99\n",
       "dtype: int64"
      ]
     },
     "execution_count": 17,
     "metadata": {},
     "output_type": "execute_result"
    }
   ],
   "source": [
    "obj = pd.Series([10, 20, -30, 99])\n",
    "\n",
    "obj"
   ]
  },
  {
   "cell_type": "markdown",
   "id": "7ea18507",
   "metadata": {},
   "source": [
    "Wie wir sehen, hat Pandas ein Objekt erzeugt, und jedem Wert dabei einen eindeutigen Index gegeben. Ausserdem hat Pandas allen Werten den Typ `<int64>` zugewiesen. Hier gilt das gleiche, was schon zum Thema \"erweiterte Typen\" im Kapitel zu *NumPy* erwähnt wurde.\n",
    "\n",
    "Mit dem Attribut `.values` können wir uns die einzelnen Werte ausgeben lassen."
   ]
  },
  {
   "cell_type": "code",
   "execution_count": 18,
   "id": "aeb7f2c1",
   "metadata": {},
   "outputs": [
    {
     "data": {
      "text/plain": [
       "array([ 10,  20, -30,  99])"
      ]
     },
     "execution_count": 18,
     "metadata": {},
     "output_type": "execute_result"
    }
   ],
   "source": [
    "obj.values"
   ]
  },
  {
   "cell_type": "markdown",
   "id": "0c2213b7",
   "metadata": {},
   "source": [
    "Einzelne Werte lassen sich leicht über den Index ansprechen. Die Syntax dazu ist die selbe, wie in Python üblich, bei Listen und auch NumPy Arrays, nämlich über den `[]` Operator."
   ]
  },
  {
   "cell_type": "code",
   "execution_count": 20,
   "id": "ee0a487a",
   "metadata": {},
   "outputs": [
    {
     "data": {
      "text/plain": [
       "-30"
      ]
     },
     "execution_count": 20,
     "metadata": {},
     "output_type": "execute_result"
    }
   ],
   "source": [
    "obj[2]"
   ]
  },
  {
   "cell_type": "markdown",
   "id": "294b0f87",
   "metadata": {},
   "source": [
    "Man kann natürlich auch mehrere Zeilen des Index aufrufen, indem man dem `[]` Operator eine Liste an Indices übergibt. Allerdings ist hier der Rückgabewert kein Einzelwert wie oben, sondern wieder eine Pandas Series Objekt."
   ]
  },
  {
   "cell_type": "code",
   "execution_count": 22,
   "id": "9092c58c",
   "metadata": {},
   "outputs": [
    {
     "data": {
      "text/plain": [
       "1    20\n",
       "3    99\n",
       "dtype: int64"
      ]
     },
     "execution_count": 22,
     "metadata": {},
     "output_type": "execute_result"
    }
   ],
   "source": [
    "obj[[1, 3]]"
   ]
  },
  {
   "cell_type": "markdown",
   "id": "c6cffa03",
   "metadata": {},
   "source": [
    "Wie schon bei NumPy lässt sich auch ein *boolsches* Objekt erzeugen."
   ]
  },
  {
   "cell_type": "code",
   "execution_count": 27,
   "id": "1d8124d9",
   "metadata": {},
   "outputs": [
    {
     "data": {
      "text/plain": [
       "0    False\n",
       "1     True\n",
       "2    False\n",
       "3     True\n",
       "dtype: bool"
      ]
     },
     "execution_count": 27,
     "metadata": {},
     "output_type": "execute_result"
    }
   ],
   "source": [
    "obj > 10"
   ]
  },
  {
   "cell_type": "markdown",
   "id": "a2cdbbcf",
   "metadata": {},
   "source": [
    "Dieses boolsche Objekt kann dann wieder dem `[]` Operator übergeben und damit das eigentliche Objekt gefiltert werden."
   ]
  },
  {
   "cell_type": "code",
   "execution_count": 29,
   "id": "04a5dc18",
   "metadata": {},
   "outputs": [
    {
     "data": {
      "text/plain": [
       "1    20\n",
       "3    99\n",
       "dtype: int64"
      ]
     },
     "execution_count": 29,
     "metadata": {},
     "output_type": "execute_result"
    }
   ],
   "source": [
    "obj[obj > 10]"
   ]
  },
  {
   "cell_type": "markdown",
   "id": "ecf24ede",
   "metadata": {},
   "source": [
    "Natürlich kann man auch einen eigenen und nicht von Pandas erstellten Index für das Series Objekt nutzen."
   ]
  },
  {
   "cell_type": "code",
   "execution_count": 31,
   "id": "f13a63e4",
   "metadata": {},
   "outputs": [
    {
     "data": {
      "text/plain": [
       "a    10\n",
       "b    20\n",
       "c   -30\n",
       "d    99\n",
       "dtype: int64"
      ]
     },
     "execution_count": 31,
     "metadata": {},
     "output_type": "execute_result"
    }
   ],
   "source": [
    "obj.index = ['a', 'b', 'c', 'd']\n",
    "\n",
    "obj"
   ]
  },
  {
   "cell_type": "code",
   "execution_count": 33,
   "id": "7fa82a08",
   "metadata": {},
   "outputs": [
    {
     "data": {
      "text/plain": [
       "99"
      ]
     },
     "execution_count": 33,
     "metadata": {},
     "output_type": "execute_result"
    }
   ],
   "source": [
    "obj['d']"
   ]
  },
  {
   "cell_type": "code",
   "execution_count": null,
   "id": "73505cfe",
   "metadata": {},
   "outputs": [],
   "source": []
  }
 ],
 "metadata": {
  "kernelspec": {
   "display_name": "Python 3 (ipykernel)",
   "language": "python",
   "name": "python3"
  },
  "language_info": {
   "codemirror_mode": {
    "name": "ipython",
    "version": 3
   },
   "file_extension": ".py",
   "mimetype": "text/x-python",
   "name": "python",
   "nbconvert_exporter": "python",
   "pygments_lexer": "ipython3",
   "version": "3.9.12"
  }
 },
 "nbformat": 4,
 "nbformat_minor": 5
}
