{
 "cells": [
  {
   "cell_type": "markdown",
   "id": "3ce6b4a6",
   "metadata": {},
   "source": [
    "# Einführungen\n",
    "\n",
    "## Allgemein\n",
    "\n",
    "- [Buch] VanderPlas, Jake: Data Science mit Python. Das Handbuch für den Einsatz von IPython, Jupyter, NumPy, Pandas, Matplotlib, Scikit-Learn\n",
    "- [\n",
    "\n",
    "## NumPy\n",
    "\n",
    "## Matplotlib und andere Visualisierungen\n",
    "\n",
    "## Pandas\n",
    "\n",
    "## SciPy\n",
    "\n",
    "# Sammlungen\n",
    "\n",
    "[Github Repositories von Nicolas Rougier](https://github.com/rougier)\n",
    "Nicolas Rougier ist Neurowissenscahftler, Open Scource Programmierer und Data Scientist von der Universität Bourdeaux und hat eine unglaubliche Sammlung an Einführunge, Büchern, Studienmaterial, Libraries und vieles mehr.\n",
    "\n",
    "# Übungen"
   ]
  }
 ],
 "metadata": {
  "kernelspec": {
   "display_name": "Python 3 (ipykernel)",
   "language": "python",
   "name": "python3"
  },
  "language_info": {
   "codemirror_mode": {
    "name": "ipython",
    "version": 3
   },
   "file_extension": ".py",
   "mimetype": "text/x-python",
   "name": "python",
   "nbconvert_exporter": "python",
   "pygments_lexer": "ipython3",
   "version": "3.9.12"
  },
  "toc": {
   "base_numbering": 1,
   "nav_menu": {},
   "number_sections": true,
   "sideBar": true,
   "skip_h1_title": false,
   "title_cell": "Table of Contents",
   "title_sidebar": "Contents",
   "toc_cell": false,
   "toc_position": {},
   "toc_section_display": true,
   "toc_window_display": true
  }
 },
 "nbformat": 4,
 "nbformat_minor": 5
}
