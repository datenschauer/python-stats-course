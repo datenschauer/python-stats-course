{
 "cells": [
  {
   "cell_type": "markdown",
   "metadata": {},
   "source": [
    "# Einleitung\n",
    "\n",
    "Dieser Kurs soll in die Statstik und Datenanalyse mit Python einführen. Sie lernen, wie Sie typische statistische Fragestellungen mit Python bearbeiten können und lernen das nötige Handwerkzeug, sprich die dafür nötigen Pakete (Module) und Funktionen kennen. Inhalt dieses Kurses sind vor allem das Einlesen und die Manipulation von Daten, die Visualisierung und deskriptive Beschreibung der Daten mit Hilfe verschiedener Plots, sowie statistischer Kennwerte. Des Weiteren werden wir uns in die Inferenzstatistik, mit Hilfe von Konfidenzintervallen, Hypothesentests und Varianzanalysen vorwagen.\n",
    "\n",
    "### Warum Python?\n",
    "\n",
    "### Voraussetzungen\n",
    "\n",
    "Dies ist keine Einführung in die Statistik! Die unten genannten statistischen Konzepte sollten Ihnen zumindest ein Begriff sein. Auch ist es sehr hilfreich, wenn Sie schon einmal programmiert haben (z.B. in R) oder gar einen Einführungskurs in Python gemacht haben.\n",
    "\n",
    "### Überblick über den Kurs\n",
    "\n",
    "- Die Mutter aller wissenschaftlichen Python Module: *NumPy*\n",
    "- Daten Visualisieren: erste Schritte mit *Matplotlib*\n",
    "- Daten einlesen und manipulieren mit *Pandas*\n",
    "- Deskriptive und Inferenzstatistik mit *SciPy*\n",
    "- Weitere Konzepte"
   ]
  },
  {
   "cell_type": "markdown",
   "metadata": {
    "pycharm": {
     "name": "#%% md\n"
    }
   },
   "source": [
    "# Kurze Einführung in Python\n",
    "\n",
    "Diese kurze Einführung ersetzt nicht eine ordentliche Auseinandersetzung und umfassendere Einführung in Python, wie Sie sie z.B. von mir [hier](https://datenschauer.de/pythonkurs) finden können. Ich möchte aber dennoch versuchen, Ihnen die wichtigsten Programmierkonzepte in Python näherzubringen, damit Sie die nachfolgenden Kapitel verstehen können."
   ]
  },
  {
   "cell_type": "markdown",
   "metadata": {},
   "source": [
    "## einfachste Konzepte\n",
    "\n",
    "Beginnen wir mit den wichtigsten Basisfunktionalitäten: Variablen, Zahlen, Operatoren, Strings, eingebaute Funktionen und Methoden."
   ]
  },
  {
   "cell_type": "markdown",
   "metadata": {
    "pycharm": {
     "name": "#%% md\n"
    }
   },
   "source": [
    "### Zahlen und Operatoren\n",
    "\n",
    "Python kann von Haus aus grundständige Rechenoperationen bewerkstelligen. Dabei stehen ihm Ganzahltypen `int` und Gleitkommazahlen `float` zur Verfügung."
   ]
  },
  {
   "cell_type": "code",
   "execution_count": 4,
   "metadata": {
    "jupyter": {
     "outputs_hidden": false
    },
    "pycharm": {
     "name": "#%%\n"
    }
   },
   "outputs": [
    {
     "data": {
      "text/plain": [
       "22"
      ]
     },
     "execution_count": 4,
     "metadata": {},
     "output_type": "execute_result"
    }
   ],
   "source": [
    "# Addition\n",
    "5 + 17"
   ]
  },
  {
   "cell_type": "code",
   "execution_count": 5,
   "metadata": {
    "jupyter": {
     "outputs_hidden": false
    },
    "pycharm": {
     "name": "#%%\n"
    }
   },
   "outputs": [
    {
     "data": {
      "text/plain": [
       "-416"
      ]
     },
     "execution_count": 5,
     "metadata": {},
     "output_type": "execute_result"
    }
   ],
   "source": [
    "# Subtraktion\n",
    "8967 - 9383"
   ]
  },
  {
   "cell_type": "code",
   "execution_count": 6,
   "metadata": {
    "jupyter": {
     "outputs_hidden": false
    },
    "pycharm": {
     "name": "#%%\n"
    }
   },
   "outputs": [
    {
     "data": {
      "text/plain": [
       "5070"
      ]
     },
     "execution_count": 6,
     "metadata": {},
     "output_type": "execute_result"
    }
   ],
   "source": [
    "# Multiplikation\n",
    "78 * 65"
   ]
  },
  {
   "cell_type": "code",
   "execution_count": 7,
   "metadata": {
    "jupyter": {
     "outputs_hidden": false
    },
    "pycharm": {
     "name": "#%%\n"
    }
   },
   "outputs": [
    {
     "data": {
      "text/plain": [
       "9.0"
      ]
     },
     "execution_count": 7,
     "metadata": {},
     "output_type": "execute_result"
    }
   ],
   "source": [
    "# Division gibt immer eine Gleitkommazahl zurück!\n",
    "81 / 9"
   ]
  },
  {
   "cell_type": "code",
   "execution_count": 8,
   "metadata": {
    "jupyter": {
     "outputs_hidden": false
    },
    "pycharm": {
     "name": "#%%\n"
    }
   },
   "outputs": [
    {
     "data": {
      "text/plain": [
       "8.539728332728"
      ]
     },
     "execution_count": 8,
     "metadata": {},
     "output_type": "execute_result"
    }
   ],
   "source": [
    "# Dezimalzahlen mit einem \"Punkt\" als Dezimaltrenner!\n",
    "3.1415926 * 2.71828"
   ]
  },
  {
   "cell_type": "code",
   "execution_count": 9,
   "metadata": {
    "jupyter": {
     "outputs_hidden": false
    },
    "pycharm": {
     "name": "#%%\n"
    }
   },
   "outputs": [
    {
     "data": {
      "text/plain": [
       "256"
      ]
     },
     "execution_count": 9,
     "metadata": {},
     "output_type": "execute_result"
    }
   ],
   "source": [
    "# Potenzen\n",
    "2 ** 8"
   ]
  },
  {
   "cell_type": "code",
   "execution_count": 12,
   "metadata": {
    "jupyter": {
     "outputs_hidden": false
    },
    "pycharm": {
     "name": "#%%\n"
    }
   },
   "outputs": [
    {
     "data": {
      "text/plain": [
       "2"
      ]
     },
     "execution_count": 12,
     "metadata": {},
     "output_type": "execute_result"
    }
   ],
   "source": [
    "# Modulo Operator (Berechnung des Rests)\n",
    "92 % 5"
   ]
  },
  {
   "cell_type": "code",
   "execution_count": 14,
   "metadata": {
    "jupyter": {
     "outputs_hidden": false
    },
    "pycharm": {
     "name": "#%%\n"
    }
   },
   "outputs": [
    {
     "data": {
      "text/plain": [
       "18"
      ]
     },
     "execution_count": 14,
     "metadata": {},
     "output_type": "execute_result"
    }
   ],
   "source": [
    "# Abrundungsfunktion (floor division)\n",
    "92 // 5 # 92 / 5 -> 18.4"
   ]
  },
  {
   "cell_type": "markdown",
   "metadata": {},
   "source": [
    "Python kennt zwar so etwas wie eine \"Punkt-vor-Strich-Rechnung\", aber für komplexere Berechnungen und der Übersicht halber kann man Klammern verwenden."
   ]
  },
  {
   "cell_type": "code",
   "execution_count": 15,
   "metadata": {
    "jupyter": {
     "outputs_hidden": false
    },
    "pycharm": {
     "name": "#%%\n"
    }
   },
   "outputs": [
    {
     "data": {
      "text/plain": [
       "1.3846153846153846"
      ]
     },
     "execution_count": 15,
     "metadata": {},
     "output_type": "execute_result"
    }
   ],
   "source": [
    "(90 / (67 - (3 ** 2) // 4))"
   ]
  },
  {
   "cell_type": "markdown",
   "metadata": {},
   "source": [
    "Neben diesen mathematischen Operatoren gibt es natürlich auch noch logische Operatoren, die einen Wahrheitswert `True` oder `False` zurück geben. Diese Operatoren sind die Vergleichsoperatoren (`==, <, >, <=, >=`), sowie die Operatoren zur logischen Verknüpfung (`and, or, not`)."
   ]
  },
  {
   "cell_type": "code",
   "execution_count": 17,
   "metadata": {
    "jupyter": {
     "outputs_hidden": false
    },
    "pycharm": {
     "name": "#%%\n"
    }
   },
   "outputs": [
    {
     "data": {
      "text/plain": [
       "True"
      ]
     },
     "execution_count": 17,
     "metadata": {},
     "output_type": "execute_result"
    }
   ],
   "source": [
    "not ((30 > 45) and ((12 / 3) == 4 or 5 <= 12))"
   ]
  },
  {
   "cell_type": "markdown",
   "metadata": {
    "pycharm": {
     "name": "#%% md\n"
    }
   },
   "source": [
    "### Variablen\n",
    "\n",
    "Variablen werden mit einem Istgleich-Zeichen `=` instantiiert und initialisiert in einem. Der Name einer Variablen kann dabei jedes ASCII Zeichen annehmen, muss aber mit einem Buchstaben oder einem Unterstrich `_` beginnen. Mit der `print()` Funktion können Ausdrücke am Bildschirm ausgegeben werden."
   ]
  },
  {
   "cell_type": "code",
   "execution_count": 3,
   "metadata": {
    "jupyter": {
     "outputs_hidden": false
    },
    "pycharm": {
     "name": "#%%\n"
    }
   },
   "outputs": [
    {
     "data": {
      "text/plain": [
       "5"
      ]
     },
     "execution_count": 3,
     "metadata": {},
     "output_type": "execute_result"
    }
   ],
   "source": [
    "meine_variable = 5\n",
    "\n",
    "meine_variable"
   ]
  },
  {
   "cell_type": "code",
   "execution_count": 19,
   "metadata": {
    "jupyter": {
     "outputs_hidden": false
    },
    "pycharm": {
     "name": "#%%\n"
    }
   },
   "outputs": [
    {
     "name": "stdout",
     "output_type": "stream",
     "text": [
      "25 25\n"
     ]
    }
   ],
   "source": [
    "x = 8\n",
    "y = 17\n",
    "m = x + y\n",
    "print(x + y, m)"
   ]
  },
  {
   "cell_type": "markdown",
   "metadata": {},
   "source": [
    "## Funktionen"
   ]
  },
  {
   "cell_type": "markdown",
   "metadata": {},
   "source": [
    "Funktionen können über ihren Namen, gefolgt von runden klammern und eventuellen Argumenten (= Parametern) aufgerufen werden: `funktionsname(arg1, arg2)`\n",
    "\n",
    "Die Print-Funktion haben wir beispielsweise schon kennengelernt. Sie hat den Funktionsnamen \"print\" und nimmt als Argumente ein oder mehrere Strings entgegen, als Zeichenketten, die dann in der Standardausgabe (meist die Konsole oder in Jupyter Notebooks der Bereich unterhalb der Zelle) ausgegeben werden. Als Argumente dienen aber nicht nur direkte Strings, sondern auch alle Objekte und Rückgabewerte, die eine String Repräsentation haben."
   ]
  },
  {
   "cell_type": "code",
   "execution_count": 6,
   "metadata": {},
   "outputs": [
    {
     "name": "stdout",
     "output_type": "stream",
     "text": [
      "Hallo Welt!\n",
      "Hallo Welt !\n"
     ]
    }
   ],
   "source": [
    "print(\"Hallo Welt!\")\n",
    "print(\"Hallo\", \"Welt\", \"!\")"
   ]
  },
  {
   "cell_type": "code",
   "execution_count": 9,
   "metadata": {},
   "outputs": [
    {
     "data": {
      "text/plain": [
       "9"
      ]
     },
     "execution_count": 9,
     "metadata": {},
     "output_type": "execute_result"
    }
   ],
   "source": [
    "# Weitere Beispiele von Funktionen:\n",
    "\n",
    "max(4, 3, 9, 1) # gib das gröẞte Element zurück"
   ]
  },
  {
   "cell_type": "markdown",
   "metadata": {},
   "source": [
    "```\n",
    "    max       (4, 3, 9, 1)\n",
    "     |           |    |\n",
    "Funktionsname   Argumente\n",
    "```"
   ]
  },
  {
   "cell_type": "code",
   "execution_count": 8,
   "metadata": {},
   "outputs": [
    {
     "data": {
      "text/plain": [
       "11"
      ]
     },
     "execution_count": 8,
     "metadata": {},
     "output_type": "execute_result"
    }
   ],
   "source": [
    "len(\"Hallo Welt!\") # gib die Länge eines Objektes zurück"
   ]
  },
  {
   "cell_type": "markdown",
   "metadata": {},
   "source": [
    "Funktionen lassen sich auch ineinander \"verschachteln\". Der Aufruf und die Rückgabe der einzelnen Funktionen erfolgt dann von \"innen nach auẞen\"."
   ]
  },
  {
   "cell_type": "code",
   "execution_count": 11,
   "metadata": {},
   "outputs": [
    {
     "name": "stdout",
     "output_type": "stream",
     "text": [
      "5\n"
     ]
    }
   ],
   "source": [
    "print(max(len(\"Hallo\"), len(\"Welt\")))"
   ]
  },
  {
   "cell_type": "markdown",
   "metadata": {},
   "source": [
    "```\n",
    "print( max ( len(\"Hallo\"), len(\"Welt) ))\n",
    " |      |      |           |\n",
    " |       \\     5           4 \n",
    " |        \\    |          /\n",
    " |       max  (5,       4)\n",
    "  \\        |\n",
    "   \\       |\n",
    "    print (5)\n",
    "      |\n",
    "      5\n",
    "```"
   ]
  },
  {
   "cell_type": "markdown",
   "metadata": {},
   "source": [
    "## Datenstrukturen"
   ]
  },
  {
   "cell_type": "markdown",
   "metadata": {},
   "source": [
    "### Listen\n",
    "\n",
    "Eine Liste legt man über Verwendung eckiger Klammern „[]“ an. Zwichen diese Klammern schreibt man durch ein Komma separiert die einzelnen Objekte, die in dieser Liste gespeichert werden sollen. Unsere erste Liste, die die Werte der gegebenen Antworten des ersten Items enthält, könnte demnach so aussehen:"
   ]
  },
  {
   "cell_type": "code",
   "execution_count": 1,
   "metadata": {},
   "outputs": [],
   "source": [
    "item_1 = [3, 1, 1, 3, 1, 1, 5, 2, 2, 3, 4, 3, 5, 3, 5, 1, 5, 4, 4, 4]"
   ]
  },
  {
   "cell_type": "markdown",
   "metadata": {},
   "source": [
    "Über den Klammernoperator `[]` kann man auf die eizelenen Werte (Indices) einer List zugreifen. Dabei sind Listen, wie auch Tupel *iterierbare* Objekte in Python.\n",
    "\n",
    "Jedes iterierbare Objekt lässt sich der Reihe nach in einzelne Elemente zerlegen, die von vorne nach hinten über einen sog. Index durchnummeriert werden und über diese Nummern auch angesprochen werden können. Ähnlich wie bei einem langen Zug bei dem man vorne bei der Lok zu zählen beginnt und jedem weiteren Waggon eine Nummer n+1 gibt. Die Lok wäre der Index 0, der erste Waggon der Index 1, der zweite Waggon der Index 2 usw., bis zum letzten Waggon. Von vorne nach hinten gezählt ist aber die Lok das erste Bauteil, der erste Waggon das zweite usw.\n",
    "\n",
    "![Index Zug](./img/index_zug.png)\n",
    "\n",
    "Genauso zählt auch Python die Elemente eines Iterable durch. Das erste Element hat immer den Index 0, das zweite den Index 1 und das letzte hat den Index „Anzahl der Elemente minus 1“.\n",
    "\n",
    "Um einen Index auszuwählen, bzw. auf ihn zuzugreifen, benutzt man den Klammer-Operator: zwei eckige Klammern „[]“, die hinten an das Iterable angesetzt werden. Die Syntax sieht folgendermaßen aus: `iterable[<index>]`."
   ]
  },
  {
   "cell_type": "code",
   "execution_count": 5,
   "metadata": {},
   "outputs": [
    {
     "name": "stdout",
     "output_type": "stream",
     "text": [
      "[3, 1, 1, 3, 1, 1, 5, 2, 2, 3, 4, 3, 5, 3, 5, 1, 5, 4, 4, 4]\n",
      "3\n",
      "1\n",
      "4\n"
     ]
    }
   ],
   "source": [
    "print(item_1)\n",
    "print(item_1[0]) # das erste Element\n",
    "print(item_1[1]) # das zweite Element\n",
    "print(item_1[10]) # das elfte Element usw."
   ]
  },
  {
   "cell_type": "markdown",
   "metadata": {},
   "source": [
    "Diese Index Syntax mit den eckigen Klammern erlaubt es sogar, „von Hinten“ anzufangen zu zählen. Das letzte Element hätte somit den Index -1, das zweitletzte den Index -2 usw."
   ]
  },
  {
   "cell_type": "code",
   "execution_count": 13,
   "metadata": {},
   "outputs": [
    {
     "name": "stdout",
     "output_type": "stream",
     "text": [
      "4\n",
      "1\n"
     ]
    }
   ],
   "source": [
    "print(item_1[-1]) # das letzte Element\n",
    "print(item_1[-5]) # das fünfte Element von \"hinten\""
   ]
  },
  {
   "cell_type": "markdown",
   "metadata": {},
   "source": [
    "Man kann auch Teile einer Liste \"herausschneiden\". Dies nennt man *Slicing*. Das Slicing erfolgt auch über den `[]`-Operator und hat folgende Syntax:\n",
    "```\n",
    "liste[ start : ende : schritte ]\n",
    "```\n",
    "**Achtung:** Bei Start und Ende handelt es sich um ein Halboffenes Intervall. Der Start-Index ist immer inkludiert, der End-Index aber ausgeschlossen!\n",
    "\n",
    "Man kann je nachdem Start, Ende und Schritte auch weggelassen werden:\n",
    "- Lässt man Start weg, wird bei Index 0, also dem ersten Element begonnen.\n",
    "- Lässt man Ende weg, so wird bis zum letzten Index + 1, bzw. `[-1]`, also dem letzten Element gegangen.\n",
    "- Lässt man die Schritte weg, so wird \"1\" genommen, also jedes Element, ohne eines zu überspringen.\n",
    "\n",
    "Anbei ein paar Beispiele."
   ]
  },
  {
   "cell_type": "code",
   "execution_count": 17,
   "metadata": {},
   "outputs": [
    {
     "name": "stdout",
     "output_type": "stream",
     "text": [
      "['drei', 'vier', 'fünf']\n",
      "['eins', 'zwei', 'drei', 'vier']\n",
      "['eins', 'zwei', 'drei', 'vier']\n",
      "['vier', 'fünf', 'sechs']\n",
      "['vier', 'fünf', 'sechs', 'sieben']\n",
      "['eins', 'zwei', 'drei', 'vier', 'fünf', 'sechs', 'sieben']\n",
      "['eins', 'drei', 'fünf', 'sieben']\n",
      "['zwei', 'fünf']\n"
     ]
    }
   ],
   "source": [
    "items_2 = [\"eins\", \"zwei\", \"drei\", \"vier\", \"fünf\", \"sechs\", \"sieben\"]\n",
    "\n",
    "print(items_2[2:5])\n",
    "print(items_2[0:4])\n",
    "print(items_2[:4])\n",
    "print(items_2[3:-1])\n",
    "print(items_2[3:])\n",
    "print(items_2[:])\n",
    "print(items_2[::2])\n",
    "print(items_2[1:5:3])"
   ]
  },
  {
   "cell_type": "markdown",
   "metadata": {},
   "source": [
    "Listen in Python sind **extrem flexible** Datenstrukturen. Grundsätzlich kann ich jede Art von Objekt auch in eine Liste packen (selbst wiederum Listen oder ganze Funktionen). Ausserdem ist es ein Leichtes, neue Objekte hinzuzufügen, Objekte an Ort und Stelle zu ändern, Onjekte zu löschen und auch die Elemente einer Liste zu sortieren."
   ]
  },
  {
   "cell_type": "code",
   "execution_count": null,
   "metadata": {},
   "outputs": [],
   "source": []
  },
  {
   "cell_type": "markdown",
   "metadata": {},
   "source": [
    "### Tupel"
   ]
  },
  {
   "cell_type": "markdown",
   "metadata": {},
   "source": [
    "### Dictionaries"
   ]
  },
  {
   "cell_type": "markdown",
   "metadata": {},
   "source": [
    "## Kontrollstrukturen"
   ]
  },
  {
   "cell_type": "markdown",
   "metadata": {},
   "source": [
    "### Verzweigungen (if ... else ...)"
   ]
  },
  {
   "cell_type": "markdown",
   "metadata": {},
   "source": [
    "### Schleifen (while und for)"
   ]
  },
  {
   "cell_type": "markdown",
   "metadata": {},
   "source": [
    "### Beispiel: die Elchpopulation\n",
    "\n",
    "Ich möchte mit einem kleinen Rätsel, das Ihnen z.B. als statistisch arbeitende Biolog*in unterkommen könnte, weitere basale Python Konzepte erklären.\n",
    "\n",
    "Stellen Sie sich vor, Sie arbeiten an der Erforschung einer Elchpopulation in den nördlichen Regionen Schwedens. Um die einzelnen Tiere zu tracken, sollen Ihnen kleine Sender schmerzfrei implantiert werden. Sie schätzen die Population auf 1.000 Tiere. Aus dieser Population werden 50 Tiere völlig zufällig eingefangen, gechipped und wieder freigelassen. Nach ca. einem halben Jahr werden wieder 50 Tiere völlig zufällig eingefangen. Wie hoch ist die Wahrscheinlichkeit, dass genau $k$ Tiere beim zweiten Mal dabei sind, die schon gechipped waren?\n",
    "\n",
    "Sie kramen kurz in Ihrem Gedächtnis, was Sie über Kombinatorik in Ihrer Vorlesung Wahrscheinlichkeitstheorie gelernt hatten und folgern, dass folgende Formel korrekt sein müsste: $$\\frac{\\binom{n}{k}\\cdot\\binom{N-n}{m-k}}{\\binom{N}{m}},$$ mit $k\\le n$ und $m-k \\le N-n$, wobei $N$, die Populationsgröße, $n$ die Anzahl der zuerst gechippten Elche und $m$ die Anzahl der erneut eingefangen ist. Diese Funktion nennt man auch eine [**hypergeometrische Verteilung**](https://de.wikipedia.org/wiki/Hypergeometrische_Verteilung).\n",
    "\n",
    "Machen wir uns noch kurz klar, wie diese vielen *Binomialkoeffizienten* in der Formel berechnet werden können. Hinter $\\binom{n}{k}$, sprich \"aus $n$ wähle $k$\", oder \"$n$ über $k$\" steckt folgende Formel: $\\frac{n!}{k!\\cdot (n-k)!}$, wobei $n!$ (sprich: \"$n$ Fakultät\") gleich $n \\cdot (n-1) \\cdot (n - 2) \\cdot \\dots \\cdot(n - (n - 1))$.\n",
    "\n",
    "Mit diesem Wissen können wir nun ein kleines Pythonprogramm schreiben, das uns $k$ berechnet."
   ]
  },
  {
   "cell_type": "markdown",
   "metadata": {},
   "source": [
    "### Funktion für die Berechnung der Fakultät erstellen\n",
    "\n",
    "Zuerst brauchen wir eine Funktion, mit der wir die Fakultät ausrechnen können. Funktionen in Python werden mit dem *Keyword* `def` eingeleitet, gefolgt von einem *Namen* für die Funktion, sowie einer Liste mit optionalen Parametern in runden Klammern, die wir der Funktion übergeben wollen, gefolgt von einem Doppelpunkt, der den *Funktionskörper* einleitet."
   ]
  },
  {
   "cell_type": "code",
   "execution_count": null,
   "metadata": {
    "jupyter": {
     "outputs_hidden": false
    },
    "pycharm": {
     "name": "#%%\n"
    }
   },
   "outputs": [],
   "source": [
    "# eine Beispielfunktion\n",
    "\n",
    "def beispiel(n, m):\n",
    "    pass"
   ]
  },
  {
   "cell_type": "markdown",
   "metadata": {},
   "source": [
    "# Module"
   ]
  }
 ],
 "metadata": {
  "kernelspec": {
   "display_name": "Python 3 (ipykernel)",
   "language": "python",
   "name": "python3"
  },
  "language_info": {
   "codemirror_mode": {
    "name": "ipython",
    "version": 3
   },
   "file_extension": ".py",
   "mimetype": "text/x-python",
   "name": "python",
   "nbconvert_exporter": "python",
   "pygments_lexer": "ipython3",
   "version": "3.9.12"
  },
  "toc": {
   "base_numbering": 1,
   "nav_menu": {},
   "number_sections": true,
   "sideBar": true,
   "skip_h1_title": false,
   "title_cell": "Table of Contents",
   "title_sidebar": "Contents",
   "toc_cell": false,
   "toc_position": {
    "height": "calc(100% - 180px)",
    "left": "10px",
    "top": "150px",
    "width": "251.719px"
   },
   "toc_section_display": true,
   "toc_window_display": true
  }
 },
 "nbformat": 4,
 "nbformat_minor": 4
}
