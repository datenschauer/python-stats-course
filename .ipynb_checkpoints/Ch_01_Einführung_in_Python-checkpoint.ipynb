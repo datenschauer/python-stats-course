{
 "cells": [
  {
   "cell_type": "markdown",
   "metadata": {},
   "source": [
    "# Einleitung\n",
    "\n",
    "Dieser Kurs soll in die Statstik und Datenanalyse mit Python einführen. Sie lernen, wie Sie typische statistische Fragestellungen mit Python bearbeiten können und lernen das nötige Handwerkzeug, sprich die dafür nötigen Pakete (Module) und Funktionen kennen. Inhalt dieses Kurses sind vor allem das Einlesen und die Manipulation von Daten, die Visualisierung und deskriptive Beschreibung der Daten mit Hilfe verschiedener Plots, sowie statistischer Kennwerte. Des Weiteren werden wir uns in die Inferenzstatistik, mit Hilfe von Konfidenzintervallen, Hypothesentests und Varianzanalysen vorwagen.\n",
    "\n",
    "## Warum Python?\n",
    "\n",
    "Für die komputationale Bearbeitung wissenschaftlicher Probleme (vor allem im numerischen, mathematischen und statistischen Bereich) gibt es, so meint man, eigentlich mit [Matlab](https://de.mathworks.com/products/matlab.html) und der [OpenSource](https://de.wikipedia.org/wiki/Open_Source) Software [R](https://www.r-project.org/) ausreichend gute Möglichkeiten. Gerade im akademischen Umfeld, vor allem in den Sozialwissenschaften aber auch anderen Bereichen, in denen statistische Software eine wichtige Rolle spielt, hat sich R weitestgehend durchgesetzt. Die meisten wissenschaftlichen Beiträge in diesem Bereich werden in R-Pakete \"gegossen\" und können von der Community sofort eingesetzt werden. *Wieso also noch Python einsetzen?*\n",
    "\n",
    "Vorweg sollte man sagen: man *muss* Python natürlich nicht einsetzen und in den meisten mathematischen und statistischen Einsatzgebieten ist es nicht besser oder schlechter als R oder andere Alternativen.\n",
    "\n",
    "Zuerst hat vieles mit Vorlieben und Gewohnheit zu tun. Python ist eine *multiparadigmatische* Programmiersprache (Sie können in Python prozeduralen, objektorientierten und funktionalen Code schreiben), die für sehr viele Zwecke eingesetzt werden kann: Automatisierung und Skripting im Server Bereich, Backend Webentwicklung, GUI Programmierung, IoT-Geräte, mobile Apps und vor allem im Bereich Data Science und Deep Learning. Desweiteren hat Python unter anderem folgende Vorteile gegenüber manch anderen Programmiersprachen:\n",
    "- Sie ist dazu entworfen worden, um leicht lesbar zu sein und einen guten Programmierstil von Anfang an zu erlernen.\n",
    "- Sie ist auf leichte Erlernbarkeit ausgelegt (das macht sie auch zur Sprache der Wahl bei den meisten Programmiereinführungskursen)\n",
    "- Sie hat ein sehr umfangreiches und tiefes Ökosystem (Auf [PyPi](https://pypi.org/) gibt es kaum ein Modul für ein Problem, das noch nicht gelöst wurde).\n",
    "- Man kann mit ihr erheblich umfangreiche Aufgaben erledigen mit einem minimalen Aufwand.\n",
    "- Durch ihre Popularität gibt es eine enorm große und sehr hilfsbereite Community.\n",
    "\n",
    "Und genau dies sind die Hauptgründe, sich für Python auch in diesem Bereich zu entscheiden. Mit Python hat man eine Art Schweizer Taschenmesser, dass sich in fast allen IT Bereichen mühelos einsetzen lässt. Vor allem in der Industrie, außerhalb des akademischen Bereichs ist dies ein wichtiger Grund, weshalb Python vorwiegend eingesetzt wird.\n",
    "\n",
    "## Voraussetzungen\n",
    "\n",
    "Dies ist keine Einführung in die Statistik! Die im Kurs behandelten statistischen Konzepte sollten Ihnen zumindest ein Begriff sein. Auch ist es sehr hilfreich, wenn Sie schon einmal programmiert haben (z.B. in R) oder gar einen Einführungskurs in Python gemacht haben.\n",
    "\n",
    "## Überblick über den Kurs:\n",
    "\n",
    "- Die Mutter aller wissenschaftlichen Python Module: *NumPy*\n",
    "- Daten Visualisieren: erste Schritte mit *Matplotlib*\n",
    "- Daten einlesen und manipulieren mit *Pandas*\n",
    "- Deskriptive und Inferenzstatistik mit *SciPy*\n",
    "- Weitere Konzepte"
   ]
  },
  {
   "cell_type": "markdown",
   "metadata": {
    "pycharm": {
     "name": "#%% md\n"
    }
   },
   "source": [
    "# Kurze Einführung in Python\n",
    "\n",
    "Diese kurze Einführung ersetzt nicht eine ordentliche Auseinandersetzung und umfassendere Einführung in Python, wie Sie sie z.B. von mir [hier](https://datenschauer.de/pythonkurs) finden können. Ich möchte aber dennoch versuchen, Ihnen die wichtigsten Programmierkonzepte in Python näherzubringen, damit Sie die nachfolgenden Kapitel verstehen können."
   ]
  },
  {
   "cell_type": "markdown",
   "metadata": {},
   "source": [
    "## einfachste Konzepte\n",
    "\n",
    "Beginnen wir mit den wichtigsten Basisfunktionalitäten: Variablen, Zahlen, Operatoren, Strings, eingebaute Funktionen und Methoden."
   ]
  },
  {
   "cell_type": "markdown",
   "metadata": {
    "pycharm": {
     "name": "#%% md\n"
    }
   },
   "source": [
    "### Zahlen und Operatoren\n",
    "\n",
    "Python kann von Haus aus grundständige Rechenoperationen bewerkstelligen. Dabei stehen ihm Ganzahltypen `int` und Gleitkommazahlen `float` zur Verfügung."
   ]
  },
  {
   "cell_type": "code",
   "execution_count": 4,
   "metadata": {
    "jupyter": {
     "outputs_hidden": false
    },
    "pycharm": {
     "name": "#%%\n"
    }
   },
   "outputs": [
    {
     "data": {
      "text/plain": [
       "22"
      ]
     },
     "execution_count": 4,
     "metadata": {},
     "output_type": "execute_result"
    }
   ],
   "source": [
    "# Addition\n",
    "5 + 17"
   ]
  },
  {
   "cell_type": "code",
   "execution_count": 5,
   "metadata": {
    "jupyter": {
     "outputs_hidden": false
    },
    "pycharm": {
     "name": "#%%\n"
    }
   },
   "outputs": [
    {
     "data": {
      "text/plain": [
       "-416"
      ]
     },
     "execution_count": 5,
     "metadata": {},
     "output_type": "execute_result"
    }
   ],
   "source": [
    "# Subtraktion\n",
    "8967 - 9383"
   ]
  },
  {
   "cell_type": "code",
   "execution_count": 6,
   "metadata": {
    "jupyter": {
     "outputs_hidden": false
    },
    "pycharm": {
     "name": "#%%\n"
    }
   },
   "outputs": [
    {
     "data": {
      "text/plain": [
       "5070"
      ]
     },
     "execution_count": 6,
     "metadata": {},
     "output_type": "execute_result"
    }
   ],
   "source": [
    "# Multiplikation\n",
    "78 * 65"
   ]
  },
  {
   "cell_type": "code",
   "execution_count": 7,
   "metadata": {
    "jupyter": {
     "outputs_hidden": false
    },
    "pycharm": {
     "name": "#%%\n"
    }
   },
   "outputs": [
    {
     "data": {
      "text/plain": [
       "9.0"
      ]
     },
     "execution_count": 7,
     "metadata": {},
     "output_type": "execute_result"
    }
   ],
   "source": [
    "# Division gibt immer eine Gleitkommazahl zurück!\n",
    "81 / 9"
   ]
  },
  {
   "cell_type": "code",
   "execution_count": 8,
   "metadata": {
    "jupyter": {
     "outputs_hidden": false
    },
    "pycharm": {
     "name": "#%%\n"
    }
   },
   "outputs": [
    {
     "data": {
      "text/plain": [
       "8.539728332728"
      ]
     },
     "execution_count": 8,
     "metadata": {},
     "output_type": "execute_result"
    }
   ],
   "source": [
    "# Dezimalzahlen mit einem \"Punkt\" als Dezimaltrenner!\n",
    "3.1415926 * 2.71828"
   ]
  },
  {
   "cell_type": "code",
   "execution_count": 9,
   "metadata": {
    "jupyter": {
     "outputs_hidden": false
    },
    "pycharm": {
     "name": "#%%\n"
    }
   },
   "outputs": [
    {
     "data": {
      "text/plain": [
       "256"
      ]
     },
     "execution_count": 9,
     "metadata": {},
     "output_type": "execute_result"
    }
   ],
   "source": [
    "# Potenzen\n",
    "2 ** 8"
   ]
  },
  {
   "cell_type": "code",
   "execution_count": 12,
   "metadata": {
    "jupyter": {
     "outputs_hidden": false
    },
    "pycharm": {
     "name": "#%%\n"
    }
   },
   "outputs": [
    {
     "data": {
      "text/plain": [
       "2"
      ]
     },
     "execution_count": 12,
     "metadata": {},
     "output_type": "execute_result"
    }
   ],
   "source": [
    "# Modulo Operator (Berechnung des Rests)\n",
    "92 % 5"
   ]
  },
  {
   "cell_type": "code",
   "execution_count": 14,
   "metadata": {
    "jupyter": {
     "outputs_hidden": false
    },
    "pycharm": {
     "name": "#%%\n"
    }
   },
   "outputs": [
    {
     "data": {
      "text/plain": [
       "18"
      ]
     },
     "execution_count": 14,
     "metadata": {},
     "output_type": "execute_result"
    }
   ],
   "source": [
    "# Abrundungsfunktion (floor division)\n",
    "92 // 5 # 92 / 5 -> 18.4"
   ]
  },
  {
   "cell_type": "markdown",
   "metadata": {},
   "source": [
    "Python kennt zwar so etwas wie eine \"Punkt-vor-Strich-Rechnung\", aber für komplexere Berechnungen und der Übersicht halber kann man Klammern verwenden."
   ]
  },
  {
   "cell_type": "code",
   "execution_count": 15,
   "metadata": {
    "jupyter": {
     "outputs_hidden": false
    },
    "pycharm": {
     "name": "#%%\n"
    }
   },
   "outputs": [
    {
     "data": {
      "text/plain": [
       "1.3846153846153846"
      ]
     },
     "execution_count": 15,
     "metadata": {},
     "output_type": "execute_result"
    }
   ],
   "source": [
    "(90 / (67 - (3 ** 2) // 4))"
   ]
  },
  {
   "cell_type": "markdown",
   "metadata": {},
   "source": [
    "Neben diesen mathematischen Operatoren gibt es natürlich auch noch logische Operatoren, die einen Wahrheitswert `True` oder `False` zurück geben. Diese Operatoren sind die Vergleichsoperatoren (`==, <, >, <=, >=`), sowie die Operatoren zur logischen Verknüpfung (`and, or, not`)."
   ]
  },
  {
   "cell_type": "code",
   "execution_count": 17,
   "metadata": {
    "jupyter": {
     "outputs_hidden": false
    },
    "pycharm": {
     "name": "#%%\n"
    }
   },
   "outputs": [
    {
     "data": {
      "text/plain": [
       "True"
      ]
     },
     "execution_count": 17,
     "metadata": {},
     "output_type": "execute_result"
    }
   ],
   "source": [
    "not ((30 > 45) and ((12 / 3) == 4 or 5 <= 12))"
   ]
  },
  {
   "cell_type": "markdown",
   "metadata": {
    "pycharm": {
     "name": "#%% md\n"
    }
   },
   "source": [
    "### Variablen\n",
    "\n",
    "Variablen werden mit einem Istgleich-Zeichen `=` instantiiert und initialisiert in einem. Der Name einer Variablen kann dabei jedes ASCII Zeichen annehmen, muss aber mit einem Buchstaben oder einem Unterstrich `_` beginnen. Mit der `print()` Funktion können Ausdrücke am Bildschirm ausgegeben werden."
   ]
  },
  {
   "cell_type": "code",
   "execution_count": 3,
   "metadata": {
    "jupyter": {
     "outputs_hidden": false
    },
    "pycharm": {
     "name": "#%%\n"
    }
   },
   "outputs": [
    {
     "data": {
      "text/plain": [
       "5"
      ]
     },
     "execution_count": 3,
     "metadata": {},
     "output_type": "execute_result"
    }
   ],
   "source": [
    "meine_variable = 5\n",
    "\n",
    "meine_variable"
   ]
  },
  {
   "cell_type": "code",
   "execution_count": 19,
   "metadata": {
    "jupyter": {
     "outputs_hidden": false
    },
    "pycharm": {
     "name": "#%%\n"
    }
   },
   "outputs": [
    {
     "name": "stdout",
     "output_type": "stream",
     "text": [
      "25 25\n"
     ]
    }
   ],
   "source": [
    "x = 8\n",
    "y = 17\n",
    "m = x + y\n",
    "print(x + y, m)"
   ]
  },
  {
   "cell_type": "markdown",
   "metadata": {},
   "source": [
    "## Funktionen"
   ]
  },
  {
   "cell_type": "markdown",
   "metadata": {},
   "source": [
    "Funktionen können über ihren Namen, gefolgt von runden klammern und eventuellen Argumenten (= Parametern) aufgerufen werden: `funktionsname(arg1, arg2)`\n",
    "\n",
    "Die Print-Funktion haben wir beispielsweise schon kennengelernt. Sie hat den Funktionsnamen \"print\" und nimmt als Argumente ein oder mehrere Strings entgegen, als Zeichenketten, die dann in der Standardausgabe (meist die Konsole oder in Jupyter Notebooks der Bereich unterhalb der Zelle) ausgegeben werden. Als Argumente dienen aber nicht nur direkte Strings, sondern auch alle Objekte und Rückgabewerte, die eine String Repräsentation haben."
   ]
  },
  {
   "cell_type": "code",
   "execution_count": 6,
   "metadata": {},
   "outputs": [
    {
     "name": "stdout",
     "output_type": "stream",
     "text": [
      "Hallo Welt!\n",
      "Hallo Welt !\n"
     ]
    }
   ],
   "source": [
    "print(\"Hallo Welt!\")\n",
    "print(\"Hallo\", \"Welt\", \"!\")"
   ]
  },
  {
   "cell_type": "code",
   "execution_count": 9,
   "metadata": {},
   "outputs": [
    {
     "data": {
      "text/plain": [
       "9"
      ]
     },
     "execution_count": 9,
     "metadata": {},
     "output_type": "execute_result"
    }
   ],
   "source": [
    "# Weitere Beispiele von Funktionen:\n",
    "\n",
    "max(4, 3, 9, 1) # gib das gröẞte Element zurück"
   ]
  },
  {
   "cell_type": "markdown",
   "metadata": {},
   "source": [
    "```\n",
    "    max       (4, 3, 9, 1)\n",
    "     |           |    |\n",
    "Funktionsname   Argumente\n",
    "```"
   ]
  },
  {
   "cell_type": "code",
   "execution_count": 8,
   "metadata": {},
   "outputs": [
    {
     "data": {
      "text/plain": [
       "11"
      ]
     },
     "execution_count": 8,
     "metadata": {},
     "output_type": "execute_result"
    }
   ],
   "source": [
    "len(\"Hallo Welt!\") # gib die Länge eines Objektes zurück"
   ]
  },
  {
   "cell_type": "markdown",
   "metadata": {},
   "source": [
    "Funktionen lassen sich auch ineinander \"verschachteln\". Der Aufruf und die Rückgabe der einzelnen Funktionen erfolgt dann von \"innen nach auẞen\"."
   ]
  },
  {
   "cell_type": "code",
   "execution_count": 11,
   "metadata": {},
   "outputs": [
    {
     "name": "stdout",
     "output_type": "stream",
     "text": [
      "5\n"
     ]
    }
   ],
   "source": [
    "print(max(len(\"Hallo\"), len(\"Welt\")))"
   ]
  },
  {
   "cell_type": "markdown",
   "metadata": {},
   "source": [
    "```\n",
    "print( max ( len(\"Hallo\"), len(\"Welt) ))\n",
    " |      |      |           |\n",
    " |       \\     5           4 \n",
    " |        \\    |          /\n",
    " |       max  (5,       4)\n",
    "  \\        |\n",
    "   \\       |\n",
    "    print (5)\n",
    "      |\n",
    "      5\n",
    "```"
   ]
  },
  {
   "cell_type": "markdown",
   "metadata": {},
   "source": [
    "## Datenstrukturen"
   ]
  },
  {
   "cell_type": "markdown",
   "metadata": {},
   "source": [
    "### Listen\n",
    "\n",
    "Eine Liste legt man über Verwendung eckiger Klammern „[]“ an. Zwichen diese Klammern schreibt man durch ein Komma separiert die einzelnen Objekte, die in dieser Liste gespeichert werden sollen. Unsere erste Liste, die die Werte der gegebenen Antworten des ersten Items enthält, könnte demnach so aussehen:"
   ]
  },
  {
   "cell_type": "code",
   "execution_count": 1,
   "metadata": {},
   "outputs": [],
   "source": [
    "item_1 = [3, 1, 1, 3, 1, 1, 5, 2, 2, 3, 4, 3, 5, 3, 5, 1, 5, 4, 4, 4]"
   ]
  },
  {
   "cell_type": "markdown",
   "metadata": {},
   "source": [
    "Über den Klammernoperator `[]` kann man auf die eizelenen Werte (Indices) einer List zugreifen. Dabei sind Listen, wie auch Tupel *iterierbare* Objekte in Python.\n",
    "\n",
    "Jedes iterierbare Objekt lässt sich der Reihe nach in einzelne Elemente zerlegen, die von vorne nach hinten über einen sog. Index durchnummeriert werden und über diese Nummern auch angesprochen werden können. Ähnlich wie bei einem langen Zug bei dem man vorne bei der Lok zu zählen beginnt und jedem weiteren Waggon eine Nummer n+1 gibt. Die Lok wäre der Index 0, der erste Waggon der Index 1, der zweite Waggon der Index 2 usw., bis zum letzten Waggon. Von vorne nach hinten gezählt ist aber die Lok das erste Bauteil, der erste Waggon das zweite usw.\n",
    "\n",
    "![Index Zug](./img/index_zug.png)\n",
    "\n",
    "Genauso zählt auch Python die Elemente eines Iterable durch. Das erste Element hat immer den Index 0, das zweite den Index 1 und das letzte hat den Index „Anzahl der Elemente minus 1“.\n",
    "\n",
    "Um einen Index auszuwählen, bzw. auf ihn zuzugreifen, benutzt man den Klammer-Operator: zwei eckige Klammern „[]“, die hinten an das Iterable angesetzt werden. Die Syntax sieht folgendermaßen aus: `iterable[<index>]`."
   ]
  },
  {
   "cell_type": "code",
   "execution_count": 5,
   "metadata": {},
   "outputs": [
    {
     "name": "stdout",
     "output_type": "stream",
     "text": [
      "[3, 1, 1, 3, 1, 1, 5, 2, 2, 3, 4, 3, 5, 3, 5, 1, 5, 4, 4, 4]\n",
      "3\n",
      "1\n",
      "4\n"
     ]
    }
   ],
   "source": [
    "print(item_1)\n",
    "print(item_1[0]) # das erste Element\n",
    "print(item_1[1]) # das zweite Element\n",
    "print(item_1[10]) # das elfte Element usw."
   ]
  },
  {
   "cell_type": "markdown",
   "metadata": {},
   "source": [
    "Diese Index Syntax mit den eckigen Klammern erlaubt es sogar, „von Hinten“ anzufangen zu zählen. Das letzte Element hätte somit den Index -1, das zweitletzte den Index -2 usw."
   ]
  },
  {
   "cell_type": "code",
   "execution_count": 13,
   "metadata": {},
   "outputs": [
    {
     "name": "stdout",
     "output_type": "stream",
     "text": [
      "4\n",
      "1\n"
     ]
    }
   ],
   "source": [
    "print(item_1[-1]) # das letzte Element\n",
    "print(item_1[-5]) # das fünfte Element von \"hinten\""
   ]
  },
  {
   "cell_type": "markdown",
   "metadata": {},
   "source": [
    "Man kann auch Teile einer Liste \"herausschneiden\". Dies nennt man *Slicing*. Das Slicing erfolgt auch über den `[]`-Operator und hat folgende Syntax:\n",
    "```\n",
    "liste[ start : ende : schritte ]\n",
    "```\n",
    "**Achtung:** Bei Start und Ende handelt es sich um ein *halboffenes Intervall*. Der Start-Index ist immer inkludiert, der End-Index aber ausgeschlossen!\n",
    "\n",
    "Man kann je nachdem Start, Ende und Schritte auch weggelassen:\n",
    "- Lässt man Start weg, wird bei Index 0, also dem ersten Element begonnen.\n",
    "- Lässt man Ende weg, so wird bis zum letzten Index + 1, bzw. `[-1]`, also dem letzten Element gegangen.\n",
    "- Lässt man die Schritte weg, so wird \"1\" genommen, also jedes Element, ohne eines zu überspringen.\n",
    "\n",
    "Anbei ein paar Beispiele."
   ]
  },
  {
   "cell_type": "code",
   "execution_count": 6,
   "metadata": {},
   "outputs": [
    {
     "name": "stdout",
     "output_type": "stream",
     "text": [
      "['drei', 'vier', 'fünf']\n",
      "['eins', 'zwei', 'drei', 'vier']\n",
      "['eins', 'zwei', 'drei', 'vier']\n",
      "['vier', 'fünf', 'sechs']\n",
      "['vier', 'fünf', 'sechs', 'sieben']\n",
      "['eins', 'zwei', 'drei', 'vier', 'fünf', 'sechs', 'sieben']\n",
      "['eins', 'drei', 'fünf', 'sieben']\n",
      "['zwei', 'fünf']\n"
     ]
    }
   ],
   "source": [
    "items_2 = [\"eins\", \"zwei\", \"drei\", \"vier\", \"fünf\", \"sechs\", \"sieben\"]\n",
    "\n",
    "print(items_2[2:5])\n",
    "print(items_2[0:4])\n",
    "print(items_2[:4])\n",
    "print(items_2[3:-1])\n",
    "print(items_2[3:])\n",
    "print(items_2[:])\n",
    "print(items_2[::2])\n",
    "print(items_2[1:5:3])"
   ]
  },
  {
   "cell_type": "markdown",
   "metadata": {},
   "source": [
    "Listen in Python sind **extrem flexible** Datenstrukturen. Grundsätzlich kann man jede Art von Objekt auch in eine Liste packen (selbst wiederum Listen oder ganze Funktionen). Ausserdem ist es ein Leichtes, neue Objekte hinzuzufügen, Objekte an Ort und Stelle zu ändern, Onjekte zu löschen und auch die Elemente einer Liste zu sortieren.\n",
    "\n",
    "Halten Sie sich folgende Beispiele vor Augen."
   ]
  },
  {
   "cell_type": "code",
   "execution_count": 1,
   "metadata": {},
   "outputs": [],
   "source": [
    "multilist = [\"eins\", 1, sum, True]"
   ]
  },
  {
   "cell_type": "markdown",
   "metadata": {},
   "source": [
    "Können Sie sich folgenden Ausdruck erklären?"
   ]
  },
  {
   "cell_type": "code",
   "execution_count": 4,
   "metadata": {},
   "outputs": [
    {
     "data": {
      "text/plain": [
       "2"
      ]
     },
     "execution_count": 4,
     "metadata": {},
     "output_type": "execute_result"
    }
   ],
   "source": [
    "multilist[2]([multilist[1], multilist[-1]])"
   ]
  },
  {
   "cell_type": "markdown",
   "metadata": {},
   "source": [
    "Das dritte Element von Multilist ist die Funktion `sum()`. Über die runden Klammern geben wir ihr ein Argument mit, das ein *Iterable* ist. Eine Liste ist zum Beispiel solch ein Iterable, also eine Objekt, über das *iteriert* werden kann, über das man also Schritt für Schritt hinweg gehen kann und jedes Element nacheinander einzeln zurückbekommt. Wir bilden also eine Liste als Argument mit den eckigen Klammern und stecken die zwei Elemente `multilist[1]` (das zweite Element, die Zahl \"1\") und `multilist[-1]` (das letzte Element, der Wahrheitswert `True`) hinein. Da der Wahrheitswert `True` immer auch als Zahl \"1\" interpretiert wird (genauso wie `False` immer als \"0\") ergibt die Summe von \"1\" und \"1\" eben \"2\"."
   ]
  },
  {
   "cell_type": "markdown",
   "metadata": {},
   "source": [
    "Listenelemente kann man durch Zuweisung auch sehr leicht ersetzen."
   ]
  },
  {
   "cell_type": "code",
   "execution_count": 7,
   "metadata": {},
   "outputs": [
    {
     "data": {
      "text/plain": [
       "['eins', 'zwei', 'neues Element', 'vier', 'fünf', 'sechs', 'sieben']"
      ]
     },
     "execution_count": 7,
     "metadata": {},
     "output_type": "execute_result"
    }
   ],
   "source": [
    "items_2[2] = \"neues Element\"\n",
    "\n",
    "items_2"
   ]
  },
  {
   "cell_type": "code",
   "execution_count": 8,
   "metadata": {},
   "outputs": [
    {
     "data": {
      "text/plain": [
       "['eins', 'zwei', 'neues Element', 'vier', 'neu', 'neu', 'neu']"
      ]
     },
     "execution_count": 8,
     "metadata": {},
     "output_type": "execute_result"
    }
   ],
   "source": [
    "items_2[4:] = [\"neu\"] * 3\n",
    "\n",
    "items_2"
   ]
  },
  {
   "cell_type": "markdown",
   "metadata": {},
   "source": [
    "#### Wichtige Listen Methoden"
   ]
  },
  {
   "cell_type": "markdown",
   "metadata": {},
   "source": [
    "Anhängen lassen sich neue Elemente mit der Methode `append()`."
   ]
  },
  {
   "cell_type": "code",
   "execution_count": 9,
   "metadata": {},
   "outputs": [
    {
     "data": {
      "text/plain": [
       "['eins',\n",
       " 'zwei',\n",
       " 'neues Element',\n",
       " 'vier',\n",
       " 'neu',\n",
       " 'neu',\n",
       " 'neu',\n",
       " 'wurde gerade angehängt']"
      ]
     },
     "execution_count": 9,
     "metadata": {},
     "output_type": "execute_result"
    }
   ],
   "source": [
    "items_2.append(\"wurde gerade angehängt\")\n",
    "\n",
    "items_2"
   ]
  },
  {
   "cell_type": "markdown",
   "metadata": {},
   "source": [
    "Besteht eine Liste ausschließlich aus Elemente, die sich untereinander nach Größe vergleichen lassen, so kann man diese Liste auch sortieren. Dazu können die Funktion `sorted()` und die Methode `.sort()` benutzt werden.\n",
    "\n",
    "Den Unterschied beider Funktionen sollte dieser Code klar machen:"
   ]
  },
  {
   "cell_type": "code",
   "execution_count": 22,
   "metadata": {},
   "outputs": [
    {
     "name": "stdout",
     "output_type": "stream",
     "text": [
      "[1, 2, 3, 4, 7, 8]\n",
      "[3, 7, 2, 8, 1, 4]\n",
      "[1, 2, 3, 4, 7, 8]\n"
     ]
    }
   ],
   "source": [
    "ls = [3, 7, 2, 8, 1, 4]\n",
    "\n",
    "print(sorted(ls))\n",
    "\n",
    "print(ls)\n",
    "\n",
    "ls.sort()\n",
    "\n",
    "print(ls)"
   ]
  },
  {
   "cell_type": "markdown",
   "metadata": {},
   "source": [
    "Die Länge, also die Anzahl der Elemente einer Liste bekommt man über die Funktion `len()`."
   ]
  },
  {
   "cell_type": "code",
   "execution_count": 23,
   "metadata": {},
   "outputs": [
    {
     "data": {
      "text/plain": [
       "6"
      ]
     },
     "execution_count": 23,
     "metadata": {},
     "output_type": "execute_result"
    }
   ],
   "source": [
    "len(ls)"
   ]
  },
  {
   "cell_type": "markdown",
   "metadata": {},
   "source": [
    "#### Mehrere Dimensionen"
   ]
  },
  {
   "cell_type": "markdown",
   "metadata": {},
   "source": [
    "Wenn man aber sämtliche Python Objekte in eine Liste packen kann, so kann man auch Listen selbst wieder in Listen packen. Wenn wir Listen miteinander verschachteln, so erreichen wir höhere Dimensionen."
   ]
  },
  {
   "cell_type": "code",
   "execution_count": 18,
   "metadata": {},
   "outputs": [
    {
     "data": {
      "text/plain": [
       "[['00', '01', '02', '03'], ['10', '11', '12', '13'], ['20', '21', '22', '23']]"
      ]
     },
     "execution_count": 18,
     "metadata": {},
     "output_type": "execute_result"
    }
   ],
   "source": [
    "listen = [\n",
    "    [\"00\", \"01\", \"02\", \"03\"],\n",
    "    [\"10\", \"11\", \"12\", \"13\"],\n",
    "    [\"20\", \"21\", \"22\", \"23\"]\n",
    "]\n",
    "\n",
    "listen"
   ]
  },
  {
   "cell_type": "markdown",
   "metadata": {},
   "source": [
    "Beim Zugriff auf diese verschachtelten Listen müssen Sie pro Dimension eine Eckige Klammer eingeben. Schauen wir uns das kurz an einem Beispiel an:"
   ]
  },
  {
   "cell_type": "code",
   "execution_count": 19,
   "metadata": {},
   "outputs": [
    {
     "name": "stdout",
     "output_type": "stream",
     "text": [
      "01\n",
      "13\n",
      "20\n"
     ]
    }
   ],
   "source": [
    "print(listen[0][1])\n",
    "print(listen[1][3])\n",
    "print(listen[2][0])"
   ]
  },
  {
   "cell_type": "markdown",
   "metadata": {},
   "source": [
    "```\n",
    "      liste[0][1]\n",
    "            |  |\n",
    "            |  |\n",
    "            |  |\n",
    "           /    \\\n",
    "          /      \\\n",
    "         /        \\\n",
    "Index Liste =     Index Element =\n",
    "= Index Zeile     = Index Spalte\n",
    "```"
   ]
  },
  {
   "cell_type": "markdown",
   "metadata": {},
   "source": [
    "Das ganze können wir jetzt natürlich noch weiter treiben. Wir könnten Listen von Listen wieder in einer Liste zusammenfassen, was dann ein dreidimensionales Objekt ergeben würde.\n",
    "\n",
    "Hier wieder ein hoffentlich verständlicheres Beispiel:"
   ]
  },
  {
   "cell_type": "code",
   "execution_count": 20,
   "metadata": {},
   "outputs": [
    {
     "name": "stdout",
     "output_type": "stream",
     "text": [
      "101\n",
      "013\n",
      "220\n"
     ]
    }
   ],
   "source": [
    "listen = [\n",
    "    [[\"000\", \"001\", \"002\", \"003\"],\n",
    "     [\"010\", \"011\", \"012\", \"013\"],\n",
    "     [\"020\", \"021\", \"022\", \"023\"]],\n",
    "    [[\"100\", \"101\", \"102\", \"103\"],\n",
    "     [\"110\", \"111\", \"112\", \"113\"],\n",
    "     [\"120\", \"121\", \"122\", \"123\"]],\n",
    "    [[\"200\", \"201\", \"202\", \"203\"],\n",
    "     [\"210\", \"211\", \"212\", \"213\"],\n",
    "     [\"220\", \"221\", \"222\", \"223\"]],\n",
    "]\n",
    "print(listen[1][0][1])\n",
    "print(listen[0][1][3])\n",
    "print(listen[2][2][0])"
   ]
  },
  {
   "cell_type": "markdown",
   "metadata": {},
   "source": [
    "Sie können auch einfach an einen Zauberwürfel, bzw. Rubic’s Cube denken:\n",
    "\n",
    "Die einzelnen Schichten sind Gruppen von Listen (oder im Fall der Studie, die einzelnen Messzeitpunkte). Die einzelnen Zeilen sind die Listen von Elementen (in der Studie die gesammelten Codes eines Items). Die Spalten sind die einzelnen Elemente (bzw. in der Studie die Einzelcodes der Teilnehmer*innen).\n",
    "\n",
    "![Zauberwürfel](img/rubics_cube.png)"
   ]
  },
  {
   "cell_type": "markdown",
   "metadata": {},
   "source": [
    "Wenn Sie mathematisch denken, so ist eine Liste nur mit Elementen ein Vektor (oder eindimensionale Matrix), eine Liste mit weiteren Listen eine zweidimensionale Matrix, eine Liste mit ein oder mehreren zweidimensionalen Matrizen eine dreidimensionale Matrix und so weiter."
   ]
  },
  {
   "cell_type": "markdown",
   "metadata": {},
   "source": [
    "### Tupel"
   ]
  },
  {
   "cell_type": "markdown",
   "metadata": {},
   "source": [
    "Um es kurz zu machen: Tupel sind iterierbare Datenstrukturen wie Listen, nur dass sie nicht veränderlich sind (immutable). D.h. dass die Elemente nicht durch einen Zuweisungsoperator ersetzt werden können.\n",
    "\n",
    "Die Syntax verwendet runde Klammern statt eckigen: `(element, element, ...)`\n",
    "\n",
    "Ansonsten können Sie auf die Elemente eines Tupels genauso zugreifen, wie auf Listenelemente."
   ]
  },
  {
   "cell_type": "code",
   "execution_count": 21,
   "metadata": {},
   "outputs": [],
   "source": [
    "tupel = (2, \"vier\", 6, False, [3, 7, 9])"
   ]
  },
  {
   "cell_type": "code",
   "execution_count": 25,
   "metadata": {},
   "outputs": [
    {
     "name": "stdout",
     "output_type": "stream",
     "text": [
      "[3, 7, 9]\n",
      "('vier', False)\n",
      "5\n",
      "3\n"
     ]
    }
   ],
   "source": [
    "print(tupel[-1])\n",
    "print(tupel[1::2])\n",
    "print(len(tupel))\n",
    "print(len(tupel[-1]))"
   ]
  },
  {
   "cell_type": "markdown",
   "metadata": {},
   "source": [
    "### Dictionaries"
   ]
  },
  {
   "cell_type": "markdown",
   "metadata": {},
   "source": [
    "Die letzte wichtige Datenstruktur in Python sind sog. \"Schlüssel-Wert-Paare\", die in Python *Dictionaries* heißen.\n",
    "\n",
    "Die Syntax sieht wie folgt aus: `{ \"Schlüssel\" : Wert }` (**Achtung:** Der Schlüssel muss *hashable* sein, ist also meistens ein String oder ein Integer). \n",
    "\n",
    "Wie bei Listen und bei Tupeln auch, können in Dictionaries sämtliche Datentypen gespeichert werden."
   ]
  },
  {
   "cell_type": "code",
   "execution_count": 1,
   "metadata": {},
   "outputs": [],
   "source": [
    "my_dict = {1: \"Eins\", \"zwei\": \"Zwei\"}"
   ]
  },
  {
   "cell_type": "markdown",
   "metadata": {},
   "source": [
    "Auf die Elemente wird auch über den `[]` Operator zugegriffen; allerdings nicht über den Index wie bei Listen und Tupeln, sondern über den *Schlüssel*."
   ]
  },
  {
   "cell_type": "code",
   "execution_count": 2,
   "metadata": {},
   "outputs": [
    {
     "name": "stdout",
     "output_type": "stream",
     "text": [
      "Eins\n",
      "Zwei\n"
     ]
    }
   ],
   "source": [
    "print(my_dict[1])\n",
    "\n",
    "print(my_dict[\"zwei\"])"
   ]
  },
  {
   "cell_type": "markdown",
   "metadata": {},
   "source": [
    "Mit Dictionaries kann man sehr schön Objekte und komplexere Datenstrukturen abbilden."
   ]
  },
  {
   "cell_type": "code",
   "execution_count": 70,
   "metadata": {},
   "outputs": [],
   "source": [
    "dc_super_heroes = {\n",
    "   \"Superman\": {\n",
    "       \"real_name\": \"Clark Kent\",\n",
    "       \"alignment\": \"good\",\n",
    "       \"groups\": [\"Justice League\", \"Black Lantern Corps\"],\n",
    "       \"partnerships\": [\"Supergirl\", \"Superboy\", \"Batman\", \"Wonder Woman\"],\n",
    "       \"1st_appearance\": \"1938-04-18\",\n",
    "       \"is_active\": True\n",
    "   },\n",
    "    \"Batman\": {\n",
    "        \"real_name\": \"Bruce Wayne\",\n",
    "        \"alignment\": \"neutral\",\n",
    "        \"groups\": [\"Justice League\", \"Wayne Enterprises\", \"Outsiders\"],\n",
    "        \"partnerships\": [\"Robin\", \"Batgirl\", \"Superman\", \"Wonder Woman\", \"Cat Woman\", \"Jeff Gordon\"],\n",
    "        \"1st_appearane\": \"1939-05-30\",\n",
    "        \"is_active\": True\n",
    "    },\n",
    "    \"Wonder Woman\": {\n",
    "        \"real_name\": \"Diana Prince\",\n",
    "        \"alignment\": \"good\",\n",
    "        \"groups\": [\"Justice League\", \"Department of Metahuman\"],\n",
    "        \"partnerships\": [\"Wonder Girl\", \"Steve Trevor\", \"Artemis\", \"Superman\", \"Batman\"],\n",
    "        \"1st_appearance\": \"1941-10-21\",\n",
    "        \"is_active\": True\n",
    "    },\n",
    "    \"Flash\": {\n",
    "        \"real_name\": \"Barry Allen\",\n",
    "        \"alignment\": \"good\",\n",
    "        \"groups\": [\"Justice League\"],\n",
    "        \"partnerships\": [],\n",
    "        \"1st_appearance\": \"1940-01-01\",\n",
    "        \"is_active\": False\n",
    "    }\n",
    "}"
   ]
  },
  {
   "cell_type": "code",
   "execution_count": 5,
   "metadata": {},
   "outputs": [
    {
     "name": "stdout",
     "output_type": "stream",
     "text": [
      "['Supergirl', 'Superboy', 'Batman', 'Wonder Woman']\n",
      "False\n"
     ]
    }
   ],
   "source": [
    "print(dc_super_heroes[\"Superman\"][\"partnerships\"])\n",
    "\n",
    "print(\"Black Lantern Corps\" in dc_super_heroes[\"Batman\"][\"groups\"])"
   ]
  },
  {
   "cell_type": "code",
   "execution_count": 13,
   "metadata": {},
   "outputs": [
    {
     "name": "stdout",
     "output_type": "stream",
     "text": [
      "Time since first appearance: 30250 days, 10:35:53.793872.\n"
     ]
    }
   ],
   "source": [
    "import datetime\n",
    "\n",
    "first_flash = datetime.datetime.strptime(dc_super_heroes[\"Flash\"][\"1st_appearance\"], \"%Y-%M-%d\")\n",
    "today = datetime.datetime.today()\n",
    "\n",
    "print(f\"Time since first appearance: {today - first_flash}.\")"
   ]
  },
  {
   "cell_type": "code",
   "execution_count": 71,
   "metadata": {},
   "outputs": [
    {
     "name": "stdout",
     "output_type": "stream",
     "text": [
      "['Green Lantern']\n"
     ]
    }
   ],
   "source": [
    "dc_super_heroes[\"Flash\"][\"partnerships\"].append(\"Green Lantern\")\n",
    "\n",
    "print(dc_super_heroes[\"Flash\"][\"partnerships\"])"
   ]
  },
  {
   "cell_type": "code",
   "execution_count": 19,
   "metadata": {},
   "outputs": [
    {
     "name": "stdout",
     "output_type": "stream",
     "text": [
      "{'real_name': 'Barry Allen', 'alignment': 'good', 'groups': ['Justice League'], 'partnerships': ['Green Lantern', 'Green Lantern'], '1st_appearance': '1940-01-01', 'is_active': False, 'other_characters': ['Jay Garrick', 'Wally West', 'Bart Allen']}\n"
     ]
    }
   ],
   "source": [
    "dc_super_heroes[\"Flash\"][\"other_characters\"] = [\"Jay Garrick\", \"Wally West\", \"Bart Allen\"]\n",
    "\n",
    "print(dc_super_heroes[\"Flash\"])"
   ]
  },
  {
   "cell_type": "markdown",
   "metadata": {},
   "source": [
    "## Kontrollstrukturen"
   ]
  },
  {
   "cell_type": "markdown",
   "metadata": {},
   "source": [
    "### Verzweigungen (if ... else ...)"
   ]
  },
  {
   "cell_type": "markdown",
   "metadata": {},
   "source": [
    "Bedingungen prüfen und je nach Prüfung ein Programm in die eine oder andere Richtung laufen zu lassen ist ein zentrales Konzept der *imperativen Programmierung*, wie sie vor allem in *prozeduralen* und *objekt-orientierten* Softwaredesigns vorkommt.\n",
    "\n",
    "Ein Bedingungsblock wird in Python mit dem Schlüsselwort `if`, einer Prüfung, die `True` oder `False` ergeben muss und einem abschliessendem Doppelpunkt `:` eingeleitet.\n",
    "\n",
    "```\n",
    "if <Bedingung>:\n",
    "    # tu etwas\n",
    "    # tu noch mehr\n",
    "```\n",
    "\n",
    "Der Code, der ausgeführt werden soll, wenn eine Bedingung `True` ergibt, muss mit der gleichen Anzahl an Leerzeichen eingerückt werden (meistens 4)."
   ]
  },
  {
   "cell_type": "code",
   "execution_count": 21,
   "metadata": {},
   "outputs": [
    {
     "name": "stdout",
     "output_type": "stream",
     "text": [
      "'hallo' hat 5 Zeichen\n"
     ]
    }
   ],
   "source": [
    "if len(\"hallo\") == 5:\n",
    "    \n",
    "    print(\"'hallo' hat 5 Zeichen\")"
   ]
  },
  {
   "cell_type": "markdown",
   "metadata": {},
   "source": [
    "Wenn die Bedingung `False` ergibt, wird der Code innerhalb des Blocks natürlich nicht ausgeführt. Möchte man in diesem Fall aber dennoch einen \"alternativen\" Code ausführen, so muss man diesem in einem zweiten Block mit `else:` einleiten."
   ]
  },
  {
   "cell_type": "code",
   "execution_count": 22,
   "metadata": {},
   "outputs": [
    {
     "name": "stdout",
     "output_type": "stream",
     "text": [
      "'hallo' hat nicht 4 Zeichen\n"
     ]
    }
   ],
   "source": [
    "if len(\"hallo\") == 4:\n",
    "    print(\"'hallo' hat 4 Zeichen\")\n",
    "    \n",
    "else:\n",
    "    print(\"'hallo' hat nicht 4 Zeichen\")"
   ]
  },
  {
   "cell_type": "markdown",
   "metadata": {},
   "source": [
    "Möchte man weitere Bedingungen zwischen `if` und `else` prüfen, kann man weitere Blöcke mit `elif <Bedingung>:` einschieben."
   ]
  },
  {
   "cell_type": "code",
   "execution_count": 24,
   "metadata": {},
   "outputs": [
    {
     "name": "stdout",
     "output_type": "stream",
     "text": [
      "das Wort 'hallo' hat 5 Zeichen\n"
     ]
    }
   ],
   "source": [
    "word = \"hallo\"\n",
    "\n",
    "if len(word) == 4:\n",
    "    print(f\"das Wort '{word}' hat 4 Zeichen\")\n",
    "    \n",
    "elif len(word) == 5:\n",
    "    print(f\"das Wort '{word}' hat 5 Zeichen\")\n",
    "    \n",
    "else:\n",
    "    print(f\"das Wort '{word}' hat mehr als 5 Zeichen\")"
   ]
  },
  {
   "cell_type": "markdown",
   "metadata": {},
   "source": [
    "### Schleifen (while und for)"
   ]
  },
  {
   "cell_type": "markdown",
   "metadata": {},
   "source": [
    "Die `while` Schleife führt eine Anweisung so lange aus, so lange eine logische Bedingung wahr ergibt. Die Bedingung, die erfüllt sein muss, steht dabei nach dem Schlüsselwort `while`. Eingeleitet wird der Code, der dann ausgeführt werden soll wieder mit einem Doppelpunkt. Der While-Block selbst ist durch Einrückung gekennzeichnet. Ist der Compiler am Ende des While-Blocks angekommen, beginnt er wieder von vorne und prüft die Bedingung. Ist Sie wahr, wird der Code im While-Block wieder durchlaufen und ausgeführt, und so weiter, so lange, bis die logische Prüfung am Kopf der Schleife einmal `False` ergibt. Dann wird die Schleife übersprungen und der Code nach der Schleife ausgeführt."
   ]
  },
  {
   "cell_type": "code",
   "execution_count": 25,
   "metadata": {},
   "outputs": [
    {
     "name": "stdout",
     "output_type": "stream",
     "text": [
      "0\n",
      "1\n",
      "2\n",
      "3\n",
      "4\n"
     ]
    }
   ],
   "source": [
    "i = 0\n",
    "\n",
    "while i < 5:\n",
    "    print(i)\n",
    "    i += 1"
   ]
  },
  {
   "cell_type": "markdown",
   "metadata": {},
   "source": [
    "So kann man auch über den Index einer Datenstruktur *iterieren*:"
   ]
  },
  {
   "cell_type": "code",
   "execution_count": 27,
   "metadata": {},
   "outputs": [
    {
     "name": "stdout",
     "output_type": "stream",
     "text": [
      "Wonder Girl\n",
      "Steve Trevor\n",
      "Artemis\n",
      "Superman\n",
      "Batman\n"
     ]
    }
   ],
   "source": [
    "i = 0\n",
    "ww_partners = dc_super_heroes[\"Wonder Woman\"][\"partnerships\"]\n",
    "\n",
    "while i < len(ww_partners):\n",
    "    print(ww_partners[i])\n",
    "    i += 1"
   ]
  },
  {
   "cell_type": "markdown",
   "metadata": {},
   "source": [
    "Listen, Tupel und Strings sind in Python *iterierbare* Objekte. Um über die Elemente dieser Objekte zu iterieren, gibt es das Konstrukt einer *For-Schleife*.\n",
    "\n",
    "Sie wird mit dem Schlüsselwort `for` eingeleitet, worauf eine *temporäre Variable* folgt, die den Namen für jedes einzelne Element gibt; sodann das Schlüsselwort `in` und dann das iterierbar Objekt, gefolgt von einem Doppelpunkt `:`, der wie immer den Codeblock einleitet.\n",
    "\n",
    "```\n",
    "for <temp var> in <iter>:\n",
    "    #\n",
    "    # mache etwas mit <temp var>\n",
    "    #\n",
    "```"
   ]
  },
  {
   "cell_type": "code",
   "execution_count": 30,
   "metadata": {},
   "outputs": [
    {
     "name": "stdout",
     "output_type": "stream",
     "text": [
      "0\n",
      "1\n",
      "2\n",
      "3\n"
     ]
    }
   ],
   "source": [
    "my_list = [\"0\", True, 2, 3.0]\n",
    "\n",
    "for element in my_list:\n",
    "    \n",
    "    print(int(element))"
   ]
  },
  {
   "cell_type": "code",
   "execution_count": 31,
   "metadata": {},
   "outputs": [
    {
     "name": "stdout",
     "output_type": "stream",
     "text": [
      "Supermans eigentlicher Name: Clark Kent\n",
      "Batmans eigentlicher Name: Bruce Wayne\n",
      "Wonder Womans eigentlicher Name: Diana Prince\n",
      "Flashs eigentlicher Name: Barry Allen\n"
     ]
    }
   ],
   "source": [
    "for key in dc_super_heroes:\n",
    "    \n",
    "    print(f\"{key}s eigentlicher Name: {dc_super_heroes[key]['real_name']}\")"
   ]
  },
  {
   "cell_type": "markdown",
   "metadata": {},
   "source": [
    "In Python gibt es auch **Iteratoren**. Diese kreieren eine Sequenz, die aber nicht sofort ausgegeben und in den Speicher geschrieben wird. Erst der Aufruf von `next()` oder die Verarbeitung in einer For-Schleife holen die Werte auf dem Iterator heraus.\n",
    "\n",
    "Ein Beispiel für einen Iterator ist die Funktion `range()`. Die Syntax dieser Funktion lautet:\n",
    "```range( start, stop, step )```, wobei diese Argumente wie in *Slices* weiter oben funktionieren und ein halboffenes Intervall bilden."
   ]
  },
  {
   "cell_type": "code",
   "execution_count": 37,
   "metadata": {},
   "outputs": [
    {
     "data": {
      "text/plain": [
       "range(1, 6)"
      ]
     },
     "execution_count": 37,
     "metadata": {},
     "output_type": "execute_result"
    }
   ],
   "source": [
    "ersten_fuenf_zahlen = range(1, 6)\n",
    "\n",
    "ersten_fuenf_zahlen"
   ]
  },
  {
   "cell_type": "code",
   "execution_count": 39,
   "metadata": {},
   "outputs": [
    {
     "name": "stdout",
     "output_type": "stream",
     "text": [
      "1\n",
      "2\n",
      "3\n",
      "4\n",
      "5\n"
     ]
    }
   ],
   "source": [
    "for i in ersten_fuenf_zahlen:\n",
    "    print(i)"
   ]
  },
  {
   "cell_type": "markdown",
   "metadata": {},
   "source": [
    "Zu guter Letzt kann man mit **List Comprehension** in Python sehr leicht Listen erzeugen. Die Syntax sieht wie folgt aus:\n",
    "\n",
    "```\n",
    "[<tu etwas mit Element> for <Element> in <Iterable>]\n",
    "```"
   ]
  },
  {
   "cell_type": "code",
   "execution_count": 42,
   "metadata": {},
   "outputs": [
    {
     "data": {
      "text/plain": [
       "[1.4142135623730951,\n",
       " 2.0,\n",
       " 2.449489742783178,\n",
       " 2.8284271247461903,\n",
       " 3.1622776601683795,\n",
       " 3.4641016151377544,\n",
       " 3.7416573867739413,\n",
       " 4.0,\n",
       " 4.242640687119285,\n",
       " 4.47213595499958]"
      ]
     },
     "execution_count": 42,
     "metadata": {},
     "output_type": "execute_result"
    }
   ],
   "source": [
    "import math\n",
    "\n",
    "liste_der_ersten_geraden_quadratwurzeln = [math.sqrt(i) for i in range(2, 21, 2)]\n",
    "\n",
    "liste_der_ersten_geraden_quadratwurzeln"
   ]
  },
  {
   "cell_type": "markdown",
   "metadata": {},
   "source": [
    "## eigene Funktionen schreiben"
   ]
  },
  {
   "cell_type": "markdown",
   "metadata": {},
   "source": [
    "In Imperativen Sprachen dienen Funktionen vor allem dazu, einmal geschriebenen Code öfter zu verwenden und das sog. [DRY Prinzip](https://de.wikipedia.org/wiki/Don%E2%80%99t_repeat_yourself) einzuhalten.\n",
    "\n",
    "Ein Funktion wird in Python mit dem Schlüsselwort `def` und dem *Namen der Funktion* eingeleitet. Darauf folgt eine kommaseparierte Liste mit Argumenten in runden Klammern `(arg1, arg2, ...)` (diese Liste kann auch leer sein). Ein Doppelpunkt `:` leitet den Block ein, in dem der Code steht, der ausgeführt werden soll. Soll ein Wert am Ende des Codes zurückgegeben werden, muss dieser mit dem Schlüsselbegriff `return` gekennzeichnet werden. Ein Return beendet eine Funktion sofort.\n",
    "\n",
    "```\n",
    "def <Funktionsname> (<arg1>, <arg2>, ...):\n",
    "    # \n",
    "    # Codeblock\n",
    "    #\n",
    "    return <Wert aus Codeblock>\n",
    "```"
   ]
  },
  {
   "cell_type": "code",
   "execution_count": 43,
   "metadata": {},
   "outputs": [],
   "source": [
    "def is_even(n):\n",
    "    \n",
    "    if n % 2 == 0:\n",
    "        \n",
    "        return True\n",
    "    \n",
    "    return False"
   ]
  },
  {
   "cell_type": "code",
   "execution_count": 44,
   "metadata": {},
   "outputs": [
    {
     "name": "stdout",
     "output_type": "stream",
     "text": [
      "True\n",
      "False\n"
     ]
    }
   ],
   "source": [
    "print(is_even(4))\n",
    "\n",
    "print(is_even(5))"
   ]
  },
  {
   "cell_type": "code",
   "execution_count": 45,
   "metadata": {},
   "outputs": [],
   "source": [
    "# das Ganze kann man noch kürzer schreiben\n",
    "\n",
    "def is_even2(n):\n",
    "    \n",
    "    return True if n % 2 == 0 else False"
   ]
  },
  {
   "cell_type": "code",
   "execution_count": 46,
   "metadata": {},
   "outputs": [
    {
     "name": "stdout",
     "output_type": "stream",
     "text": [
      "False\n",
      "True\n"
     ]
    }
   ],
   "source": [
    "print(is_even(7))\n",
    "\n",
    "print(is_even(8))"
   ]
  },
  {
   "cell_type": "code",
   "execution_count": 73,
   "metadata": {
    "jupyter": {
     "outputs_hidden": false
    },
    "pycharm": {
     "name": "#%%\n"
    }
   },
   "outputs": [],
   "source": [
    "# eine Funktion, die ein Dictionary an Superhelden entgegen nimmt und eine sortierte Liste\n",
    "# ausgibt, an Partnerschafte, die ein Superheld in seinem Leben eingegangen ist\n",
    "\n",
    "def get_sorted_hero_partnerships(dict_of_heroes):\n",
    "    \n",
    "    def count_partnerships(hero):\n",
    "        return len(hero[\"partnerships\"])\n",
    "    \n",
    "    def sort_dict_by_count(dictionary):\n",
    "        return {key: value for (key, value) in sorted(dictionary.items(),\n",
    "                                                      key = lambda x: dictionary[x[0]],\n",
    "                                                      reverse = True)}\n",
    "    \n",
    "    dict_of_partners = {}\n",
    "    \n",
    "    for key in dict_of_heroes:\n",
    "        \n",
    "        hero = dict_of_heroes[key]\n",
    "        \n",
    "        dict_of_partners[key] = count_partnerships(hero)\n",
    "        \n",
    "    return sort_dict_by_count(dict_of_partners)"
   ]
  },
  {
   "cell_type": "code",
   "execution_count": 74,
   "metadata": {},
   "outputs": [
    {
     "ename": "UnboundLocalError",
     "evalue": "local variable 'count_partnerships' referenced before assignment",
     "output_type": "error",
     "traceback": [
      "\u001b[0;31m---------------------------------------------------------------------------\u001b[0m",
      "\u001b[0;31mUnboundLocalError\u001b[0m                         Traceback (most recent call last)",
      "Input \u001b[0;32mIn [74]\u001b[0m, in \u001b[0;36m<cell line: 1>\u001b[0;34m()\u001b[0m\n\u001b[0;32m----> 1\u001b[0m \u001b[43mget_sorted_hero_partnerships\u001b[49m\u001b[43m(\u001b[49m\u001b[43mdc_super_heroes\u001b[49m\u001b[43m)\u001b[49m\n",
      "Input \u001b[0;32mIn [73]\u001b[0m, in \u001b[0;36mget_sorted_hero_partnerships\u001b[0;34m(dict_of_heroes)\u001b[0m\n\u001b[1;32m     14\u001b[0m \u001b[38;5;28;01mfor\u001b[39;00m key \u001b[38;5;129;01min\u001b[39;00m dict_of_heroes:\n\u001b[1;32m     16\u001b[0m     hero \u001b[38;5;241m=\u001b[39m dict_of_heroes[key]\n\u001b[0;32m---> 18\u001b[0m     dict_of_partners[key] \u001b[38;5;241m=\u001b[39m \u001b[43mcount_partnerships\u001b[49m(hero)\n\u001b[1;32m     21\u001b[0m \u001b[38;5;28;01mdef\u001b[39;00m \u001b[38;5;21mcount_partnerships\u001b[39m(hero):\n\u001b[1;32m     22\u001b[0m     \u001b[38;5;28;01mreturn\u001b[39;00m \u001b[38;5;28mlen\u001b[39m(hero[\u001b[38;5;124m\"\u001b[39m\u001b[38;5;124mpartnerships\u001b[39m\u001b[38;5;124m\"\u001b[39m])\n",
      "\u001b[0;31mUnboundLocalError\u001b[0m: local variable 'count_partnerships' referenced before assignment"
     ]
    }
   ],
   "source": [
    "get_sorted_hero_partnerships(dc_super_heroes)"
   ]
  },
  {
   "cell_type": "markdown",
   "metadata": {},
   "source": [
    "# Module"
   ]
  }
 ],
 "metadata": {
  "kernelspec": {
   "display_name": "Python 3 (ipykernel)",
   "language": "python",
   "name": "python3"
  },
  "language_info": {
   "codemirror_mode": {
    "name": "ipython",
    "version": 3
   },
   "file_extension": ".py",
   "mimetype": "text/x-python",
   "name": "python",
   "nbconvert_exporter": "python",
   "pygments_lexer": "ipython3",
   "version": "3.9.12"
  },
  "toc": {
   "base_numbering": 1,
   "nav_menu": {},
   "number_sections": true,
   "sideBar": true,
   "skip_h1_title": false,
   "title_cell": "Table of Contents",
   "title_sidebar": "Contents",
   "toc_cell": false,
   "toc_position": {
    "height": "calc(100% - 180px)",
    "left": "10px",
    "top": "150px",
    "width": "251.719px"
   },
   "toc_section_display": true,
   "toc_window_display": true
  }
 },
 "nbformat": 4,
 "nbformat_minor": 4
}
