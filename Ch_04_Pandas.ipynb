{
 "cells": [
  {
   "cell_type": "code",
   "execution_count": 1,
   "id": "ccd4ac01",
   "metadata": {},
   "outputs": [],
   "source": [
    "import numpy as np\n",
    "import pandas as pd\n",
    "import matplotlib.pyplot as plt"
   ]
  },
  {
   "cell_type": "markdown",
   "id": "b7cd40d9",
   "metadata": {},
   "source": [
    "# Einführung\n",
    "\n",
    "In unserer kurzen Betrachtung von *NumPy* im ersten Kapitel sahen wir, dass auch mit NumPy Matrizen aus unterschiedlichen Objekten (Zahlen, Strings, Datumsobjekten, usw.) bilden kann. So könnten wir Daten in tabellarischer Form abbilden.\n",
    "\n",
    "```\n",
    "date1 = datetime(2022, 6, 22)\n",
    "date2 = datetime(1980, 10, 29)\n",
    "\n",
    "test = np.array([[date1, date2],\n",
    "                [1, 2],\n",
    "                ['a', 'b']])\n",
    "```\n",
    "\n",
    "Jedoch sind wir es gewohnt, dass Daten in tabellarischer Form oft anders \"daherkommen\". Dies hat vor allem mit dem Begriff *tidy data* zu tun. Tabellarische Daten sind dann *tidy*, wenn sie\n",
    "  - für jede Messung/jedes Individuum *genau eine* Zeile,\n",
    "  - für jede Zeile genau einen einzigartigen Schlüssel,\n",
    "  - für jede Variable *genau eine* Spalte und\n",
    "  - für jede Spalte genau einen Datentyp (String, Number, Datetime, usw.)\n",
    "  \n",
    "haben.\n",
    "  \n",
    "Das obige Beispiel müsste also tabellarisch so aussehen:\n",
    "\n",
    "Index  | Date       | Number | String\n",
    "-------|------------|--------|-------\n",
    "0      | 2022-06-22 | 1      | a\n",
    "1      | 1980-10-29 | 2      | b\n",
    "\n",
    "Genau zu diesem Zweck der einfachen *Erzeugung* und *Manipulation* von tabellarischen Daten gibt es seit 2010 für Python das Modul [**Pandas**](https://pandas.pydata.org).\n",
    "\n",
    "Tabellarische Daten werden in *Pandas* in einem sog. *DataFrame* gespeichert. Dieser enthält die einzelnen Variablen/Spalten als Pandas *Series Objekte* und einen *Index*.\n",
    "\n",
    "Wir wollen also zuerst auf die Grundlagen solch eines DataFrames eingehen und zwar die Pandas Series Objects."
   ]
  },
  {
   "cell_type": "markdown",
   "id": "7e5dd8d1",
   "metadata": {},
   "source": [
    "## pd.Series()"
   ]
  },
  {
   "cell_type": "markdown",
   "id": "717a7f5a",
   "metadata": {},
   "source": [
    "Es ist in der Data Science Community Usus, das Modul *Pandas* mit der Abkürzung *pd* zu importieren (siehe auch oben die Import Befehle).\n",
    "\n",
    "So können wir nun ein *Series Objekt* erzeugen. Dazu übergeben wir der Klasse `Series` eine Liste an Werten und rufen das Objekt auf."
   ]
  },
  {
   "cell_type": "code",
   "execution_count": 17,
   "id": "366c1506",
   "metadata": {},
   "outputs": [
    {
     "data": {
      "text/plain": "0    10\n1    20\n2   -30\n3    99\ndtype: int64"
     },
     "execution_count": 17,
     "metadata": {},
     "output_type": "execute_result"
    }
   ],
   "source": [
    "obj = pd.Series([10, 20, -30, 99])\n",
    "\n",
    "obj"
   ]
  },
  {
   "cell_type": "markdown",
   "id": "7ea18507",
   "metadata": {},
   "source": [
    "Wie wir sehen, hat Pandas ein Objekt erzeugt, und jedem Wert dabei einen eindeutigen Index gegeben. Ausserdem hat Pandas allen Werten den Typ `<int64>` zugewiesen. Hier gilt das gleiche, was schon zum Thema \"erweiterte Typen\" im Kapitel zu *NumPy* erwähnt wurde.\n",
    "\n",
    "Mit dem Attribut `.values` können wir uns die einzelnen Werte ausgeben lassen."
   ]
  },
  {
   "cell_type": "code",
   "execution_count": 18,
   "id": "aeb7f2c1",
   "metadata": {},
   "outputs": [
    {
     "data": {
      "text/plain": "array([ 10,  20, -30,  99])"
     },
     "execution_count": 18,
     "metadata": {},
     "output_type": "execute_result"
    }
   ],
   "source": [
    "obj.values"
   ]
  },
  {
   "cell_type": "markdown",
   "id": "0c2213b7",
   "metadata": {},
   "source": [
    "Einzelne Werte lassen sich leicht über den Index ansprechen. Die Syntax dazu ist die selbe, wie in Python üblich, bei Listen und auch NumPy Arrays, nämlich über den `[]` Operator."
   ]
  },
  {
   "cell_type": "code",
   "execution_count": 4,
   "id": "ee0a487a",
   "metadata": {},
   "outputs": [
    {
     "data": {
      "text/plain": "-30"
     },
     "execution_count": 4,
     "metadata": {},
     "output_type": "execute_result"
    }
   ],
   "source": [
    "obj[2]"
   ]
  },
  {
   "cell_type": "markdown",
   "id": "294b0f87",
   "metadata": {},
   "source": [
    "Man kann natürlich auch mehrere Zeilen des Index aufrufen, indem man dem `[]` Operator eine Liste an Indices übergibt. Allerdings ist hier der Rückgabewert kein Einzelwert wie oben, sondern wieder eine Pandas Series Objekt."
   ]
  },
  {
   "cell_type": "code",
   "execution_count": 5,
   "id": "9092c58c",
   "metadata": {},
   "outputs": [
    {
     "data": {
      "text/plain": "1    20\n3    99\ndtype: int64"
     },
     "execution_count": 5,
     "metadata": {},
     "output_type": "execute_result"
    }
   ],
   "source": [
    "obj[[1, 3]]"
   ]
  },
  {
   "cell_type": "markdown",
   "id": "c6cffa03",
   "metadata": {},
   "source": [
    "Wie schon bei NumPy lässt sich auch ein *boolsches* Objekt erzeugen."
   ]
  },
  {
   "cell_type": "code",
   "execution_count": 6,
   "id": "1d8124d9",
   "metadata": {},
   "outputs": [
    {
     "data": {
      "text/plain": "0    False\n1     True\n2    False\n3     True\ndtype: bool"
     },
     "execution_count": 6,
     "metadata": {},
     "output_type": "execute_result"
    }
   ],
   "source": [
    "obj > 10"
   ]
  },
  {
   "cell_type": "markdown",
   "id": "a2cdbbcf",
   "metadata": {},
   "source": [
    "Dieses boolsche Objekt kann dann wieder dem `[]` Operator übergeben und damit das eigentliche Objekt gefiltert werden."
   ]
  },
  {
   "cell_type": "code",
   "execution_count": 7,
   "id": "04a5dc18",
   "metadata": {},
   "outputs": [
    {
     "data": {
      "text/plain": "1    20\n3    99\ndtype: int64"
     },
     "execution_count": 7,
     "metadata": {},
     "output_type": "execute_result"
    }
   ],
   "source": [
    "obj[obj > 10]"
   ]
  },
  {
   "cell_type": "markdown",
   "id": "ecf24ede",
   "metadata": {},
   "source": [
    "Natürlich kann man auch einen eigenen und nicht von Pandas erstellten Index für das Series Objekt nutzen."
   ]
  },
  {
   "cell_type": "code",
   "execution_count": 8,
   "id": "f13a63e4",
   "metadata": {},
   "outputs": [
    {
     "data": {
      "text/plain": "a    10\nb    20\nc   -30\nd    99\ndtype: int64"
     },
     "execution_count": 8,
     "metadata": {},
     "output_type": "execute_result"
    }
   ],
   "source": [
    "obj.index = ['a', 'b', 'c', 'd']\n",
    "\n",
    "obj"
   ]
  },
  {
   "cell_type": "code",
   "execution_count": 9,
   "id": "7fa82a08",
   "metadata": {},
   "outputs": [
    {
     "data": {
      "text/plain": "99"
     },
     "execution_count": 9,
     "metadata": {},
     "output_type": "execute_result"
    }
   ],
   "source": [
    "obj['d']"
   ]
  },
  {
   "cell_type": "markdown",
   "id": "c552ad3d",
   "metadata": {},
   "source": [
    "Zuletzt gibt es, genau wie bei NumPy viele zu erwartende Funktionen, bzw. Methoden, mit denen man mit Sreies Objekten arbeiten kann."
   ]
  },
  {
   "cell_type": "code",
   "execution_count": 10,
   "id": "d87fdc6d",
   "metadata": {},
   "outputs": [],
   "source": [
    "obj2 = [2, 3, 4, np.NaN]"
   ]
  },
  {
   "cell_type": "code",
   "execution_count": 11,
   "id": "2485c04f",
   "metadata": {},
   "outputs": [
    {
     "data": {
      "text/plain": "a     20.0\nb     60.0\nc   -120.0\nd      NaN\ndtype: float64"
     },
     "execution_count": 11,
     "metadata": {},
     "output_type": "execute_result"
    }
   ],
   "source": [
    "obj3 = obj * obj2\n",
    "\n",
    "obj3"
   ]
  },
  {
   "cell_type": "code",
   "execution_count": 12,
   "id": "ad5e392c",
   "metadata": {},
   "outputs": [
    {
     "data": {
      "text/plain": "a    False\nb    False\nc    False\nd     True\ndtype: bool"
     },
     "execution_count": 12,
     "metadata": {},
     "output_type": "execute_result"
    }
   ],
   "source": [
    "obj3.isna()"
   ]
  },
  {
   "cell_type": "code",
   "execution_count": 13,
   "id": "973d5d8a",
   "metadata": {},
   "outputs": [
    {
     "data": {
      "text/plain": "a    4.851652e+08\nb    1.142007e+26\nc    7.667648e-53\nd             NaN\ndtype: float64"
     },
     "execution_count": 13,
     "metadata": {},
     "output_type": "execute_result"
    }
   ],
   "source": [
    "np.exp(obj3)"
   ]
  },
  {
   "cell_type": "code",
   "execution_count": 14,
   "id": "a740bf74",
   "metadata": {},
   "outputs": [
    {
     "data": {
      "text/plain": "24.75"
     },
     "execution_count": 14,
     "metadata": {},
     "output_type": "execute_result"
    }
   ],
   "source": [
    "obj.mean()"
   ]
  },
  {
   "cell_type": "code",
   "execution_count": 15,
   "id": "3bfd87e4",
   "metadata": {},
   "outputs": [
    {
     "data": {
      "text/plain": "99"
     },
     "execution_count": 15,
     "metadata": {},
     "output_type": "execute_result"
    }
   ],
   "source": [
    "obj.sum()"
   ]
  },
  {
   "cell_type": "markdown",
   "id": "5d719a07",
   "metadata": {},
   "source": [
    "Auch aus einem Dictionary lässt sich ein Pandas Series Objekt erstellen. Allerdings sind die so erzeugten Objekte besser in einem *DataFrame* aufgehoben, den wir uns gleich ansehen wollen."
   ]
  },
  {
   "cell_type": "code",
   "execution_count": 16,
   "id": "94026a9f",
   "metadata": {},
   "outputs": [
    {
     "data": {
      "text/plain": "Stefan     172\nAndrea     168\nMike       192\nMelanie    165\ndtype: int64"
     },
     "execution_count": 16,
     "metadata": {},
     "output_type": "execute_result"
    }
   ],
   "source": [
    "koerpergroessen = {'Stefan': 172, 'Andrea': 168, 'Mike': 192, 'Melanie': 165}\n",
    "\n",
    "obj4 = pd.Series(koerpergroessen)\n",
    "\n",
    "obj4"
   ]
  },
  {
   "cell_type": "markdown",
   "id": "d7126471",
   "metadata": {},
   "source": [
    "Hier hat Pandas aus den Schlüsselwerten einen Index erzeugt. Wir hätten aber lieber die Namen als Variablen und den Index von Pandas erzeugt. Hier kommen wir an die Grenzen des Series Objektes und wir müssen uns der mächtigeren Datenstruktur, dem *DataFrame* zuwenden."
   ]
  },
  {
   "cell_type": "markdown",
   "id": "152a2180",
   "metadata": {},
   "source": [
    "## pd.DataFrame()\n",
    "\n",
    "Ein DataFrame ist eine tabellarische zweidimensionale Datenstruktur, die aus einzelnen Pandas Serien Objekten und einem Index aufgebaut sind.\n",
    "\n",
    "Am leichtesten lässt sich ein DataFrame aus einem Python Dictionary erstellen, also aus einer Datenstruktur mit Key-Value-Paaren: `dict = {\"key\": \"value\"}`."
   ]
  },
  {
   "cell_type": "code",
   "execution_count": 44,
   "id": "1d63082b",
   "metadata": {},
   "outputs": [
    {
     "data": {
      "text/plain": "      Name Geschlecht  Koerpergroesse_cm       Datum   Score\n0   Stefan          m                172  2022-02-23  134.70\n1   Andrea          w                168  2022-02-24  162.10\n2     Mike          d                192        <NA>  156.33\n3  Melanie          w                165  2022-02-28  117.90",
      "text/html": "<div>\n<style scoped>\n    .dataframe tbody tr th:only-of-type {\n        vertical-align: middle;\n    }\n\n    .dataframe tbody tr th {\n        vertical-align: top;\n    }\n\n    .dataframe thead th {\n        text-align: right;\n    }\n</style>\n<table border=\"1\" class=\"dataframe\">\n  <thead>\n    <tr style=\"text-align: right;\">\n      <th></th>\n      <th>Name</th>\n      <th>Geschlecht</th>\n      <th>Koerpergroesse_cm</th>\n      <th>Datum</th>\n      <th>Score</th>\n    </tr>\n  </thead>\n  <tbody>\n    <tr>\n      <th>0</th>\n      <td>Stefan</td>\n      <td>m</td>\n      <td>172</td>\n      <td>2022-02-23</td>\n      <td>134.70</td>\n    </tr>\n    <tr>\n      <th>1</th>\n      <td>Andrea</td>\n      <td>w</td>\n      <td>168</td>\n      <td>2022-02-24</td>\n      <td>162.10</td>\n    </tr>\n    <tr>\n      <th>2</th>\n      <td>Mike</td>\n      <td>d</td>\n      <td>192</td>\n      <td>&lt;NA&gt;</td>\n      <td>156.33</td>\n    </tr>\n    <tr>\n      <th>3</th>\n      <td>Melanie</td>\n      <td>w</td>\n      <td>165</td>\n      <td>2022-02-28</td>\n      <td>117.90</td>\n    </tr>\n  </tbody>\n</table>\n</div>"
     },
     "execution_count": 44,
     "metadata": {},
     "output_type": "execute_result"
    }
   ],
   "source": [
    "data = {\n",
    "    \"Name\": [\"Stefan\", \"Andrea\", \"Mike\", \"Melanie\"],\n",
    "    \"Geschlecht\": [\"m\", \"w\", \"d\", \"w\"],\n",
    "    \"Koerpergroesse_cm\": [172, 168, 192, 165],\n",
    "    \"Datum\": [\"2022-02-23\", \"2022-02-24\", pd.NA, \"2022-02-28\"],\n",
    "    \"Score\": [134.7, 162.1, 156.33, 117.9]\n",
    "}\n",
    "\n",
    "frame = pd.DataFrame(data)\n",
    "\n",
    "frame"
   ]
  },
  {
   "cell_type": "markdown",
   "source": [
    "Wir sehen, wie die einzelnen Schlüsselwerte (Keys) als Variablen Bezeichnungen (Spalten) und die Listenwerte als Individualausprägungen (Zeilen) genommen wurden. Dabei muss man aber beachten, dass alle Werte, also alle Listen die gleiche Länge haben müssen. Bei einer Person wurde z.B. das Datum nicht notiert; so musste stattdessen der Wert `pd.NA` gesetzt werden, um wieder auf die gleiche Länge zu kommen. **NA** ist für Pandas ein **fehlender Wert**. Wäre dies nicht so gesetz worden, wäre der Fehler `ValueError: All arrays must be of the same length` gekommen. (Man könnte auch den Wert `np.NaN` aus dem NumPy Modul setzen.)\n",
    "\n",
    "Mit der Methode `.info()` können wir uns mehr Informationen zum DateFrame anzeigen lassen."
   ],
   "metadata": {
    "collapsed": false
   }
  },
  {
   "cell_type": "code",
   "execution_count": 41,
   "outputs": [
    {
     "name": "stdout",
     "output_type": "stream",
     "text": [
      "<class 'pandas.core.frame.DataFrame'>\n",
      "RangeIndex: 4 entries, 0 to 3\n",
      "Data columns (total 5 columns):\n",
      " #   Column             Non-Null Count  Dtype  \n",
      "---  ------             --------------  -----  \n",
      " 0   Name               4 non-null      object \n",
      " 1   Geschlecht         4 non-null      object \n",
      " 2   Koerpergroesse_cm  4 non-null      int64  \n",
      " 3   Datum              3 non-null      object \n",
      " 4   Score              4 non-null      float64\n",
      "dtypes: float64(1), int64(1), object(3)\n",
      "memory usage: 288.0+ bytes\n"
     ]
    }
   ],
   "source": [
    "frame.info()"
   ],
   "metadata": {
    "collapsed": false,
    "pycharm": {
     "name": "#%%\n"
    }
   }
  },
  {
   "cell_type": "markdown",
   "source": [
    "`pd.DataFrame.info()` zeigt uns wichtige Informationen. So sehen wir, dass die Tabelle aus 5 Variablen (Spalten 0-4) und aus 4 Zeilen (RangeIndex: 4) besteht. Darüber bekommen wir Informationen zu jeder Variablen: Index, Name, wie viele Einträge nicht-null sind, also nicht fehlend und welchen *Dtype* die Variable besitzt. Den Dtype haben wir im Zuge von NumPys schon kurz erwähnt. Er besagt, welcher Datentyp den Werten der Spalte zugeordnet wurden und damit aber auch, welche Operationen mit diesen einzelnen Werten möglich sind.\n",
    "\n",
    "Dabei fällt sofort auf, dass den drei Variablen \"Name\", \"Geschlecht\" und \"Datum\" jeweils des Dtype \"object\" zugeordnet wurde. Dieser Typ wird immer dann zugeordnet, wenn Pandas auf einen String, oder jedes andere Python Objekt \"trifft\". Dies ist für unsere weitere praktische Arbeit mit diesen Daten etwas unbefriedigend und wir müssen Pandas sagen, welchen Typ wir eigentlich haben wollen: \"Geschlecht\" sollte ein *kategorialer* Datentyp sein, \"Name\" ein String und \"Datum\" natürlich ein Datumswert.\n",
    "\n",
    "Dazu müssen wir die Einzelwerte als `pd.Series` Objekt deklarieren und können dann mit `dtype=` den zu verwendenden Datentyp angeben. Welche Datentypen Pandas grundlegend verwendet, und welche String-Werte sie hier für `dtype=` einsetzen können, sehen Sie in der [Dokumentation](https://pandas.pydata.org/docs/user_guide/basics.html#basics-dtypes)."
   ],
   "metadata": {
    "collapsed": false
   }
  },
  {
   "cell_type": "code",
   "execution_count": 42,
   "outputs": [
    {
     "data": {
      "text/plain": "      Name Geschlecht  Koerpergroesse_cm      Datum   Score\n0   Stefan          m                172 2022-02-23  134.70\n1   Andrea          w                168 2022-02-24  162.10\n2     Mike          d                192        NaT  156.33\n3  Melanie          w                165 2022-02-28  117.90",
      "text/html": "<div>\n<style scoped>\n    .dataframe tbody tr th:only-of-type {\n        vertical-align: middle;\n    }\n\n    .dataframe tbody tr th {\n        vertical-align: top;\n    }\n\n    .dataframe thead th {\n        text-align: right;\n    }\n</style>\n<table border=\"1\" class=\"dataframe\">\n  <thead>\n    <tr style=\"text-align: right;\">\n      <th></th>\n      <th>Name</th>\n      <th>Geschlecht</th>\n      <th>Koerpergroesse_cm</th>\n      <th>Datum</th>\n      <th>Score</th>\n    </tr>\n  </thead>\n  <tbody>\n    <tr>\n      <th>0</th>\n      <td>Stefan</td>\n      <td>m</td>\n      <td>172</td>\n      <td>2022-02-23</td>\n      <td>134.70</td>\n    </tr>\n    <tr>\n      <th>1</th>\n      <td>Andrea</td>\n      <td>w</td>\n      <td>168</td>\n      <td>2022-02-24</td>\n      <td>162.10</td>\n    </tr>\n    <tr>\n      <th>2</th>\n      <td>Mike</td>\n      <td>d</td>\n      <td>192</td>\n      <td>NaT</td>\n      <td>156.33</td>\n    </tr>\n    <tr>\n      <th>3</th>\n      <td>Melanie</td>\n      <td>w</td>\n      <td>165</td>\n      <td>2022-02-28</td>\n      <td>117.90</td>\n    </tr>\n  </tbody>\n</table>\n</div>"
     },
     "execution_count": 42,
     "metadata": {},
     "output_type": "execute_result"
    }
   ],
   "source": [
    "dataframe = pd.DataFrame(\n",
    "    {\n",
    "    \"Name\": pd.Series([\"Stefan\", \"Andrea\", \"Mike\", \"Melanie\"], dtype=\"string\"),\n",
    "    \"Geschlecht\": pd.Series([\"m\", \"w\", \"d\", \"w\"], dtype=\"category\"),\n",
    "    \"Koerpergroesse_cm\": [172, 168, 192, 165],\n",
    "    \"Datum\": pd.Series([\"2022-02-23\", \"2022-02-24\", pd.NA, \"2022-02-28\"], dtype=\"datetime64[ns]\"),\n",
    "    \"Score\": [134.7, 162.1, 156.33, 117.9]\n",
    "    }\n",
    ")\n",
    "\n",
    "dataframe"
   ],
   "metadata": {
    "collapsed": false,
    "pycharm": {
     "name": "#%%\n"
    }
   }
  },
  {
   "cell_type": "markdown",
   "source": [
    "Die tabellarische Ausgabe hat sich zu oben hin nicht verändert. (Nun gut, sagen wir \"fast nicht\". Aus dem fehlenden Wert bei Datum wurde aus `<NA>` ein `NaT`. Dies ist ein spezieller \"fehlender Wert\" für Zeit- und Datumsangaben.) Mit `.info()` sehen wir aber besser, was sich alles verändert hat."
   ],
   "metadata": {
    "collapsed": false
   }
  },
  {
   "cell_type": "code",
   "execution_count": 43,
   "outputs": [
    {
     "name": "stdout",
     "output_type": "stream",
     "text": [
      "<class 'pandas.core.frame.DataFrame'>\n",
      "RangeIndex: 4 entries, 0 to 3\n",
      "Data columns (total 5 columns):\n",
      " #   Column             Non-Null Count  Dtype         \n",
      "---  ------             --------------  -----         \n",
      " 0   Name               4 non-null      string        \n",
      " 1   Geschlecht         4 non-null      category      \n",
      " 2   Koerpergroesse_cm  4 non-null      int64         \n",
      " 3   Datum              3 non-null      datetime64[ns]\n",
      " 4   Score              4 non-null      float64       \n",
      "dtypes: category(1), datetime64[ns](1), float64(1), int64(1), string(1)\n",
      "memory usage: 392.0 bytes\n"
     ]
    }
   ],
   "source": [
    "dataframe.info()"
   ],
   "metadata": {
    "collapsed": false,
    "pycharm": {
     "name": "#%%\n"
    }
   }
  },
  {
   "cell_type": "markdown",
   "source": [
    "Unser Dataframe hat also nun die richtigen Typen und wir können mit ihm weiter arbeiten."
   ],
   "metadata": {
    "collapsed": false
   }
  },
  {
   "cell_type": "markdown",
   "source": [
    "### Zugriff auf Werte\n",
    "\n",
    "Wie kann man nun auf die Werte eines DateFrames zugreifen?\n",
    "\n",
    "Auf einzelne Variablen (Spalten) kann man als `pd.Series` Objekt entweder über den `[]` oder den `.` Operator zugreifen:"
   ],
   "metadata": {
    "collapsed": false
   }
  },
  {
   "cell_type": "code",
   "execution_count": 45,
   "outputs": [
    {
     "data": {
      "text/plain": "0   2022-02-23\n1   2022-02-24\n2          NaT\n3   2022-02-28\nName: Datum, dtype: datetime64[ns]"
     },
     "execution_count": 45,
     "metadata": {},
     "output_type": "execute_result"
    }
   ],
   "source": [
    "dataframe[\"Datum\"]"
   ],
   "metadata": {
    "collapsed": false,
    "pycharm": {
     "name": "#%%\n"
    }
   }
  },
  {
   "cell_type": "code",
   "execution_count": 46,
   "outputs": [
    {
     "data": {
      "text/plain": "0   2022-02-23\n1   2022-02-24\n2          NaT\n3   2022-02-28\nName: Datum, dtype: datetime64[ns]"
     },
     "execution_count": 46,
     "metadata": {},
     "output_type": "execute_result"
    }
   ],
   "source": [
    "dataframe.Datum"
   ],
   "metadata": {
    "collapsed": false,
    "pycharm": {
     "name": "#%%\n"
    }
   }
  },
  {
   "cell_type": "markdown",
   "source": [
    "Der `.` Operator lässt sich wie beim Aufruf von Methoden oder Attribute von Python Objekten verwenden und hat Dank seiner Möglichkeit für die Autovervollständigung in vielen Editoren und auch im Jupyter-Notebook einen großen Charm. Auch ist `data.col_name.sum()` etwas besser lesbar als `data['col_name'].sum()`. Manche halten den `.` Operator aber für nicht \"pythonesque\" genug. Das Problem ist auch, dass der `[]` Operator wirklich **immer** funktioniert, der `.` Operator in manchen Situationen nicht. Trotz seines Charms würde ich also gerade am Anfang eher davon abraten; oder, wenn mal etwas einmal nicht so funktioniert, wie es sollte, denken Sie daran, vielleicht den `[]` Operator zu benutzen.\n",
    "\n",
    "Der `.` Operator funktioniert in folgenden Situation nicht:\n",
    "- Wenn der Spaltenname ein Leerzeichen enthält: `data['col name']`.\n",
    "- Wenn der Spaltenname wie eine Pandas-Funktion lautet: `data['sum']`.\n",
    "- Wenn der Spaltenname wie ein Python Schlüsselwort lautet: `data['if']`.\n",
    "- Wenn der Spaltenname als Variable gespeichert ist: `var = 'col_name'; data[var]`.\n",
    "- Wenn der Spaltenname ein Integer sein sollte: `data[11]`.\n",
    "- Wenn eine neue Spalte über den Zuweisungsoperator erzeugt wird: `data['new_col'] = 25`. --> Sehen wir uns gleich noch an."
   ],
   "metadata": {
    "collapsed": false,
    "pycharm": {
     "name": "#%% md\n"
    }
   }
  },
  {
   "cell_type": "code",
   "execution_count": 47,
   "outputs": [
    {
     "data": {
      "text/plain": "0    m\n1    w\n2    d\n3    w\nName: Geschlecht, dtype: category\nCategories (3, object): ['d', 'm', 'w']"
     },
     "execution_count": 47,
     "metadata": {},
     "output_type": "execute_result"
    }
   ],
   "source": [
    "dataframe.Geschlecht"
   ],
   "metadata": {
    "collapsed": false,
    "pycharm": {
     "name": "#%%\n"
    }
   }
  }
 ],
 "metadata": {
  "kernelspec": {
   "display_name": "Python 3 (ipykernel)",
   "language": "python",
   "name": "python3"
  },
  "language_info": {
   "codemirror_mode": {
    "name": "ipython",
    "version": 3
   },
   "file_extension": ".py",
   "mimetype": "text/x-python",
   "name": "python",
   "nbconvert_exporter": "python",
   "pygments_lexer": "ipython3",
   "version": "3.9.12"
  },
  "toc": {
   "base_numbering": 1,
   "nav_menu": {},
   "number_sections": true,
   "sideBar": true,
   "skip_h1_title": false,
   "title_cell": "Table of Contents",
   "title_sidebar": "Contents",
   "toc_cell": false,
   "toc_position": {
    "height": "calc(100% - 180px)",
    "left": "10px",
    "top": "150px",
    "width": "189.67391967773438px"
   },
   "toc_section_display": true,
   "toc_window_display": true
  }
 },
 "nbformat": 4,
 "nbformat_minor": 5
}